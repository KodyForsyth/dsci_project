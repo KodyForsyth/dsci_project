{
 "cells": [
  {
   "cell_type": "markdown",
   "id": "53931957-3afa-48ef-9400-dfe18468904d",
   "metadata": {},
   "source": [
    "# REPORT: Predicting Risk of Heart Disease from Accessible Health Metrics\n",
    "\n",
    "## Introduction:\n",
    "\n",
    "According to the Public Health Agency of Canada, heart disease is the second leading cause of death in Canada, with approximately 1 in 12 Canadian adults over 20 living with a diagnosis. These metrics highlight the importance of knowing the risk factors and having access to medical advice. However, a shortage of physicians in Canada is causing a lack of available health care (Flood et al., 2023). Non-healthcare professionals do not have the means to properly self-evaluate symptoms, therefore our project seeks to help the general population to make informative decisions about heart disease symptoms that are self-monitored or easily accessible.\n",
    "\n",
    "\n",
    "Thus we ask, is it possible to classify individuals into levels of heart disease risk (low risk, moderate risk, or high risk) based on blood pressure, cholesterol, heart rate and chest pain?\n",
    "\n",
    "\n",
    "Our analysis will use the Heart Disease dataset from the Cleveland database for heart disease (Andras et al., 1988). This database consists of 303 patients without history of heart disease, who were admitted to the Cleveland Clinic between 1981 and 1984. \n",
    "\n"
   ]
  },
  {
   "cell_type": "code",
   "execution_count": 1,
   "id": "fced25bca234fedc",
   "metadata": {
    "ExecuteTime": {
     "end_time": "2023-11-02T05:30:38.211392Z",
     "start_time": "2023-11-02T05:30:38.207980Z"
    },
    "collapsed": false,
    "jupyter": {
     "outputs_hidden": false
    }
   },
   "outputs": [],
   "source": [
    "# Please uncomment the following cell to install the altair in case your package is not up-to-date"
   ]
  },
  {
   "cell_type": "code",
   "execution_count": 2,
   "id": "ae526daf547a0a67",
   "metadata": {
    "ExecuteTime": {
     "end_time": "2023-11-02T05:30:38.640844Z",
     "start_time": "2023-11-02T05:30:38.638906Z"
    },
    "collapsed": false,
    "jupyter": {
     "outputs_hidden": false
    }
   },
   "outputs": [],
   "source": [
    "# pip install -U altair"
   ]
  },
  {
   "cell_type": "code",
   "execution_count": 3,
   "id": "7faedbd6",
   "metadata": {
    "ExecuteTime": {
     "end_time": "2023-11-02T05:30:40.110177Z",
     "start_time": "2023-11-02T05:30:38.971103Z"
    },
    "tags": []
   },
   "outputs": [],
   "source": [
    "import altair as alt\n",
    "import pandas as pd\n",
    "\n",
    "from sklearn.model_selection import train_test_split"
   ]
  },
  {
   "cell_type": "code",
   "execution_count": 4,
   "id": "193a4861",
   "metadata": {
    "ExecuteTime": {
     "end_time": "2023-11-02T05:52:31.955643Z",
     "start_time": "2023-11-02T05:52:31.780370Z"
    },
    "tags": []
   },
   "outputs": [
    {
     "data": {
      "text/html": [
       "<div>\n",
       "<style scoped>\n",
       "    .dataframe tbody tr th:only-of-type {\n",
       "        vertical-align: middle;\n",
       "    }\n",
       "\n",
       "    .dataframe tbody tr th {\n",
       "        vertical-align: top;\n",
       "    }\n",
       "\n",
       "    .dataframe thead th {\n",
       "        text-align: right;\n",
       "    }\n",
       "</style>\n",
       "<table border=\"1\" class=\"dataframe\">\n",
       "  <thead>\n",
       "    <tr style=\"text-align: right;\">\n",
       "      <th></th>\n",
       "      <th>cholesterol</th>\n",
       "      <th>type_chestpain</th>\n",
       "      <th>max_heart_rate</th>\n",
       "      <th>resting_bp</th>\n",
       "      <th>diagnosis</th>\n",
       "    </tr>\n",
       "  </thead>\n",
       "  <tbody>\n",
       "    <tr>\n",
       "      <th>0</th>\n",
       "      <td>233</td>\n",
       "      <td>type1</td>\n",
       "      <td>150</td>\n",
       "      <td>145</td>\n",
       "      <td>low-risk heart disease</td>\n",
       "    </tr>\n",
       "    <tr>\n",
       "      <th>1</th>\n",
       "      <td>286</td>\n",
       "      <td>type4</td>\n",
       "      <td>108</td>\n",
       "      <td>160</td>\n",
       "      <td>moderate-risk heart disease</td>\n",
       "    </tr>\n",
       "    <tr>\n",
       "      <th>2</th>\n",
       "      <td>229</td>\n",
       "      <td>type4</td>\n",
       "      <td>129</td>\n",
       "      <td>120</td>\n",
       "      <td>low-risk heart disease</td>\n",
       "    </tr>\n",
       "    <tr>\n",
       "      <th>3</th>\n",
       "      <td>250</td>\n",
       "      <td>type3</td>\n",
       "      <td>187</td>\n",
       "      <td>130</td>\n",
       "      <td>low-risk heart disease</td>\n",
       "    </tr>\n",
       "    <tr>\n",
       "      <th>4</th>\n",
       "      <td>204</td>\n",
       "      <td>type2</td>\n",
       "      <td>172</td>\n",
       "      <td>130</td>\n",
       "      <td>low-risk heart disease</td>\n",
       "    </tr>\n",
       "    <tr>\n",
       "      <th>...</th>\n",
       "      <td>...</td>\n",
       "      <td>...</td>\n",
       "      <td>...</td>\n",
       "      <td>...</td>\n",
       "      <td>...</td>\n",
       "    </tr>\n",
       "    <tr>\n",
       "      <th>298</th>\n",
       "      <td>264</td>\n",
       "      <td>type1</td>\n",
       "      <td>132</td>\n",
       "      <td>110</td>\n",
       "      <td>low-risk heart disease</td>\n",
       "    </tr>\n",
       "    <tr>\n",
       "      <th>299</th>\n",
       "      <td>193</td>\n",
       "      <td>type4</td>\n",
       "      <td>141</td>\n",
       "      <td>144</td>\n",
       "      <td>moderate-risk heart disease</td>\n",
       "    </tr>\n",
       "    <tr>\n",
       "      <th>300</th>\n",
       "      <td>131</td>\n",
       "      <td>type4</td>\n",
       "      <td>115</td>\n",
       "      <td>130</td>\n",
       "      <td>moderate-risk heart disease</td>\n",
       "    </tr>\n",
       "    <tr>\n",
       "      <th>301</th>\n",
       "      <td>236</td>\n",
       "      <td>type2</td>\n",
       "      <td>174</td>\n",
       "      <td>130</td>\n",
       "      <td>low-risk heart disease</td>\n",
       "    </tr>\n",
       "    <tr>\n",
       "      <th>302</th>\n",
       "      <td>175</td>\n",
       "      <td>type3</td>\n",
       "      <td>173</td>\n",
       "      <td>138</td>\n",
       "      <td>low-risk heart disease</td>\n",
       "    </tr>\n",
       "  </tbody>\n",
       "</table>\n",
       "<p>303 rows × 5 columns</p>\n",
       "</div>"
      ],
      "text/plain": [
       "     cholesterol type_chestpain  max_heart_rate  resting_bp  \\\n",
       "0            233          type1             150         145   \n",
       "1            286          type4             108         160   \n",
       "2            229          type4             129         120   \n",
       "3            250          type3             187         130   \n",
       "4            204          type2             172         130   \n",
       "..           ...            ...             ...         ...   \n",
       "298          264          type1             132         110   \n",
       "299          193          type4             141         144   \n",
       "300          131          type4             115         130   \n",
       "301          236          type2             174         130   \n",
       "302          175          type3             173         138   \n",
       "\n",
       "                       diagnosis  \n",
       "0         low-risk heart disease  \n",
       "1    moderate-risk heart disease  \n",
       "2         low-risk heart disease  \n",
       "3         low-risk heart disease  \n",
       "4         low-risk heart disease  \n",
       "..                           ...  \n",
       "298       low-risk heart disease  \n",
       "299  moderate-risk heart disease  \n",
       "300  moderate-risk heart disease  \n",
       "301       low-risk heart disease  \n",
       "302       low-risk heart disease  \n",
       "\n",
       "[303 rows x 5 columns]"
      ]
     },
     "execution_count": 4,
     "metadata": {},
     "output_type": "execute_result"
    }
   ],
   "source": [
    "# import dataset\n",
    "heart_disease = pd.read_csv(\"https://archive.ics.uci.edu/static/public/45/data.csv\")\n",
    "\n",
    "# filter dataframe\n",
    "heart_disease.rename(columns = {\n",
    "                          \"fbs\" : \"fasting_blood_sugar\",\n",
    "                          \"chol\" : \"cholesterol\", \n",
    "                          \"cp\":\"type_chestpain\",\n",
    "                          \"restecg\" : \"resting_ecg\",\n",
    "                          \"thalach\" : \"max_heart_rate\",\n",
    "                          \"exang\" : \"exercise_induced_angina\",\n",
    "                          \"oldpeak\" : \"ST_depression\", \n",
    "                          \"slope\" : \"ST_segment_slope\", \n",
    "                          \"ca\" : \"num_major_vessels\", \n",
    "                          \"thal\" : \"thallium_stress_test\", #not sure\n",
    "                          \"num\" : \"diagnosis\",\n",
    "                          \"trestbps\" : \"resting_bp\"\n",
    "}, inplace = True)\n",
    "\n",
    "heart_disease = heart_disease[[\"cholesterol\",\"type_chestpain\",\"max_heart_rate\",\"resting_bp\",\"diagnosis\"]]\n",
    "\n",
    "\n",
    "# A low-risk diagnosis is 0, 1\n",
    "# A moderate-risk diagnosis is 2, 3\n",
    "# A high-risk diagnosis is 4\n",
    "heart_disease['diagnosis'] = heart_disease['diagnosis'].replace([0,1], \"low-risk heart disease\")\n",
    "heart_disease['diagnosis'] = heart_disease['diagnosis'].replace([2,3], \"moderate-risk heart disease\")\n",
    "heart_disease['diagnosis'] = heart_disease['diagnosis'].replace([4], \"high-risk heart disease\")\n",
    "\n",
    "# chest pain type\n",
    "heart_disease['type_chestpain'] = heart_disease['type_chestpain'].replace(\n",
    "    [1,2,3,4],\n",
    "    [\"type1\",\"type2\",\"type3\",\"type4\"])\n",
    "\n",
    "\n",
    "heart_disease"
   ]
  },
  {
   "cell_type": "code",
   "execution_count": 5,
   "id": "4ff98677",
   "metadata": {
    "ExecuteTime": {
     "end_time": "2023-11-02T05:32:35.285463Z",
     "start_time": "2023-11-02T05:32:35.266044Z"
    },
    "tags": []
   },
   "outputs": [],
   "source": [
    "# split data into training and test sets\n",
    "heart_disease_train, heart_disease_test = train_test_split(heart_disease, train_size = 0.75, random_state = 0)"
   ]
  },
  {
   "cell_type": "code",
   "execution_count": 6,
   "id": "9cf355c304d9009d",
   "metadata": {
    "ExecuteTime": {
     "end_time": "2023-11-02T05:56:04.301291Z",
     "start_time": "2023-11-02T05:56:04.292244Z"
    },
    "collapsed": false,
    "jupyter": {
     "outputs_hidden": false
    }
   },
   "outputs": [
    {
     "data": {
      "text/html": [
       "<div>\n",
       "<style scoped>\n",
       "    .dataframe tbody tr th:only-of-type {\n",
       "        vertical-align: middle;\n",
       "    }\n",
       "\n",
       "    .dataframe tbody tr th {\n",
       "        vertical-align: top;\n",
       "    }\n",
       "\n",
       "    .dataframe thead th {\n",
       "        text-align: right;\n",
       "    }\n",
       "</style>\n",
       "<table border=\"1\" class=\"dataframe\">\n",
       "  <thead>\n",
       "    <tr style=\"text-align: right;\">\n",
       "      <th></th>\n",
       "      <th>type_chestpain</th>\n",
       "      <th>diagnosis</th>\n",
       "    </tr>\n",
       "  </thead>\n",
       "  <tbody>\n",
       "    <tr>\n",
       "      <th>count</th>\n",
       "      <td>227</td>\n",
       "      <td>227</td>\n",
       "    </tr>\n",
       "    <tr>\n",
       "      <th>unique</th>\n",
       "      <td>4</td>\n",
       "      <td>3</td>\n",
       "    </tr>\n",
       "    <tr>\n",
       "      <th>top</th>\n",
       "      <td>type4</td>\n",
       "      <td>low-risk heart disease</td>\n",
       "    </tr>\n",
       "    <tr>\n",
       "      <th>freq</th>\n",
       "      <td>108</td>\n",
       "      <td>163</td>\n",
       "    </tr>\n",
       "  </tbody>\n",
       "</table>\n",
       "</div>"
      ],
      "text/plain": [
       "       type_chestpain               diagnosis\n",
       "count             227                     227\n",
       "unique              4                       3\n",
       "top             type4  low-risk heart disease\n",
       "freq              108                     163"
      ]
     },
     "execution_count": 6,
     "metadata": {},
     "output_type": "execute_result"
    }
   ],
   "source": [
    "# Summary of the categorical variables\n",
    "heart_disease_categorical = heart_disease_train.drop(columns = [\"cholesterol\",\"max_heart_rate\",\"resting_bp\"])\n",
    "heart_disease_categorical.describe()"
   ]
  },
  {
   "cell_type": "code",
   "execution_count": 7,
   "id": "61bffd03feb24315",
   "metadata": {
    "ExecuteTime": {
     "end_time": "2023-11-02T05:57:53.512780Z",
     "start_time": "2023-11-02T05:57:53.503871Z"
    },
    "collapsed": false,
    "jupyter": {
     "outputs_hidden": false
    }
   },
   "outputs": [
    {
     "data": {
      "text/html": [
       "<div>\n",
       "<style scoped>\n",
       "    .dataframe tbody tr th:only-of-type {\n",
       "        vertical-align: middle;\n",
       "    }\n",
       "\n",
       "    .dataframe tbody tr th {\n",
       "        vertical-align: top;\n",
       "    }\n",
       "\n",
       "    .dataframe thead th {\n",
       "        text-align: right;\n",
       "    }\n",
       "</style>\n",
       "<table border=\"1\" class=\"dataframe\">\n",
       "  <thead>\n",
       "    <tr style=\"text-align: right;\">\n",
       "      <th></th>\n",
       "      <th>cholesterol</th>\n",
       "      <th>max_heart_rate</th>\n",
       "      <th>resting_bp</th>\n",
       "    </tr>\n",
       "  </thead>\n",
       "  <tbody>\n",
       "    <tr>\n",
       "      <th>count</th>\n",
       "      <td>227.000000</td>\n",
       "      <td>227.000000</td>\n",
       "      <td>227.000000</td>\n",
       "    </tr>\n",
       "    <tr>\n",
       "      <th>mean</th>\n",
       "      <td>245.810573</td>\n",
       "      <td>150.286344</td>\n",
       "      <td>132.277533</td>\n",
       "    </tr>\n",
       "    <tr>\n",
       "      <th>std</th>\n",
       "      <td>49.162043</td>\n",
       "      <td>21.961187</td>\n",
       "      <td>16.659197</td>\n",
       "    </tr>\n",
       "    <tr>\n",
       "      <th>min</th>\n",
       "      <td>126.000000</td>\n",
       "      <td>96.000000</td>\n",
       "      <td>94.000000</td>\n",
       "    </tr>\n",
       "    <tr>\n",
       "      <th>25%</th>\n",
       "      <td>212.000000</td>\n",
       "      <td>133.500000</td>\n",
       "      <td>120.000000</td>\n",
       "    </tr>\n",
       "    <tr>\n",
       "      <th>50%</th>\n",
       "      <td>240.000000</td>\n",
       "      <td>152.000000</td>\n",
       "      <td>130.000000</td>\n",
       "    </tr>\n",
       "    <tr>\n",
       "      <th>75%</th>\n",
       "      <td>273.500000</td>\n",
       "      <td>167.500000</td>\n",
       "      <td>140.000000</td>\n",
       "    </tr>\n",
       "    <tr>\n",
       "      <th>max</th>\n",
       "      <td>417.000000</td>\n",
       "      <td>202.000000</td>\n",
       "      <td>180.000000</td>\n",
       "    </tr>\n",
       "  </tbody>\n",
       "</table>\n",
       "</div>"
      ],
      "text/plain": [
       "       cholesterol  max_heart_rate  resting_bp\n",
       "count   227.000000      227.000000  227.000000\n",
       "mean    245.810573      150.286344  132.277533\n",
       "std      49.162043       21.961187   16.659197\n",
       "min     126.000000       96.000000   94.000000\n",
       "25%     212.000000      133.500000  120.000000\n",
       "50%     240.000000      152.000000  130.000000\n",
       "75%     273.500000      167.500000  140.000000\n",
       "max     417.000000      202.000000  180.000000"
      ]
     },
     "execution_count": 7,
     "metadata": {},
     "output_type": "execute_result"
    }
   ],
   "source": [
    "# Summary of the continuous variables\n",
    "heart_disease_continuous = heart_disease_train.drop(columns = [\"type_chestpain\",\"diagnosis\"])\n",
    "heart_disease_continuous.describe()"
   ]
  },
  {
   "cell_type": "code",
   "execution_count": 8,
   "id": "a6693ab46de7002c",
   "metadata": {
    "ExecuteTime": {
     "end_time": "2023-11-02T05:32:35.749573Z",
     "start_time": "2023-11-02T05:32:35.734507Z"
    },
    "collapsed": false,
    "jupyter": {
     "outputs_hidden": false
    },
    "tags": []
   },
   "outputs": [
    {
     "ename": "TypeError",
     "evalue": "'UndefinedType' object is not callable",
     "output_type": "error",
     "traceback": [
      "\u001b[0;31m---------------------------------------------------------------------------\u001b[0m",
      "\u001b[0;31mTypeError\u001b[0m                                 Traceback (most recent call last)",
      "Cell \u001b[0;32mIn[8], line 3\u001b[0m\n\u001b[1;32m      1\u001b[0m \u001b[38;5;66;03m# blood pressure\u001b[39;00m\n\u001b[1;32m      2\u001b[0m bp_hist \u001b[38;5;241m=\u001b[39m alt\u001b[38;5;241m.\u001b[39mChart(heart_disease_train)\u001b[38;5;241m.\u001b[39mmark_bar()\u001b[38;5;241m.\u001b[39mencode(\n\u001b[0;32m----> 3\u001b[0m     x\u001b[38;5;241m=\u001b[39m\u001b[43malt\u001b[49m\u001b[38;5;241;43m.\u001b[39;49m\u001b[43mX\u001b[49m\u001b[43m(\u001b[49m\u001b[38;5;124;43m\"\u001b[39;49m\u001b[38;5;124;43mresting_bp:Q\u001b[39;49m\u001b[38;5;124;43m\"\u001b[39;49m\u001b[43m,\u001b[49m\u001b[43m \u001b[49m\u001b[38;5;28;43mbin\u001b[39;49m\u001b[43m \u001b[49m\u001b[38;5;241;43m=\u001b[39;49m\u001b[43m \u001b[49m\u001b[38;5;28;43;01mTrue\u001b[39;49;00m\u001b[43m)\u001b[49m\u001b[38;5;241;43m.\u001b[39;49m\u001b[43mtitle\u001b[49m\u001b[43m(\u001b[49m\u001b[38;5;124;43m\"\u001b[39;49m\u001b[38;5;124;43mBlood Pressure\u001b[39;49m\u001b[38;5;124;43m\"\u001b[39;49m\u001b[43m)\u001b[49m,\n\u001b[1;32m      4\u001b[0m     y\u001b[38;5;241m=\u001b[39malt\u001b[38;5;241m.\u001b[39mY(\u001b[38;5;124m\"\u001b[39m\u001b[38;5;124mcount()\u001b[39m\u001b[38;5;124m\"\u001b[39m)\u001b[38;5;241m.\u001b[39mstack(\u001b[38;5;28;01mFalse\u001b[39;00m),\n\u001b[1;32m      5\u001b[0m     color\u001b[38;5;241m=\u001b[39m\u001b[38;5;124m\"\u001b[39m\u001b[38;5;124mdiagnosis:N\u001b[39m\u001b[38;5;124m\"\u001b[39m\n\u001b[1;32m      6\u001b[0m )\u001b[38;5;241m.\u001b[39mproperties(\n\u001b[1;32m      7\u001b[0m     title \u001b[38;5;241m=\u001b[39m \u001b[38;5;124m\"\u001b[39m\u001b[38;5;124mDistribution of Blood Pressure\u001b[39m\u001b[38;5;124m\"\u001b[39m\n\u001b[1;32m      8\u001b[0m )\n\u001b[1;32m     10\u001b[0m bp_hist\n",
      "\u001b[0;31mTypeError\u001b[0m: 'UndefinedType' object is not callable"
     ]
    }
   ],
   "source": [
    "# blood pressure\n",
    "bp_hist = alt.Chart(heart_disease_train).mark_bar().encode(\n",
    "    x=alt.X(\"resting_bp:Q\", bin = True).title(\"Blood Pressure\"),\n",
    "    y=alt.Y(\"count()\").stack(False),\n",
    "    color=\"diagnosis:N\"\n",
    ").properties(\n",
    "    title = \"Distribution of Blood Pressure\"\n",
    ")\n",
    "\n",
    "bp_hist"
   ]
  },
  {
   "cell_type": "code",
   "execution_count": null,
   "id": "e476f9609f9f7349",
   "metadata": {
    "ExecuteTime": {
     "end_time": "2023-11-02T05:32:36.278497Z",
     "start_time": "2023-11-02T05:32:36.264586Z"
    },
    "collapsed": false,
    "jupyter": {
     "outputs_hidden": false
    },
    "tags": []
   },
   "outputs": [],
   "source": [
    "# cholesterol\n",
    "chol_hist = alt.Chart(heart_disease_train).mark_bar().encode(\n",
    "    x=alt.X(\"cholesterol:Q\", bin = True).title(\"Cholesterol\"),\n",
    "    y=alt.Y(\"count()\").stack(False),\n",
    "    color = \"diagnosis:N\"\n",
    ").properties(\n",
    "    title = \"Distribution of Cholesterol\"\n",
    ")\n",
    "\n",
    "chol_hist"
   ]
  },
  {
   "cell_type": "code",
   "execution_count": null,
   "id": "843530db42871a39",
   "metadata": {
    "ExecuteTime": {
     "end_time": "2023-11-02T05:35:16.753691Z",
     "start_time": "2023-11-02T05:35:16.732166Z"
    },
    "collapsed": false,
    "jupyter": {
     "outputs_hidden": false
    },
    "tags": []
   },
   "outputs": [],
   "source": [
    "# chest pain type\n",
    "cp_hist = alt.Chart(heart_disease_train).mark_bar().encode(\n",
    "    x=alt.X(\"type_chestpain\").title(\"Chest Pain Type\"),\n",
    "    y=alt.Y(\"count()\").stack(False),\n",
    "    color = \"diagnosis:N\"\n",
    ").properties(\n",
    "    width=300,\n",
    "    height=300,\n",
    "    title = \"Distribution of Chest Pain Type\"\n",
    ")\n",
    "\n",
    "cp_hist"
   ]
  },
  {
   "cell_type": "code",
   "execution_count": null,
   "id": "74bcb4894808223a",
   "metadata": {
    "ExecuteTime": {
     "end_time": "2023-11-02T05:32:39.636057Z",
     "start_time": "2023-11-02T05:32:39.621020Z"
    },
    "collapsed": false,
    "jupyter": {
     "outputs_hidden": false
    },
    "tags": []
   },
   "outputs": [],
   "source": [
    "# heart rate\n",
    "hr_hist = alt.Chart(heart_disease_train).mark_bar().encode(\n",
    "    x=alt.X(\"max_heart_rate:Q\", bin = True).title(\"Heart Rate\"),\n",
    "    y=alt.Y(\"count()\").stack(False),\n",
    "    color = \"diagnosis:N\"\n",
    ").properties(\n",
    "    title = \"Distribution of Heart Rate\"\n",
    ")\n",
    "\n",
    "hr_hist"
   ]
  },
  {
   "cell_type": "markdown",
   "id": "5aafe17a-6ee3-4808-ac92-8a7bb46db8ae",
   "metadata": {
    "tags": []
   },
   "source": [
    "\n",
    "\n"
   ]
  }
 ],
 "metadata": {
  "kernelspec": {
   "display_name": "Python 3 (ipykernel)",
   "language": "python",
   "name": "python3"
  },
  "language_info": {
   "codemirror_mode": {
    "name": "ipython",
    "version": 3
   },
   "file_extension": ".py",
   "mimetype": "text/x-python",
   "name": "python",
   "nbconvert_exporter": "python",
   "pygments_lexer": "ipython3",
   "version": "3.10.8"
  }
 },
 "nbformat": 4,
 "nbformat_minor": 5
}
