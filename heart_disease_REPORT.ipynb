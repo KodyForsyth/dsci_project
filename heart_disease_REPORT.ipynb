{
 "cells": [
  {
   "cell_type": "markdown",
   "id": "53931957-3afa-48ef-9400-dfe18468904d",
   "metadata": {},
   "source": [
    "# REPORT: Predicting Risk of Heart Disease from Accessible Health Metrics\n",
    "_Created by : Tyler Ofreneo, Arthur Zhang, Kody Forsyth, Natalia Blanco_\n",
    "\n",
    "## Introduction:\n",
    "\n",
    "According to the Public Health Agency of Canada, heart disease is the second leading cause of death in Canada, with approximately 1 in 12 Canadian adults over 20 living with a diagnosis. These metrics highlight the importance of knowing the risk factors and having access to medical advice. However, a shortage of physicians in Canada is causing a lack of available health care (Flood et al., 2023). Non-healthcare professionals do not have the means to properly self-evaluate symptoms, therefore our project seeks to help the general population to make informative decisions about heart disease symptoms that are self-monitored or easily accessible.\n",
    "\n",
    "\n",
    "Thus we ask, <b>is it possible to classify individuals into levels of heart disease risk (low risk, moderate risk, or high risk) based on blood pressure, cholesterol, heart rate and chest pain?<b>\n",
    "\n",
    "\n",
    "Our analysis will use the Heart Disease dataset from the Cleveland database for heart disease (Andras et al., 1988). This database consists of 303 patients without history of heart disease, who were admitted to the Cleveland Clinic between 1981 and 1984. \n",
    "\n"
   ]
  },
  {
   "cell_type": "code",
   "execution_count": 1,
   "id": "fced25bca234fedc",
   "metadata": {
    "ExecuteTime": {
     "end_time": "2023-12-04T05:00:28.837166Z",
     "start_time": "2023-12-04T05:00:28.806096Z"
    },
    "collapsed": false,
    "jupyter": {
     "outputs_hidden": false
    },
    "tags": []
   },
   "outputs": [],
   "source": [
    "# Please uncomment the following cell to install the altair in case your package is not up-to-date"
   ]
  },
  {
   "cell_type": "code",
   "execution_count": 2,
   "id": "ae526daf547a0a67",
   "metadata": {
    "ExecuteTime": {
     "end_time": "2023-12-04T05:00:28.838086Z",
     "start_time": "2023-12-04T05:00:28.808049Z"
    },
    "collapsed": false,
    "jupyter": {
     "outputs_hidden": false
    },
    "tags": []
   },
   "outputs": [
    {
     "name": "stdout",
     "output_type": "stream",
     "text": [
      "Requirement already satisfied: altair in /opt/conda/lib/python3.10/site-packages (4.2.2)\n",
      "Collecting altair\n",
      "  Using cached altair-5.2.0-py3-none-any.whl (996 kB)\n",
      "Requirement already satisfied: toolz in /opt/conda/lib/python3.10/site-packages (from altair) (0.12.0)\n",
      "Requirement already satisfied: jsonschema>=3.0 in /opt/conda/lib/python3.10/site-packages (from altair) (4.17.3)\n",
      "Requirement already satisfied: numpy in /opt/conda/lib/python3.10/site-packages (from altair) (1.23.5)\n",
      "Requirement already satisfied: pandas>=0.25 in /opt/conda/lib/python3.10/site-packages (from altair) (1.5.3)\n",
      "Requirement already satisfied: packaging in /opt/conda/lib/python3.10/site-packages (from altair) (23.0)\n",
      "Requirement already satisfied: typing-extensions>=4.0.1 in /opt/conda/lib/python3.10/site-packages (from altair) (4.4.0)\n",
      "Requirement already satisfied: jinja2 in /opt/conda/lib/python3.10/site-packages (from altair) (3.1.2)\n",
      "Requirement already satisfied: pyrsistent!=0.17.0,!=0.17.1,!=0.17.2,>=0.14.0 in /opt/conda/lib/python3.10/site-packages (from jsonschema>=3.0->altair) (0.19.3)\n",
      "Requirement already satisfied: attrs>=17.4.0 in /opt/conda/lib/python3.10/site-packages (from jsonschema>=3.0->altair) (22.2.0)\n",
      "Requirement already satisfied: python-dateutil>=2.8.1 in /opt/conda/lib/python3.10/site-packages (from pandas>=0.25->altair) (2.8.2)\n",
      "Requirement already satisfied: pytz>=2020.1 in /opt/conda/lib/python3.10/site-packages (from pandas>=0.25->altair) (2022.7.1)\n",
      "Requirement already satisfied: MarkupSafe>=2.0 in /opt/conda/lib/python3.10/site-packages (from jinja2->altair) (2.1.2)\n",
      "Requirement already satisfied: six>=1.5 in /opt/conda/lib/python3.10/site-packages (from python-dateutil>=2.8.1->pandas>=0.25->altair) (1.16.0)\n",
      "Installing collected packages: altair\n",
      "  Attempting uninstall: altair\n",
      "    Found existing installation: altair 4.2.2\n",
      "    Uninstalling altair-4.2.2:\n",
      "      Successfully uninstalled altair-4.2.2\n",
      "Successfully installed altair-5.2.0\n",
      "Note: you may need to restart the kernel to use updated packages.\n"
     ]
    }
   ],
   "source": [
    "#pip install -U altair"
   ]
  },
  {
   "cell_type": "code",
   "execution_count": 3,
   "id": "7faedbd6",
   "metadata": {
    "ExecuteTime": {
     "end_time": "2023-12-04T05:00:28.838306Z",
     "start_time": "2023-12-04T05:00:28.809864Z"
    },
    "tags": []
   },
   "outputs": [],
   "source": [
    "import altair as alt\n",
    "import pandas as pd\n",
    "import numpy as np\n",
    "from sklearn.model_selection import train_test_split\n",
    "from sklearn import set_config\n",
    "from sklearn.metrics import confusion_matrix\n",
    "from sklearn.model_selection import GridSearchCV, cross_validate\n",
    "from sklearn.neighbors import KNeighborsClassifier\n",
    "from sklearn.preprocessing import StandardScaler \n",
    "from sklearn.compose import make_column_transformer\n",
    "from sklearn.utils import resample\n",
    "from sklearn.pipeline import make_pipeline"
   ]
  },
  {
   "cell_type": "markdown",
   "id": "8221fceb-38cd-4483-988b-37040f83d56b",
   "metadata": {
    "tags": []
   },
   "source": [
    "## Loading and Wrangling the Heart Disease Data Set\n",
    "\n",
    "The Heart Disease dataset retrieved from the UC Irvine Machine Learning Repository is loaded into this notebook in the following cell. The data frame obtained (shown below) was tidy (Table 1). A subset of the columns containing the symptoms chosen in the thesis was extracted. To enhance clarity, column names and variables within the 'diagnosis' and 'chest pain' sections have been given more meaningful names. An outline of the the classes for heart disease diagnosis, each representing the levels of risk, is given below.\n",
    "\n",
    "> <ins> The 'diagnosis' column: </ins> \n",
    "<br>\n",
    "> 0,1 is represented as \"low-risk diagnosis\"\n",
    "<br>\n",
    "> 2,3 is represented as \"moderate-risk diagnosis\"\n",
    "<br>\n",
    "> 4 is represented as \"high-risk diagnosis\""
   ]
  },
  {
   "cell_type": "code",
   "execution_count": 4,
   "id": "193a4861",
   "metadata": {
    "ExecuteTime": {
     "end_time": "2023-12-04T05:00:29.015240Z",
     "start_time": "2023-12-04T05:00:28.813483Z"
    },
    "tags": []
   },
   "outputs": [
    {
     "name": "stdout",
     "output_type": "stream",
     "text": [
      "Table 1:\n"
     ]
    },
    {
     "data": {
      "text/html": [
       "<div>\n",
       "<style scoped>\n",
       "    .dataframe tbody tr th:only-of-type {\n",
       "        vertical-align: middle;\n",
       "    }\n",
       "\n",
       "    .dataframe tbody tr th {\n",
       "        vertical-align: top;\n",
       "    }\n",
       "\n",
       "    .dataframe thead th {\n",
       "        text-align: right;\n",
       "    }\n",
       "</style>\n",
       "<table border=\"1\" class=\"dataframe\">\n",
       "  <thead>\n",
       "    <tr style=\"text-align: right;\">\n",
       "      <th></th>\n",
       "      <th>cholesterol</th>\n",
       "      <th>type_chestpain</th>\n",
       "      <th>max_heart_rate</th>\n",
       "      <th>resting_bp</th>\n",
       "      <th>diagnosis</th>\n",
       "    </tr>\n",
       "  </thead>\n",
       "  <tbody>\n",
       "    <tr>\n",
       "      <th>0</th>\n",
       "      <td>233</td>\n",
       "      <td>type1</td>\n",
       "      <td>150</td>\n",
       "      <td>145</td>\n",
       "      <td>low-risk heart disease</td>\n",
       "    </tr>\n",
       "    <tr>\n",
       "      <th>1</th>\n",
       "      <td>286</td>\n",
       "      <td>type4</td>\n",
       "      <td>108</td>\n",
       "      <td>160</td>\n",
       "      <td>moderate-risk heart disease</td>\n",
       "    </tr>\n",
       "    <tr>\n",
       "      <th>2</th>\n",
       "      <td>229</td>\n",
       "      <td>type4</td>\n",
       "      <td>129</td>\n",
       "      <td>120</td>\n",
       "      <td>low-risk heart disease</td>\n",
       "    </tr>\n",
       "    <tr>\n",
       "      <th>3</th>\n",
       "      <td>250</td>\n",
       "      <td>type3</td>\n",
       "      <td>187</td>\n",
       "      <td>130</td>\n",
       "      <td>low-risk heart disease</td>\n",
       "    </tr>\n",
       "    <tr>\n",
       "      <th>4</th>\n",
       "      <td>204</td>\n",
       "      <td>type2</td>\n",
       "      <td>172</td>\n",
       "      <td>130</td>\n",
       "      <td>low-risk heart disease</td>\n",
       "    </tr>\n",
       "  </tbody>\n",
       "</table>\n",
       "</div>"
      ],
      "text/plain": [
       "   cholesterol type_chestpain  max_heart_rate  resting_bp  \\\n",
       "0          233          type1             150         145   \n",
       "1          286          type4             108         160   \n",
       "2          229          type4             129         120   \n",
       "3          250          type3             187         130   \n",
       "4          204          type2             172         130   \n",
       "\n",
       "                     diagnosis  \n",
       "0       low-risk heart disease  \n",
       "1  moderate-risk heart disease  \n",
       "2       low-risk heart disease  \n",
       "3       low-risk heart disease  \n",
       "4       low-risk heart disease  "
      ]
     },
     "execution_count": 4,
     "metadata": {},
     "output_type": "execute_result"
    }
   ],
   "source": [
    "# import and load the data\n",
    "heart_disease = pd.read_csv(\"https://archive.ics.uci.edu/static/public/45/data.csv\")\n",
    "\n",
    "#extract and rename the columns with required data\n",
    "heart_disease = heart_disease[[\"chol\",\"cp\",\"thalach\",\"trestbps\",\"num\"]]\n",
    "heart_disease.rename(columns = {\n",
    "                          \"chol\" : \"cholesterol\", \n",
    "                          \"cp\":\"type_chestpain\",\n",
    "                          \"thalach\" : \"max_heart_rate\",\n",
    "                          \"num\" : \"diagnosis\",\n",
    "                          \"trestbps\" : \"resting_bp\"\n",
    "}, inplace = True)\n",
    "\n",
    "# renaming variables in the 'diagnosis' column with readable and explicit labels\n",
    "heart_disease['diagnosis'] = heart_disease['diagnosis'].replace([0,1], \"low-risk heart disease\")\n",
    "heart_disease['diagnosis'] = heart_disease['diagnosis'].replace([2,3], \"moderate-risk heart disease\")\n",
    "heart_disease['diagnosis'] = heart_disease['diagnosis'].replace([4], \"high-risk heart disease\")\n",
    "\n",
    "# renaming variables in the 'chest pain' column with readable and explicit labels\n",
    "heart_disease['type_chestpain'] = heart_disease['type_chestpain'].replace(\n",
    "    [1,2,3,4],\n",
    "    [\"type1\",\"type2\",\"type3\",\"type4\"])\n",
    "\n",
    "print(\"Table 1:\")\n",
    "heart_disease.head()"
   ]
  },
  {
   "cell_type": "markdown",
   "id": "d2c1e8d8-3eed-416a-ac91-4638d9df038a",
   "metadata": {},
   "source": [
    "## Balancing\n",
    "\n",
    "As shown in the next cells, the unique values in the 'diagnosis' column show a class imbalance because the observations of 'low-risk heart disease' appear more common than the other classes. In order to eliminate the risk of bias in the classifier, this issue was resolved by oversampling the rare classes which were \"moderate-\" and \"high-risk disease\". This was done by filtering the classes and randomly resampling to increase the number of rare observations."
   ]
  },
  {
   "cell_type": "code",
   "execution_count": 5,
   "id": "64825990-681e-4ee4-acc2-520946497d96",
   "metadata": {
    "tags": []
   },
   "outputs": [
    {
     "data": {
      "text/plain": [
       "low-risk heart disease         219\n",
       "moderate-risk heart disease     71\n",
       "high-risk heart disease         13\n",
       "Name: diagnosis, dtype: int64"
      ]
     },
     "execution_count": 5,
     "metadata": {},
     "output_type": "execute_result"
    }
   ],
   "source": [
    "# unbalanced diagnoses, must resample\n",
    "heart_disease['diagnosis'].value_counts()"
   ]
  },
  {
   "cell_type": "code",
   "execution_count": 6,
   "id": "658de739d7b997f4",
   "metadata": {
    "ExecuteTime": {
     "end_time": "2023-12-04T05:00:29.030118Z",
     "start_time": "2023-12-04T05:00:29.020415Z"
    },
    "collapsed": false,
    "jupyter": {
     "outputs_hidden": false
    },
    "tags": []
   },
   "outputs": [
    {
     "data": {
      "text/plain": [
       "high-risk heart disease        219\n",
       "moderate-risk heart disease    219\n",
       "low-risk heart disease         219\n",
       "Name: diagnosis, dtype: int64"
      ]
     },
     "execution_count": 6,
     "metadata": {},
     "output_type": "execute_result"
    }
   ],
   "source": [
    "np.random.seed(1234)\n",
    "\n",
    "# separate the classes out into their own data frames by filtering\n",
    "rare_diagnosis_1 = heart_disease[heart_disease[\"diagnosis\"] == \"high-risk heart disease\"]\n",
    "rare_diagnosis_2 = heart_disease[heart_disease[\"diagnosis\"] == \"moderate-risk heart disease\"]\n",
    "low_risk_diagnosis = heart_disease[heart_disease[\"diagnosis\"] == \"low-risk heart disease\"]\n",
    "\n",
    "# increase the number of rare observations to the same amount as non-rare observations\n",
    "rare_diagnosis_upsample_1 = resample(rare_diagnosis_1, n_samples = low_risk_diagnosis.shape[0])\n",
    "rare_diagnosis_upsample_2 = resample(rare_diagnosis_2, n_samples = low_risk_diagnosis.shape[0])\n",
    "\n",
    "# combined observations show that the classes are now balanced\n",
    "heart_disease = pd.concat((rare_diagnosis_upsample_1, rare_diagnosis_upsample_2, low_risk_diagnosis)).reset_index(drop = True)\n",
    "heart_disease['diagnosis'].value_counts()"
   ]
  },
  {
   "cell_type": "markdown",
   "id": "1538df81-8113-4c3f-961a-9396f653570f",
   "metadata": {},
   "source": [
    "## Create Training and Testing Sets\n",
    "\n",
    "The data set is split so that 75% is incorporated into a training set and 25% for a testing set. The data is stratified by the categorical label variable ('diagnosis'). We will use the training set to build the classifier and predict the diagnosis of observations in the test set for evaluating performance. "
   ]
  },
  {
   "cell_type": "code",
   "execution_count": 7,
   "id": "4ff98677",
   "metadata": {
    "ExecuteTime": {
     "end_time": "2023-12-04T05:00:29.030415Z",
     "start_time": "2023-12-04T05:00:29.026619Z"
    },
    "tags": []
   },
   "outputs": [],
   "source": [
    "# split data into training and testing sets\n",
    "heart_disease_train, heart_disease_test = train_test_split(heart_disease, \n",
    "                                                           train_size = 0.75, \n",
    "                                                           stratify = heart_disease[\"diagnosis\"],\n",
    "                                                           random_state = 0)"
   ]
  },
  {
   "cell_type": "markdown",
   "id": "beb18127-9b99-4f27-b243-6512a7c09b1b",
   "metadata": {
    "tags": []
   },
   "source": [
    "## Summary Statistics\n",
    "\n",
    "The following cells are used to compute the summary statistics of the variables.\n",
    "<br>\n",
    "<br>\n",
    "**Categorical variables (Table 2)**: \n",
    "> Number of observations (\"count\")<br>\n",
    "> Number of unique labels (\"unique\")<br>\n",
    "> Most frequent value (\"top\") <br>\n",
    "> Regularity of the top value (\"freq\")<br>\n",
    "\n",
    "**Continuous variables (Table 3)**: \n",
    "> Number of observations (\"count\")<br>\n",
    "> Mean, standard deviation, minimum and maximum of the observations (\"mean\", \"std\", \"min\", \"max\")<br>\n",
    "> 25th, 50th, and 75th percentiles<br>"
   ]
  },
  {
   "cell_type": "code",
   "execution_count": 8,
   "id": "9cf355c304d9009d",
   "metadata": {
    "ExecuteTime": {
     "end_time": "2023-12-04T05:00:29.036038Z",
     "start_time": "2023-12-04T05:00:29.033623Z"
    },
    "collapsed": false,
    "jupyter": {
     "outputs_hidden": false
    },
    "tags": []
   },
   "outputs": [
    {
     "name": "stdout",
     "output_type": "stream",
     "text": [
      "Table 2:\n"
     ]
    },
    {
     "data": {
      "text/html": [
       "<div>\n",
       "<style scoped>\n",
       "    .dataframe tbody tr th:only-of-type {\n",
       "        vertical-align: middle;\n",
       "    }\n",
       "\n",
       "    .dataframe tbody tr th {\n",
       "        vertical-align: top;\n",
       "    }\n",
       "\n",
       "    .dataframe thead th {\n",
       "        text-align: right;\n",
       "    }\n",
       "</style>\n",
       "<table border=\"1\" class=\"dataframe\">\n",
       "  <thead>\n",
       "    <tr style=\"text-align: right;\">\n",
       "      <th></th>\n",
       "      <th>type_chestpain</th>\n",
       "      <th>diagnosis</th>\n",
       "    </tr>\n",
       "  </thead>\n",
       "  <tbody>\n",
       "    <tr>\n",
       "      <th>count</th>\n",
       "      <td>492</td>\n",
       "      <td>492</td>\n",
       "    </tr>\n",
       "    <tr>\n",
       "      <th>unique</th>\n",
       "      <td>4</td>\n",
       "      <td>3</td>\n",
       "    </tr>\n",
       "    <tr>\n",
       "      <th>top</th>\n",
       "      <td>type4</td>\n",
       "      <td>high-risk heart disease</td>\n",
       "    </tr>\n",
       "    <tr>\n",
       "      <th>freq</th>\n",
       "      <td>330</td>\n",
       "      <td>164</td>\n",
       "    </tr>\n",
       "  </tbody>\n",
       "</table>\n",
       "</div>"
      ],
      "text/plain": [
       "       type_chestpain                diagnosis\n",
       "count             492                      492\n",
       "unique              4                        3\n",
       "top             type4  high-risk heart disease\n",
       "freq              330                      164"
      ]
     },
     "execution_count": 8,
     "metadata": {},
     "output_type": "execute_result"
    }
   ],
   "source": [
    "# Summary of the categorical variables\n",
    "heart_disease_categorical = heart_disease_train.drop(columns = [\"cholesterol\",\"max_heart_rate\",\"resting_bp\"])\n",
    "print(\"Table 2:\")\n",
    "heart_disease_categorical.describe()"
   ]
  },
  {
   "cell_type": "code",
   "execution_count": 9,
   "id": "61bffd03feb24315",
   "metadata": {
    "ExecuteTime": {
     "end_time": "2023-12-04T05:00:29.090428Z",
     "start_time": "2023-12-04T05:00:29.036847Z"
    },
    "collapsed": false,
    "jupyter": {
     "outputs_hidden": false
    },
    "tags": []
   },
   "outputs": [
    {
     "name": "stdout",
     "output_type": "stream",
     "text": [
      "Table 3:\n"
     ]
    },
    {
     "data": {
      "text/html": [
       "<div>\n",
       "<style scoped>\n",
       "    .dataframe tbody tr th:only-of-type {\n",
       "        vertical-align: middle;\n",
       "    }\n",
       "\n",
       "    .dataframe tbody tr th {\n",
       "        vertical-align: top;\n",
       "    }\n",
       "\n",
       "    .dataframe thead th {\n",
       "        text-align: right;\n",
       "    }\n",
       "</style>\n",
       "<table border=\"1\" class=\"dataframe\">\n",
       "  <thead>\n",
       "    <tr style=\"text-align: right;\">\n",
       "      <th></th>\n",
       "      <th>cholesterol</th>\n",
       "      <th>max_heart_rate</th>\n",
       "      <th>resting_bp</th>\n",
       "    </tr>\n",
       "  </thead>\n",
       "  <tbody>\n",
       "    <tr>\n",
       "      <th>count</th>\n",
       "      <td>492.000000</td>\n",
       "      <td>492.000000</td>\n",
       "      <td>492.000000</td>\n",
       "    </tr>\n",
       "    <tr>\n",
       "      <th>mean</th>\n",
       "      <td>254.365854</td>\n",
       "      <td>143.424797</td>\n",
       "      <td>135.243902</td>\n",
       "    </tr>\n",
       "    <tr>\n",
       "      <th>std</th>\n",
       "      <td>57.031634</td>\n",
       "      <td>21.738036</td>\n",
       "      <td>18.804208</td>\n",
       "    </tr>\n",
       "    <tr>\n",
       "      <th>min</th>\n",
       "      <td>126.000000</td>\n",
       "      <td>71.000000</td>\n",
       "      <td>94.000000</td>\n",
       "    </tr>\n",
       "    <tr>\n",
       "      <th>25%</th>\n",
       "      <td>215.750000</td>\n",
       "      <td>128.000000</td>\n",
       "      <td>120.000000</td>\n",
       "    </tr>\n",
       "    <tr>\n",
       "      <th>50%</th>\n",
       "      <td>243.000000</td>\n",
       "      <td>144.500000</td>\n",
       "      <td>132.000000</td>\n",
       "    </tr>\n",
       "    <tr>\n",
       "      <th>75%</th>\n",
       "      <td>289.000000</td>\n",
       "      <td>160.000000</td>\n",
       "      <td>150.000000</td>\n",
       "    </tr>\n",
       "    <tr>\n",
       "      <th>max</th>\n",
       "      <td>409.000000</td>\n",
       "      <td>202.000000</td>\n",
       "      <td>200.000000</td>\n",
       "    </tr>\n",
       "  </tbody>\n",
       "</table>\n",
       "</div>"
      ],
      "text/plain": [
       "       cholesterol  max_heart_rate  resting_bp\n",
       "count   492.000000      492.000000  492.000000\n",
       "mean    254.365854      143.424797  135.243902\n",
       "std      57.031634       21.738036   18.804208\n",
       "min     126.000000       71.000000   94.000000\n",
       "25%     215.750000      128.000000  120.000000\n",
       "50%     243.000000      144.500000  132.000000\n",
       "75%     289.000000      160.000000  150.000000\n",
       "max     409.000000      202.000000  200.000000"
      ]
     },
     "execution_count": 9,
     "metadata": {},
     "output_type": "execute_result"
    }
   ],
   "source": [
    "# Summary of the continuous variables\n",
    "heart_disease_continuous = heart_disease_train.drop(columns = [\"type_chestpain\",\"diagnosis\"])\n",
    "print(\"Table 3:\")\n",
    "heart_disease_continuous.describe()"
   ]
  },
  {
   "cell_type": "markdown",
   "id": "6fdeb78e-cf65-4c01-a85f-cce76e0b7c92",
   "metadata": {},
   "source": [
    "## Distribution of the Variables\n",
    "\n",
    "The next cells visualize the distribution of the measurements/values for each symptom variable in histograms (Figure 1-4). The associated heart disease risk diagnosis is represented with distinct colours. The varying measurements indicate standardization is required. The visualizations suggest patterns in the dataset, revealing that specific measurement ranges within the variables may be linked with varying levels of heart disease risk. The distinct peaks in the graphs signify an abundance of particular ranges within the dataset records, providing evidence of a relationship between these measurements and the diagnosis of heart disease. "
   ]
  },
  {
   "cell_type": "code",
   "execution_count": 22,
   "id": "a6693ab46de7002c",
   "metadata": {
    "ExecuteTime": {
     "end_time": "2023-12-04T05:00:29.122193Z",
     "start_time": "2023-12-04T05:00:29.048597Z"
    },
    "collapsed": false,
    "jupyter": {
     "outputs_hidden": false
    },
    "tags": []
   },
   "outputs": [
    {
     "data": {
      "text/html": [
       "\n",
       "<style>\n",
       "  #altair-viz-ca1079a6322f42069da21eeb080fbd7b.vega-embed {\n",
       "    width: 100%;\n",
       "    display: flex;\n",
       "  }\n",
       "\n",
       "  #altair-viz-ca1079a6322f42069da21eeb080fbd7b.vega-embed details,\n",
       "  #altair-viz-ca1079a6322f42069da21eeb080fbd7b.vega-embed details summary {\n",
       "    position: relative;\n",
       "  }\n",
       "</style>\n",
       "<div id=\"altair-viz-ca1079a6322f42069da21eeb080fbd7b\"></div>\n",
       "<script type=\"text/javascript\">\n",
       "  var VEGA_DEBUG = (typeof VEGA_DEBUG == \"undefined\") ? {} : VEGA_DEBUG;\n",
       "  (function(spec, embedOpt){\n",
       "    let outputDiv = document.currentScript.previousElementSibling;\n",
       "    if (outputDiv.id !== \"altair-viz-ca1079a6322f42069da21eeb080fbd7b\") {\n",
       "      outputDiv = document.getElementById(\"altair-viz-ca1079a6322f42069da21eeb080fbd7b\");\n",
       "    }\n",
       "    const paths = {\n",
       "      \"vega\": \"https://cdn.jsdelivr.net/npm/vega@5?noext\",\n",
       "      \"vega-lib\": \"https://cdn.jsdelivr.net/npm/vega-lib?noext\",\n",
       "      \"vega-lite\": \"https://cdn.jsdelivr.net/npm/vega-lite@5.16.3?noext\",\n",
       "      \"vega-embed\": \"https://cdn.jsdelivr.net/npm/vega-embed@6?noext\",\n",
       "    };\n",
       "\n",
       "    function maybeLoadScript(lib, version) {\n",
       "      var key = `${lib.replace(\"-\", \"\")}_version`;\n",
       "      return (VEGA_DEBUG[key] == version) ?\n",
       "        Promise.resolve(paths[lib]) :\n",
       "        new Promise(function(resolve, reject) {\n",
       "          var s = document.createElement('script');\n",
       "          document.getElementsByTagName(\"head\")[0].appendChild(s);\n",
       "          s.async = true;\n",
       "          s.onload = () => {\n",
       "            VEGA_DEBUG[key] = version;\n",
       "            return resolve(paths[lib]);\n",
       "          };\n",
       "          s.onerror = () => reject(`Error loading script: ${paths[lib]}`);\n",
       "          s.src = paths[lib];\n",
       "        });\n",
       "    }\n",
       "\n",
       "    function showError(err) {\n",
       "      outputDiv.innerHTML = `<div class=\"error\" style=\"color:red;\">${err}</div>`;\n",
       "      throw err;\n",
       "    }\n",
       "\n",
       "    function displayChart(vegaEmbed) {\n",
       "      vegaEmbed(outputDiv, spec, embedOpt)\n",
       "        .catch(err => showError(`Javascript Error: ${err.message}<br>This usually means there's a typo in your chart specification. See the javascript console for the full traceback.`));\n",
       "    }\n",
       "\n",
       "    if(typeof define === \"function\" && define.amd) {\n",
       "      requirejs.config({paths});\n",
       "      require([\"vega-embed\"], displayChart, err => showError(`Error loading script: ${err.message}`));\n",
       "    } else {\n",
       "      maybeLoadScript(\"vega\", \"5\")\n",
       "        .then(() => maybeLoadScript(\"vega-lite\", \"5.16.3\"))\n",
       "        .then(() => maybeLoadScript(\"vega-embed\", \"6\"))\n",
       "        .catch(showError)\n",
       "        .then(() => displayChart(vegaEmbed));\n",
       "    }\n",
       "  })({\"config\": {\"view\": {\"continuousWidth\": 300, \"continuousHeight\": 300}}, \"hconcat\": [{\"vconcat\": [{\"mark\": {\"type\": \"bar\"}, \"encoding\": {\"color\": {\"field\": \"diagnosis\", \"type\": \"nominal\"}, \"x\": {\"bin\": true, \"field\": \"resting_bp\", \"title\": \"Blood Pressure\", \"type\": \"quantitative\"}, \"y\": {\"aggregate\": \"count\", \"stack\": false, \"type\": \"quantitative\"}}, \"title\": \"Figure 1: Distribution of Blood Pressure\"}, {\"mark\": {\"type\": \"bar\"}, \"encoding\": {\"color\": {\"field\": \"diagnosis\", \"type\": \"nominal\"}, \"x\": {\"field\": \"type_chestpain\", \"title\": \"Chest Pain Type\", \"type\": \"nominal\"}, \"y\": {\"aggregate\": \"count\", \"stack\": false, \"type\": \"quantitative\"}}, \"height\": 300, \"title\": \"Figure 3: Distribution of Chest Pain Type\", \"width\": 300}]}, {\"vconcat\": [{\"mark\": {\"type\": \"bar\"}, \"encoding\": {\"color\": {\"field\": \"diagnosis\", \"type\": \"nominal\"}, \"x\": {\"bin\": true, \"field\": \"cholesterol\", \"title\": \"Cholesterol\", \"type\": \"quantitative\"}, \"y\": {\"aggregate\": \"count\", \"stack\": false, \"type\": \"quantitative\"}}, \"title\": \"Figure 2: Distribution of Cholesterol\"}, {\"mark\": {\"type\": \"bar\"}, \"encoding\": {\"color\": {\"field\": \"diagnosis\", \"type\": \"nominal\"}, \"x\": {\"bin\": true, \"field\": \"max_heart_rate\", \"title\": \"Heart Rate\", \"type\": \"quantitative\"}, \"y\": {\"aggregate\": \"count\", \"stack\": false, \"type\": \"quantitative\"}}, \"title\": \"Figure 4: Distribution of Heart Rate\"}]}], \"data\": {\"name\": \"data-3bfa6c91fb6fd59feff66271dc5266f4\"}, \"$schema\": \"https://vega.github.io/schema/vega-lite/v5.16.3.json\", \"datasets\": {\"data-3bfa6c91fb6fd59feff66271dc5266f4\": [{\"cholesterol\": 407, \"type_chestpain\": \"type4\", \"max_heart_rate\": 154, \"resting_bp\": 150, \"diagnosis\": \"high-risk heart disease\"}, {\"cholesterol\": 212, \"type_chestpain\": \"type4\", \"max_heart_rate\": 132, \"resting_bp\": 112, \"diagnosis\": \"moderate-risk heart disease\"}, {\"cholesterol\": 283, \"type_chestpain\": \"type4\", \"max_heart_rate\": 103, \"resting_bp\": 130, \"diagnosis\": \"moderate-risk heart disease\"}, {\"cholesterol\": 243, \"type_chestpain\": \"type4\", \"max_heart_rate\": 128, \"resting_bp\": 150, \"diagnosis\": \"high-risk heart disease\"}, {\"cholesterol\": 286, \"type_chestpain\": \"type4\", \"max_heart_rate\": 108, \"resting_bp\": 160, \"diagnosis\": \"moderate-risk heart disease\"}, {\"cholesterol\": 239, \"type_chestpain\": \"type1\", \"max_heart_rate\": 151, \"resting_bp\": 140, \"diagnosis\": \"low-risk heart disease\"}, {\"cholesterol\": 211, \"type_chestpain\": \"type1\", \"max_heart_rate\": 144, \"resting_bp\": 110, \"diagnosis\": \"low-risk heart disease\"}, {\"cholesterol\": 230, \"type_chestpain\": \"type3\", \"max_heart_rate\": 165, \"resting_bp\": 112, \"diagnosis\": \"high-risk heart disease\"}, {\"cholesterol\": 240, \"type_chestpain\": \"type1\", \"max_heart_rate\": 171, \"resting_bp\": 150, \"diagnosis\": \"low-risk heart disease\"}, {\"cholesterol\": 318, \"type_chestpain\": \"type3\", \"max_heart_rate\": 160, \"resting_bp\": 102, \"diagnosis\": \"low-risk heart disease\"}, {\"cholesterol\": 212, \"type_chestpain\": \"type4\", \"max_heart_rate\": 132, \"resting_bp\": 145, \"diagnosis\": \"high-risk heart disease\"}, {\"cholesterol\": 282, \"type_chestpain\": \"type4\", \"max_heart_rate\": 142, \"resting_bp\": 145, \"diagnosis\": \"moderate-risk heart disease\"}, {\"cholesterol\": 318, \"type_chestpain\": \"type4\", \"max_heart_rate\": 140, \"resting_bp\": 114, \"diagnosis\": \"high-risk heart disease\"}, {\"cholesterol\": 353, \"type_chestpain\": \"type4\", \"max_heart_rate\": 132, \"resting_bp\": 132, \"diagnosis\": \"moderate-risk heart disease\"}, {\"cholesterol\": 335, \"type_chestpain\": \"type3\", \"max_heart_rate\": 158, \"resting_bp\": 140, \"diagnosis\": \"low-risk heart disease\"}, {\"cholesterol\": 225, \"type_chestpain\": \"type4\", \"max_heart_rate\": 114, \"resting_bp\": 150, \"diagnosis\": \"high-risk heart disease\"}, {\"cholesterol\": 409, \"type_chestpain\": \"type4\", \"max_heart_rate\": 150, \"resting_bp\": 134, \"diagnosis\": \"moderate-risk heart disease\"}, {\"cholesterol\": 270, \"type_chestpain\": \"type4\", \"max_heart_rate\": 111, \"resting_bp\": 150, \"diagnosis\": \"moderate-risk heart disease\"}, {\"cholesterol\": 271, \"type_chestpain\": \"type4\", \"max_heart_rate\": 182, \"resting_bp\": 138, \"diagnosis\": \"low-risk heart disease\"}, {\"cholesterol\": 210, \"type_chestpain\": \"type2\", \"max_heart_rate\": 192, \"resting_bp\": 118, \"diagnosis\": \"low-risk heart disease\"}, {\"cholesterol\": 213, \"type_chestpain\": \"type1\", \"max_heart_rate\": 125, \"resting_bp\": 125, \"diagnosis\": \"low-risk heart disease\"}, {\"cholesterol\": 289, \"type_chestpain\": \"type4\", \"max_heart_rate\": 145, \"resting_bp\": 160, \"diagnosis\": \"high-risk heart disease\"}, {\"cholesterol\": 196, \"type_chestpain\": \"type3\", \"max_heart_rate\": 169, \"resting_bp\": 136, \"diagnosis\": \"low-risk heart disease\"}, {\"cholesterol\": 212, \"type_chestpain\": \"type4\", \"max_heart_rate\": 132, \"resting_bp\": 145, \"diagnosis\": \"high-risk heart disease\"}, {\"cholesterol\": 212, \"type_chestpain\": \"type4\", \"max_heart_rate\": 132, \"resting_bp\": 145, \"diagnosis\": \"high-risk heart disease\"}, {\"cholesterol\": 407, \"type_chestpain\": \"type4\", \"max_heart_rate\": 154, \"resting_bp\": 150, \"diagnosis\": \"high-risk heart disease\"}, {\"cholesterol\": 212, \"type_chestpain\": \"type4\", \"max_heart_rate\": 132, \"resting_bp\": 112, \"diagnosis\": \"moderate-risk heart disease\"}, {\"cholesterol\": 243, \"type_chestpain\": \"type4\", \"max_heart_rate\": 128, \"resting_bp\": 150, \"diagnosis\": \"high-risk heart disease\"}, {\"cholesterol\": 294, \"type_chestpain\": \"type4\", \"max_heart_rate\": 106, \"resting_bp\": 138, \"diagnosis\": \"moderate-risk heart disease\"}, {\"cholesterol\": 289, \"type_chestpain\": \"type4\", \"max_heart_rate\": 145, \"resting_bp\": 160, \"diagnosis\": \"high-risk heart disease\"}, {\"cholesterol\": 289, \"type_chestpain\": \"type4\", \"max_heart_rate\": 124, \"resting_bp\": 165, \"diagnosis\": \"high-risk heart disease\"}, {\"cholesterol\": 274, \"type_chestpain\": \"type4\", \"max_heart_rate\": 166, \"resting_bp\": 124, \"diagnosis\": \"moderate-risk heart disease\"}, {\"cholesterol\": 294, \"type_chestpain\": \"type4\", \"max_heart_rate\": 106, \"resting_bp\": 138, \"diagnosis\": \"moderate-risk heart disease\"}, {\"cholesterol\": 353, \"type_chestpain\": \"type4\", \"max_heart_rate\": 132, \"resting_bp\": 132, \"diagnosis\": \"moderate-risk heart disease\"}, {\"cholesterol\": 315, \"type_chestpain\": \"type4\", \"max_heart_rate\": 125, \"resting_bp\": 136, \"diagnosis\": \"moderate-risk heart disease\"}, {\"cholesterol\": 206, \"type_chestpain\": \"type4\", \"max_heart_rate\": 132, \"resting_bp\": 130, \"diagnosis\": \"high-risk heart disease\"}, {\"cholesterol\": 318, \"type_chestpain\": \"type4\", \"max_heart_rate\": 140, \"resting_bp\": 114, \"diagnosis\": \"high-risk heart disease\"}, {\"cholesterol\": 409, \"type_chestpain\": \"type4\", \"max_heart_rate\": 150, \"resting_bp\": 134, \"diagnosis\": \"moderate-risk heart disease\"}, {\"cholesterol\": 254, \"type_chestpain\": \"type4\", \"max_heart_rate\": 147, \"resting_bp\": 130, \"diagnosis\": \"moderate-risk heart disease\"}, {\"cholesterol\": 259, \"type_chestpain\": \"type4\", \"max_heart_rate\": 130, \"resting_bp\": 128, \"diagnosis\": \"moderate-risk heart disease\"}, {\"cholesterol\": 216, \"type_chestpain\": \"type3\", \"max_heart_rate\": 115, \"resting_bp\": 128, \"diagnosis\": \"low-risk heart disease\"}, {\"cholesterol\": 223, \"type_chestpain\": \"type3\", \"max_heart_rate\": 169, \"resting_bp\": 138, \"diagnosis\": \"low-risk heart disease\"}, {\"cholesterol\": 225, \"type_chestpain\": \"type4\", \"max_heart_rate\": 114, \"resting_bp\": 150, \"diagnosis\": \"high-risk heart disease\"}, {\"cholesterol\": 211, \"type_chestpain\": \"type3\", \"max_heart_rate\": 165, \"resting_bp\": 140, \"diagnosis\": \"low-risk heart disease\"}, {\"cholesterol\": 225, \"type_chestpain\": \"type4\", \"max_heart_rate\": 146, \"resting_bp\": 170, \"diagnosis\": \"moderate-risk heart disease\"}, {\"cholesterol\": 243, \"type_chestpain\": \"type4\", \"max_heart_rate\": 128, \"resting_bp\": 150, \"diagnosis\": \"high-risk heart disease\"}, {\"cholesterol\": 318, \"type_chestpain\": \"type4\", \"max_heart_rate\": 140, \"resting_bp\": 114, \"diagnosis\": \"high-risk heart disease\"}, {\"cholesterol\": 230, \"type_chestpain\": \"type3\", \"max_heart_rate\": 165, \"resting_bp\": 112, \"diagnosis\": \"high-risk heart disease\"}, {\"cholesterol\": 290, \"type_chestpain\": \"type4\", \"max_heart_rate\": 153, \"resting_bp\": 112, \"diagnosis\": \"moderate-risk heart disease\"}, {\"cholesterol\": 223, \"type_chestpain\": \"type4\", \"max_heart_rate\": 142, \"resting_bp\": 106, \"diagnosis\": \"low-risk heart disease\"}, {\"cholesterol\": 245, \"type_chestpain\": \"type3\", \"max_heart_rate\": 166, \"resting_bp\": 125, \"diagnosis\": \"low-risk heart disease\"}, {\"cholesterol\": 275, \"type_chestpain\": \"type3\", \"max_heart_rate\": 139, \"resting_bp\": 130, \"diagnosis\": \"low-risk heart disease\"}, {\"cholesterol\": 256, \"type_chestpain\": \"type3\", \"max_heart_rate\": 142, \"resting_bp\": 130, \"diagnosis\": \"moderate-risk heart disease\"}, {\"cholesterol\": 254, \"type_chestpain\": \"type4\", \"max_heart_rate\": 159, \"resting_bp\": 110, \"diagnosis\": \"low-risk heart disease\"}, {\"cholesterol\": 219, \"type_chestpain\": \"type4\", \"max_heart_rate\": 140, \"resting_bp\": 118, \"diagnosis\": \"moderate-risk heart disease\"}, {\"cholesterol\": 245, \"type_chestpain\": \"type2\", \"max_heart_rate\": 143, \"resting_bp\": 156, \"diagnosis\": \"low-risk heart disease\"}, {\"cholesterol\": 239, \"type_chestpain\": \"type4\", \"max_heart_rate\": 126, \"resting_bp\": 110, \"diagnosis\": \"moderate-risk heart disease\"}, {\"cholesterol\": 236, \"type_chestpain\": \"type4\", \"max_heart_rate\": 152, \"resting_bp\": 138, \"diagnosis\": \"low-risk heart disease\"}, {\"cholesterol\": 268, \"type_chestpain\": \"type4\", \"max_heart_rate\": 160, \"resting_bp\": 140, \"diagnosis\": \"moderate-risk heart disease\"}, {\"cholesterol\": 227, \"type_chestpain\": \"type3\", \"max_heart_rate\": 154, \"resting_bp\": 94, \"diagnosis\": \"low-risk heart disease\"}, {\"cholesterol\": 243, \"type_chestpain\": \"type3\", \"max_heart_rate\": 152, \"resting_bp\": 108, \"diagnosis\": \"low-risk heart disease\"}, {\"cholesterol\": 252, \"type_chestpain\": \"type3\", \"max_heart_rate\": 172, \"resting_bp\": 135, \"diagnosis\": \"low-risk heart disease\"}, {\"cholesterol\": 409, \"type_chestpain\": \"type4\", \"max_heart_rate\": 150, \"resting_bp\": 134, \"diagnosis\": \"moderate-risk heart disease\"}, {\"cholesterol\": 242, \"type_chestpain\": \"type3\", \"max_heart_rate\": 149, \"resting_bp\": 118, \"diagnosis\": \"low-risk heart disease\"}, {\"cholesterol\": 282, \"type_chestpain\": \"type4\", \"max_heart_rate\": 142, \"resting_bp\": 145, \"diagnosis\": \"moderate-risk heart disease\"}, {\"cholesterol\": 288, \"type_chestpain\": \"type4\", \"max_heart_rate\": 133, \"resting_bp\": 200, \"diagnosis\": \"moderate-risk heart disease\"}, {\"cholesterol\": 185, \"type_chestpain\": \"type3\", \"max_heart_rate\": 155, \"resting_bp\": 140, \"diagnosis\": \"low-risk heart disease\"}, {\"cholesterol\": 325, \"type_chestpain\": \"type2\", \"max_heart_rate\": 172, \"resting_bp\": 120, \"diagnosis\": \"low-risk heart disease\"}, {\"cholesterol\": 288, \"type_chestpain\": \"type2\", \"max_heart_rate\": 159, \"resting_bp\": 132, \"diagnosis\": \"low-risk heart disease\"}, {\"cholesterol\": 241, \"type_chestpain\": \"type4\", \"max_heart_rate\": 123, \"resting_bp\": 140, \"diagnosis\": \"low-risk heart disease\"}, {\"cholesterol\": 306, \"type_chestpain\": \"type2\", \"max_heart_rate\": 163, \"resting_bp\": 126, \"diagnosis\": \"low-risk heart disease\"}, {\"cholesterol\": 289, \"type_chestpain\": \"type4\", \"max_heart_rate\": 124, \"resting_bp\": 165, \"diagnosis\": \"high-risk heart disease\"}, {\"cholesterol\": 199, \"type_chestpain\": \"type3\", \"max_heart_rate\": 162, \"resting_bp\": 172, \"diagnosis\": \"low-risk heart disease\"}, {\"cholesterol\": 269, \"type_chestpain\": \"type3\", \"max_heart_rate\": 148, \"resting_bp\": 155, \"diagnosis\": \"low-risk heart disease\"}, {\"cholesterol\": 407, \"type_chestpain\": \"type4\", \"max_heart_rate\": 154, \"resting_bp\": 150, \"diagnosis\": \"high-risk heart disease\"}, {\"cholesterol\": 254, \"type_chestpain\": \"type4\", \"max_heart_rate\": 163, \"resting_bp\": 125, \"diagnosis\": \"moderate-risk heart disease\"}, {\"cholesterol\": 199, \"type_chestpain\": \"type1\", \"max_heart_rate\": 178, \"resting_bp\": 140, \"diagnosis\": \"low-risk heart disease\"}, {\"cholesterol\": 289, \"type_chestpain\": \"type4\", \"max_heart_rate\": 124, \"resting_bp\": 165, \"diagnosis\": \"high-risk heart disease\"}, {\"cholesterol\": 232, \"type_chestpain\": \"type2\", \"max_heart_rate\": 164, \"resting_bp\": 154, \"diagnosis\": \"low-risk heart disease\"}, {\"cholesterol\": 326, \"type_chestpain\": \"type4\", \"max_heart_rate\": 140, \"resting_bp\": 170, \"diagnosis\": \"moderate-risk heart disease\"}, {\"cholesterol\": 293, \"type_chestpain\": \"type4\", \"max_heart_rate\": 170, \"resting_bp\": 140, \"diagnosis\": \"moderate-risk heart disease\"}, {\"cholesterol\": 186, \"type_chestpain\": \"type1\", \"max_heart_rate\": 190, \"resting_bp\": 118, \"diagnosis\": \"low-risk heart disease\"}, {\"cholesterol\": 248, \"type_chestpain\": \"type4\", \"max_heart_rate\": 122, \"resting_bp\": 100, \"diagnosis\": \"low-risk heart disease\"}, {\"cholesterol\": 228, \"type_chestpain\": \"type4\", \"max_heart_rate\": 165, \"resting_bp\": 178, \"diagnosis\": \"moderate-risk heart disease\"}, {\"cholesterol\": 174, \"type_chestpain\": \"type4\", \"max_heart_rate\": 125, \"resting_bp\": 145, \"diagnosis\": \"high-risk heart disease\"}, {\"cholesterol\": 197, \"type_chestpain\": \"type3\", \"max_heart_rate\": 116, \"resting_bp\": 140, \"diagnosis\": \"low-risk heart disease\"}, {\"cholesterol\": 407, \"type_chestpain\": \"type4\", \"max_heart_rate\": 154, \"resting_bp\": 150, \"diagnosis\": \"high-risk heart disease\"}, {\"cholesterol\": 304, \"type_chestpain\": \"type4\", \"max_heart_rate\": 162, \"resting_bp\": 125, \"diagnosis\": \"high-risk heart disease\"}, {\"cholesterol\": 260, \"type_chestpain\": \"type4\", \"max_heart_rate\": 140, \"resting_bp\": 120, \"diagnosis\": \"moderate-risk heart disease\"}, {\"cholesterol\": 201, \"type_chestpain\": \"type2\", \"max_heart_rate\": 158, \"resting_bp\": 134, \"diagnosis\": \"low-risk heart disease\"}, {\"cholesterol\": 265, \"type_chestpain\": \"type4\", \"max_heart_rate\": 122, \"resting_bp\": 102, \"diagnosis\": \"low-risk heart disease\"}, {\"cholesterol\": 218, \"type_chestpain\": \"type3\", \"max_heart_rate\": 134, \"resting_bp\": 126, \"diagnosis\": \"moderate-risk heart disease\"}, {\"cholesterol\": 231, \"type_chestpain\": \"type1\", \"max_heart_rate\": 182, \"resting_bp\": 120, \"diagnosis\": \"high-risk heart disease\"}, {\"cholesterol\": 180, \"type_chestpain\": \"type3\", \"max_heart_rate\": 150, \"resting_bp\": 130, \"diagnosis\": \"low-risk heart disease\"}, {\"cholesterol\": 206, \"type_chestpain\": \"type4\", \"max_heart_rate\": 132, \"resting_bp\": 130, \"diagnosis\": \"high-risk heart disease\"}, {\"cholesterol\": 243, \"type_chestpain\": \"type4\", \"max_heart_rate\": 128, \"resting_bp\": 150, \"diagnosis\": \"high-risk heart disease\"}, {\"cholesterol\": 243, \"type_chestpain\": \"type4\", \"max_heart_rate\": 128, \"resting_bp\": 150, \"diagnosis\": \"high-risk heart disease\"}, {\"cholesterol\": 270, \"type_chestpain\": \"type4\", \"max_heart_rate\": 111, \"resting_bp\": 150, \"diagnosis\": \"moderate-risk heart disease\"}, {\"cholesterol\": 239, \"type_chestpain\": \"type4\", \"max_heart_rate\": 142, \"resting_bp\": 110, \"diagnosis\": \"moderate-risk heart disease\"}, {\"cholesterol\": 207, \"type_chestpain\": \"type4\", \"max_heart_rate\": 138, \"resting_bp\": 140, \"diagnosis\": \"low-risk heart disease\"}, {\"cholesterol\": 298, \"type_chestpain\": \"type4\", \"max_heart_rate\": 122, \"resting_bp\": 140, \"diagnosis\": \"moderate-risk heart disease\"}, {\"cholesterol\": 269, \"type_chestpain\": \"type3\", \"max_heart_rate\": 112, \"resting_bp\": 160, \"diagnosis\": \"moderate-risk heart disease\"}, {\"cholesterol\": 237, \"type_chestpain\": \"type4\", \"max_heart_rate\": 71, \"resting_bp\": 120, \"diagnosis\": \"moderate-risk heart disease\"}, {\"cholesterol\": 299, \"type_chestpain\": \"type4\", \"max_heart_rate\": 125, \"resting_bp\": 100, \"diagnosis\": \"moderate-risk heart disease\"}, {\"cholesterol\": 243, \"type_chestpain\": \"type4\", \"max_heart_rate\": 152, \"resting_bp\": 138, \"diagnosis\": \"low-risk heart disease\"}, {\"cholesterol\": 221, \"type_chestpain\": \"type2\", \"max_heart_rate\": 164, \"resting_bp\": 140, \"diagnosis\": \"low-risk heart disease\"}, {\"cholesterol\": 282, \"type_chestpain\": \"type4\", \"max_heart_rate\": 95, \"resting_bp\": 123, \"diagnosis\": \"moderate-risk heart disease\"}, {\"cholesterol\": 230, \"type_chestpain\": \"type3\", \"max_heart_rate\": 165, \"resting_bp\": 112, \"diagnosis\": \"high-risk heart disease\"}, {\"cholesterol\": 164, \"type_chestpain\": \"type4\", \"max_heart_rate\": 145, \"resting_bp\": 160, \"diagnosis\": \"moderate-risk heart disease\"}, {\"cholesterol\": 315, \"type_chestpain\": \"type4\", \"max_heart_rate\": 125, \"resting_bp\": 136, \"diagnosis\": \"moderate-risk heart disease\"}, {\"cholesterol\": 225, \"type_chestpain\": \"type4\", \"max_heart_rate\": 114, \"resting_bp\": 150, \"diagnosis\": \"high-risk heart disease\"}, {\"cholesterol\": 206, \"type_chestpain\": \"type4\", \"max_heart_rate\": 132, \"resting_bp\": 130, \"diagnosis\": \"high-risk heart disease\"}, {\"cholesterol\": 289, \"type_chestpain\": \"type4\", \"max_heart_rate\": 124, \"resting_bp\": 165, \"diagnosis\": \"high-risk heart disease\"}, {\"cholesterol\": 342, \"type_chestpain\": \"type2\", \"max_heart_rate\": 166, \"resting_bp\": 132, \"diagnosis\": \"low-risk heart disease\"}, {\"cholesterol\": 166, \"type_chestpain\": \"type4\", \"max_heart_rate\": 125, \"resting_bp\": 138, \"diagnosis\": \"high-risk heart disease\"}, {\"cholesterol\": 262, \"type_chestpain\": \"type2\", \"max_heart_rate\": 155, \"resting_bp\": 130, \"diagnosis\": \"low-risk heart disease\"}, {\"cholesterol\": 289, \"type_chestpain\": \"type4\", \"max_heart_rate\": 124, \"resting_bp\": 165, \"diagnosis\": \"high-risk heart disease\"}, {\"cholesterol\": 259, \"type_chestpain\": \"type4\", \"max_heart_rate\": 130, \"resting_bp\": 128, \"diagnosis\": \"moderate-risk heart disease\"}, {\"cholesterol\": 263, \"type_chestpain\": \"type3\", \"max_heart_rate\": 97, \"resting_bp\": 130, \"diagnosis\": \"moderate-risk heart disease\"}, {\"cholesterol\": 305, \"type_chestpain\": \"type4\", \"max_heart_rate\": 142, \"resting_bp\": 130, \"diagnosis\": \"moderate-risk heart disease\"}, {\"cholesterol\": 318, \"type_chestpain\": \"type4\", \"max_heart_rate\": 140, \"resting_bp\": 114, \"diagnosis\": \"high-risk heart disease\"}, {\"cholesterol\": 289, \"type_chestpain\": \"type4\", \"max_heart_rate\": 145, \"resting_bp\": 160, \"diagnosis\": \"high-risk heart disease\"}, {\"cholesterol\": 354, \"type_chestpain\": \"type4\", \"max_heart_rate\": 163, \"resting_bp\": 120, \"diagnosis\": \"low-risk heart disease\"}, {\"cholesterol\": 224, \"type_chestpain\": \"type3\", \"max_heart_rate\": 173, \"resting_bp\": 132, \"diagnosis\": \"moderate-risk heart disease\"}, {\"cholesterol\": 275, \"type_chestpain\": \"type4\", \"max_heart_rate\": 118, \"resting_bp\": 110, \"diagnosis\": \"low-risk heart disease\"}, {\"cholesterol\": 282, \"type_chestpain\": \"type1\", \"max_heart_rate\": 174, \"resting_bp\": 138, \"diagnosis\": \"low-risk heart disease\"}, {\"cholesterol\": 225, \"type_chestpain\": \"type4\", \"max_heart_rate\": 114, \"resting_bp\": 150, \"diagnosis\": \"high-risk heart disease\"}, {\"cholesterol\": 226, \"type_chestpain\": \"type3\", \"max_heart_rate\": 169, \"resting_bp\": 120, \"diagnosis\": \"low-risk heart disease\"}, {\"cholesterol\": 197, \"type_chestpain\": \"type4\", \"max_heart_rate\": 131, \"resting_bp\": 130, \"diagnosis\": \"low-risk heart disease\"}, {\"cholesterol\": 327, \"type_chestpain\": \"type4\", \"max_heart_rate\": 117, \"resting_bp\": 180, \"diagnosis\": \"moderate-risk heart disease\"}, {\"cholesterol\": 234, \"type_chestpain\": \"type4\", \"max_heart_rate\": 156, \"resting_bp\": 100, \"diagnosis\": \"moderate-risk heart disease\"}, {\"cholesterol\": 286, \"type_chestpain\": \"type4\", \"max_heart_rate\": 116, \"resting_bp\": 122, \"diagnosis\": \"moderate-risk heart disease\"}, {\"cholesterol\": 269, \"type_chestpain\": \"type4\", \"max_heart_rate\": 169, \"resting_bp\": 108, \"diagnosis\": \"low-risk heart disease\"}, {\"cholesterol\": 283, \"type_chestpain\": \"type4\", \"max_heart_rate\": 103, \"resting_bp\": 130, \"diagnosis\": \"moderate-risk heart disease\"}, {\"cholesterol\": 212, \"type_chestpain\": \"type4\", \"max_heart_rate\": 132, \"resting_bp\": 145, \"diagnosis\": \"high-risk heart disease\"}, {\"cholesterol\": 166, \"type_chestpain\": \"type4\", \"max_heart_rate\": 125, \"resting_bp\": 138, \"diagnosis\": \"high-risk heart disease\"}, {\"cholesterol\": 234, \"type_chestpain\": \"type4\", \"max_heart_rate\": 156, \"resting_bp\": 100, \"diagnosis\": \"moderate-risk heart disease\"}, {\"cholesterol\": 206, \"type_chestpain\": \"type4\", \"max_heart_rate\": 108, \"resting_bp\": 110, \"diagnosis\": \"moderate-risk heart disease\"}, {\"cholesterol\": 205, \"type_chestpain\": \"type4\", \"max_heart_rate\": 130, \"resting_bp\": 128, \"diagnosis\": \"moderate-risk heart disease\"}, {\"cholesterol\": 240, \"type_chestpain\": \"type3\", \"max_heart_rate\": 154, \"resting_bp\": 105, \"diagnosis\": \"low-risk heart disease\"}, {\"cholesterol\": 204, \"type_chestpain\": \"type2\", \"max_heart_rate\": 202, \"resting_bp\": 130, \"diagnosis\": \"low-risk heart disease\"}, {\"cholesterol\": 407, \"type_chestpain\": \"type4\", \"max_heart_rate\": 154, \"resting_bp\": 150, \"diagnosis\": \"high-risk heart disease\"}, {\"cholesterol\": 231, \"type_chestpain\": \"type1\", \"max_heart_rate\": 182, \"resting_bp\": 120, \"diagnosis\": \"high-risk heart disease\"}, {\"cholesterol\": 407, \"type_chestpain\": \"type4\", \"max_heart_rate\": 154, \"resting_bp\": 150, \"diagnosis\": \"high-risk heart disease\"}, {\"cholesterol\": 174, \"type_chestpain\": \"type4\", \"max_heart_rate\": 125, \"resting_bp\": 145, \"diagnosis\": \"high-risk heart disease\"}, {\"cholesterol\": 409, \"type_chestpain\": \"type4\", \"max_heart_rate\": 150, \"resting_bp\": 134, \"diagnosis\": \"moderate-risk heart disease\"}, {\"cholesterol\": 220, \"type_chestpain\": \"type3\", \"max_heart_rate\": 152, \"resting_bp\": 138, \"diagnosis\": \"low-risk heart disease\"}, {\"cholesterol\": 246, \"type_chestpain\": \"type2\", \"max_heart_rate\": 120, \"resting_bp\": 160, \"diagnosis\": \"moderate-risk heart disease\"}, {\"cholesterol\": 360, \"type_chestpain\": \"type3\", \"max_heart_rate\": 151, \"resting_bp\": 160, \"diagnosis\": \"low-risk heart disease\"}, {\"cholesterol\": 225, \"type_chestpain\": \"type4\", \"max_heart_rate\": 146, \"resting_bp\": 170, \"diagnosis\": \"moderate-risk heart disease\"}, {\"cholesterol\": 236, \"type_chestpain\": \"type2\", \"max_heart_rate\": 178, \"resting_bp\": 120, \"diagnosis\": \"low-risk heart disease\"}, {\"cholesterol\": 225, \"type_chestpain\": \"type4\", \"max_heart_rate\": 114, \"resting_bp\": 150, \"diagnosis\": \"high-risk heart disease\"}, {\"cholesterol\": 260, \"type_chestpain\": \"type4\", \"max_heart_rate\": 185, \"resting_bp\": 115, \"diagnosis\": \"low-risk heart disease\"}, {\"cholesterol\": 327, \"type_chestpain\": \"type4\", \"max_heart_rate\": 117, \"resting_bp\": 180, \"diagnosis\": \"moderate-risk heart disease\"}, {\"cholesterol\": 286, \"type_chestpain\": \"type4\", \"max_heart_rate\": 116, \"resting_bp\": 122, \"diagnosis\": \"moderate-risk heart disease\"}, {\"cholesterol\": 206, \"type_chestpain\": \"type4\", \"max_heart_rate\": 108, \"resting_bp\": 110, \"diagnosis\": \"moderate-risk heart disease\"}, {\"cholesterol\": 206, \"type_chestpain\": \"type4\", \"max_heart_rate\": 132, \"resting_bp\": 130, \"diagnosis\": \"high-risk heart disease\"}, {\"cholesterol\": 205, \"type_chestpain\": \"type4\", \"max_heart_rate\": 130, \"resting_bp\": 128, \"diagnosis\": \"moderate-risk heart disease\"}, {\"cholesterol\": 229, \"type_chestpain\": \"type3\", \"max_heart_rate\": 150, \"resting_bp\": 128, \"diagnosis\": \"low-risk heart disease\"}, {\"cholesterol\": 243, \"type_chestpain\": \"type4\", \"max_heart_rate\": 128, \"resting_bp\": 150, \"diagnosis\": \"high-risk heart disease\"}, {\"cholesterol\": 263, \"type_chestpain\": \"type3\", \"max_heart_rate\": 97, \"resting_bp\": 130, \"diagnosis\": \"moderate-risk heart disease\"}, {\"cholesterol\": 218, \"type_chestpain\": \"type4\", \"max_heart_rate\": 105, \"resting_bp\": 146, \"diagnosis\": \"low-risk heart disease\"}, {\"cholesterol\": 131, \"type_chestpain\": \"type4\", \"max_heart_rate\": 115, \"resting_bp\": 130, \"diagnosis\": \"moderate-risk heart disease\"}, {\"cholesterol\": 166, \"type_chestpain\": \"type4\", \"max_heart_rate\": 125, \"resting_bp\": 138, \"diagnosis\": \"high-risk heart disease\"}, {\"cholesterol\": 226, \"type_chestpain\": \"type1\", \"max_heart_rate\": 114, \"resting_bp\": 150, \"diagnosis\": \"low-risk heart disease\"}, {\"cholesterol\": 303, \"type_chestpain\": \"type4\", \"max_heart_rate\": 159, \"resting_bp\": 128, \"diagnosis\": \"low-risk heart disease\"}, {\"cholesterol\": 261, \"type_chestpain\": \"type4\", \"max_heart_rate\": 186, \"resting_bp\": 140, \"diagnosis\": \"low-risk heart disease\"}, {\"cholesterol\": 257, \"type_chestpain\": \"type3\", \"max_heart_rate\": 156, \"resting_bp\": 138, \"diagnosis\": \"low-risk heart disease\"}, {\"cholesterol\": 188, \"type_chestpain\": \"type3\", \"max_heart_rate\": 139, \"resting_bp\": 120, \"diagnosis\": \"moderate-risk heart disease\"}, {\"cholesterol\": 289, \"type_chestpain\": \"type4\", \"max_heart_rate\": 124, \"resting_bp\": 165, \"diagnosis\": \"high-risk heart disease\"}, {\"cholesterol\": 313, \"type_chestpain\": \"type3\", \"max_heart_rate\": 133, \"resting_bp\": 140, \"diagnosis\": \"low-risk heart disease\"}, {\"cholesterol\": 233, \"type_chestpain\": \"type3\", \"max_heart_rate\": 163, \"resting_bp\": 140, \"diagnosis\": \"low-risk heart disease\"}, {\"cholesterol\": 318, \"type_chestpain\": \"type4\", \"max_heart_rate\": 140, \"resting_bp\": 114, \"diagnosis\": \"high-risk heart disease\"}, {\"cholesterol\": 230, \"type_chestpain\": \"type3\", \"max_heart_rate\": 165, \"resting_bp\": 112, \"diagnosis\": \"high-risk heart disease\"}, {\"cholesterol\": 235, \"type_chestpain\": \"type2\", \"max_heart_rate\": 153, \"resting_bp\": 110, \"diagnosis\": \"low-risk heart disease\"}, {\"cholesterol\": 174, \"type_chestpain\": \"type4\", \"max_heart_rate\": 125, \"resting_bp\": 145, \"diagnosis\": \"high-risk heart disease\"}, {\"cholesterol\": 212, \"type_chestpain\": \"type4\", \"max_heart_rate\": 132, \"resting_bp\": 145, \"diagnosis\": \"high-risk heart disease\"}, {\"cholesterol\": 282, \"type_chestpain\": \"type4\", \"max_heart_rate\": 156, \"resting_bp\": 126, \"diagnosis\": \"low-risk heart disease\"}, {\"cholesterol\": 230, \"type_chestpain\": \"type3\", \"max_heart_rate\": 165, \"resting_bp\": 112, \"diagnosis\": \"high-risk heart disease\"}, {\"cholesterol\": 197, \"type_chestpain\": \"type2\", \"max_heart_rate\": 156, \"resting_bp\": 101, \"diagnosis\": \"low-risk heart disease\"}, {\"cholesterol\": 273, \"type_chestpain\": \"type1\", \"max_heart_rate\": 125, \"resting_bp\": 160, \"diagnosis\": \"low-risk heart disease\"}, {\"cholesterol\": 243, \"type_chestpain\": \"type4\", \"max_heart_rate\": 128, \"resting_bp\": 150, \"diagnosis\": \"high-risk heart disease\"}, {\"cholesterol\": 249, \"type_chestpain\": \"type4\", \"max_heart_rate\": 143, \"resting_bp\": 174, \"diagnosis\": \"low-risk heart disease\"}, {\"cholesterol\": 166, \"type_chestpain\": \"type4\", \"max_heart_rate\": 125, \"resting_bp\": 138, \"diagnosis\": \"high-risk heart disease\"}, {\"cholesterol\": 204, \"type_chestpain\": \"type1\", \"max_heart_rate\": 162, \"resting_bp\": 134, \"diagnosis\": \"low-risk heart disease\"}, {\"cholesterol\": 407, \"type_chestpain\": \"type4\", \"max_heart_rate\": 154, \"resting_bp\": 150, \"diagnosis\": \"high-risk heart disease\"}, {\"cholesterol\": 269, \"type_chestpain\": \"type3\", \"max_heart_rate\": 112, \"resting_bp\": 160, \"diagnosis\": \"moderate-risk heart disease\"}, {\"cholesterol\": 234, \"type_chestpain\": \"type1\", \"max_heart_rate\": 145, \"resting_bp\": 134, \"diagnosis\": \"moderate-risk heart disease\"}, {\"cholesterol\": 201, \"type_chestpain\": \"type3\", \"max_heart_rate\": 163, \"resting_bp\": 160, \"diagnosis\": \"low-risk heart disease\"}, {\"cholesterol\": 228, \"type_chestpain\": \"type4\", \"max_heart_rate\": 138, \"resting_bp\": 160, \"diagnosis\": \"low-risk heart disease\"}, {\"cholesterol\": 407, \"type_chestpain\": \"type4\", \"max_heart_rate\": 154, \"resting_bp\": 150, \"diagnosis\": \"high-risk heart disease\"}, {\"cholesterol\": 228, \"type_chestpain\": \"type4\", \"max_heart_rate\": 165, \"resting_bp\": 178, \"diagnosis\": \"moderate-risk heart disease\"}, {\"cholesterol\": 231, \"type_chestpain\": \"type3\", \"max_heart_rate\": 146, \"resting_bp\": 130, \"diagnosis\": \"low-risk heart disease\"}, {\"cholesterol\": 214, \"type_chestpain\": \"type3\", \"max_heart_rate\": 168, \"resting_bp\": 130, \"diagnosis\": \"low-risk heart disease\"}, {\"cholesterol\": 289, \"type_chestpain\": \"type4\", \"max_heart_rate\": 145, \"resting_bp\": 160, \"diagnosis\": \"high-risk heart disease\"}, {\"cholesterol\": 258, \"type_chestpain\": \"type4\", \"max_heart_rate\": 141, \"resting_bp\": 125, \"diagnosis\": \"low-risk heart disease\"}, {\"cholesterol\": 239, \"type_chestpain\": \"type4\", \"max_heart_rate\": 142, \"resting_bp\": 110, \"diagnosis\": \"moderate-risk heart disease\"}, {\"cholesterol\": 289, \"type_chestpain\": \"type4\", \"max_heart_rate\": 145, \"resting_bp\": 160, \"diagnosis\": \"high-risk heart disease\"}, {\"cholesterol\": 327, \"type_chestpain\": \"type4\", \"max_heart_rate\": 117, \"resting_bp\": 180, \"diagnosis\": \"moderate-risk heart disease\"}, {\"cholesterol\": 214, \"type_chestpain\": \"type3\", \"max_heart_rate\": 158, \"resting_bp\": 110, \"diagnosis\": \"low-risk heart disease\"}, {\"cholesterol\": 198, \"type_chestpain\": \"type4\", \"max_heart_rate\": 130, \"resting_bp\": 120, \"diagnosis\": \"low-risk heart disease\"}, {\"cholesterol\": 305, \"type_chestpain\": \"type4\", \"max_heart_rate\": 142, \"resting_bp\": 130, \"diagnosis\": \"moderate-risk heart disease\"}, {\"cholesterol\": 407, \"type_chestpain\": \"type4\", \"max_heart_rate\": 154, \"resting_bp\": 150, \"diagnosis\": \"high-risk heart disease\"}, {\"cholesterol\": 330, \"type_chestpain\": \"type4\", \"max_heart_rate\": 132, \"resting_bp\": 130, \"diagnosis\": \"moderate-risk heart disease\"}, {\"cholesterol\": 230, \"type_chestpain\": \"type3\", \"max_heart_rate\": 165, \"resting_bp\": 112, \"diagnosis\": \"high-risk heart disease\"}, {\"cholesterol\": 318, \"type_chestpain\": \"type4\", \"max_heart_rate\": 140, \"resting_bp\": 114, \"diagnosis\": \"high-risk heart disease\"}, {\"cholesterol\": 341, \"type_chestpain\": \"type4\", \"max_heart_rate\": 136, \"resting_bp\": 132, \"diagnosis\": \"moderate-risk heart disease\"}, {\"cholesterol\": 263, \"type_chestpain\": \"type4\", \"max_heart_rate\": 105, \"resting_bp\": 128, \"diagnosis\": \"low-risk heart disease\"}, {\"cholesterol\": 318, \"type_chestpain\": \"type4\", \"max_heart_rate\": 140, \"resting_bp\": 114, \"diagnosis\": \"high-risk heart disease\"}, {\"cholesterol\": 193, \"type_chestpain\": \"type4\", \"max_heart_rate\": 141, \"resting_bp\": 144, \"diagnosis\": \"moderate-risk heart disease\"}, {\"cholesterol\": 174, \"type_chestpain\": \"type4\", \"max_heart_rate\": 125, \"resting_bp\": 145, \"diagnosis\": \"high-risk heart disease\"}, {\"cholesterol\": 178, \"type_chestpain\": \"type3\", \"max_heart_rate\": 96, \"resting_bp\": 120, \"diagnosis\": \"low-risk heart disease\"}, {\"cholesterol\": 216, \"type_chestpain\": \"type4\", \"max_heart_rate\": 131, \"resting_bp\": 128, \"diagnosis\": \"low-risk heart disease\"}, {\"cholesterol\": 284, \"type_chestpain\": \"type2\", \"max_heart_rate\": 160, \"resting_bp\": 120, \"diagnosis\": \"low-risk heart disease\"}, {\"cholesterol\": 230, \"type_chestpain\": \"type3\", \"max_heart_rate\": 165, \"resting_bp\": 112, \"diagnosis\": \"high-risk heart disease\"}, {\"cholesterol\": 318, \"type_chestpain\": \"type4\", \"max_heart_rate\": 140, \"resting_bp\": 114, \"diagnosis\": \"high-risk heart disease\"}, {\"cholesterol\": 283, \"type_chestpain\": \"type1\", \"max_heart_rate\": 162, \"resting_bp\": 150, \"diagnosis\": \"low-risk heart disease\"}, {\"cholesterol\": 212, \"type_chestpain\": \"type4\", \"max_heart_rate\": 132, \"resting_bp\": 145, \"diagnosis\": \"high-risk heart disease\"}, {\"cholesterol\": 205, \"type_chestpain\": \"type4\", \"max_heart_rate\": 130, \"resting_bp\": 128, \"diagnosis\": \"moderate-risk heart disease\"}, {\"cholesterol\": 166, \"type_chestpain\": \"type4\", \"max_heart_rate\": 125, \"resting_bp\": 138, \"diagnosis\": \"high-risk heart disease\"}, {\"cholesterol\": 274, \"type_chestpain\": \"type3\", \"max_heart_rate\": 150, \"resting_bp\": 180, \"diagnosis\": \"moderate-risk heart disease\"}, {\"cholesterol\": 212, \"type_chestpain\": \"type4\", \"max_heart_rate\": 132, \"resting_bp\": 145, \"diagnosis\": \"high-risk heart disease\"}, {\"cholesterol\": 212, \"type_chestpain\": \"type4\", \"max_heart_rate\": 132, \"resting_bp\": 145, \"diagnosis\": \"high-risk heart disease\"}, {\"cholesterol\": 309, \"type_chestpain\": \"type4\", \"max_heart_rate\": 147, \"resting_bp\": 142, \"diagnosis\": \"moderate-risk heart disease\"}, {\"cholesterol\": 193, \"type_chestpain\": \"type4\", \"max_heart_rate\": 141, \"resting_bp\": 144, \"diagnosis\": \"moderate-risk heart disease\"}, {\"cholesterol\": 225, \"type_chestpain\": \"type4\", \"max_heart_rate\": 146, \"resting_bp\": 170, \"diagnosis\": \"moderate-risk heart disease\"}, {\"cholesterol\": 289, \"type_chestpain\": \"type4\", \"max_heart_rate\": 145, \"resting_bp\": 160, \"diagnosis\": \"high-risk heart disease\"}, {\"cholesterol\": 294, \"type_chestpain\": \"type2\", \"max_heart_rate\": 153, \"resting_bp\": 140, \"diagnosis\": \"low-risk heart disease\"}, {\"cholesterol\": 254, \"type_chestpain\": \"type4\", \"max_heart_rate\": 147, \"resting_bp\": 130, \"diagnosis\": \"moderate-risk heart disease\"}, {\"cholesterol\": 209, \"type_chestpain\": \"type4\", \"max_heart_rate\": 163, \"resting_bp\": 124, \"diagnosis\": \"low-risk heart disease\"}, {\"cholesterol\": 289, \"type_chestpain\": \"type4\", \"max_heart_rate\": 145, \"resting_bp\": 160, \"diagnosis\": \"high-risk heart disease\"}, {\"cholesterol\": 219, \"type_chestpain\": \"type3\", \"max_heart_rate\": 158, \"resting_bp\": 120, \"diagnosis\": \"low-risk heart disease\"}, {\"cholesterol\": 196, \"type_chestpain\": \"type3\", \"max_heart_rate\": 163, \"resting_bp\": 129, \"diagnosis\": \"low-risk heart disease\"}, {\"cholesterol\": 141, \"type_chestpain\": \"type3\", \"max_heart_rate\": 175, \"resting_bp\": 108, \"diagnosis\": \"low-risk heart disease\"}, {\"cholesterol\": 289, \"type_chestpain\": \"type4\", \"max_heart_rate\": 124, \"resting_bp\": 165, \"diagnosis\": \"high-risk heart disease\"}, {\"cholesterol\": 230, \"type_chestpain\": \"type3\", \"max_heart_rate\": 165, \"resting_bp\": 112, \"diagnosis\": \"high-risk heart disease\"}, {\"cholesterol\": 254, \"type_chestpain\": \"type3\", \"max_heart_rate\": 146, \"resting_bp\": 140, \"diagnosis\": \"moderate-risk heart disease\"}, {\"cholesterol\": 240, \"type_chestpain\": \"type2\", \"max_heart_rate\": 169, \"resting_bp\": 120, \"diagnosis\": \"low-risk heart disease\"}, {\"cholesterol\": 227, \"type_chestpain\": \"type1\", \"max_heart_rate\": 155, \"resting_bp\": 170, \"diagnosis\": \"low-risk heart disease\"}, {\"cholesterol\": 304, \"type_chestpain\": \"type4\", \"max_heart_rate\": 162, \"resting_bp\": 125, \"diagnosis\": \"high-risk heart disease\"}, {\"cholesterol\": 330, \"type_chestpain\": \"type4\", \"max_heart_rate\": 132, \"resting_bp\": 130, \"diagnosis\": \"moderate-risk heart disease\"}, {\"cholesterol\": 212, \"type_chestpain\": \"type4\", \"max_heart_rate\": 132, \"resting_bp\": 145, \"diagnosis\": \"high-risk heart disease\"}, {\"cholesterol\": 282, \"type_chestpain\": \"type4\", \"max_heart_rate\": 95, \"resting_bp\": 123, \"diagnosis\": \"moderate-risk heart disease\"}, {\"cholesterol\": 193, \"type_chestpain\": \"type1\", \"max_heart_rate\": 162, \"resting_bp\": 120, \"diagnosis\": \"low-risk heart disease\"}, {\"cholesterol\": 318, \"type_chestpain\": \"type4\", \"max_heart_rate\": 140, \"resting_bp\": 114, \"diagnosis\": \"high-risk heart disease\"}, {\"cholesterol\": 231, \"type_chestpain\": \"type1\", \"max_heart_rate\": 182, \"resting_bp\": 120, \"diagnosis\": \"high-risk heart disease\"}, {\"cholesterol\": 315, \"type_chestpain\": \"type4\", \"max_heart_rate\": 125, \"resting_bp\": 136, \"diagnosis\": \"moderate-risk heart disease\"}, {\"cholesterol\": 319, \"type_chestpain\": \"type2\", \"max_heart_rate\": 152, \"resting_bp\": 136, \"diagnosis\": \"moderate-risk heart disease\"}, {\"cholesterol\": 268, \"type_chestpain\": \"type4\", \"max_heart_rate\": 160, \"resting_bp\": 140, \"diagnosis\": \"moderate-risk heart disease\"}, {\"cholesterol\": 304, \"type_chestpain\": \"type4\", \"max_heart_rate\": 162, \"resting_bp\": 125, \"diagnosis\": \"high-risk heart disease\"}, {\"cholesterol\": 177, \"type_chestpain\": \"type4\", \"max_heart_rate\": 140, \"resting_bp\": 120, \"diagnosis\": \"low-risk heart disease\"}, {\"cholesterol\": 407, \"type_chestpain\": \"type4\", \"max_heart_rate\": 154, \"resting_bp\": 150, \"diagnosis\": \"high-risk heart disease\"}, {\"cholesterol\": 322, \"type_chestpain\": \"type4\", \"max_heart_rate\": 109, \"resting_bp\": 130, \"diagnosis\": \"low-risk heart disease\"}, {\"cholesterol\": 267, \"type_chestpain\": \"type3\", \"max_heart_rate\": 167, \"resting_bp\": 108, \"diagnosis\": \"low-risk heart disease\"}, {\"cholesterol\": 206, \"type_chestpain\": \"type4\", \"max_heart_rate\": 132, \"resting_bp\": 130, \"diagnosis\": \"high-risk heart disease\"}, {\"cholesterol\": 298, \"type_chestpain\": \"type4\", \"max_heart_rate\": 122, \"resting_bp\": 140, \"diagnosis\": \"moderate-risk heart disease\"}, {\"cholesterol\": 206, \"type_chestpain\": \"type4\", \"max_heart_rate\": 132, \"resting_bp\": 130, \"diagnosis\": \"high-risk heart disease\"}, {\"cholesterol\": 218, \"type_chestpain\": \"type3\", \"max_heart_rate\": 134, \"resting_bp\": 126, \"diagnosis\": \"moderate-risk heart disease\"}, {\"cholesterol\": 270, \"type_chestpain\": \"type4\", \"max_heart_rate\": 111, \"resting_bp\": 150, \"diagnosis\": \"moderate-risk heart disease\"}, {\"cholesterol\": 207, \"type_chestpain\": \"type4\", \"max_heart_rate\": 168, \"resting_bp\": 132, \"diagnosis\": \"low-risk heart disease\"}, {\"cholesterol\": 229, \"type_chestpain\": \"type4\", \"max_heart_rate\": 129, \"resting_bp\": 120, \"diagnosis\": \"low-risk heart disease\"}, {\"cholesterol\": 224, \"type_chestpain\": \"type3\", \"max_heart_rate\": 173, \"resting_bp\": 132, \"diagnosis\": \"moderate-risk heart disease\"}, {\"cholesterol\": 149, \"type_chestpain\": \"type4\", \"max_heart_rate\": 125, \"resting_bp\": 112, \"diagnosis\": \"low-risk heart disease\"}, {\"cholesterol\": 290, \"type_chestpain\": \"type4\", \"max_heart_rate\": 153, \"resting_bp\": 112, \"diagnosis\": \"moderate-risk heart disease\"}, {\"cholesterol\": 168, \"type_chestpain\": \"type3\", \"max_heart_rate\": 174, \"resting_bp\": 150, \"diagnosis\": \"low-risk heart disease\"}, {\"cholesterol\": 192, \"type_chestpain\": \"type2\", \"max_heart_rate\": 174, \"resting_bp\": 122, \"diagnosis\": \"low-risk heart disease\"}, {\"cholesterol\": 234, \"type_chestpain\": \"type2\", \"max_heart_rate\": 175, \"resting_bp\": 130, \"diagnosis\": \"low-risk heart disease\"}, {\"cholesterol\": 188, \"type_chestpain\": \"type3\", \"max_heart_rate\": 139, \"resting_bp\": 120, \"diagnosis\": \"moderate-risk heart disease\"}, {\"cholesterol\": 299, \"type_chestpain\": \"type4\", \"max_heart_rate\": 125, \"resting_bp\": 100, \"diagnosis\": \"moderate-risk heart disease\"}, {\"cholesterol\": 318, \"type_chestpain\": \"type4\", \"max_heart_rate\": 140, \"resting_bp\": 114, \"diagnosis\": \"high-risk heart disease\"}, {\"cholesterol\": 218, \"type_chestpain\": \"type3\", \"max_heart_rate\": 134, \"resting_bp\": 126, \"diagnosis\": \"moderate-risk heart disease\"}, {\"cholesterol\": 318, \"type_chestpain\": \"type4\", \"max_heart_rate\": 140, \"resting_bp\": 114, \"diagnosis\": \"high-risk heart disease\"}, {\"cholesterol\": 164, \"type_chestpain\": \"type4\", \"max_heart_rate\": 145, \"resting_bp\": 160, \"diagnosis\": \"moderate-risk heart disease\"}, {\"cholesterol\": 225, \"type_chestpain\": \"type4\", \"max_heart_rate\": 114, \"resting_bp\": 150, \"diagnosis\": \"high-risk heart disease\"}, {\"cholesterol\": 286, \"type_chestpain\": \"type4\", \"max_heart_rate\": 116, \"resting_bp\": 122, \"diagnosis\": \"moderate-risk heart disease\"}, {\"cholesterol\": 234, \"type_chestpain\": \"type1\", \"max_heart_rate\": 145, \"resting_bp\": 134, \"diagnosis\": \"moderate-risk heart disease\"}, {\"cholesterol\": 288, \"type_chestpain\": \"type4\", \"max_heart_rate\": 133, \"resting_bp\": 200, \"diagnosis\": \"moderate-risk heart disease\"}, {\"cholesterol\": 265, \"type_chestpain\": \"type3\", \"max_heart_rate\": 130, \"resting_bp\": 110, \"diagnosis\": \"low-risk heart disease\"}, {\"cholesterol\": 224, \"type_chestpain\": \"type3\", \"max_heart_rate\": 173, \"resting_bp\": 132, \"diagnosis\": \"moderate-risk heart disease\"}, {\"cholesterol\": 233, \"type_chestpain\": \"type4\", \"max_heart_rate\": 147, \"resting_bp\": 108, \"diagnosis\": \"low-risk heart disease\"}, {\"cholesterol\": 266, \"type_chestpain\": \"type2\", \"max_heart_rate\": 171, \"resting_bp\": 130, \"diagnosis\": \"low-risk heart disease\"}, {\"cholesterol\": 307, \"type_chestpain\": \"type4\", \"max_heart_rate\": 146, \"resting_bp\": 145, \"diagnosis\": \"low-risk heart disease\"}, {\"cholesterol\": 235, \"type_chestpain\": \"type3\", \"max_heart_rate\": 180, \"resting_bp\": 140, \"diagnosis\": \"low-risk heart disease\"}, {\"cholesterol\": 230, \"type_chestpain\": \"type3\", \"max_heart_rate\": 165, \"resting_bp\": 112, \"diagnosis\": \"high-risk heart disease\"}, {\"cholesterol\": 237, \"type_chestpain\": \"type4\", \"max_heart_rate\": 71, \"resting_bp\": 120, \"diagnosis\": \"moderate-risk heart disease\"}, {\"cholesterol\": 269, \"type_chestpain\": \"type3\", \"max_heart_rate\": 112, \"resting_bp\": 160, \"diagnosis\": \"moderate-risk heart disease\"}, {\"cholesterol\": 243, \"type_chestpain\": \"type4\", \"max_heart_rate\": 128, \"resting_bp\": 150, \"diagnosis\": \"high-risk heart disease\"}, {\"cholesterol\": 187, \"type_chestpain\": \"type4\", \"max_heart_rate\": 144, \"resting_bp\": 140, \"diagnosis\": \"moderate-risk heart disease\"}, {\"cholesterol\": 407, \"type_chestpain\": \"type4\", \"max_heart_rate\": 154, \"resting_bp\": 150, \"diagnosis\": \"high-risk heart disease\"}, {\"cholesterol\": 243, \"type_chestpain\": \"type4\", \"max_heart_rate\": 128, \"resting_bp\": 150, \"diagnosis\": \"high-risk heart disease\"}, {\"cholesterol\": 268, \"type_chestpain\": \"type4\", \"max_heart_rate\": 160, \"resting_bp\": 140, \"diagnosis\": \"moderate-risk heart disease\"}, {\"cholesterol\": 298, \"type_chestpain\": \"type1\", \"max_heart_rate\": 178, \"resting_bp\": 152, \"diagnosis\": \"low-risk heart disease\"}, {\"cholesterol\": 304, \"type_chestpain\": \"type4\", \"max_heart_rate\": 162, \"resting_bp\": 125, \"diagnosis\": \"high-risk heart disease\"}, {\"cholesterol\": 230, \"type_chestpain\": \"type3\", \"max_heart_rate\": 165, \"resting_bp\": 112, \"diagnosis\": \"high-risk heart disease\"}, {\"cholesterol\": 205, \"type_chestpain\": \"type4\", \"max_heart_rate\": 130, \"resting_bp\": 128, \"diagnosis\": \"moderate-risk heart disease\"}, {\"cholesterol\": 407, \"type_chestpain\": \"type4\", \"max_heart_rate\": 154, \"resting_bp\": 150, \"diagnosis\": \"high-risk heart disease\"}, {\"cholesterol\": 409, \"type_chestpain\": \"type4\", \"max_heart_rate\": 150, \"resting_bp\": 134, \"diagnosis\": \"moderate-risk heart disease\"}, {\"cholesterol\": 233, \"type_chestpain\": \"type3\", \"max_heart_rate\": 179, \"resting_bp\": 130, \"diagnosis\": \"low-risk heart disease\"}, {\"cholesterol\": 299, \"type_chestpain\": \"type4\", \"max_heart_rate\": 125, \"resting_bp\": 100, \"diagnosis\": \"moderate-risk heart disease\"}, {\"cholesterol\": 308, \"type_chestpain\": \"type3\", \"max_heart_rate\": 142, \"resting_bp\": 140, \"diagnosis\": \"low-risk heart disease\"}, {\"cholesterol\": 230, \"type_chestpain\": \"type3\", \"max_heart_rate\": 165, \"resting_bp\": 112, \"diagnosis\": \"high-risk heart disease\"}, {\"cholesterol\": 239, \"type_chestpain\": \"type4\", \"max_heart_rate\": 160, \"resting_bp\": 140, \"diagnosis\": \"low-risk heart disease\"}, {\"cholesterol\": 245, \"type_chestpain\": \"type2\", \"max_heart_rate\": 180, \"resting_bp\": 130, \"diagnosis\": \"low-risk heart disease\"}, {\"cholesterol\": 278, \"type_chestpain\": \"type3\", \"max_heart_rate\": 152, \"resting_bp\": 146, \"diagnosis\": \"low-risk heart disease\"}, {\"cholesterol\": 223, \"type_chestpain\": \"type4\", \"max_heart_rate\": 181, \"resting_bp\": 152, \"diagnosis\": \"low-risk heart disease\"}, {\"cholesterol\": 167, \"type_chestpain\": \"type4\", \"max_heart_rate\": 114, \"resting_bp\": 110, \"diagnosis\": \"moderate-risk heart disease\"}, {\"cholesterol\": 198, \"type_chestpain\": \"type2\", \"max_heart_rate\": 168, \"resting_bp\": 105, \"diagnosis\": \"low-risk heart disease\"}, {\"cholesterol\": 167, \"type_chestpain\": \"type4\", \"max_heart_rate\": 114, \"resting_bp\": 110, \"diagnosis\": \"moderate-risk heart disease\"}, {\"cholesterol\": 243, \"type_chestpain\": \"type4\", \"max_heart_rate\": 128, \"resting_bp\": 150, \"diagnosis\": \"high-risk heart disease\"}, {\"cholesterol\": 286, \"type_chestpain\": \"type4\", \"max_heart_rate\": 108, \"resting_bp\": 160, \"diagnosis\": \"moderate-risk heart disease\"}, {\"cholesterol\": 236, \"type_chestpain\": \"type2\", \"max_heart_rate\": 174, \"resting_bp\": 130, \"diagnosis\": \"low-risk heart disease\"}, {\"cholesterol\": 304, \"type_chestpain\": \"type3\", \"max_heart_rate\": 170, \"resting_bp\": 135, \"diagnosis\": \"low-risk heart disease\"}, {\"cholesterol\": 224, \"type_chestpain\": \"type3\", \"max_heart_rate\": 173, \"resting_bp\": 132, \"diagnosis\": \"moderate-risk heart disease\"}, {\"cholesterol\": 228, \"type_chestpain\": \"type4\", \"max_heart_rate\": 165, \"resting_bp\": 178, \"diagnosis\": \"moderate-risk heart disease\"}, {\"cholesterol\": 304, \"type_chestpain\": \"type4\", \"max_heart_rate\": 162, \"resting_bp\": 125, \"diagnosis\": \"high-risk heart disease\"}, {\"cholesterol\": 231, \"type_chestpain\": \"type1\", \"max_heart_rate\": 182, \"resting_bp\": 120, \"diagnosis\": \"high-risk heart disease\"}, {\"cholesterol\": 256, \"type_chestpain\": \"type3\", \"max_heart_rate\": 142, \"resting_bp\": 130, \"diagnosis\": \"moderate-risk heart disease\"}, {\"cholesterol\": 283, \"type_chestpain\": \"type2\", \"max_heart_rate\": 195, \"resting_bp\": 192, \"diagnosis\": \"low-risk heart disease\"}, {\"cholesterol\": 232, \"type_chestpain\": \"type3\", \"max_heart_rate\": 165, \"resting_bp\": 150, \"diagnosis\": \"low-risk heart disease\"}, {\"cholesterol\": 204, \"type_chestpain\": \"type2\", \"max_heart_rate\": 172, \"resting_bp\": 105, \"diagnosis\": \"low-risk heart disease\"}, {\"cholesterol\": 326, \"type_chestpain\": \"type4\", \"max_heart_rate\": 140, \"resting_bp\": 170, \"diagnosis\": \"moderate-risk heart disease\"}, {\"cholesterol\": 166, \"type_chestpain\": \"type4\", \"max_heart_rate\": 125, \"resting_bp\": 138, \"diagnosis\": \"high-risk heart disease\"}, {\"cholesterol\": 311, \"type_chestpain\": \"type4\", \"max_heart_rate\": 120, \"resting_bp\": 140, \"diagnosis\": \"moderate-risk heart disease\"}, {\"cholesterol\": 225, \"type_chestpain\": \"type4\", \"max_heart_rate\": 114, \"resting_bp\": 150, \"diagnosis\": \"high-risk heart disease\"}, {\"cholesterol\": 164, \"type_chestpain\": \"type4\", \"max_heart_rate\": 145, \"resting_bp\": 160, \"diagnosis\": \"moderate-risk heart disease\"}, {\"cholesterol\": 303, \"type_chestpain\": \"type4\", \"max_heart_rate\": 122, \"resting_bp\": 130, \"diagnosis\": \"low-risk heart disease\"}, {\"cholesterol\": 206, \"type_chestpain\": \"type4\", \"max_heart_rate\": 132, \"resting_bp\": 130, \"diagnosis\": \"high-risk heart disease\"}, {\"cholesterol\": 211, \"type_chestpain\": \"type3\", \"max_heart_rate\": 115, \"resting_bp\": 120, \"diagnosis\": \"low-risk heart disease\"}, {\"cholesterol\": 225, \"type_chestpain\": \"type4\", \"max_heart_rate\": 114, \"resting_bp\": 150, \"diagnosis\": \"high-risk heart disease\"}, {\"cholesterol\": 407, \"type_chestpain\": \"type4\", \"max_heart_rate\": 154, \"resting_bp\": 150, \"diagnosis\": \"high-risk heart disease\"}, {\"cholesterol\": 157, \"type_chestpain\": \"type2\", \"max_heart_rate\": 182, \"resting_bp\": 120, \"diagnosis\": \"low-risk heart disease\"}, {\"cholesterol\": 212, \"type_chestpain\": \"type4\", \"max_heart_rate\": 132, \"resting_bp\": 145, \"diagnosis\": \"high-risk heart disease\"}, {\"cholesterol\": 302, \"type_chestpain\": \"type4\", \"max_heart_rate\": 151, \"resting_bp\": 120, \"diagnosis\": \"low-risk heart disease\"}, {\"cholesterol\": 318, \"type_chestpain\": \"type4\", \"max_heart_rate\": 140, \"resting_bp\": 114, \"diagnosis\": \"high-risk heart disease\"}, {\"cholesterol\": 230, \"type_chestpain\": \"type4\", \"max_heart_rate\": 160, \"resting_bp\": 117, \"diagnosis\": \"moderate-risk heart disease\"}, {\"cholesterol\": 215, \"type_chestpain\": \"type3\", \"max_heart_rate\": 170, \"resting_bp\": 120, \"diagnosis\": \"low-risk heart disease\"}, {\"cholesterol\": 330, \"type_chestpain\": \"type4\", \"max_heart_rate\": 132, \"resting_bp\": 130, \"diagnosis\": \"moderate-risk heart disease\"}, {\"cholesterol\": 212, \"type_chestpain\": \"type4\", \"max_heart_rate\": 132, \"resting_bp\": 145, \"diagnosis\": \"high-risk heart disease\"}, {\"cholesterol\": 407, \"type_chestpain\": \"type4\", \"max_heart_rate\": 154, \"resting_bp\": 150, \"diagnosis\": \"high-risk heart disease\"}, {\"cholesterol\": 166, \"type_chestpain\": \"type4\", \"max_heart_rate\": 125, \"resting_bp\": 138, \"diagnosis\": \"high-risk heart disease\"}, {\"cholesterol\": 304, \"type_chestpain\": \"type4\", \"max_heart_rate\": 162, \"resting_bp\": 125, \"diagnosis\": \"high-risk heart disease\"}, {\"cholesterol\": 231, \"type_chestpain\": \"type1\", \"max_heart_rate\": 182, \"resting_bp\": 120, \"diagnosis\": \"high-risk heart disease\"}, {\"cholesterol\": 225, \"type_chestpain\": \"type4\", \"max_heart_rate\": 114, \"resting_bp\": 150, \"diagnosis\": \"high-risk heart disease\"}, {\"cholesterol\": 407, \"type_chestpain\": \"type4\", \"max_heart_rate\": 154, \"resting_bp\": 150, \"diagnosis\": \"high-risk heart disease\"}, {\"cholesterol\": 200, \"type_chestpain\": \"type4\", \"max_heart_rate\": 126, \"resting_bp\": 144, \"diagnosis\": \"moderate-risk heart disease\"}, {\"cholesterol\": 218, \"type_chestpain\": \"type3\", \"max_heart_rate\": 134, \"resting_bp\": 126, \"diagnosis\": \"moderate-risk heart disease\"}, {\"cholesterol\": 225, \"type_chestpain\": \"type4\", \"max_heart_rate\": 146, \"resting_bp\": 170, \"diagnosis\": \"moderate-risk heart disease\"}, {\"cholesterol\": 248, \"type_chestpain\": \"type4\", \"max_heart_rate\": 158, \"resting_bp\": 110, \"diagnosis\": \"low-risk heart disease\"}, {\"cholesterol\": 254, \"type_chestpain\": \"type4\", \"max_heart_rate\": 127, \"resting_bp\": 135, \"diagnosis\": \"moderate-risk heart disease\"}, {\"cholesterol\": 199, \"type_chestpain\": \"type3\", \"max_heart_rate\": 179, \"resting_bp\": 94, \"diagnosis\": \"low-risk heart disease\"}, {\"cholesterol\": 231, \"type_chestpain\": \"type1\", \"max_heart_rate\": 182, \"resting_bp\": 120, \"diagnosis\": \"high-risk heart disease\"}, {\"cholesterol\": 188, \"type_chestpain\": \"type4\", \"max_heart_rate\": 113, \"resting_bp\": 120, \"diagnosis\": \"moderate-risk heart disease\"}, {\"cholesterol\": 230, \"type_chestpain\": \"type3\", \"max_heart_rate\": 165, \"resting_bp\": 112, \"diagnosis\": \"high-risk heart disease\"}, {\"cholesterol\": 217, \"type_chestpain\": \"type4\", \"max_heart_rate\": 111, \"resting_bp\": 140, \"diagnosis\": \"moderate-risk heart disease\"}, {\"cholesterol\": 230, \"type_chestpain\": \"type4\", \"max_heart_rate\": 160, \"resting_bp\": 117, \"diagnosis\": \"moderate-risk heart disease\"}, {\"cholesterol\": 407, \"type_chestpain\": \"type4\", \"max_heart_rate\": 154, \"resting_bp\": 150, \"diagnosis\": \"high-risk heart disease\"}, {\"cholesterol\": 230, \"type_chestpain\": \"type3\", \"max_heart_rate\": 165, \"resting_bp\": 112, \"diagnosis\": \"high-risk heart disease\"}, {\"cholesterol\": 218, \"type_chestpain\": \"type3\", \"max_heart_rate\": 134, \"resting_bp\": 126, \"diagnosis\": \"moderate-risk heart disease\"}, {\"cholesterol\": 212, \"type_chestpain\": \"type4\", \"max_heart_rate\": 132, \"resting_bp\": 145, \"diagnosis\": \"high-risk heart disease\"}, {\"cholesterol\": 258, \"type_chestpain\": \"type4\", \"max_heart_rate\": 157, \"resting_bp\": 150, \"diagnosis\": \"moderate-risk heart disease\"}, {\"cholesterol\": 225, \"type_chestpain\": \"type4\", \"max_heart_rate\": 114, \"resting_bp\": 150, \"diagnosis\": \"high-risk heart disease\"}, {\"cholesterol\": 318, \"type_chestpain\": \"type4\", \"max_heart_rate\": 140, \"resting_bp\": 114, \"diagnosis\": \"high-risk heart disease\"}, {\"cholesterol\": 394, \"type_chestpain\": \"type4\", \"max_heart_rate\": 157, \"resting_bp\": 140, \"diagnosis\": \"low-risk heart disease\"}, {\"cholesterol\": 253, \"type_chestpain\": \"type4\", \"max_heart_rate\": 144, \"resting_bp\": 130, \"diagnosis\": \"low-risk heart disease\"}, {\"cholesterol\": 234, \"type_chestpain\": \"type1\", \"max_heart_rate\": 131, \"resting_bp\": 160, \"diagnosis\": \"low-risk heart disease\"}, {\"cholesterol\": 303, \"type_chestpain\": \"type4\", \"max_heart_rate\": 181, \"resting_bp\": 115, \"diagnosis\": \"low-risk heart disease\"}, {\"cholesterol\": 205, \"type_chestpain\": \"type4\", \"max_heart_rate\": 130, \"resting_bp\": 128, \"diagnosis\": \"moderate-risk heart disease\"}, {\"cholesterol\": 289, \"type_chestpain\": \"type4\", \"max_heart_rate\": 145, \"resting_bp\": 160, \"diagnosis\": \"high-risk heart disease\"}, {\"cholesterol\": 231, \"type_chestpain\": \"type1\", \"max_heart_rate\": 182, \"resting_bp\": 120, \"diagnosis\": \"high-risk heart disease\"}, {\"cholesterol\": 289, \"type_chestpain\": \"type4\", \"max_heart_rate\": 124, \"resting_bp\": 165, \"diagnosis\": \"high-risk heart disease\"}, {\"cholesterol\": 200, \"type_chestpain\": \"type4\", \"max_heart_rate\": 126, \"resting_bp\": 144, \"diagnosis\": \"moderate-risk heart disease\"}, {\"cholesterol\": 230, \"type_chestpain\": \"type4\", \"max_heart_rate\": 160, \"resting_bp\": 117, \"diagnosis\": \"moderate-risk heart disease\"}, {\"cholesterol\": 172, \"type_chestpain\": \"type4\", \"max_heart_rate\": 158, \"resting_bp\": 110, \"diagnosis\": \"low-risk heart disease\"}, {\"cholesterol\": 160, \"type_chestpain\": \"type2\", \"max_heart_rate\": 138, \"resting_bp\": 112, \"diagnosis\": \"low-risk heart disease\"}, {\"cholesterol\": 246, \"type_chestpain\": \"type2\", \"max_heart_rate\": 120, \"resting_bp\": 160, \"diagnosis\": \"moderate-risk heart disease\"}, {\"cholesterol\": 282, \"type_chestpain\": \"type4\", \"max_heart_rate\": 95, \"resting_bp\": 123, \"diagnosis\": \"moderate-risk heart disease\"}, {\"cholesterol\": 219, \"type_chestpain\": \"type4\", \"max_heart_rate\": 140, \"resting_bp\": 118, \"diagnosis\": \"moderate-risk heart disease\"}, {\"cholesterol\": 246, \"type_chestpain\": \"type4\", \"max_heart_rate\": 96, \"resting_bp\": 120, \"diagnosis\": \"moderate-risk heart disease\"}, {\"cholesterol\": 205, \"type_chestpain\": \"type4\", \"max_heart_rate\": 130, \"resting_bp\": 128, \"diagnosis\": \"moderate-risk heart disease\"}, {\"cholesterol\": 247, \"type_chestpain\": \"type4\", \"max_heart_rate\": 171, \"resting_bp\": 150, \"diagnosis\": \"low-risk heart disease\"}, {\"cholesterol\": 212, \"type_chestpain\": \"type4\", \"max_heart_rate\": 132, \"resting_bp\": 145, \"diagnosis\": \"high-risk heart disease\"}, {\"cholesterol\": 253, \"type_chestpain\": \"type3\", \"max_heart_rate\": 179, \"resting_bp\": 130, \"diagnosis\": \"low-risk heart disease\"}, {\"cholesterol\": 300, \"type_chestpain\": \"type4\", \"max_heart_rate\": 171, \"resting_bp\": 125, \"diagnosis\": \"low-risk heart disease\"}, {\"cholesterol\": 304, \"type_chestpain\": \"type4\", \"max_heart_rate\": 162, \"resting_bp\": 125, \"diagnosis\": \"high-risk heart disease\"}, {\"cholesterol\": 166, \"type_chestpain\": \"type4\", \"max_heart_rate\": 125, \"resting_bp\": 138, \"diagnosis\": \"high-risk heart disease\"}, {\"cholesterol\": 225, \"type_chestpain\": \"type4\", \"max_heart_rate\": 114, \"resting_bp\": 150, \"diagnosis\": \"high-risk heart disease\"}, {\"cholesterol\": 268, \"type_chestpain\": \"type4\", \"max_heart_rate\": 160, \"resting_bp\": 140, \"diagnosis\": \"moderate-risk heart disease\"}, {\"cholesterol\": 269, \"type_chestpain\": \"type2\", \"max_heart_rate\": 121, \"resting_bp\": 120, \"diagnosis\": \"low-risk heart disease\"}, {\"cholesterol\": 212, \"type_chestpain\": \"type4\", \"max_heart_rate\": 132, \"resting_bp\": 145, \"diagnosis\": \"high-risk heart disease\"}, {\"cholesterol\": 282, \"type_chestpain\": \"type4\", \"max_heart_rate\": 95, \"resting_bp\": 123, \"diagnosis\": \"moderate-risk heart disease\"}, {\"cholesterol\": 229, \"type_chestpain\": \"type2\", \"max_heart_rate\": 168, \"resting_bp\": 110, \"diagnosis\": \"low-risk heart disease\"}, {\"cholesterol\": 230, \"type_chestpain\": \"type4\", \"max_heart_rate\": 160, \"resting_bp\": 117, \"diagnosis\": \"moderate-risk heart disease\"}, {\"cholesterol\": 258, \"type_chestpain\": \"type4\", \"max_heart_rate\": 157, \"resting_bp\": 150, \"diagnosis\": \"moderate-risk heart disease\"}, {\"cholesterol\": 230, \"type_chestpain\": \"type3\", \"max_heart_rate\": 165, \"resting_bp\": 112, \"diagnosis\": \"high-risk heart disease\"}, {\"cholesterol\": 318, \"type_chestpain\": \"type4\", \"max_heart_rate\": 140, \"resting_bp\": 114, \"diagnosis\": \"high-risk heart disease\"}, {\"cholesterol\": 309, \"type_chestpain\": \"type3\", \"max_heart_rate\": 131, \"resting_bp\": 125, \"diagnosis\": \"low-risk heart disease\"}, {\"cholesterol\": 164, \"type_chestpain\": \"type4\", \"max_heart_rate\": 145, \"resting_bp\": 160, \"diagnosis\": \"moderate-risk heart disease\"}, {\"cholesterol\": 212, \"type_chestpain\": \"type4\", \"max_heart_rate\": 168, \"resting_bp\": 125, \"diagnosis\": \"moderate-risk heart disease\"}, {\"cholesterol\": 270, \"type_chestpain\": \"type1\", \"max_heart_rate\": 145, \"resting_bp\": 178, \"diagnosis\": \"low-risk heart disease\"}, {\"cholesterol\": 289, \"type_chestpain\": \"type4\", \"max_heart_rate\": 145, \"resting_bp\": 160, \"diagnosis\": \"high-risk heart disease\"}, {\"cholesterol\": 174, \"type_chestpain\": \"type4\", \"max_heart_rate\": 125, \"resting_bp\": 145, \"diagnosis\": \"high-risk heart disease\"}, {\"cholesterol\": 258, \"type_chestpain\": \"type4\", \"max_heart_rate\": 157, \"resting_bp\": 150, \"diagnosis\": \"moderate-risk heart disease\"}, {\"cholesterol\": 244, \"type_chestpain\": \"type4\", \"max_heart_rate\": 154, \"resting_bp\": 150, \"diagnosis\": \"low-risk heart disease\"}, {\"cholesterol\": 286, \"type_chestpain\": \"type4\", \"max_heart_rate\": 116, \"resting_bp\": 122, \"diagnosis\": \"moderate-risk heart disease\"}, {\"cholesterol\": 234, \"type_chestpain\": \"type4\", \"max_heart_rate\": 156, \"resting_bp\": 100, \"diagnosis\": \"moderate-risk heart disease\"}, {\"cholesterol\": 206, \"type_chestpain\": \"type4\", \"max_heart_rate\": 132, \"resting_bp\": 130, \"diagnosis\": \"high-risk heart disease\"}, {\"cholesterol\": 166, \"type_chestpain\": \"type4\", \"max_heart_rate\": 125, \"resting_bp\": 138, \"diagnosis\": \"high-risk heart disease\"}, {\"cholesterol\": 244, \"type_chestpain\": \"type2\", \"max_heart_rate\": 162, \"resting_bp\": 120, \"diagnosis\": \"low-risk heart disease\"}, {\"cholesterol\": 276, \"type_chestpain\": \"type4\", \"max_heart_rate\": 112, \"resting_bp\": 150, \"diagnosis\": \"low-risk heart disease\"}, {\"cholesterol\": 244, \"type_chestpain\": \"type1\", \"max_heart_rate\": 178, \"resting_bp\": 148, \"diagnosis\": \"low-risk heart disease\"}, {\"cholesterol\": 288, \"type_chestpain\": \"type1\", \"max_heart_rate\": 159, \"resting_bp\": 170, \"diagnosis\": \"low-risk heart disease\"}, {\"cholesterol\": 315, \"type_chestpain\": \"type3\", \"max_heart_rate\": 162, \"resting_bp\": 130, \"diagnosis\": \"low-risk heart disease\"}, {\"cholesterol\": 269, \"type_chestpain\": \"type3\", \"max_heart_rate\": 112, \"resting_bp\": 160, \"diagnosis\": \"moderate-risk heart disease\"}, {\"cholesterol\": 289, \"type_chestpain\": \"type4\", \"max_heart_rate\": 145, \"resting_bp\": 160, \"diagnosis\": \"high-risk heart disease\"}, {\"cholesterol\": 212, \"type_chestpain\": \"type3\", \"max_heart_rate\": 157, \"resting_bp\": 150, \"diagnosis\": \"low-risk heart disease\"}, {\"cholesterol\": 289, \"type_chestpain\": \"type4\", \"max_heart_rate\": 145, \"resting_bp\": 160, \"diagnosis\": \"high-risk heart disease\"}, {\"cholesterol\": 295, \"type_chestpain\": \"type2\", \"max_heart_rate\": 162, \"resting_bp\": 120, \"diagnosis\": \"low-risk heart disease\"}, {\"cholesterol\": 243, \"type_chestpain\": \"type4\", \"max_heart_rate\": 128, \"resting_bp\": 150, \"diagnosis\": \"high-risk heart disease\"}, {\"cholesterol\": 228, \"type_chestpain\": \"type4\", \"max_heart_rate\": 165, \"resting_bp\": 178, \"diagnosis\": \"moderate-risk heart disease\"}, {\"cholesterol\": 286, \"type_chestpain\": \"type4\", \"max_heart_rate\": 116, \"resting_bp\": 122, \"diagnosis\": \"moderate-risk heart disease\"}, {\"cholesterol\": 222, \"type_chestpain\": \"type4\", \"max_heart_rate\": 186, \"resting_bp\": 122, \"diagnosis\": \"low-risk heart disease\"}, {\"cholesterol\": 174, \"type_chestpain\": \"type4\", \"max_heart_rate\": 125, \"resting_bp\": 145, \"diagnosis\": \"high-risk heart disease\"}, {\"cholesterol\": 212, \"type_chestpain\": \"type4\", \"max_heart_rate\": 132, \"resting_bp\": 145, \"diagnosis\": \"high-risk heart disease\"}, {\"cholesterol\": 295, \"type_chestpain\": \"type3\", \"max_heart_rate\": 157, \"resting_bp\": 120, \"diagnosis\": \"low-risk heart disease\"}, {\"cholesterol\": 197, \"type_chestpain\": \"type4\", \"max_heart_rate\": 177, \"resting_bp\": 110, \"diagnosis\": \"low-risk heart disease\"}, {\"cholesterol\": 250, \"type_chestpain\": \"type2\", \"max_heart_rate\": 161, \"resting_bp\": 135, \"diagnosis\": \"low-risk heart disease\"}, {\"cholesterol\": 282, \"type_chestpain\": \"type4\", \"max_heart_rate\": 95, \"resting_bp\": 123, \"diagnosis\": \"moderate-risk heart disease\"}, {\"cholesterol\": 249, \"type_chestpain\": \"type4\", \"max_heart_rate\": 144, \"resting_bp\": 125, \"diagnosis\": \"low-risk heart disease\"}, {\"cholesterol\": 203, \"type_chestpain\": \"type4\", \"max_heart_rate\": 155, \"resting_bp\": 140, \"diagnosis\": \"low-risk heart disease\"}, {\"cholesterol\": 289, \"type_chestpain\": \"type4\", \"max_heart_rate\": 145, \"resting_bp\": 160, \"diagnosis\": \"high-risk heart disease\"}, {\"cholesterol\": 131, \"type_chestpain\": \"type4\", \"max_heart_rate\": 115, \"resting_bp\": 130, \"diagnosis\": \"moderate-risk heart disease\"}, {\"cholesterol\": 126, \"type_chestpain\": \"type3\", \"max_heart_rate\": 173, \"resting_bp\": 150, \"diagnosis\": \"low-risk heart disease\"}, {\"cholesterol\": 341, \"type_chestpain\": \"type4\", \"max_heart_rate\": 136, \"resting_bp\": 132, \"diagnosis\": \"moderate-risk heart disease\"}, {\"cholesterol\": 218, \"type_chestpain\": \"type3\", \"max_heart_rate\": 134, \"resting_bp\": 126, \"diagnosis\": \"moderate-risk heart disease\"}, {\"cholesterol\": 321, \"type_chestpain\": \"type3\", \"max_heart_rate\": 182, \"resting_bp\": 140, \"diagnosis\": \"low-risk heart disease\"}, {\"cholesterol\": 228, \"type_chestpain\": \"type4\", \"max_heart_rate\": 165, \"resting_bp\": 178, \"diagnosis\": \"moderate-risk heart disease\"}, {\"cholesterol\": 208, \"type_chestpain\": \"type4\", \"max_heart_rate\": 148, \"resting_bp\": 104, \"diagnosis\": \"low-risk heart disease\"}, {\"cholesterol\": 174, \"type_chestpain\": \"type4\", \"max_heart_rate\": 125, \"resting_bp\": 145, \"diagnosis\": \"high-risk heart disease\"}, {\"cholesterol\": 289, \"type_chestpain\": \"type4\", \"max_heart_rate\": 124, \"resting_bp\": 165, \"diagnosis\": \"high-risk heart disease\"}, {\"cholesterol\": 304, \"type_chestpain\": \"type4\", \"max_heart_rate\": 162, \"resting_bp\": 125, \"diagnosis\": \"high-risk heart disease\"}, {\"cholesterol\": 318, \"type_chestpain\": \"type4\", \"max_heart_rate\": 140, \"resting_bp\": 114, \"diagnosis\": \"high-risk heart disease\"}, {\"cholesterol\": 289, \"type_chestpain\": \"type4\", \"max_heart_rate\": 145, \"resting_bp\": 160, \"diagnosis\": \"high-risk heart disease\"}, {\"cholesterol\": 212, \"type_chestpain\": \"type4\", \"max_heart_rate\": 132, \"resting_bp\": 145, \"diagnosis\": \"high-risk heart disease\"}, {\"cholesterol\": 212, \"type_chestpain\": \"type4\", \"max_heart_rate\": 132, \"resting_bp\": 145, \"diagnosis\": \"high-risk heart disease\"}, {\"cholesterol\": 131, \"type_chestpain\": \"type4\", \"max_heart_rate\": 115, \"resting_bp\": 130, \"diagnosis\": \"moderate-risk heart disease\"}, {\"cholesterol\": 225, \"type_chestpain\": \"type4\", \"max_heart_rate\": 146, \"resting_bp\": 170, \"diagnosis\": \"moderate-risk heart disease\"}, {\"cholesterol\": 254, \"type_chestpain\": \"type4\", \"max_heart_rate\": 147, \"resting_bp\": 130, \"diagnosis\": \"moderate-risk heart disease\"}, {\"cholesterol\": 182, \"type_chestpain\": \"type1\", \"max_heart_rate\": 174, \"resting_bp\": 118, \"diagnosis\": \"low-risk heart disease\"}, {\"cholesterol\": 270, \"type_chestpain\": \"type4\", \"max_heart_rate\": 111, \"resting_bp\": 150, \"diagnosis\": \"moderate-risk heart disease\"}, {\"cholesterol\": 218, \"type_chestpain\": \"type3\", \"max_heart_rate\": 134, \"resting_bp\": 126, \"diagnosis\": \"moderate-risk heart disease\"}, {\"cholesterol\": 261, \"type_chestpain\": \"type2\", \"max_heart_rate\": 141, \"resting_bp\": 124, \"diagnosis\": \"low-risk heart disease\"}, {\"cholesterol\": 340, \"type_chestpain\": \"type3\", \"max_heart_rate\": 172, \"resting_bp\": 120, \"diagnosis\": \"low-risk heart disease\"}, {\"cholesterol\": 174, \"type_chestpain\": \"type4\", \"max_heart_rate\": 125, \"resting_bp\": 145, \"diagnosis\": \"high-risk heart disease\"}, {\"cholesterol\": 205, \"type_chestpain\": \"type4\", \"max_heart_rate\": 130, \"resting_bp\": 128, \"diagnosis\": \"moderate-risk heart disease\"}, {\"cholesterol\": 258, \"type_chestpain\": \"type3\", \"max_heart_rate\": 147, \"resting_bp\": 120, \"diagnosis\": \"low-risk heart disease\"}, {\"cholesterol\": 230, \"type_chestpain\": \"type4\", \"max_heart_rate\": 160, \"resting_bp\": 112, \"diagnosis\": \"low-risk heart disease\"}, {\"cholesterol\": 228, \"type_chestpain\": \"type4\", \"max_heart_rate\": 165, \"resting_bp\": 178, \"diagnosis\": \"moderate-risk heart disease\"}, {\"cholesterol\": 206, \"type_chestpain\": \"type4\", \"max_heart_rate\": 108, \"resting_bp\": 110, \"diagnosis\": \"moderate-risk heart disease\"}, {\"cholesterol\": 289, \"type_chestpain\": \"type4\", \"max_heart_rate\": 145, \"resting_bp\": 160, \"diagnosis\": \"high-risk heart disease\"}, {\"cholesterol\": 407, \"type_chestpain\": \"type4\", \"max_heart_rate\": 154, \"resting_bp\": 150, \"diagnosis\": \"high-risk heart disease\"}, {\"cholesterol\": 250, \"type_chestpain\": \"type3\", \"max_heart_rate\": 179, \"resting_bp\": 112, \"diagnosis\": \"low-risk heart disease\"}, {\"cholesterol\": 225, \"type_chestpain\": \"type4\", \"max_heart_rate\": 114, \"resting_bp\": 150, \"diagnosis\": \"high-risk heart disease\"}, {\"cholesterol\": 294, \"type_chestpain\": \"type4\", \"max_heart_rate\": 106, \"resting_bp\": 138, \"diagnosis\": \"moderate-risk heart disease\"}, {\"cholesterol\": 250, \"type_chestpain\": \"type3\", \"max_heart_rate\": 187, \"resting_bp\": 130, \"diagnosis\": \"low-risk heart disease\"}, {\"cholesterol\": 243, \"type_chestpain\": \"type4\", \"max_heart_rate\": 128, \"resting_bp\": 150, \"diagnosis\": \"high-risk heart disease\"}, {\"cholesterol\": 289, \"type_chestpain\": \"type4\", \"max_heart_rate\": 145, \"resting_bp\": 160, \"diagnosis\": \"high-risk heart disease\"}, {\"cholesterol\": 225, \"type_chestpain\": \"type4\", \"max_heart_rate\": 114, \"resting_bp\": 150, \"diagnosis\": \"high-risk heart disease\"}, {\"cholesterol\": 183, \"type_chestpain\": \"type4\", \"max_heart_rate\": 182, \"resting_bp\": 138, \"diagnosis\": \"low-risk heart disease\"}, {\"cholesterol\": 254, \"type_chestpain\": \"type4\", \"max_heart_rate\": 147, \"resting_bp\": 130, \"diagnosis\": \"moderate-risk heart disease\"}, {\"cholesterol\": 409, \"type_chestpain\": \"type4\", \"max_heart_rate\": 150, \"resting_bp\": 134, \"diagnosis\": \"moderate-risk heart disease\"}, {\"cholesterol\": 289, \"type_chestpain\": \"type4\", \"max_heart_rate\": 124, \"resting_bp\": 165, \"diagnosis\": \"high-risk heart disease\"}, {\"cholesterol\": 318, \"type_chestpain\": \"type4\", \"max_heart_rate\": 140, \"resting_bp\": 114, \"diagnosis\": \"high-risk heart disease\"}, {\"cholesterol\": 247, \"type_chestpain\": \"type4\", \"max_heart_rate\": 143, \"resting_bp\": 132, \"diagnosis\": \"low-risk heart disease\"}, {\"cholesterol\": 299, \"type_chestpain\": \"type4\", \"max_heart_rate\": 125, \"resting_bp\": 100, \"diagnosis\": \"moderate-risk heart disease\"}, {\"cholesterol\": 231, \"type_chestpain\": \"type1\", \"max_heart_rate\": 182, \"resting_bp\": 120, \"diagnosis\": \"high-risk heart disease\"}, {\"cholesterol\": 256, \"type_chestpain\": \"type3\", \"max_heart_rate\": 142, \"resting_bp\": 130, \"diagnosis\": \"moderate-risk heart disease\"}, {\"cholesterol\": 304, \"type_chestpain\": \"type4\", \"max_heart_rate\": 162, \"resting_bp\": 125, \"diagnosis\": \"high-risk heart disease\"}, {\"cholesterol\": 149, \"type_chestpain\": \"type3\", \"max_heart_rate\": 126, \"resting_bp\": 118, \"diagnosis\": \"low-risk heart disease\"}, {\"cholesterol\": 318, \"type_chestpain\": \"type4\", \"max_heart_rate\": 140, \"resting_bp\": 114, \"diagnosis\": \"high-risk heart disease\"}, {\"cholesterol\": 231, \"type_chestpain\": \"type1\", \"max_heart_rate\": 182, \"resting_bp\": 120, \"diagnosis\": \"high-risk heart disease\"}, {\"cholesterol\": 225, \"type_chestpain\": \"type4\", \"max_heart_rate\": 114, \"resting_bp\": 150, \"diagnosis\": \"high-risk heart disease\"}, {\"cholesterol\": 256, \"type_chestpain\": \"type3\", \"max_heart_rate\": 149, \"resting_bp\": 130, \"diagnosis\": \"low-risk heart disease\"}, {\"cholesterol\": 192, \"type_chestpain\": \"type4\", \"max_heart_rate\": 148, \"resting_bp\": 140, \"diagnosis\": \"low-risk heart disease\"}, {\"cholesterol\": 289, \"type_chestpain\": \"type4\", \"max_heart_rate\": 145, \"resting_bp\": 160, \"diagnosis\": \"high-risk heart disease\"}, {\"cholesterol\": 289, \"type_chestpain\": \"type4\", \"max_heart_rate\": 145, \"resting_bp\": 160, \"diagnosis\": \"high-risk heart disease\"}, {\"cholesterol\": 230, \"type_chestpain\": \"type4\", \"max_heart_rate\": 160, \"resting_bp\": 117, \"diagnosis\": \"moderate-risk heart disease\"}, {\"cholesterol\": 254, \"type_chestpain\": \"type4\", \"max_heart_rate\": 147, \"resting_bp\": 130, \"diagnosis\": \"moderate-risk heart disease\"}, {\"cholesterol\": 166, \"type_chestpain\": \"type4\", \"max_heart_rate\": 125, \"resting_bp\": 138, \"diagnosis\": \"high-risk heart disease\"}, {\"cholesterol\": 407, \"type_chestpain\": \"type4\", \"max_heart_rate\": 154, \"resting_bp\": 150, \"diagnosis\": \"high-risk heart disease\"}, {\"cholesterol\": 206, \"type_chestpain\": \"type4\", \"max_heart_rate\": 108, \"resting_bp\": 110, \"diagnosis\": \"moderate-risk heart disease\"}, {\"cholesterol\": 212, \"type_chestpain\": \"type4\", \"max_heart_rate\": 132, \"resting_bp\": 145, \"diagnosis\": \"high-risk heart disease\"}, {\"cholesterol\": 326, \"type_chestpain\": \"type4\", \"max_heart_rate\": 140, \"resting_bp\": 170, \"diagnosis\": \"moderate-risk heart disease\"}]}}, {\"mode\": \"vega-lite\"});\n",
       "</script>"
      ],
      "text/plain": [
       "alt.HConcatChart(...)"
      ]
     },
     "execution_count": 22,
     "metadata": {},
     "output_type": "execute_result"
    }
   ],
   "source": [
    "# distribution of blood pressure measurements\n",
    "bp_hist = alt.Chart(heart_disease_train).mark_bar().encode(\n",
    "    x=alt.X(\"resting_bp:Q\", bin = True).title(\"Blood Pressure\"),\n",
    "    y=alt.Y(\"count()\").stack(False),\n",
    "    color=\"diagnosis:N\"\n",
    ").properties(\n",
    "    title = \"Figure 1: Distribution of Blood Pressure\"\n",
    ")\n",
    "\n",
    "# distribution of cholesterol measurements\n",
    "chol_hist = alt.Chart(heart_disease_train).mark_bar().encode(\n",
    "    x=alt.X(\"cholesterol:Q\", bin = True).title(\"Cholesterol\"),\n",
    "    y=alt.Y(\"count()\").stack(False),\n",
    "    color = \"diagnosis:N\"\n",
    ").properties(\n",
    "    title = \"Figure 2: Distribution of Cholesterol\"\n",
    ")\n",
    "\n",
    "# distribution of chest pain type measurements\n",
    "cp_hist = alt.Chart(heart_disease_train).mark_bar().encode(\n",
    "    x=alt.X(\"type_chestpain\").title(\"Chest Pain Type\"),\n",
    "    y=alt.Y(\"count()\").stack(False),\n",
    "    color = \"diagnosis:N\"\n",
    ").properties(\n",
    "    width=300,\n",
    "    height=300,\n",
    "    title = \"Figure 3: Distribution of Chest Pain Type\"\n",
    ")\n",
    "\n",
    "# distribution of heart rate measurements\n",
    "hr_hist = alt.Chart(heart_disease_train).mark_bar().encode(\n",
    "    x=alt.X(\"max_heart_rate:Q\", bin = True).title(\"Heart Rate\"),\n",
    "    y=alt.Y(\"count()\").stack(False),\n",
    "    color = \"diagnosis:N\"\n",
    ").properties(\n",
    "    title = \"Figure 4: Distribution of Heart Rate\"\n",
    ")\n",
    "\n",
    "\n",
    "combined_charts = bp_hist & cp_hist | chol_hist & hr_hist\n",
    "combined_charts"
   ]
  },
  {
   "cell_type": "markdown",
   "id": "f86fbebf-7354-430d-a5c2-91e17c4149d3",
   "metadata": {},
   "source": [
    "## Note: \"Chest Pain\" Variable\n",
    "\n",
    "From here, our team decided that in order to use the chest pain symptoms variable effectively (column: \"type_chestpain\", Figure 3), a larger and more comprehensive analysis is needed, potentially involving the creation of separate classifiers for each label of chest pain. The nature of this analysis exceeds the scope of this project thus it was not pursued. However, the work above has included chest pain for future analysis that builds upon this classification. "
   ]
  },
  {
   "cell_type": "markdown",
   "id": "d4a485d3-568e-4276-bc89-047e9ded62d2",
   "metadata": {},
   "source": [
    "## Finding the K Parameter \n",
    "\n",
    "A pipeline is created that combines the preprocessing and an undefined K-neighbors classifier. The parameter values are collected within a range and utilized to estimate k-classifier accuracy. The classifiers are tuned according to the symptoms and diagnosis labels and the output of the cross-validation accuracy estimate for each K parameter is visualized with a line plot (Figure 5)."
   ]
  },
  {
   "cell_type": "code",
   "execution_count": 11,
   "id": "9c453690-21ef-485b-8fe7-8684c3983e11",
   "metadata": {
    "ExecuteTime": {
     "end_time": "2023-12-04T05:00:29.170658Z",
     "start_time": "2023-12-04T05:00:29.122383Z"
    },
    "tags": []
   },
   "outputs": [
    {
     "data": {
      "text/html": [
       "<style>#sk-container-id-1 {color: black;background-color: white;}#sk-container-id-1 pre{padding: 0;}#sk-container-id-1 div.sk-toggleable {background-color: white;}#sk-container-id-1 label.sk-toggleable__label {cursor: pointer;display: block;width: 100%;margin-bottom: 0;padding: 0.3em;box-sizing: border-box;text-align: center;}#sk-container-id-1 label.sk-toggleable__label-arrow:before {content: \"▸\";float: left;margin-right: 0.25em;color: #696969;}#sk-container-id-1 label.sk-toggleable__label-arrow:hover:before {color: black;}#sk-container-id-1 div.sk-estimator:hover label.sk-toggleable__label-arrow:before {color: black;}#sk-container-id-1 div.sk-toggleable__content {max-height: 0;max-width: 0;overflow: hidden;text-align: left;background-color: #f0f8ff;}#sk-container-id-1 div.sk-toggleable__content pre {margin: 0.2em;color: black;border-radius: 0.25em;background-color: #f0f8ff;}#sk-container-id-1 input.sk-toggleable__control:checked~div.sk-toggleable__content {max-height: 200px;max-width: 100%;overflow: auto;}#sk-container-id-1 input.sk-toggleable__control:checked~label.sk-toggleable__label-arrow:before {content: \"▾\";}#sk-container-id-1 div.sk-estimator input.sk-toggleable__control:checked~label.sk-toggleable__label {background-color: #d4ebff;}#sk-container-id-1 div.sk-label input.sk-toggleable__control:checked~label.sk-toggleable__label {background-color: #d4ebff;}#sk-container-id-1 input.sk-hidden--visually {border: 0;clip: rect(1px 1px 1px 1px);clip: rect(1px, 1px, 1px, 1px);height: 1px;margin: -1px;overflow: hidden;padding: 0;position: absolute;width: 1px;}#sk-container-id-1 div.sk-estimator {font-family: monospace;background-color: #f0f8ff;border: 1px dotted black;border-radius: 0.25em;box-sizing: border-box;margin-bottom: 0.5em;}#sk-container-id-1 div.sk-estimator:hover {background-color: #d4ebff;}#sk-container-id-1 div.sk-parallel-item::after {content: \"\";width: 100%;border-bottom: 1px solid gray;flex-grow: 1;}#sk-container-id-1 div.sk-label:hover label.sk-toggleable__label {background-color: #d4ebff;}#sk-container-id-1 div.sk-serial::before {content: \"\";position: absolute;border-left: 1px solid gray;box-sizing: border-box;top: 0;bottom: 0;left: 50%;z-index: 0;}#sk-container-id-1 div.sk-serial {display: flex;flex-direction: column;align-items: center;background-color: white;padding-right: 0.2em;padding-left: 0.2em;position: relative;}#sk-container-id-1 div.sk-item {position: relative;z-index: 1;}#sk-container-id-1 div.sk-parallel {display: flex;align-items: stretch;justify-content: center;background-color: white;position: relative;}#sk-container-id-1 div.sk-item::before, #sk-container-id-1 div.sk-parallel-item::before {content: \"\";position: absolute;border-left: 1px solid gray;box-sizing: border-box;top: 0;bottom: 0;left: 50%;z-index: -1;}#sk-container-id-1 div.sk-parallel-item {display: flex;flex-direction: column;z-index: 1;position: relative;background-color: white;}#sk-container-id-1 div.sk-parallel-item:first-child::after {align-self: flex-end;width: 50%;}#sk-container-id-1 div.sk-parallel-item:last-child::after {align-self: flex-start;width: 50%;}#sk-container-id-1 div.sk-parallel-item:only-child::after {width: 0;}#sk-container-id-1 div.sk-dashed-wrapped {border: 1px dashed gray;margin: 0 0.4em 0.5em 0.4em;box-sizing: border-box;padding-bottom: 0.4em;background-color: white;}#sk-container-id-1 div.sk-label label {font-family: monospace;font-weight: bold;display: inline-block;line-height: 1.2em;}#sk-container-id-1 div.sk-label-container {text-align: center;}#sk-container-id-1 div.sk-container {/* jupyter's `normalize.less` sets `[hidden] { display: none; }` but bootstrap.min.css set `[hidden] { display: none !important; }` so we also need the `!important` here to be able to override the default hidden behavior on the sphinx rendered scikit-learn.org. See: https://github.com/scikit-learn/scikit-learn/issues/21755 */display: inline-block !important;position: relative;}#sk-container-id-1 div.sk-text-repr-fallback {display: none;}</style><div id=\"sk-container-id-1\" class=\"sk-top-container\"><div class=\"sk-text-repr-fallback\"><pre>Pipeline(steps=[(&#x27;columntransformer&#x27;,\n",
       "                 ColumnTransformer(remainder=&#x27;passthrough&#x27;,\n",
       "                                   transformers=[(&#x27;standardscaler&#x27;,\n",
       "                                                  StandardScaler(),\n",
       "                                                  [&#x27;cholesterol&#x27;,\n",
       "                                                   &#x27;max_heart_rate&#x27;,\n",
       "                                                   &#x27;resting_bp&#x27;])],\n",
       "                                   verbose_feature_names_out=False)),\n",
       "                (&#x27;kneighborsclassifier&#x27;, KNeighborsClassifier())])</pre><b>In a Jupyter environment, please rerun this cell to show the HTML representation or trust the notebook. <br />On GitHub, the HTML representation is unable to render, please try loading this page with nbviewer.org.</b></div><div class=\"sk-container\" hidden><div class=\"sk-item sk-dashed-wrapped\"><div class=\"sk-label-container\"><div class=\"sk-label sk-toggleable\"><input class=\"sk-toggleable__control sk-hidden--visually\" id=\"sk-estimator-id-1\" type=\"checkbox\" ><label for=\"sk-estimator-id-1\" class=\"sk-toggleable__label sk-toggleable__label-arrow\">Pipeline</label><div class=\"sk-toggleable__content\"><pre>Pipeline(steps=[(&#x27;columntransformer&#x27;,\n",
       "                 ColumnTransformer(remainder=&#x27;passthrough&#x27;,\n",
       "                                   transformers=[(&#x27;standardscaler&#x27;,\n",
       "                                                  StandardScaler(),\n",
       "                                                  [&#x27;cholesterol&#x27;,\n",
       "                                                   &#x27;max_heart_rate&#x27;,\n",
       "                                                   &#x27;resting_bp&#x27;])],\n",
       "                                   verbose_feature_names_out=False)),\n",
       "                (&#x27;kneighborsclassifier&#x27;, KNeighborsClassifier())])</pre></div></div></div><div class=\"sk-serial\"><div class=\"sk-item sk-dashed-wrapped\"><div class=\"sk-label-container\"><div class=\"sk-label sk-toggleable\"><input class=\"sk-toggleable__control sk-hidden--visually\" id=\"sk-estimator-id-2\" type=\"checkbox\" ><label for=\"sk-estimator-id-2\" class=\"sk-toggleable__label sk-toggleable__label-arrow\">columntransformer: ColumnTransformer</label><div class=\"sk-toggleable__content\"><pre>ColumnTransformer(remainder=&#x27;passthrough&#x27;,\n",
       "                  transformers=[(&#x27;standardscaler&#x27;, StandardScaler(),\n",
       "                                 [&#x27;cholesterol&#x27;, &#x27;max_heart_rate&#x27;,\n",
       "                                  &#x27;resting_bp&#x27;])],\n",
       "                  verbose_feature_names_out=False)</pre></div></div></div><div class=\"sk-parallel\"><div class=\"sk-parallel-item\"><div class=\"sk-item\"><div class=\"sk-label-container\"><div class=\"sk-label sk-toggleable\"><input class=\"sk-toggleable__control sk-hidden--visually\" id=\"sk-estimator-id-3\" type=\"checkbox\" ><label for=\"sk-estimator-id-3\" class=\"sk-toggleable__label sk-toggleable__label-arrow\">standardscaler</label><div class=\"sk-toggleable__content\"><pre>[&#x27;cholesterol&#x27;, &#x27;max_heart_rate&#x27;, &#x27;resting_bp&#x27;]</pre></div></div></div><div class=\"sk-serial\"><div class=\"sk-item\"><div class=\"sk-estimator sk-toggleable\"><input class=\"sk-toggleable__control sk-hidden--visually\" id=\"sk-estimator-id-4\" type=\"checkbox\" ><label for=\"sk-estimator-id-4\" class=\"sk-toggleable__label sk-toggleable__label-arrow\">StandardScaler</label><div class=\"sk-toggleable__content\"><pre>StandardScaler()</pre></div></div></div></div></div></div><div class=\"sk-parallel-item\"><div class=\"sk-item\"><div class=\"sk-label-container\"><div class=\"sk-label sk-toggleable\"><input class=\"sk-toggleable__control sk-hidden--visually\" id=\"sk-estimator-id-5\" type=\"checkbox\" ><label for=\"sk-estimator-id-5\" class=\"sk-toggleable__label sk-toggleable__label-arrow\">remainder</label><div class=\"sk-toggleable__content\"><pre></pre></div></div></div><div class=\"sk-serial\"><div class=\"sk-item\"><div class=\"sk-estimator sk-toggleable\"><input class=\"sk-toggleable__control sk-hidden--visually\" id=\"sk-estimator-id-6\" type=\"checkbox\" ><label for=\"sk-estimator-id-6\" class=\"sk-toggleable__label sk-toggleable__label-arrow\">passthrough</label><div class=\"sk-toggleable__content\"><pre>passthrough</pre></div></div></div></div></div></div></div></div><div class=\"sk-item\"><div class=\"sk-estimator sk-toggleable\"><input class=\"sk-toggleable__control sk-hidden--visually\" id=\"sk-estimator-id-7\" type=\"checkbox\" ><label for=\"sk-estimator-id-7\" class=\"sk-toggleable__label sk-toggleable__label-arrow\">KNeighborsClassifier</label><div class=\"sk-toggleable__content\"><pre>KNeighborsClassifier()</pre></div></div></div></div></div></div></div>"
      ],
      "text/plain": [
       "Pipeline(steps=[('columntransformer',\n",
       "                 ColumnTransformer(remainder='passthrough',\n",
       "                                   transformers=[('standardscaler',\n",
       "                                                  StandardScaler(),\n",
       "                                                  ['cholesterol',\n",
       "                                                   'max_heart_rate',\n",
       "                                                   'resting_bp'])],\n",
       "                                   verbose_feature_names_out=False)),\n",
       "                ('kneighborsclassifier', KNeighborsClassifier())])"
      ]
     },
     "execution_count": 11,
     "metadata": {},
     "output_type": "execute_result"
    }
   ],
   "source": [
    "# create a preprocessor\n",
    "preprocessor=make_column_transformer(\n",
    "    (StandardScaler(),['cholesterol','max_heart_rate','resting_bp']),\n",
    "    remainder='passthrough',\n",
    "    verbose_feature_names_out=False\n",
    ")\n",
    "\n",
    "# create a pipeline\n",
    "heart_disease_pipe = make_pipeline(preprocessor, KNeighborsClassifier())\n",
    "heart_disease_pipe"
   ]
  },
  {
   "cell_type": "code",
   "execution_count": 12,
   "id": "21415fd430c29a3b",
   "metadata": {
    "collapsed": false,
    "jupyter": {
     "outputs_hidden": false
    }
   },
   "outputs": [],
   "source": [
    "# create a parameter grid\n",
    "parameter_grid = {\n",
    "    \"kneighborsclassifier__n_neighbors\" : range(1, 31)\n",
    "}\n",
    "\n",
    "# estimate the classifier accuracy for the range of values\n",
    "grid_search = GridSearchCV(\n",
    "    estimator = heart_disease_pipe,\n",
    "    param_grid = parameter_grid,\n",
    "    cv = 5,\n",
    ")\n",
    "\n",
    "X_heart_train=heart_disease_train[['cholesterol','max_heart_rate','resting_bp']]\n",
    "y_heart_train=heart_disease_train['diagnosis']\n",
    "\n",
    "# tuning process\n",
    "model_grid=grid_search.fit(X_heart_train,y_heart_train)\n",
    "grid_results=pd.DataFrame(grid_search.cv_results_)"
   ]
  },
  {
   "cell_type": "code",
   "execution_count": 13,
   "id": "979917b4-7cfe-4aa6-8433-414036962d78",
   "metadata": {
    "ExecuteTime": {
     "end_time": "2023-12-04T05:00:29.788497Z",
     "start_time": "2023-12-04T05:00:29.771914Z"
    },
    "collapsed": false,
    "jupyter": {
     "outputs_hidden": false
    },
    "tags": []
   },
   "outputs": [
    {
     "data": {
      "text/html": [
       "\n",
       "<style>\n",
       "  #altair-viz-dfbe654a71c84c9f8fcc690a8bc2bc1c.vega-embed {\n",
       "    width: 100%;\n",
       "    display: flex;\n",
       "  }\n",
       "\n",
       "  #altair-viz-dfbe654a71c84c9f8fcc690a8bc2bc1c.vega-embed details,\n",
       "  #altair-viz-dfbe654a71c84c9f8fcc690a8bc2bc1c.vega-embed details summary {\n",
       "    position: relative;\n",
       "  }\n",
       "</style>\n",
       "<div id=\"altair-viz-dfbe654a71c84c9f8fcc690a8bc2bc1c\"></div>\n",
       "<script type=\"text/javascript\">\n",
       "  var VEGA_DEBUG = (typeof VEGA_DEBUG == \"undefined\") ? {} : VEGA_DEBUG;\n",
       "  (function(spec, embedOpt){\n",
       "    let outputDiv = document.currentScript.previousElementSibling;\n",
       "    if (outputDiv.id !== \"altair-viz-dfbe654a71c84c9f8fcc690a8bc2bc1c\") {\n",
       "      outputDiv = document.getElementById(\"altair-viz-dfbe654a71c84c9f8fcc690a8bc2bc1c\");\n",
       "    }\n",
       "    const paths = {\n",
       "      \"vega\": \"https://cdn.jsdelivr.net/npm/vega@5?noext\",\n",
       "      \"vega-lib\": \"https://cdn.jsdelivr.net/npm/vega-lib?noext\",\n",
       "      \"vega-lite\": \"https://cdn.jsdelivr.net/npm/vega-lite@5.16.3?noext\",\n",
       "      \"vega-embed\": \"https://cdn.jsdelivr.net/npm/vega-embed@6?noext\",\n",
       "    };\n",
       "\n",
       "    function maybeLoadScript(lib, version) {\n",
       "      var key = `${lib.replace(\"-\", \"\")}_version`;\n",
       "      return (VEGA_DEBUG[key] == version) ?\n",
       "        Promise.resolve(paths[lib]) :\n",
       "        new Promise(function(resolve, reject) {\n",
       "          var s = document.createElement('script');\n",
       "          document.getElementsByTagName(\"head\")[0].appendChild(s);\n",
       "          s.async = true;\n",
       "          s.onload = () => {\n",
       "            VEGA_DEBUG[key] = version;\n",
       "            return resolve(paths[lib]);\n",
       "          };\n",
       "          s.onerror = () => reject(`Error loading script: ${paths[lib]}`);\n",
       "          s.src = paths[lib];\n",
       "        });\n",
       "    }\n",
       "\n",
       "    function showError(err) {\n",
       "      outputDiv.innerHTML = `<div class=\"error\" style=\"color:red;\">${err}</div>`;\n",
       "      throw err;\n",
       "    }\n",
       "\n",
       "    function displayChart(vegaEmbed) {\n",
       "      vegaEmbed(outputDiv, spec, embedOpt)\n",
       "        .catch(err => showError(`Javascript Error: ${err.message}<br>This usually means there's a typo in your chart specification. See the javascript console for the full traceback.`));\n",
       "    }\n",
       "\n",
       "    if(typeof define === \"function\" && define.amd) {\n",
       "      requirejs.config({paths});\n",
       "      require([\"vega-embed\"], displayChart, err => showError(`Error loading script: ${err.message}`));\n",
       "    } else {\n",
       "      maybeLoadScript(\"vega\", \"5\")\n",
       "        .then(() => maybeLoadScript(\"vega-lite\", \"5.16.3\"))\n",
       "        .then(() => maybeLoadScript(\"vega-embed\", \"6\"))\n",
       "        .catch(showError)\n",
       "        .then(() => displayChart(vegaEmbed));\n",
       "    }\n",
       "  })({\"config\": {\"view\": {\"continuousWidth\": 300, \"continuousHeight\": 300}}, \"data\": {\"name\": \"data-b47ae0d9375882eddc426507e0d05f5f\"}, \"mark\": {\"type\": \"line\", \"point\": true}, \"encoding\": {\"x\": {\"field\": \"param_kneighborsclassifier__n_neighbors\", \"scale\": {\"zero\": true}, \"title\": \"Values for K\", \"type\": \"quantitative\"}, \"y\": {\"field\": \"mean_test_score\", \"scale\": {\"zero\": false}, \"title\": \"Accuracy of model\", \"type\": \"quantitative\"}}, \"title\": \"Figure 5: Estimated Accuracy of K Neighbors\", \"$schema\": \"https://vega.github.io/schema/vega-lite/v5.16.3.json\", \"datasets\": {\"data-b47ae0d9375882eddc426507e0d05f5f\": [{\"mean_fit_time\": 0.010251665115356445, \"std_fit_time\": 0.005836757973452577, \"mean_score_time\": 0.007981634140014649, \"std_score_time\": 0.0005210463492140954, \"param_kneighborsclassifier__n_neighbors\": 1, \"params\": {\"kneighborsclassifier__n_neighbors\": 1}, \"split0_test_score\": 0.8484848484848485, \"split1_test_score\": 0.8383838383838383, \"split2_test_score\": 0.8061224489795918, \"split3_test_score\": 0.8367346938775511, \"split4_test_score\": 0.8673469387755102, \"mean_test_score\": 0.8394145537002681, \"std_test_score\": 0.019895208684184252, \"rank_test_score\": 1}, {\"mean_fit_time\": 0.006698513031005859, \"std_fit_time\": 0.0007427175778408235, \"mean_score_time\": 0.014260959625244141, \"std_score_time\": 0.010657899703095152, \"param_kneighborsclassifier__n_neighbors\": 2, \"params\": {\"kneighborsclassifier__n_neighbors\": 2}, \"split0_test_score\": 0.797979797979798, \"split1_test_score\": 0.7676767676767676, \"split2_test_score\": 0.8061224489795918, \"split3_test_score\": 0.8469387755102041, \"split4_test_score\": 0.8469387755102041, \"mean_test_score\": 0.8131313131313131, \"std_test_score\": 0.03043253954425585, \"rank_test_score\": 2}, {\"mean_fit_time\": 0.0062315940856933595, \"std_fit_time\": 0.00020268593732238087, \"mean_score_time\": 0.008690500259399414, \"std_score_time\": 0.0019489149158743967, \"param_kneighborsclassifier__n_neighbors\": 3, \"params\": {\"kneighborsclassifier__n_neighbors\": 3}, \"split0_test_score\": 0.797979797979798, \"split1_test_score\": 0.7676767676767676, \"split2_test_score\": 0.7653061224489796, \"split3_test_score\": 0.826530612244898, \"split4_test_score\": 0.8061224489795918, \"mean_test_score\": 0.792723149866007, \"std_test_score\": 0.023362931030943657, \"rank_test_score\": 3}, {\"mean_fit_time\": 0.007613039016723633, \"std_fit_time\": 0.0006983922409189154, \"mean_score_time\": 0.007869291305541991, \"std_score_time\": 0.00020500573160587058, \"param_kneighborsclassifier__n_neighbors\": 4, \"params\": {\"kneighborsclassifier__n_neighbors\": 4}, \"split0_test_score\": 0.7676767676767676, \"split1_test_score\": 0.7575757575757576, \"split2_test_score\": 0.7244897959183674, \"split3_test_score\": 0.7857142857142857, \"split4_test_score\": 0.7653061224489796, \"mean_test_score\": 0.7601525458668316, \"std_test_score\": 0.02007509592129415, \"rank_test_score\": 4}, {\"mean_fit_time\": 0.006305694580078125, \"std_fit_time\": 0.0006177058129857363, \"mean_score_time\": 0.008338069915771485, \"std_score_time\": 0.0008441547023559251, \"param_kneighborsclassifier__n_neighbors\": 5, \"params\": {\"kneighborsclassifier__n_neighbors\": 5}, \"split0_test_score\": 0.8080808080808081, \"split1_test_score\": 0.7373737373737373, \"split2_test_score\": 0.6836734693877551, \"split3_test_score\": 0.7857142857142857, \"split4_test_score\": 0.7346938775510204, \"mean_test_score\": 0.7499072356215213, \"std_test_score\": 0.04345516310092345, \"rank_test_score\": 5}, {\"mean_fit_time\": 0.007088613510131836, \"std_fit_time\": 0.0011507418321960638, \"mean_score_time\": 0.008278274536132812, \"std_score_time\": 0.0006896425214652785, \"param_kneighborsclassifier__n_neighbors\": 6, \"params\": {\"kneighborsclassifier__n_neighbors\": 6}, \"split0_test_score\": 0.7878787878787878, \"split1_test_score\": 0.6868686868686869, \"split2_test_score\": 0.6938775510204082, \"split3_test_score\": 0.7755102040816326, \"split4_test_score\": 0.7346938775510204, \"mean_test_score\": 0.7357658214801072, \"std_test_score\": 0.041090347417236134, \"rank_test_score\": 6}, {\"mean_fit_time\": 0.0065729618072509766, \"std_fit_time\": 0.0005628807465207048, \"mean_score_time\": 0.00785822868347168, \"std_score_time\": 0.00014121751213601056, \"param_kneighborsclassifier__n_neighbors\": 7, \"params\": {\"kneighborsclassifier__n_neighbors\": 7}, \"split0_test_score\": 0.7171717171717171, \"split1_test_score\": 0.7171717171717171, \"split2_test_score\": 0.673469387755102, \"split3_test_score\": 0.7857142857142857, \"split4_test_score\": 0.7244897959183674, \"mean_test_score\": 0.7236033807462379, \"std_test_score\": 0.03592965375205874, \"rank_test_score\": 7}, {\"mean_fit_time\": 0.006154680252075195, \"std_fit_time\": 0.0002515552880220983, \"mean_score_time\": 0.008090782165527343, \"std_score_time\": 0.0003685171864120879, \"param_kneighborsclassifier__n_neighbors\": 8, \"params\": {\"kneighborsclassifier__n_neighbors\": 8}, \"split0_test_score\": 0.7171717171717171, \"split1_test_score\": 0.6767676767676768, \"split2_test_score\": 0.6836734693877551, \"split3_test_score\": 0.7040816326530612, \"split4_test_score\": 0.7142857142857143, \"mean_test_score\": 0.699196042053185, \"std_test_score\": 0.01623991336858372, \"rank_test_score\": 8}, {\"mean_fit_time\": 0.005993032455444336, \"std_fit_time\": 0.00015733882056009817, \"mean_score_time\": 0.007828378677368164, \"std_score_time\": 0.0002681136489057574, \"param_kneighborsclassifier__n_neighbors\": 9, \"params\": {\"kneighborsclassifier__n_neighbors\": 9}, \"split0_test_score\": 0.696969696969697, \"split1_test_score\": 0.6767676767676768, \"split2_test_score\": 0.6632653061224489, \"split3_test_score\": 0.7244897959183674, \"split4_test_score\": 0.7244897959183674, \"mean_test_score\": 0.6971964543393115, \"std_test_score\": 0.02473282102952567, \"rank_test_score\": 9}, {\"mean_fit_time\": 0.006154441833496093, \"std_fit_time\": 0.000321151493382533, \"mean_score_time\": 0.00836186408996582, \"std_score_time\": 0.0006340381317466728, \"param_kneighborsclassifier__n_neighbors\": 10, \"params\": {\"kneighborsclassifier__n_neighbors\": 10}, \"split0_test_score\": 0.6868686868686869, \"split1_test_score\": 0.6464646464646465, \"split2_test_score\": 0.6632653061224489, \"split3_test_score\": 0.673469387755102, \"split4_test_score\": 0.7142857142857143, \"mean_test_score\": 0.6768707482993197, \"std_test_score\": 0.02289561877111145, \"rank_test_score\": 10}, {\"mean_fit_time\": 0.006591367721557617, \"std_fit_time\": 0.00041844666523401696, \"mean_score_time\": 0.008492612838745117, \"std_score_time\": 0.0005356288811549347, \"param_kneighborsclassifier__n_neighbors\": 11, \"params\": {\"kneighborsclassifier__n_neighbors\": 11}, \"split0_test_score\": 0.6666666666666666, \"split1_test_score\": 0.6464646464646465, \"split2_test_score\": 0.6020408163265306, \"split3_test_score\": 0.6224489795918368, \"split4_test_score\": 0.6836734693877551, \"mean_test_score\": 0.6442589156874872, \"std_test_score\": 0.02938884421594522, \"rank_test_score\": 11}, {\"mean_fit_time\": 0.007266569137573242, \"std_fit_time\": 0.002088730911731862, \"mean_score_time\": 0.010548782348632813, \"std_score_time\": 0.0028606602335525086, \"param_kneighborsclassifier__n_neighbors\": 12, \"params\": {\"kneighborsclassifier__n_neighbors\": 12}, \"split0_test_score\": 0.6464646464646465, \"split1_test_score\": 0.6363636363636364, \"split2_test_score\": 0.6122448979591837, \"split3_test_score\": 0.6224489795918368, \"split4_test_score\": 0.6326530612244898, \"mean_test_score\": 0.6300350443207586, \"std_test_score\": 0.011754782873345589, \"rank_test_score\": 15}, {\"mean_fit_time\": 0.006004428863525391, \"std_fit_time\": 0.00026128003060257995, \"mean_score_time\": 0.00777139663696289, \"std_score_time\": 8.420444681076639e-05, \"param_kneighborsclassifier__n_neighbors\": 13, \"params\": {\"kneighborsclassifier__n_neighbors\": 13}, \"split0_test_score\": 0.6464646464646465, \"split1_test_score\": 0.6262626262626263, \"split2_test_score\": 0.6122448979591837, \"split3_test_score\": 0.6020408163265306, \"split4_test_score\": 0.6428571428571429, \"mean_test_score\": 0.6259740259740261, \"std_test_score\": 0.01712469523223756, \"rank_test_score\": 17}, {\"mean_fit_time\": 0.00605316162109375, \"std_fit_time\": 0.0004764845354878123, \"mean_score_time\": 0.008469772338867188, \"std_score_time\": 0.0014174282649941884, \"param_kneighborsclassifier__n_neighbors\": 14, \"params\": {\"kneighborsclassifier__n_neighbors\": 14}, \"split0_test_score\": 0.6161616161616161, \"split1_test_score\": 0.6363636363636364, \"split2_test_score\": 0.6020408163265306, \"split3_test_score\": 0.6224489795918368, \"split4_test_score\": 0.673469387755102, \"mean_test_score\": 0.6300968872397444, \"std_test_score\": 0.024332165263435228, \"rank_test_score\": 14}, {\"mean_fit_time\": 0.006167125701904297, \"std_fit_time\": 0.0003007825295619252, \"mean_score_time\": 0.008526897430419922, \"std_score_time\": 0.00030034127339973084, \"param_kneighborsclassifier__n_neighbors\": 15, \"params\": {\"kneighborsclassifier__n_neighbors\": 15}, \"split0_test_score\": 0.6767676767676768, \"split1_test_score\": 0.6363636363636364, \"split2_test_score\": 0.5918367346938775, \"split3_test_score\": 0.5918367346938775, \"split4_test_score\": 0.6632653061224489, \"mean_test_score\": 0.6320140177283035, \"std_test_score\": 0.03528988622831224, \"rank_test_score\": 13}, {\"mean_fit_time\": 0.00627741813659668, \"std_fit_time\": 0.00015205308951805242, \"mean_score_time\": 0.00868687629699707, \"std_score_time\": 0.0003158891818036292, \"param_kneighborsclassifier__n_neighbors\": 16, \"params\": {\"kneighborsclassifier__n_neighbors\": 16}, \"split0_test_score\": 0.6464646464646465, \"split1_test_score\": 0.6363636363636364, \"split2_test_score\": 0.5816326530612245, \"split3_test_score\": 0.6224489795918368, \"split4_test_score\": 0.6224489795918368, \"mean_test_score\": 0.6218717790146362, \"std_test_score\": 0.02206661114600392, \"rank_test_score\": 19}, {\"mean_fit_time\": 0.00624542236328125, \"std_fit_time\": 0.00015110881518670024, \"mean_score_time\": 0.008034276962280273, \"std_score_time\": 0.00024157858971206303, \"param_kneighborsclassifier__n_neighbors\": 17, \"params\": {\"kneighborsclassifier__n_neighbors\": 17}, \"split0_test_score\": 0.6767676767676768, \"split1_test_score\": 0.696969696969697, \"split2_test_score\": 0.5714285714285714, \"split3_test_score\": 0.6326530612244898, \"split4_test_score\": 0.6122448979591837, \"mean_test_score\": 0.6380127808699237, \"std_test_score\": 0.044953369714295095, \"rank_test_score\": 12}, {\"mean_fit_time\": 0.005984830856323242, \"std_fit_time\": 0.000174924148332468, \"mean_score_time\": 0.007888269424438477, \"std_score_time\": 8.840481182672983e-05, \"param_kneighborsclassifier__n_neighbors\": 18, \"params\": {\"kneighborsclassifier__n_neighbors\": 18}, \"split0_test_score\": 0.6666666666666666, \"split1_test_score\": 0.6868686868686869, \"split2_test_score\": 0.5510204081632653, \"split3_test_score\": 0.6326530612244898, \"split4_test_score\": 0.6122448979591837, \"mean_test_score\": 0.6298907441764584, \"std_test_score\": 0.04719849704275808, \"rank_test_score\": 16}, {\"mean_fit_time\": 0.006113004684448242, \"std_fit_time\": 0.00019532145213308833, \"mean_score_time\": 0.008264875411987305, \"std_score_time\": 0.00023704277765622465, \"param_kneighborsclassifier__n_neighbors\": 19, \"params\": {\"kneighborsclassifier__n_neighbors\": 19}, \"split0_test_score\": 0.6666666666666666, \"split1_test_score\": 0.6767676767676768, \"split2_test_score\": 0.5408163265306123, \"split3_test_score\": 0.6326530612244898, \"split4_test_score\": 0.6122448979591837, \"mean_test_score\": 0.6258297258297258, \"std_test_score\": 0.04841634867944736, \"rank_test_score\": 18}, {\"mean_fit_time\": 0.006068611145019531, \"std_fit_time\": 0.0002796146667870797, \"mean_score_time\": 0.008750724792480468, \"std_score_time\": 0.0015287099994173564, \"param_kneighborsclassifier__n_neighbors\": 20, \"params\": {\"kneighborsclassifier__n_neighbors\": 20}, \"split0_test_score\": 0.6464646464646465, \"split1_test_score\": 0.6464646464646465, \"split2_test_score\": 0.5306122448979592, \"split3_test_score\": 0.6122448979591837, \"split4_test_score\": 0.6326530612244898, \"mean_test_score\": 0.613687899402185, \"std_test_score\": 0.0433865285161405, \"rank_test_score\": 20}, {\"mean_fit_time\": 0.005974102020263672, \"std_fit_time\": 9.690023288629534e-05, \"mean_score_time\": 0.008219242095947266, \"std_score_time\": 0.0002228417738924571, \"param_kneighborsclassifier__n_neighbors\": 21, \"params\": {\"kneighborsclassifier__n_neighbors\": 21}, \"split0_test_score\": 0.6464646464646465, \"split1_test_score\": 0.6565656565656566, \"split2_test_score\": 0.5306122448979592, \"split3_test_score\": 0.6020408163265306, \"split4_test_score\": 0.6326530612244898, \"mean_test_score\": 0.6136672850958566, \"std_test_score\": 0.045408614515400014, \"rank_test_score\": 21}, {\"mean_fit_time\": 0.006167364120483398, \"std_fit_time\": 0.00018953322740439442, \"mean_score_time\": 0.008095836639404297, \"std_score_time\": 0.00015182360332216606, \"param_kneighborsclassifier__n_neighbors\": 22, \"params\": {\"kneighborsclassifier__n_neighbors\": 22}, \"split0_test_score\": 0.6464646464646465, \"split1_test_score\": 0.6565656565656566, \"split2_test_score\": 0.5102040816326531, \"split3_test_score\": 0.6122448979591837, \"split4_test_score\": 0.6122448979591837, \"mean_test_score\": 0.6075448361162648, \"std_test_score\": 0.05184051720648398, \"rank_test_score\": 25}, {\"mean_fit_time\": 0.00597529411315918, \"std_fit_time\": 0.0001877854352234761, \"mean_score_time\": 0.009226083755493164, \"std_score_time\": 0.001631418140747691, \"param_kneighborsclassifier__n_neighbors\": 23, \"params\": {\"kneighborsclassifier__n_neighbors\": 23}, \"split0_test_score\": 0.6464646464646465, \"split1_test_score\": 0.6464646464646465, \"split2_test_score\": 0.5102040816326531, \"split3_test_score\": 0.6122448979591837, \"split4_test_score\": 0.6224489795918368, \"mean_test_score\": 0.6075654504225934, \"std_test_score\": 0.05049544079987093, \"rank_test_score\": 24}, {\"mean_fit_time\": 0.00663905143737793, \"std_fit_time\": 0.0003592603110585747, \"mean_score_time\": 0.009305858612060547, \"std_score_time\": 0.0008676333041567882, \"param_kneighborsclassifier__n_neighbors\": 24, \"params\": {\"kneighborsclassifier__n_neighbors\": 24}, \"split0_test_score\": 0.6666666666666666, \"split1_test_score\": 0.6565656565656566, \"split2_test_score\": 0.5, \"split3_test_score\": 0.6122448979591837, \"split4_test_score\": 0.6326530612244898, \"mean_test_score\": 0.6136260564831992, \"std_test_score\": 0.05988644388188809, \"rank_test_score\": 22}, {\"mean_fit_time\": 0.006213331222534179, \"std_fit_time\": 0.00031554489888045256, \"mean_score_time\": 0.008812284469604493, \"std_score_time\": 0.0007263199434042735, \"param_kneighborsclassifier__n_neighbors\": 25, \"params\": {\"kneighborsclassifier__n_neighbors\": 25}, \"split0_test_score\": 0.6767676767676768, \"split1_test_score\": 0.6666666666666666, \"split2_test_score\": 0.5102040816326531, \"split3_test_score\": 0.5816326530612245, \"split4_test_score\": 0.6122448979591837, \"mean_test_score\": 0.6095031952174809, \"std_test_score\": 0.06072358842999742, \"rank_test_score\": 23}, {\"mean_fit_time\": 0.006063604354858398, \"std_fit_time\": 0.00021053203488124607, \"mean_score_time\": 0.008293867111206055, \"std_score_time\": 0.00022991187065734967, \"param_kneighborsclassifier__n_neighbors\": 26, \"params\": {\"kneighborsclassifier__n_neighbors\": 26}, \"split0_test_score\": 0.696969696969697, \"split1_test_score\": 0.6161616161616161, \"split2_test_score\": 0.46938775510204084, \"split3_test_score\": 0.5612244897959183, \"split4_test_score\": 0.6122448979591837, \"mean_test_score\": 0.5911976911976913, \"std_test_score\": 0.07481972066373463, \"rank_test_score\": 29}, {\"mean_fit_time\": 0.006075429916381836, \"std_fit_time\": 0.00023223170968063615, \"mean_score_time\": 0.008240079879760743, \"std_score_time\": 0.0001768378486660308, \"param_kneighborsclassifier__n_neighbors\": 27, \"params\": {\"kneighborsclassifier__n_neighbors\": 27}, \"split0_test_score\": 0.6868686868686869, \"split1_test_score\": 0.6060606060606061, \"split2_test_score\": 0.47959183673469385, \"split3_test_score\": 0.5714285714285714, \"split4_test_score\": 0.6122448979591837, \"mean_test_score\": 0.5912389198103483, \"std_test_score\": 0.0673253398227324, \"rank_test_score\": 28}, {\"mean_fit_time\": 0.006703758239746093, \"std_fit_time\": 0.0013679047977563782, \"mean_score_time\": 0.008487701416015625, \"std_score_time\": 0.00039871665031050084, \"param_kneighborsclassifier__n_neighbors\": 28, \"params\": {\"kneighborsclassifier__n_neighbors\": 28}, \"split0_test_score\": 0.6565656565656566, \"split1_test_score\": 0.6262626262626263, \"split2_test_score\": 0.4897959183673469, \"split3_test_score\": 0.5918367346938775, \"split4_test_score\": 0.6020408163265306, \"mean_test_score\": 0.5933003504432076, \"std_test_score\": 0.05635728162398944, \"rank_test_score\": 27}, {\"mean_fit_time\": 0.006503105163574219, \"std_fit_time\": 0.0005952413080151279, \"mean_score_time\": 0.00833115577697754, \"std_score_time\": 0.00036035731477680413, \"param_kneighborsclassifier__n_neighbors\": 29, \"params\": {\"kneighborsclassifier__n_neighbors\": 29}, \"split0_test_score\": 0.6565656565656566, \"split1_test_score\": 0.6262626262626263, \"split2_test_score\": 0.5, \"split3_test_score\": 0.5714285714285714, \"split4_test_score\": 0.6326530612244898, \"mean_test_score\": 0.5973819830962688, \"std_test_score\": 0.05610290173656905, \"rank_test_score\": 26}, {\"mean_fit_time\": 0.006341075897216797, \"std_fit_time\": 0.0003058197484008437, \"mean_score_time\": 0.00887765884399414, \"std_score_time\": 0.0007276900870949705, \"param_kneighborsclassifier__n_neighbors\": 30, \"params\": {\"kneighborsclassifier__n_neighbors\": 30}, \"split0_test_score\": 0.6464646464646465, \"split1_test_score\": 0.5858585858585859, \"split2_test_score\": 0.5, \"split3_test_score\": 0.5714285714285714, \"split4_test_score\": 0.5918367346938775, \"mean_test_score\": 0.5791177076891363, \"std_test_score\": 0.04703521603074057, \"rank_test_score\": 30}]}}, {\"mode\": \"vega-lite\"});\n",
       "</script>"
      ],
      "text/plain": [
       "alt.Chart(...)"
      ]
     },
     "execution_count": 13,
     "metadata": {},
     "output_type": "execute_result"
    }
   ],
   "source": [
    "# plot the accuracy of the K-values with a line-plot\n",
    "cross_val_plot = alt.Chart(grid_results).mark_line(point=True).encode(\n",
    "    x=alt.X(\"param_kneighborsclassifier__n_neighbors\").title(\"Values for K\").scale(zero=True),\n",
    "    y=alt.Y(\"mean_test_score\").title(\"Accuracy of model\").scale(zero=False)\n",
    ").properties(\n",
    "    title = \"Figure 5: Estimated Accuracy of K Neighbors\"\n",
    ")\n",
    "\n",
    "cross_val_plot"
   ]
  },
  {
   "cell_type": "markdown",
   "id": "a83ace36-c3db-4855-abf3-a2042080785c",
   "metadata": {},
   "source": [
    "## Finding the K Parameter: Result\n",
    "\n",
    "The best K Neighbor value is 1. This value provides optimal accuracy (Figure 5), it is also not too large to become prohibitive of the model and changing the value to a nearby number would not change the accuracy to a great extent. The following code creates a new classifier with this parameter and the predictions from using this model on the test data are added to the test set. Some of the predicted ('predicted') and actual ('diagnosis') diagnoses are shown (Table 4). "
   ]
  },
  {
   "cell_type": "code",
   "execution_count": 14,
   "id": "8bf5a07a-7121-45df-9934-e41b07241631",
   "metadata": {
    "ExecuteTime": {
     "end_time": "2023-12-04T05:00:29.797590Z",
     "start_time": "2023-12-04T05:00:29.787848Z"
    },
    "tags": []
   },
   "outputs": [
    {
     "name": "stdout",
     "output_type": "stream",
     "text": [
      "Table 4:\n"
     ]
    },
    {
     "data": {
      "text/html": [
       "<div>\n",
       "<style scoped>\n",
       "    .dataframe tbody tr th:only-of-type {\n",
       "        vertical-align: middle;\n",
       "    }\n",
       "\n",
       "    .dataframe tbody tr th {\n",
       "        vertical-align: top;\n",
       "    }\n",
       "\n",
       "    .dataframe thead th {\n",
       "        text-align: right;\n",
       "    }\n",
       "</style>\n",
       "<table border=\"1\" class=\"dataframe\">\n",
       "  <thead>\n",
       "    <tr style=\"text-align: right;\">\n",
       "      <th></th>\n",
       "      <th>cholesterol</th>\n",
       "      <th>type_chestpain</th>\n",
       "      <th>max_heart_rate</th>\n",
       "      <th>resting_bp</th>\n",
       "      <th>diagnosis</th>\n",
       "      <th>predicted</th>\n",
       "    </tr>\n",
       "  </thead>\n",
       "  <tbody>\n",
       "    <tr>\n",
       "      <th>399</th>\n",
       "      <td>164</td>\n",
       "      <td>type4</td>\n",
       "      <td>145</td>\n",
       "      <td>160</td>\n",
       "      <td>moderate-risk heart disease</td>\n",
       "      <td>moderate-risk heart disease</td>\n",
       "    </tr>\n",
       "    <tr>\n",
       "      <th>142</th>\n",
       "      <td>304</td>\n",
       "      <td>type4</td>\n",
       "      <td>162</td>\n",
       "      <td>125</td>\n",
       "      <td>high-risk heart disease</td>\n",
       "      <td>high-risk heart disease</td>\n",
       "    </tr>\n",
       "    <tr>\n",
       "      <th>518</th>\n",
       "      <td>309</td>\n",
       "      <td>type2</td>\n",
       "      <td>156</td>\n",
       "      <td>108</td>\n",
       "      <td>low-risk heart disease</td>\n",
       "      <td>low-risk heart disease</td>\n",
       "    </tr>\n",
       "    <tr>\n",
       "      <th>529</th>\n",
       "      <td>220</td>\n",
       "      <td>type2</td>\n",
       "      <td>170</td>\n",
       "      <td>120</td>\n",
       "      <td>low-risk heart disease</td>\n",
       "      <td>low-risk heart disease</td>\n",
       "    </tr>\n",
       "    <tr>\n",
       "      <th>447</th>\n",
       "      <td>263</td>\n",
       "      <td>type2</td>\n",
       "      <td>173</td>\n",
       "      <td>120</td>\n",
       "      <td>low-risk heart disease</td>\n",
       "      <td>low-risk heart disease</td>\n",
       "    </tr>\n",
       "  </tbody>\n",
       "</table>\n",
       "</div>"
      ],
      "text/plain": [
       "     cholesterol type_chestpain  max_heart_rate  resting_bp  \\\n",
       "399          164          type4             145         160   \n",
       "142          304          type4             162         125   \n",
       "518          309          type2             156         108   \n",
       "529          220          type2             170         120   \n",
       "447          263          type2             173         120   \n",
       "\n",
       "                       diagnosis                    predicted  \n",
       "399  moderate-risk heart disease  moderate-risk heart disease  \n",
       "142      high-risk heart disease      high-risk heart disease  \n",
       "518       low-risk heart disease       low-risk heart disease  \n",
       "529       low-risk heart disease       low-risk heart disease  \n",
       "447       low-risk heart disease       low-risk heart disease  "
      ]
     },
     "execution_count": 14,
     "metadata": {},
     "output_type": "execute_result"
    }
   ],
   "source": [
    "# create a new model object for the best parameter value\n",
    "knn = KNeighborsClassifier(n_neighbors = 1)\n",
    "heart_fit = knn.fit(X_heart_train,y_heart_train)\n",
    "\n",
    "# add predictions to dataframe\n",
    "heart_predictions = heart_disease_test.assign(predicted = heart_fit.predict(heart_disease_test[['cholesterol', 'max_heart_rate', 'resting_bp']]))\n",
    "print('Table 4:')\n",
    "heart_predictions.head()"
   ]
  },
  {
   "cell_type": "markdown",
   "id": "2b8900e3-01e3-4720-a67c-9bdf22ce4340",
   "metadata": {},
   "source": [
    "## Evaluation Results\n",
    "\n",
    "The next cells show that the model has high accuracy, at 90%.\n",
    "\n",
    "A confusion matrix displays all observations (55) for high-risk heart disease, 40 observations for low-risk heart disease and 53 observations of moderate-risk heart disease were correctly predicted. The classifier made minimal misdiagnosis in predictions of low- and moderate-risk.\n",
    "\n",
    "Based on the confusion matrix, here are the calculations for precision and recall:\n",
    "<br>\n",
    "<br>\n",
    "_high-risk heart disease_\n",
    "\n",
    ">precision = 55/59 100 = 93.22 = 93% <br>\n",
    ">recall = 55/55 100 = 100 = 100%\n",
    "\n",
    "_low-risk heart disease_\n",
    "\n",
    ">precision = 40/41 100 = 97.56 = 98% <br>\n",
    ">recall = 40/55 = 72.73 = 73%\n",
    "\n",
    "_moderate-risk heart disease_\n",
    "\n",
    ">precision = 53/65 100 = 81.54 = 82% <br>\n",
    ">recall = 53/55 100 = 96.36 = 96%"
   ]
  },
  {
   "cell_type": "code",
   "execution_count": 15,
   "id": "de7c49d9-d7a3-4e00-a355-d0fdda569704",
   "metadata": {
    "ExecuteTime": {
     "end_time": "2023-12-04T05:00:29.801924Z",
     "start_time": "2023-12-04T05:00:29.798197Z"
    }
   },
   "outputs": [
    {
     "data": {
      "text/plain": [
       "0.896969696969697"
      ]
     },
     "execution_count": 15,
     "metadata": {},
     "output_type": "execute_result"
    }
   ],
   "source": [
    "# test model's accuracy \n",
    "heart_disease_correct = heart_predictions[\n",
    "    heart_predictions['diagnosis'] == heart_predictions['predicted']\n",
    "] \n",
    "heart_disease_acc = heart_disease_correct.shape[0] / heart_predictions.shape[0]\n",
    "heart_disease_acc"
   ]
  },
  {
   "cell_type": "code",
   "execution_count": 16,
   "id": "3d46460fe6cdd189",
   "metadata": {
    "ExecuteTime": {
     "end_time": "2023-12-04T05:00:44.762011Z",
     "start_time": "2023-12-04T05:00:44.743666Z"
    },
    "collapsed": false,
    "jupyter": {
     "outputs_hidden": false
    }
   },
   "outputs": [
    {
     "name": "stdout",
     "output_type": "stream",
     "text": [
      "Table 5:\n"
     ]
    },
    {
     "data": {
      "text/html": [
       "<div>\n",
       "<style scoped>\n",
       "    .dataframe tbody tr th:only-of-type {\n",
       "        vertical-align: middle;\n",
       "    }\n",
       "\n",
       "    .dataframe tbody tr th {\n",
       "        vertical-align: top;\n",
       "    }\n",
       "\n",
       "    .dataframe thead th {\n",
       "        text-align: right;\n",
       "    }\n",
       "</style>\n",
       "<table border=\"1\" class=\"dataframe\">\n",
       "  <thead>\n",
       "    <tr style=\"text-align: right;\">\n",
       "      <th>Predicted</th>\n",
       "      <th>high-risk heart disease</th>\n",
       "      <th>low-risk heart disease</th>\n",
       "      <th>moderate-risk heart disease</th>\n",
       "    </tr>\n",
       "    <tr>\n",
       "      <th>Actual</th>\n",
       "      <th></th>\n",
       "      <th></th>\n",
       "      <th></th>\n",
       "    </tr>\n",
       "  </thead>\n",
       "  <tbody>\n",
       "    <tr>\n",
       "      <th>high-risk heart disease</th>\n",
       "      <td>55</td>\n",
       "      <td>0</td>\n",
       "      <td>0</td>\n",
       "    </tr>\n",
       "    <tr>\n",
       "      <th>low-risk heart disease</th>\n",
       "      <td>3</td>\n",
       "      <td>40</td>\n",
       "      <td>12</td>\n",
       "    </tr>\n",
       "    <tr>\n",
       "      <th>moderate-risk heart disease</th>\n",
       "      <td>1</td>\n",
       "      <td>1</td>\n",
       "      <td>53</td>\n",
       "    </tr>\n",
       "  </tbody>\n",
       "</table>\n",
       "</div>"
      ],
      "text/plain": [
       "Predicted                    high-risk heart disease  low-risk heart disease  \\\n",
       "Actual                                                                         \n",
       "high-risk heart disease                           55                       0   \n",
       "low-risk heart disease                             3                      40   \n",
       "moderate-risk heart disease                        1                       1   \n",
       "\n",
       "Predicted                    moderate-risk heart disease  \n",
       "Actual                                                    \n",
       "high-risk heart disease                                0  \n",
       "low-risk heart disease                                12  \n",
       "moderate-risk heart disease                           53  "
      ]
     },
     "execution_count": 16,
     "metadata": {},
     "output_type": "execute_result"
    }
   ],
   "source": [
    "# confusion matrix\n",
    "confusion_matrix = pd.crosstab(\n",
    "    heart_predictions['diagnosis'],\n",
    "    heart_predictions['predicted'],\n",
    "    rownames=['Actual'],\n",
    "    colnames=['Predicted']\n",
    ")\n",
    "\n",
    "print('Table 5:')\n",
    "confusion_matrix"
   ]
  },
  {
   "cell_type": "markdown",
   "id": "24ff40c4-9c2c-4153-8034-f592a5d31deb",
   "metadata": {},
   "source": [
    "## Visualization of Analysis\n",
    "\n",
    "Here, the visualization depicts the results of this classification analysis: the predictions made by the classifier for each label of heart disease risk diagnosis are described in bar plots to easily compare the results. The first plot (Figure 6) shows the distributions of predictions correct and incorrect predicted instances and visualizes recall. The second plot (Figure 7) captures the amount of diagnosis and the associated amount of correct prediction, visualizing precision."
   ]
  },
  {
   "cell_type": "code",
   "execution_count": 17,
   "id": "b2e7a4570cec3ffc",
   "metadata": {
    "ExecuteTime": {
     "end_time": "2023-12-04T05:00:29.832856Z",
     "start_time": "2023-12-04T05:00:29.808476Z"
    },
    "collapsed": false,
    "jupyter": {
     "outputs_hidden": false
    },
    "tags": []
   },
   "outputs": [
    {
     "data": {
      "text/html": [
       "\n",
       "<style>\n",
       "  #altair-viz-27ba64d51afd4c0fabd2d29d781dd29d.vega-embed {\n",
       "    width: 100%;\n",
       "    display: flex;\n",
       "  }\n",
       "\n",
       "  #altair-viz-27ba64d51afd4c0fabd2d29d781dd29d.vega-embed details,\n",
       "  #altair-viz-27ba64d51afd4c0fabd2d29d781dd29d.vega-embed details summary {\n",
       "    position: relative;\n",
       "  }\n",
       "</style>\n",
       "<div id=\"altair-viz-27ba64d51afd4c0fabd2d29d781dd29d\"></div>\n",
       "<script type=\"text/javascript\">\n",
       "  var VEGA_DEBUG = (typeof VEGA_DEBUG == \"undefined\") ? {} : VEGA_DEBUG;\n",
       "  (function(spec, embedOpt){\n",
       "    let outputDiv = document.currentScript.previousElementSibling;\n",
       "    if (outputDiv.id !== \"altair-viz-27ba64d51afd4c0fabd2d29d781dd29d\") {\n",
       "      outputDiv = document.getElementById(\"altair-viz-27ba64d51afd4c0fabd2d29d781dd29d\");\n",
       "    }\n",
       "    const paths = {\n",
       "      \"vega\": \"https://cdn.jsdelivr.net/npm/vega@5?noext\",\n",
       "      \"vega-lib\": \"https://cdn.jsdelivr.net/npm/vega-lib?noext\",\n",
       "      \"vega-lite\": \"https://cdn.jsdelivr.net/npm/vega-lite@5.16.3?noext\",\n",
       "      \"vega-embed\": \"https://cdn.jsdelivr.net/npm/vega-embed@6?noext\",\n",
       "    };\n",
       "\n",
       "    function maybeLoadScript(lib, version) {\n",
       "      var key = `${lib.replace(\"-\", \"\")}_version`;\n",
       "      return (VEGA_DEBUG[key] == version) ?\n",
       "        Promise.resolve(paths[lib]) :\n",
       "        new Promise(function(resolve, reject) {\n",
       "          var s = document.createElement('script');\n",
       "          document.getElementsByTagName(\"head\")[0].appendChild(s);\n",
       "          s.async = true;\n",
       "          s.onload = () => {\n",
       "            VEGA_DEBUG[key] = version;\n",
       "            return resolve(paths[lib]);\n",
       "          };\n",
       "          s.onerror = () => reject(`Error loading script: ${paths[lib]}`);\n",
       "          s.src = paths[lib];\n",
       "        });\n",
       "    }\n",
       "\n",
       "    function showError(err) {\n",
       "      outputDiv.innerHTML = `<div class=\"error\" style=\"color:red;\">${err}</div>`;\n",
       "      throw err;\n",
       "    }\n",
       "\n",
       "    function displayChart(vegaEmbed) {\n",
       "      vegaEmbed(outputDiv, spec, embedOpt)\n",
       "        .catch(err => showError(`Javascript Error: ${err.message}<br>This usually means there's a typo in your chart specification. See the javascript console for the full traceback.`));\n",
       "    }\n",
       "\n",
       "    if(typeof define === \"function\" && define.amd) {\n",
       "      requirejs.config({paths});\n",
       "      require([\"vega-embed\"], displayChart, err => showError(`Error loading script: ${err.message}`));\n",
       "    } else {\n",
       "      maybeLoadScript(\"vega\", \"5\")\n",
       "        .then(() => maybeLoadScript(\"vega-lite\", \"5.16.3\"))\n",
       "        .then(() => maybeLoadScript(\"vega-embed\", \"6\"))\n",
       "        .catch(showError)\n",
       "        .then(() => displayChart(vegaEmbed));\n",
       "    }\n",
       "  })({\"config\": {\"view\": {\"continuousWidth\": 300, \"continuousHeight\": 300}, \"axis\": {\"labelAlign\": \"center\", \"labelFontSize\": 12, \"labelPadding\": 40, \"titleFontSize\": 12}, \"axisX\": {\"labelAngle\": -40, \"titleFontSize\": 12}}, \"data\": {\"name\": \"data-39ad7e6563e1f49e390272e0f3b0bdd5\"}, \"mark\": {\"type\": \"bar\"}, \"encoding\": {\"color\": {\"field\": \"predicted\", \"title\": \"Predicted Diagnosis\", \"type\": \"nominal\"}, \"column\": {\"field\": \"diagnosis\", \"title\": \"Figure 6: Diagnosis\", \"type\": \"nominal\"}, \"x\": {\"field\": \"predicted\", \"title\": \"Predicted Diagnosis\", \"type\": \"nominal\"}, \"y\": {\"aggregate\": \"count\", \"title\": \"Count of Predicted Diagnosis\", \"type\": \"quantitative\"}}, \"height\": 350, \"width\": 350, \"$schema\": \"https://vega.github.io/schema/vega-lite/v5.16.3.json\", \"datasets\": {\"data-39ad7e6563e1f49e390272e0f3b0bdd5\": [{\"cholesterol\": 164, \"type_chestpain\": \"type4\", \"max_heart_rate\": 145, \"resting_bp\": 160, \"diagnosis\": \"moderate-risk heart disease\", \"predicted\": \"moderate-risk heart disease\"}, {\"cholesterol\": 304, \"type_chestpain\": \"type4\", \"max_heart_rate\": 162, \"resting_bp\": 125, \"diagnosis\": \"high-risk heart disease\", \"predicted\": \"high-risk heart disease\"}, {\"cholesterol\": 309, \"type_chestpain\": \"type2\", \"max_heart_rate\": 156, \"resting_bp\": 108, \"diagnosis\": \"low-risk heart disease\", \"predicted\": \"low-risk heart disease\"}, {\"cholesterol\": 220, \"type_chestpain\": \"type2\", \"max_heart_rate\": 170, \"resting_bp\": 120, \"diagnosis\": \"low-risk heart disease\", \"predicted\": \"low-risk heart disease\"}, {\"cholesterol\": 263, \"type_chestpain\": \"type2\", \"max_heart_rate\": 173, \"resting_bp\": 120, \"diagnosis\": \"low-risk heart disease\", \"predicted\": \"low-risk heart disease\"}, {\"cholesterol\": 167, \"type_chestpain\": \"type4\", \"max_heart_rate\": 114, \"resting_bp\": 110, \"diagnosis\": \"moderate-risk heart disease\", \"predicted\": \"moderate-risk heart disease\"}, {\"cholesterol\": 206, \"type_chestpain\": \"type4\", \"max_heart_rate\": 132, \"resting_bp\": 130, \"diagnosis\": \"high-risk heart disease\", \"predicted\": \"high-risk heart disease\"}, {\"cholesterol\": 206, \"type_chestpain\": \"type4\", \"max_heart_rate\": 132, \"resting_bp\": 130, \"diagnosis\": \"high-risk heart disease\", \"predicted\": \"high-risk heart disease\"}, {\"cholesterol\": 206, \"type_chestpain\": \"type4\", \"max_heart_rate\": 108, \"resting_bp\": 110, \"diagnosis\": \"moderate-risk heart disease\", \"predicted\": \"moderate-risk heart disease\"}, {\"cholesterol\": 206, \"type_chestpain\": \"type4\", \"max_heart_rate\": 132, \"resting_bp\": 130, \"diagnosis\": \"high-risk heart disease\", \"predicted\": \"high-risk heart disease\"}, {\"cholesterol\": 274, \"type_chestpain\": \"type4\", \"max_heart_rate\": 88, \"resting_bp\": 152, \"diagnosis\": \"low-risk heart disease\", \"predicted\": \"moderate-risk heart disease\"}, {\"cholesterol\": 304, \"type_chestpain\": \"type4\", \"max_heart_rate\": 162, \"resting_bp\": 125, \"diagnosis\": \"high-risk heart disease\", \"predicted\": \"high-risk heart disease\"}, {\"cholesterol\": 273, \"type_chestpain\": \"type3\", \"max_heart_rate\": 152, \"resting_bp\": 125, \"diagnosis\": \"low-risk heart disease\", \"predicted\": \"low-risk heart disease\"}, {\"cholesterol\": 212, \"type_chestpain\": \"type4\", \"max_heart_rate\": 132, \"resting_bp\": 145, \"diagnosis\": \"high-risk heart disease\", \"predicted\": \"high-risk heart disease\"}, {\"cholesterol\": 174, \"type_chestpain\": \"type4\", \"max_heart_rate\": 125, \"resting_bp\": 145, \"diagnosis\": \"high-risk heart disease\", \"predicted\": \"high-risk heart disease\"}, {\"cholesterol\": 211, \"type_chestpain\": \"type4\", \"max_heart_rate\": 161, \"resting_bp\": 110, \"diagnosis\": \"low-risk heart disease\", \"predicted\": \"low-risk heart disease\"}, {\"cholesterol\": 212, \"type_chestpain\": \"type4\", \"max_heart_rate\": 132, \"resting_bp\": 145, \"diagnosis\": \"high-risk heart disease\", \"predicted\": \"high-risk heart disease\"}, {\"cholesterol\": 318, \"type_chestpain\": \"type4\", \"max_heart_rate\": 140, \"resting_bp\": 114, \"diagnosis\": \"high-risk heart disease\", \"predicted\": \"high-risk heart disease\"}, {\"cholesterol\": 231, \"type_chestpain\": \"type3\", \"max_heart_rate\": 147, \"resting_bp\": 150, \"diagnosis\": \"low-risk heart disease\", \"predicted\": \"low-risk heart disease\"}, {\"cholesterol\": 166, \"type_chestpain\": \"type4\", \"max_heart_rate\": 125, \"resting_bp\": 138, \"diagnosis\": \"high-risk heart disease\", \"predicted\": \"high-risk heart disease\"}, {\"cholesterol\": 175, \"type_chestpain\": \"type3\", \"max_heart_rate\": 173, \"resting_bp\": 138, \"diagnosis\": \"low-risk heart disease\", \"predicted\": \"low-risk heart disease\"}, {\"cholesterol\": 246, \"type_chestpain\": \"type4\", \"max_heart_rate\": 96, \"resting_bp\": 120, \"diagnosis\": \"moderate-risk heart disease\", \"predicted\": \"moderate-risk heart disease\"}, {\"cholesterol\": 166, \"type_chestpain\": \"type4\", \"max_heart_rate\": 125, \"resting_bp\": 138, \"diagnosis\": \"high-risk heart disease\", \"predicted\": \"high-risk heart disease\"}, {\"cholesterol\": 195, \"type_chestpain\": \"type2\", \"max_heart_rate\": 179, \"resting_bp\": 140, \"diagnosis\": \"low-risk heart disease\", \"predicted\": \"low-risk heart disease\"}, {\"cholesterol\": 204, \"type_chestpain\": \"type2\", \"max_heart_rate\": 172, \"resting_bp\": 130, \"diagnosis\": \"low-risk heart disease\", \"predicted\": \"low-risk heart disease\"}, {\"cholesterol\": 315, \"type_chestpain\": \"type4\", \"max_heart_rate\": 125, \"resting_bp\": 136, \"diagnosis\": \"moderate-risk heart disease\", \"predicted\": \"moderate-risk heart disease\"}, {\"cholesterol\": 304, \"type_chestpain\": \"type4\", \"max_heart_rate\": 162, \"resting_bp\": 125, \"diagnosis\": \"high-risk heart disease\", \"predicted\": \"high-risk heart disease\"}, {\"cholesterol\": 243, \"type_chestpain\": \"type4\", \"max_heart_rate\": 128, \"resting_bp\": 150, \"diagnosis\": \"high-risk heart disease\", \"predicted\": \"high-risk heart disease\"}, {\"cholesterol\": 219, \"type_chestpain\": \"type2\", \"max_heart_rate\": 188, \"resting_bp\": 130, \"diagnosis\": \"low-risk heart disease\", \"predicted\": \"low-risk heart disease\"}, {\"cholesterol\": 286, \"type_chestpain\": \"type4\", \"max_heart_rate\": 108, \"resting_bp\": 160, \"diagnosis\": \"moderate-risk heart disease\", \"predicted\": \"moderate-risk heart disease\"}, {\"cholesterol\": 230, \"type_chestpain\": \"type3\", \"max_heart_rate\": 165, \"resting_bp\": 112, \"diagnosis\": \"high-risk heart disease\", \"predicted\": \"high-risk heart disease\"}, {\"cholesterol\": 277, \"type_chestpain\": \"type3\", \"max_heart_rate\": 172, \"resting_bp\": 152, \"diagnosis\": \"low-risk heart disease\", \"predicted\": \"low-risk heart disease\"}, {\"cholesterol\": 327, \"type_chestpain\": \"type4\", \"max_heart_rate\": 117, \"resting_bp\": 180, \"diagnosis\": \"moderate-risk heart disease\", \"predicted\": \"moderate-risk heart disease\"}, {\"cholesterol\": 299, \"type_chestpain\": \"type4\", \"max_heart_rate\": 173, \"resting_bp\": 140, \"diagnosis\": \"low-risk heart disease\", \"predicted\": \"moderate-risk heart disease\"}, {\"cholesterol\": 234, \"type_chestpain\": \"type1\", \"max_heart_rate\": 145, \"resting_bp\": 134, \"diagnosis\": \"moderate-risk heart disease\", \"predicted\": \"moderate-risk heart disease\"}, {\"cholesterol\": 269, \"type_chestpain\": \"type4\", \"max_heart_rate\": 163, \"resting_bp\": 130, \"diagnosis\": \"low-risk heart disease\", \"predicted\": \"moderate-risk heart disease\"}, {\"cholesterol\": 209, \"type_chestpain\": \"type3\", \"max_heart_rate\": 173, \"resting_bp\": 120, \"diagnosis\": \"low-risk heart disease\", \"predicted\": \"low-risk heart disease\"}, {\"cholesterol\": 327, \"type_chestpain\": \"type4\", \"max_heart_rate\": 117, \"resting_bp\": 180, \"diagnosis\": \"moderate-risk heart disease\", \"predicted\": \"moderate-risk heart disease\"}, {\"cholesterol\": 212, \"type_chestpain\": \"type4\", \"max_heart_rate\": 132, \"resting_bp\": 145, \"diagnosis\": \"high-risk heart disease\", \"predicted\": \"high-risk heart disease\"}, {\"cholesterol\": 206, \"type_chestpain\": \"type4\", \"max_heart_rate\": 132, \"resting_bp\": 130, \"diagnosis\": \"high-risk heart disease\", \"predicted\": \"high-risk heart disease\"}, {\"cholesterol\": 206, \"type_chestpain\": \"type4\", \"max_heart_rate\": 132, \"resting_bp\": 130, \"diagnosis\": \"high-risk heart disease\", \"predicted\": \"high-risk heart disease\"}, {\"cholesterol\": 228, \"type_chestpain\": \"type4\", \"max_heart_rate\": 165, \"resting_bp\": 178, \"diagnosis\": \"moderate-risk heart disease\", \"predicted\": \"moderate-risk heart disease\"}, {\"cholesterol\": 407, \"type_chestpain\": \"type4\", \"max_heart_rate\": 154, \"resting_bp\": 150, \"diagnosis\": \"high-risk heart disease\", \"predicted\": \"high-risk heart disease\"}, {\"cholesterol\": 274, \"type_chestpain\": \"type3\", \"max_heart_rate\": 150, \"resting_bp\": 180, \"diagnosis\": \"moderate-risk heart disease\", \"predicted\": \"moderate-risk heart disease\"}, {\"cholesterol\": 263, \"type_chestpain\": \"type3\", \"max_heart_rate\": 97, \"resting_bp\": 130, \"diagnosis\": \"moderate-risk heart disease\", \"predicted\": \"moderate-risk heart disease\"}, {\"cholesterol\": 174, \"type_chestpain\": \"type4\", \"max_heart_rate\": 125, \"resting_bp\": 145, \"diagnosis\": \"high-risk heart disease\", \"predicted\": \"high-risk heart disease\"}, {\"cholesterol\": 219, \"type_chestpain\": \"type4\", \"max_heart_rate\": 140, \"resting_bp\": 118, \"diagnosis\": \"moderate-risk heart disease\", \"predicted\": \"moderate-risk heart disease\"}, {\"cholesterol\": 255, \"type_chestpain\": \"type3\", \"max_heart_rate\": 175, \"resting_bp\": 124, \"diagnosis\": \"low-risk heart disease\", \"predicted\": \"low-risk heart disease\"}, {\"cholesterol\": 187, \"type_chestpain\": \"type4\", \"max_heart_rate\": 144, \"resting_bp\": 140, \"diagnosis\": \"moderate-risk heart disease\", \"predicted\": \"moderate-risk heart disease\"}, {\"cholesterol\": 289, \"type_chestpain\": \"type4\", \"max_heart_rate\": 124, \"resting_bp\": 165, \"diagnosis\": \"high-risk heart disease\", \"predicted\": \"high-risk heart disease\"}, {\"cholesterol\": 225, \"type_chestpain\": \"type4\", \"max_heart_rate\": 114, \"resting_bp\": 150, \"diagnosis\": \"high-risk heart disease\", \"predicted\": \"high-risk heart disease\"}, {\"cholesterol\": 274, \"type_chestpain\": \"type3\", \"max_heart_rate\": 150, \"resting_bp\": 180, \"diagnosis\": \"moderate-risk heart disease\", \"predicted\": \"moderate-risk heart disease\"}, {\"cholesterol\": 234, \"type_chestpain\": \"type4\", \"max_heart_rate\": 156, \"resting_bp\": 100, \"diagnosis\": \"moderate-risk heart disease\", \"predicted\": \"moderate-risk heart disease\"}, {\"cholesterol\": 226, \"type_chestpain\": \"type4\", \"max_heart_rate\": 178, \"resting_bp\": 140, \"diagnosis\": \"low-risk heart disease\", \"predicted\": \"low-risk heart disease\"}, {\"cholesterol\": 225, \"type_chestpain\": \"type4\", \"max_heart_rate\": 114, \"resting_bp\": 150, \"diagnosis\": \"high-risk heart disease\", \"predicted\": \"high-risk heart disease\"}, {\"cholesterol\": 220, \"type_chestpain\": \"type2\", \"max_heart_rate\": 144, \"resting_bp\": 125, \"diagnosis\": \"low-risk heart disease\", \"predicted\": \"moderate-risk heart disease\"}, {\"cholesterol\": 231, \"type_chestpain\": \"type1\", \"max_heart_rate\": 182, \"resting_bp\": 120, \"diagnosis\": \"high-risk heart disease\", \"predicted\": \"high-risk heart disease\"}, {\"cholesterol\": 289, \"type_chestpain\": \"type4\", \"max_heart_rate\": 145, \"resting_bp\": 160, \"diagnosis\": \"high-risk heart disease\", \"predicted\": \"high-risk heart disease\"}, {\"cholesterol\": 205, \"type_chestpain\": \"type4\", \"max_heart_rate\": 130, \"resting_bp\": 128, \"diagnosis\": \"moderate-risk heart disease\", \"predicted\": \"moderate-risk heart disease\"}, {\"cholesterol\": 327, \"type_chestpain\": \"type4\", \"max_heart_rate\": 117, \"resting_bp\": 180, \"diagnosis\": \"moderate-risk heart disease\", \"predicted\": \"moderate-risk heart disease\"}, {\"cholesterol\": 564, \"type_chestpain\": \"type3\", \"max_heart_rate\": 160, \"resting_bp\": 115, \"diagnosis\": \"low-risk heart disease\", \"predicted\": \"moderate-risk heart disease\"}, {\"cholesterol\": 259, \"type_chestpain\": \"type4\", \"max_heart_rate\": 130, \"resting_bp\": 128, \"diagnosis\": \"moderate-risk heart disease\", \"predicted\": \"moderate-risk heart disease\"}, {\"cholesterol\": 282, \"type_chestpain\": \"type4\", \"max_heart_rate\": 95, \"resting_bp\": 123, \"diagnosis\": \"moderate-risk heart disease\", \"predicted\": \"moderate-risk heart disease\"}, {\"cholesterol\": 254, \"type_chestpain\": \"type4\", \"max_heart_rate\": 147, \"resting_bp\": 130, \"diagnosis\": \"moderate-risk heart disease\", \"predicted\": \"moderate-risk heart disease\"}, {\"cholesterol\": 319, \"type_chestpain\": \"type2\", \"max_heart_rate\": 152, \"resting_bp\": 136, \"diagnosis\": \"moderate-risk heart disease\", \"predicted\": \"moderate-risk heart disease\"}, {\"cholesterol\": 309, \"type_chestpain\": \"type4\", \"max_heart_rate\": 147, \"resting_bp\": 142, \"diagnosis\": \"moderate-risk heart disease\", \"predicted\": \"moderate-risk heart disease\"}, {\"cholesterol\": 167, \"type_chestpain\": \"type4\", \"max_heart_rate\": 114, \"resting_bp\": 110, \"diagnosis\": \"moderate-risk heart disease\", \"predicted\": \"moderate-risk heart disease\"}, {\"cholesterol\": 230, \"type_chestpain\": \"type3\", \"max_heart_rate\": 165, \"resting_bp\": 112, \"diagnosis\": \"high-risk heart disease\", \"predicted\": \"high-risk heart disease\"}, {\"cholesterol\": 293, \"type_chestpain\": \"type4\", \"max_heart_rate\": 170, \"resting_bp\": 140, \"diagnosis\": \"moderate-risk heart disease\", \"predicted\": \"moderate-risk heart disease\"}, {\"cholesterol\": 330, \"type_chestpain\": \"type4\", \"max_heart_rate\": 132, \"resting_bp\": 130, \"diagnosis\": \"moderate-risk heart disease\", \"predicted\": \"moderate-risk heart disease\"}, {\"cholesterol\": 243, \"type_chestpain\": \"type4\", \"max_heart_rate\": 128, \"resting_bp\": 150, \"diagnosis\": \"high-risk heart disease\", \"predicted\": \"high-risk heart disease\"}, {\"cholesterol\": 212, \"type_chestpain\": \"type4\", \"max_heart_rate\": 132, \"resting_bp\": 145, \"diagnosis\": \"high-risk heart disease\", \"predicted\": \"high-risk heart disease\"}, {\"cholesterol\": 289, \"type_chestpain\": \"type4\", \"max_heart_rate\": 124, \"resting_bp\": 165, \"diagnosis\": \"high-risk heart disease\", \"predicted\": \"high-risk heart disease\"}, {\"cholesterol\": 246, \"type_chestpain\": \"type3\", \"max_heart_rate\": 173, \"resting_bp\": 130, \"diagnosis\": \"low-risk heart disease\", \"predicted\": \"low-risk heart disease\"}, {\"cholesterol\": 302, \"type_chestpain\": \"type2\", \"max_heart_rate\": 162, \"resting_bp\": 160, \"diagnosis\": \"low-risk heart disease\", \"predicted\": \"low-risk heart disease\"}, {\"cholesterol\": 226, \"type_chestpain\": \"type4\", \"max_heart_rate\": 111, \"resting_bp\": 142, \"diagnosis\": \"low-risk heart disease\", \"predicted\": \"low-risk heart disease\"}, {\"cholesterol\": 267, \"type_chestpain\": \"type4\", \"max_heart_rate\": 99, \"resting_bp\": 120, \"diagnosis\": \"low-risk heart disease\", \"predicted\": \"low-risk heart disease\"}, {\"cholesterol\": 204, \"type_chestpain\": \"type4\", \"max_heart_rate\": 143, \"resting_bp\": 112, \"diagnosis\": \"low-risk heart disease\", \"predicted\": \"low-risk heart disease\"}, {\"cholesterol\": 177, \"type_chestpain\": \"type4\", \"max_heart_rate\": 162, \"resting_bp\": 140, \"diagnosis\": \"moderate-risk heart disease\", \"predicted\": \"low-risk heart disease\"}, {\"cholesterol\": 225, \"type_chestpain\": \"type4\", \"max_heart_rate\": 114, \"resting_bp\": 150, \"diagnosis\": \"high-risk heart disease\", \"predicted\": \"high-risk heart disease\"}, {\"cholesterol\": 228, \"type_chestpain\": \"type4\", \"max_heart_rate\": 165, \"resting_bp\": 178, \"diagnosis\": \"moderate-risk heart disease\", \"predicted\": \"moderate-risk heart disease\"}, {\"cholesterol\": 225, \"type_chestpain\": \"type4\", \"max_heart_rate\": 114, \"resting_bp\": 150, \"diagnosis\": \"high-risk heart disease\", \"predicted\": \"high-risk heart disease\"}, {\"cholesterol\": 176, \"type_chestpain\": \"type4\", \"max_heart_rate\": 90, \"resting_bp\": 164, \"diagnosis\": \"moderate-risk heart disease\", \"predicted\": \"high-risk heart disease\"}, {\"cholesterol\": 205, \"type_chestpain\": \"type4\", \"max_heart_rate\": 130, \"resting_bp\": 128, \"diagnosis\": \"moderate-risk heart disease\", \"predicted\": \"moderate-risk heart disease\"}, {\"cholesterol\": 289, \"type_chestpain\": \"type4\", \"max_heart_rate\": 145, \"resting_bp\": 160, \"diagnosis\": \"high-risk heart disease\", \"predicted\": \"high-risk heart disease\"}, {\"cholesterol\": 255, \"type_chestpain\": \"type4\", \"max_heart_rate\": 161, \"resting_bp\": 128, \"diagnosis\": \"low-risk heart disease\", \"predicted\": \"moderate-risk heart disease\"}, {\"cholesterol\": 264, \"type_chestpain\": \"type4\", \"max_heart_rate\": 143, \"resting_bp\": 130, \"diagnosis\": \"low-risk heart disease\", \"predicted\": \"low-risk heart disease\"}, {\"cholesterol\": 213, \"type_chestpain\": \"type3\", \"max_heart_rate\": 165, \"resting_bp\": 122, \"diagnosis\": \"low-risk heart disease\", \"predicted\": \"moderate-risk heart disease\"}, {\"cholesterol\": 304, \"type_chestpain\": \"type4\", \"max_heart_rate\": 162, \"resting_bp\": 125, \"diagnosis\": \"high-risk heart disease\", \"predicted\": \"high-risk heart disease\"}, {\"cholesterol\": 230, \"type_chestpain\": \"type3\", \"max_heart_rate\": 165, \"resting_bp\": 112, \"diagnosis\": \"high-risk heart disease\", \"predicted\": \"high-risk heart disease\"}, {\"cholesterol\": 205, \"type_chestpain\": \"type2\", \"max_heart_rate\": 184, \"resting_bp\": 128, \"diagnosis\": \"low-risk heart disease\", \"predicted\": \"low-risk heart disease\"}, {\"cholesterol\": 222, \"type_chestpain\": \"type3\", \"max_heart_rate\": 143, \"resting_bp\": 100, \"diagnosis\": \"low-risk heart disease\", \"predicted\": \"low-risk heart disease\"}, {\"cholesterol\": 315, \"type_chestpain\": \"type4\", \"max_heart_rate\": 125, \"resting_bp\": 136, \"diagnosis\": \"moderate-risk heart disease\", \"predicted\": \"moderate-risk heart disease\"}, {\"cholesterol\": 206, \"type_chestpain\": \"type4\", \"max_heart_rate\": 132, \"resting_bp\": 130, \"diagnosis\": \"high-risk heart disease\", \"predicted\": \"high-risk heart disease\"}, {\"cholesterol\": 277, \"type_chestpain\": \"type3\", \"max_heart_rate\": 151, \"resting_bp\": 118, \"diagnosis\": \"low-risk heart disease\", \"predicted\": \"low-risk heart disease\"}, {\"cholesterol\": 212, \"type_chestpain\": \"type4\", \"max_heart_rate\": 132, \"resting_bp\": 145, \"diagnosis\": \"high-risk heart disease\", \"predicted\": \"high-risk heart disease\"}, {\"cholesterol\": 237, \"type_chestpain\": \"type4\", \"max_heart_rate\": 71, \"resting_bp\": 120, \"diagnosis\": \"moderate-risk heart disease\", \"predicted\": \"moderate-risk heart disease\"}, {\"cholesterol\": 268, \"type_chestpain\": \"type3\", \"max_heart_rate\": 172, \"resting_bp\": 112, \"diagnosis\": \"low-risk heart disease\", \"predicted\": \"low-risk heart disease\"}, {\"cholesterol\": 293, \"type_chestpain\": \"type4\", \"max_heart_rate\": 170, \"resting_bp\": 140, \"diagnosis\": \"moderate-risk heart disease\", \"predicted\": \"moderate-risk heart disease\"}, {\"cholesterol\": 271, \"type_chestpain\": \"type2\", \"max_heart_rate\": 162, \"resting_bp\": 134, \"diagnosis\": \"low-risk heart disease\", \"predicted\": \"moderate-risk heart disease\"}, {\"cholesterol\": 304, \"type_chestpain\": \"type4\", \"max_heart_rate\": 162, \"resting_bp\": 125, \"diagnosis\": \"high-risk heart disease\", \"predicted\": \"high-risk heart disease\"}, {\"cholesterol\": 206, \"type_chestpain\": \"type4\", \"max_heart_rate\": 132, \"resting_bp\": 130, \"diagnosis\": \"high-risk heart disease\", \"predicted\": \"high-risk heart disease\"}, {\"cholesterol\": 184, \"type_chestpain\": \"type4\", \"max_heart_rate\": 105, \"resting_bp\": 132, \"diagnosis\": \"low-risk heart disease\", \"predicted\": \"moderate-risk heart disease\"}, {\"cholesterol\": 330, \"type_chestpain\": \"type4\", \"max_heart_rate\": 169, \"resting_bp\": 130, \"diagnosis\": \"low-risk heart disease\", \"predicted\": \"low-risk heart disease\"}, {\"cholesterol\": 249, \"type_chestpain\": \"type4\", \"max_heart_rate\": 144, \"resting_bp\": 120, \"diagnosis\": \"low-risk heart disease\", \"predicted\": \"low-risk heart disease\"}, {\"cholesterol\": 212, \"type_chestpain\": \"type4\", \"max_heart_rate\": 132, \"resting_bp\": 112, \"diagnosis\": \"moderate-risk heart disease\", \"predicted\": \"moderate-risk heart disease\"}, {\"cholesterol\": 231, \"type_chestpain\": \"type1\", \"max_heart_rate\": 182, \"resting_bp\": 120, \"diagnosis\": \"high-risk heart disease\", \"predicted\": \"high-risk heart disease\"}, {\"cholesterol\": 166, \"type_chestpain\": \"type4\", \"max_heart_rate\": 125, \"resting_bp\": 138, \"diagnosis\": \"high-risk heart disease\", \"predicted\": \"high-risk heart disease\"}, {\"cholesterol\": 212, \"type_chestpain\": \"type3\", \"max_heart_rate\": 150, \"resting_bp\": 152, \"diagnosis\": \"low-risk heart disease\", \"predicted\": \"low-risk heart disease\"}, {\"cholesterol\": 234, \"type_chestpain\": \"type1\", \"max_heart_rate\": 145, \"resting_bp\": 134, \"diagnosis\": \"moderate-risk heart disease\", \"predicted\": \"moderate-risk heart disease\"}, {\"cholesterol\": 233, \"type_chestpain\": \"type1\", \"max_heart_rate\": 150, \"resting_bp\": 145, \"diagnosis\": \"low-risk heart disease\", \"predicted\": \"low-risk heart disease\"}, {\"cholesterol\": 243, \"type_chestpain\": \"type4\", \"max_heart_rate\": 128, \"resting_bp\": 150, \"diagnosis\": \"high-risk heart disease\", \"predicted\": \"high-risk heart disease\"}, {\"cholesterol\": 200, \"type_chestpain\": \"type4\", \"max_heart_rate\": 126, \"resting_bp\": 144, \"diagnosis\": \"moderate-risk heart disease\", \"predicted\": \"moderate-risk heart disease\"}, {\"cholesterol\": 177, \"type_chestpain\": \"type3\", \"max_heart_rate\": 160, \"resting_bp\": 142, \"diagnosis\": \"low-risk heart disease\", \"predicted\": \"low-risk heart disease\"}, {\"cholesterol\": 228, \"type_chestpain\": \"type4\", \"max_heart_rate\": 165, \"resting_bp\": 178, \"diagnosis\": \"moderate-risk heart disease\", \"predicted\": \"moderate-risk heart disease\"}, {\"cholesterol\": 221, \"type_chestpain\": \"type2\", \"max_heart_rate\": 163, \"resting_bp\": 130, \"diagnosis\": \"low-risk heart disease\", \"predicted\": \"low-risk heart disease\"}, {\"cholesterol\": 230, \"type_chestpain\": \"type3\", \"max_heart_rate\": 165, \"resting_bp\": 112, \"diagnosis\": \"high-risk heart disease\", \"predicted\": \"high-risk heart disease\"}, {\"cholesterol\": 187, \"type_chestpain\": \"type4\", \"max_heart_rate\": 144, \"resting_bp\": 140, \"diagnosis\": \"moderate-risk heart disease\", \"predicted\": \"moderate-risk heart disease\"}, {\"cholesterol\": 212, \"type_chestpain\": \"type4\", \"max_heart_rate\": 132, \"resting_bp\": 145, \"diagnosis\": \"high-risk heart disease\", \"predicted\": \"high-risk heart disease\"}, {\"cholesterol\": 274, \"type_chestpain\": \"type4\", \"max_heart_rate\": 166, \"resting_bp\": 124, \"diagnosis\": \"moderate-risk heart disease\", \"predicted\": \"moderate-risk heart disease\"}, {\"cholesterol\": 197, \"type_chestpain\": \"type4\", \"max_heart_rate\": 136, \"resting_bp\": 124, \"diagnosis\": \"low-risk heart disease\", \"predicted\": \"low-risk heart disease\"}, {\"cholesterol\": 174, \"type_chestpain\": \"type4\", \"max_heart_rate\": 125, \"resting_bp\": 145, \"diagnosis\": \"high-risk heart disease\", \"predicted\": \"high-risk heart disease\"}, {\"cholesterol\": 266, \"type_chestpain\": \"type4\", \"max_heart_rate\": 109, \"resting_bp\": 124, \"diagnosis\": \"low-risk heart disease\", \"predicted\": \"low-risk heart disease\"}, {\"cholesterol\": 240, \"type_chestpain\": \"type3\", \"max_heart_rate\": 194, \"resting_bp\": 120, \"diagnosis\": \"low-risk heart disease\", \"predicted\": \"high-risk heart disease\"}, {\"cholesterol\": 234, \"type_chestpain\": \"type4\", \"max_heart_rate\": 161, \"resting_bp\": 135, \"diagnosis\": \"low-risk heart disease\", \"predicted\": \"low-risk heart disease\"}, {\"cholesterol\": 175, \"type_chestpain\": \"type3\", \"max_heart_rate\": 123, \"resting_bp\": 110, \"diagnosis\": \"low-risk heart disease\", \"predicted\": \"moderate-risk heart disease\"}, {\"cholesterol\": 318, \"type_chestpain\": \"type4\", \"max_heart_rate\": 140, \"resting_bp\": 114, \"diagnosis\": \"high-risk heart disease\", \"predicted\": \"high-risk heart disease\"}, {\"cholesterol\": 174, \"type_chestpain\": \"type4\", \"max_heart_rate\": 125, \"resting_bp\": 145, \"diagnosis\": \"high-risk heart disease\", \"predicted\": \"high-risk heart disease\"}, {\"cholesterol\": 254, \"type_chestpain\": \"type4\", \"max_heart_rate\": 163, \"resting_bp\": 125, \"diagnosis\": \"moderate-risk heart disease\", \"predicted\": \"moderate-risk heart disease\"}, {\"cholesterol\": 174, \"type_chestpain\": \"type4\", \"max_heart_rate\": 125, \"resting_bp\": 145, \"diagnosis\": \"high-risk heart disease\", \"predicted\": \"high-risk heart disease\"}, {\"cholesterol\": 164, \"type_chestpain\": \"type4\", \"max_heart_rate\": 145, \"resting_bp\": 160, \"diagnosis\": \"moderate-risk heart disease\", \"predicted\": \"moderate-risk heart disease\"}, {\"cholesterol\": 246, \"type_chestpain\": \"type4\", \"max_heart_rate\": 96, \"resting_bp\": 120, \"diagnosis\": \"moderate-risk heart disease\", \"predicted\": \"moderate-risk heart disease\"}, {\"cholesterol\": 203, \"type_chestpain\": \"type2\", \"max_heart_rate\": 132, \"resting_bp\": 135, \"diagnosis\": \"low-risk heart disease\", \"predicted\": \"high-risk heart disease\"}, {\"cholesterol\": 206, \"type_chestpain\": \"type4\", \"max_heart_rate\": 132, \"resting_bp\": 130, \"diagnosis\": \"high-risk heart disease\", \"predicted\": \"high-risk heart disease\"}, {\"cholesterol\": 200, \"type_chestpain\": \"type4\", \"max_heart_rate\": 126, \"resting_bp\": 144, \"diagnosis\": \"moderate-risk heart disease\", \"predicted\": \"moderate-risk heart disease\"}, {\"cholesterol\": 234, \"type_chestpain\": \"type4\", \"max_heart_rate\": 160, \"resting_bp\": 138, \"diagnosis\": \"low-risk heart disease\", \"predicted\": \"low-risk heart disease\"}, {\"cholesterol\": 308, \"type_chestpain\": \"type2\", \"max_heart_rate\": 170, \"resting_bp\": 128, \"diagnosis\": \"low-risk heart disease\", \"predicted\": \"low-risk heart disease\"}, {\"cholesterol\": 212, \"type_chestpain\": \"type4\", \"max_heart_rate\": 132, \"resting_bp\": 112, \"diagnosis\": \"moderate-risk heart disease\", \"predicted\": \"moderate-risk heart disease\"}, {\"cholesterol\": 288, \"type_chestpain\": \"type4\", \"max_heart_rate\": 133, \"resting_bp\": 200, \"diagnosis\": \"moderate-risk heart disease\", \"predicted\": \"moderate-risk heart disease\"}, {\"cholesterol\": 218, \"type_chestpain\": \"type3\", \"max_heart_rate\": 134, \"resting_bp\": 126, \"diagnosis\": \"moderate-risk heart disease\", \"predicted\": \"moderate-risk heart disease\"}, {\"cholesterol\": 341, \"type_chestpain\": \"type4\", \"max_heart_rate\": 136, \"resting_bp\": 132, \"diagnosis\": \"moderate-risk heart disease\", \"predicted\": \"moderate-risk heart disease\"}, {\"cholesterol\": 231, \"type_chestpain\": \"type1\", \"max_heart_rate\": 182, \"resting_bp\": 120, \"diagnosis\": \"high-risk heart disease\", \"predicted\": \"high-risk heart disease\"}, {\"cholesterol\": 237, \"type_chestpain\": \"type4\", \"max_heart_rate\": 71, \"resting_bp\": 120, \"diagnosis\": \"moderate-risk heart disease\", \"predicted\": \"moderate-risk heart disease\"}, {\"cholesterol\": 187, \"type_chestpain\": \"type4\", \"max_heart_rate\": 144, \"resting_bp\": 140, \"diagnosis\": \"moderate-risk heart disease\", \"predicted\": \"moderate-risk heart disease\"}, {\"cholesterol\": 230, \"type_chestpain\": \"type3\", \"max_heart_rate\": 165, \"resting_bp\": 112, \"diagnosis\": \"high-risk heart disease\", \"predicted\": \"high-risk heart disease\"}, {\"cholesterol\": 197, \"type_chestpain\": \"type3\", \"max_heart_rate\": 152, \"resting_bp\": 130, \"diagnosis\": \"low-risk heart disease\", \"predicted\": \"low-risk heart disease\"}, {\"cholesterol\": 281, \"type_chestpain\": \"type2\", \"max_heart_rate\": 103, \"resting_bp\": 120, \"diagnosis\": \"moderate-risk heart disease\", \"predicted\": \"moderate-risk heart disease\"}, {\"cholesterol\": 201, \"type_chestpain\": \"type4\", \"max_heart_rate\": 126, \"resting_bp\": 110, \"diagnosis\": \"low-risk heart disease\", \"predicted\": \"low-risk heart disease\"}, {\"cholesterol\": 212, \"type_chestpain\": \"type4\", \"max_heart_rate\": 168, \"resting_bp\": 125, \"diagnosis\": \"moderate-risk heart disease\", \"predicted\": \"moderate-risk heart disease\"}, {\"cholesterol\": 208, \"type_chestpain\": \"type2\", \"max_heart_rate\": 140, \"resting_bp\": 128, \"diagnosis\": \"low-risk heart disease\", \"predicted\": \"high-risk heart disease\"}, {\"cholesterol\": 212, \"type_chestpain\": \"type4\", \"max_heart_rate\": 132, \"resting_bp\": 145, \"diagnosis\": \"high-risk heart disease\", \"predicted\": \"high-risk heart disease\"}, {\"cholesterol\": 264, \"type_chestpain\": \"type1\", \"max_heart_rate\": 132, \"resting_bp\": 110, \"diagnosis\": \"low-risk heart disease\", \"predicted\": \"low-risk heart disease\"}, {\"cholesterol\": 243, \"type_chestpain\": \"type3\", \"max_heart_rate\": 137, \"resting_bp\": 150, \"diagnosis\": \"low-risk heart disease\", \"predicted\": \"low-risk heart disease\"}, {\"cholesterol\": 166, \"type_chestpain\": \"type4\", \"max_heart_rate\": 125, \"resting_bp\": 138, \"diagnosis\": \"high-risk heart disease\", \"predicted\": \"high-risk heart disease\"}, {\"cholesterol\": 243, \"type_chestpain\": \"type4\", \"max_heart_rate\": 128, \"resting_bp\": 150, \"diagnosis\": \"high-risk heart disease\", \"predicted\": \"high-risk heart disease\"}, {\"cholesterol\": 305, \"type_chestpain\": \"type4\", \"max_heart_rate\": 161, \"resting_bp\": 158, \"diagnosis\": \"low-risk heart disease\", \"predicted\": \"low-risk heart disease\"}, {\"cholesterol\": 212, \"type_chestpain\": \"type4\", \"max_heart_rate\": 168, \"resting_bp\": 125, \"diagnosis\": \"moderate-risk heart disease\", \"predicted\": \"moderate-risk heart disease\"}, {\"cholesterol\": 187, \"type_chestpain\": \"type4\", \"max_heart_rate\": 144, \"resting_bp\": 140, \"diagnosis\": \"moderate-risk heart disease\", \"predicted\": \"moderate-risk heart disease\"}, {\"cholesterol\": 289, \"type_chestpain\": \"type4\", \"max_heart_rate\": 145, \"resting_bp\": 160, \"diagnosis\": \"high-risk heart disease\", \"predicted\": \"high-risk heart disease\"}, {\"cholesterol\": 330, \"type_chestpain\": \"type4\", \"max_heart_rate\": 132, \"resting_bp\": 130, \"diagnosis\": \"moderate-risk heart disease\", \"predicted\": \"moderate-risk heart disease\"}, {\"cholesterol\": 325, \"type_chestpain\": \"type4\", \"max_heart_rate\": 154, \"resting_bp\": 180, \"diagnosis\": \"low-risk heart disease\", \"predicted\": \"moderate-risk heart disease\"}, {\"cholesterol\": 206, \"type_chestpain\": \"type4\", \"max_heart_rate\": 132, \"resting_bp\": 130, \"diagnosis\": \"high-risk heart disease\", \"predicted\": \"high-risk heart disease\"}, {\"cholesterol\": 417, \"type_chestpain\": \"type3\", \"max_heart_rate\": 157, \"resting_bp\": 140, \"diagnosis\": \"low-risk heart disease\", \"predicted\": \"moderate-risk heart disease\"}, {\"cholesterol\": 174, \"type_chestpain\": \"type4\", \"max_heart_rate\": 125, \"resting_bp\": 145, \"diagnosis\": \"high-risk heart disease\", \"predicted\": \"high-risk heart disease\"}, {\"cholesterol\": 206, \"type_chestpain\": \"type4\", \"max_heart_rate\": 108, \"resting_bp\": 110, \"diagnosis\": \"moderate-risk heart disease\", \"predicted\": \"moderate-risk heart disease\"}]}}, {\"mode\": \"vega-lite\"});\n",
       "</script>"
      ],
      "text/plain": [
       "alt.Chart(...)"
      ]
     },
     "execution_count": 17,
     "metadata": {},
     "output_type": "execute_result"
    }
   ],
   "source": [
    "predictions_hist = alt.Chart(heart_predictions).mark_bar().encode(\n",
    "    x = alt.X('predicted').title('Predicted Diagnosis'),\n",
    "    y = alt.Y('count()').title('Count of Predicted Diagnosis'),\n",
    "    column = alt.Column('diagnosis').title('Figure 6: Diagnosis'),\n",
    "    color = alt.Color('predicted').title('Predicted Diagnosis'),\n",
    ").properties(\n",
    "    height = 350,\n",
    "    width = 350,\n",
    ").configure_axisX(labelAngle = -40, titleFontSize = 12).configure_axis(titleFontSize = 12, labelFontSize = 12, labelAlign = 'center', labelPadding = 40)\n",
    "\n",
    "predictions_hist"
   ]
  },
  {
   "cell_type": "code",
   "execution_count": 18,
   "id": "5edc7a9b3280953",
   "metadata": {
    "collapsed": false,
    "jupyter": {
     "outputs_hidden": false
    }
   },
   "outputs": [
    {
     "data": {
      "text/html": [
       "\n",
       "<style>\n",
       "  #altair-viz-adf9713d29114ef19782d5443a92d094.vega-embed {\n",
       "    width: 100%;\n",
       "    display: flex;\n",
       "  }\n",
       "\n",
       "  #altair-viz-adf9713d29114ef19782d5443a92d094.vega-embed details,\n",
       "  #altair-viz-adf9713d29114ef19782d5443a92d094.vega-embed details summary {\n",
       "    position: relative;\n",
       "  }\n",
       "</style>\n",
       "<div id=\"altair-viz-adf9713d29114ef19782d5443a92d094\"></div>\n",
       "<script type=\"text/javascript\">\n",
       "  var VEGA_DEBUG = (typeof VEGA_DEBUG == \"undefined\") ? {} : VEGA_DEBUG;\n",
       "  (function(spec, embedOpt){\n",
       "    let outputDiv = document.currentScript.previousElementSibling;\n",
       "    if (outputDiv.id !== \"altair-viz-adf9713d29114ef19782d5443a92d094\") {\n",
       "      outputDiv = document.getElementById(\"altair-viz-adf9713d29114ef19782d5443a92d094\");\n",
       "    }\n",
       "    const paths = {\n",
       "      \"vega\": \"https://cdn.jsdelivr.net/npm/vega@5?noext\",\n",
       "      \"vega-lib\": \"https://cdn.jsdelivr.net/npm/vega-lib?noext\",\n",
       "      \"vega-lite\": \"https://cdn.jsdelivr.net/npm/vega-lite@5.16.3?noext\",\n",
       "      \"vega-embed\": \"https://cdn.jsdelivr.net/npm/vega-embed@6?noext\",\n",
       "    };\n",
       "\n",
       "    function maybeLoadScript(lib, version) {\n",
       "      var key = `${lib.replace(\"-\", \"\")}_version`;\n",
       "      return (VEGA_DEBUG[key] == version) ?\n",
       "        Promise.resolve(paths[lib]) :\n",
       "        new Promise(function(resolve, reject) {\n",
       "          var s = document.createElement('script');\n",
       "          document.getElementsByTagName(\"head\")[0].appendChild(s);\n",
       "          s.async = true;\n",
       "          s.onload = () => {\n",
       "            VEGA_DEBUG[key] = version;\n",
       "            return resolve(paths[lib]);\n",
       "          };\n",
       "          s.onerror = () => reject(`Error loading script: ${paths[lib]}`);\n",
       "          s.src = paths[lib];\n",
       "        });\n",
       "    }\n",
       "\n",
       "    function showError(err) {\n",
       "      outputDiv.innerHTML = `<div class=\"error\" style=\"color:red;\">${err}</div>`;\n",
       "      throw err;\n",
       "    }\n",
       "\n",
       "    function displayChart(vegaEmbed) {\n",
       "      vegaEmbed(outputDiv, spec, embedOpt)\n",
       "        .catch(err => showError(`Javascript Error: ${err.message}<br>This usually means there's a typo in your chart specification. See the javascript console for the full traceback.`));\n",
       "    }\n",
       "\n",
       "    if(typeof define === \"function\" && define.amd) {\n",
       "      requirejs.config({paths});\n",
       "      require([\"vega-embed\"], displayChart, err => showError(`Error loading script: ${err.message}`));\n",
       "    } else {\n",
       "      maybeLoadScript(\"vega\", \"5\")\n",
       "        .then(() => maybeLoadScript(\"vega-lite\", \"5.16.3\"))\n",
       "        .then(() => maybeLoadScript(\"vega-embed\", \"6\"))\n",
       "        .catch(showError)\n",
       "        .then(() => displayChart(vegaEmbed));\n",
       "    }\n",
       "  })({\"config\": {\"view\": {\"continuousWidth\": 300, \"continuousHeight\": 300}, \"axis\": {\"labelAlign\": \"center\", \"labelFontSize\": 12, \"labelPadding\": 40, \"titleFontSize\": 12}, \"axisX\": {\"labelAngle\": 0, \"titleFontSize\": 12}}, \"data\": {\"name\": \"data-6369cf061190b4d45a05307dfe86a3e9\"}, \"mark\": {\"type\": \"bar\"}, \"encoding\": {\"color\": {\"field\": \"risk\", \"title\": \"Diagnosis Type\", \"type\": \"nominal\"}, \"column\": {\"field\": \"risk\", \"title\": \"Figure 7: Risk Type\", \"type\": \"nominal\"}, \"x\": {\"field\": \"type\", \"title\": \"Diagnosis Type\", \"type\": \"nominal\"}, \"y\": {\"field\": \"count\", \"title\": \"Count of Diagnosis\", \"type\": \"quantitative\"}}, \"height\": 350, \"width\": 350, \"$schema\": \"https://vega.github.io/schema/vega-lite/v5.16.3.json\", \"datasets\": {\"data-6369cf061190b4d45a05307dfe86a3e9\": [{\"type\": \"diagnosis\", \"risk\": \"low-risk heart disease\", \"count\": 55}, {\"type\": \"predicted\", \"risk\": \"low-risk heart disease\", \"count\": 41}, {\"type\": \"diagnosis\", \"risk\": \"moderate-risk heart disease\", \"count\": 55}, {\"type\": \"predicted\", \"risk\": \"moderate-risk heart disease\", \"count\": 65}, {\"type\": \"diagnosis\", \"risk\": \"high-risk heart disease\", \"count\": 55}, {\"type\": \"predicted\", \"risk\": \"high-risk heart disease\", \"count\": 59}]}}, {\"mode\": \"vega-lite\"});\n",
       "</script>"
      ],
      "text/plain": [
       "alt.Chart(...)"
      ]
     },
     "execution_count": 18,
     "metadata": {},
     "output_type": "execute_result"
    }
   ],
   "source": [
    "# Isolate the predicted and actual diagnosis\n",
    "heart_predictions = heart_predictions[['diagnosis', 'predicted']]\n",
    "\n",
    "# create a dataframe for the bar chart\n",
    "heart_disease_result = pd.DataFrame({\n",
    "    'type': ['diagnosis',\n",
    "             'predicted',\n",
    "             'diagnosis',\n",
    "             'predicted',\n",
    "             'diagnosis',\n",
    "             'predicted'],\n",
    "    'risk': ['low-risk heart disease',\n",
    "             'low-risk heart disease',\n",
    "             'moderate-risk heart disease',\n",
    "             'moderate-risk heart disease',\n",
    "             'high-risk heart disease',\n",
    "             'high-risk heart disease'],\n",
    "    'count' : [heart_predictions[(heart_predictions['diagnosis'] == 'low-risk heart disease')].shape[0],\n",
    "               heart_predictions[(heart_predictions['predicted'] == 'low-risk heart disease')].shape[0],\n",
    "               heart_predictions[(heart_predictions['diagnosis'] == 'moderate-risk heart disease')].shape[0],\n",
    "               heart_predictions[(heart_predictions['predicted'] == 'moderate-risk heart disease')].shape[0],\n",
    "               heart_predictions[(heart_predictions['diagnosis'] == 'high-risk heart disease')].shape[0],\n",
    "               heart_predictions[(heart_predictions['predicted'] == 'high-risk heart disease')].shape[0]]\n",
    "})\n",
    "\n",
    "# draw the bar chart\n",
    "heart_disease_result_bar = alt.Chart(heart_disease_result).mark_bar().encode(\n",
    "    x = alt.X('type', title = 'Diagnosis Type'),\n",
    "    y = alt.Y('count', title = 'Count of Diagnosis'),\n",
    "    color = alt.Color('risk', title = 'Diagnosis Type'),\n",
    "    column = alt.Column('risk', title = 'Figure 7: Risk Type')\n",
    ").properties(\n",
    "    height = 350,\n",
    "    width = 350,\n",
    ").configure_axisX(labelAngle = 0, titleFontSize = 12).configure_axis(titleFontSize = 12, labelFontSize = 12, labelAlign = 'center', labelPadding = 40)\n",
    "\n",
    "heart_disease_result_bar"
   ]
  },
  {
   "cell_type": "markdown",
   "id": "ae9ebd9c-a1a2-4d1d-a754-56dcc8dd2488",
   "metadata": {},
   "source": [
    "## Discussion\n",
    "\n",
    "This K-nearest neighbours classification analysis of a heart disease dataset allowed us to demonstrate a link between certain health metrics of blood pressure, cholesterol and heart rate to the diagnosis of heart disease. The classifier created in this report demonstrated a high overall accuracy of 90% and performed well in identifying high-risk cases, with slightly lower performance in predicting low-risk and moderate-risk heart disease (Figure 6, 7). An evaluation of the analysis using a confusion matrix (table 5) indicated a high degree of precision and recall across different risk categories. The results emphasized the model’s strength in identifying high-risk cases with a precision of 93% and a recall of 100%. Low-risk and moderate-risk heart disease measured at 98% and 82% precision coupled with 73% and 96% recall respectively. The trade-off in recall measurements for moderate- and low-risk heart disease diagnosis indicates the model has slightly less sensitivity for predicting instances of these diagnoses. However, it is important to highlight that the model excels in identifying high-risk heart disease, which is particularly significant because of the severity of this category. A high-degree of performance for this risk level is crucial for early treatment and better outcomes for critical cases. \n",
    "\n",
    "Based on several previous research studies, our team expected a strong relationship between heart disease diagnosis and blood pressure, cholesterol and heart rate symptoms (Fuchs et al., 2020; Hjalmarson et al., 2007; Arnold et al., 2008). In particular, the literature indicated correlations between higher-risk heart disease diagnosis and high blood pressure, high cholesterol serum, and increased heart rate. Our expectations aligned with the effectiveness demonstrated by the model in predicting diagnoses based on these symptoms.\n",
    "\n",
    "This analysis successfully developed a K-nearest neighbours classification model designed to diagnose heart disease. The model uses readily available health metrics accessible to individuals in Canada, enabling self-monitoring of blood pressure, cholesterol and heart rate symptoms for detection of heart disease risk levels. By designing a model for recognizing heart disease risk using common symptoms, this algorithm can provide individuals more context for the severity of their symptoms that require urgent health care consultations. Furthermore, this project will allow future studies to question whether genetic, environmental or demographics can refine these predictions.\n"
   ]
  },
  {
   "cell_type": "markdown",
   "id": "dba5d2dd-cc73-4042-b5f1-d84b6275a1b7",
   "metadata": {
    "jupyter": {
     "outputs_hidden": false
    }
   },
   "source": [
    "## References\n",
    "\n",
    "Wiliamson, Laura. “Undiagnosed Heart Disease May Be Common in People with Heart Attacks Not Caused by Clots.” Www.Heart.Org, American Heart Association News, 24 Jan. 2023, www.heart.org/en/news/2022/03/28/undiagnosed-heart-disease-may-be-common-in-people-with-heart-attacks-not-caused-by-clots\n",
    "\n",
    "Fuchs FD, Whelton PK. High Blood Pressure and Cardiovascular Disease. Hypertension. 2020 Feb;75(2):285-292. doi: 10.1161/HYPERTENSIONAHA.119.14240. Epub 2019 Dec 23. PMID: 31865786; PMCID: PMC10243231.\n",
    "\n",
    "Åke Hjalmarson, Heart rate: an independent risk factor in cardiovascular disease, European Heart Journal Supplements, Volume 9, Issue suppl_F, September 2007, Pages F3–F7, https://doi.org/10.1093/eurheartj/sum030\n",
    "\n",
    "Arnold JM, Fitchett DH, Howlett JG, Lonn EM, Tardif JC. Resting heart rate: a modifiable prognostic indicator of cardiovascular risk and outcomes? Can J Cardiol. 2008 May;24 Suppl A(Suppl A):3A-8A. doi: 10.1016/s0828-282x(08)71019-5. PMID: 18437251; PMCID: PMC2787005.\n",
    "\n",
    "Haasenritter J, Stanze D, Widera G, Wilimzig C, Abu Hani M, Sonnichsen AC, Bosner S, Rochon J, Donner-Banzhoff N. Does the patient with chest pain have a coronary heart disease? Diagnostic value of single symptoms and signs--a meta-analysis. Croat Med J. 2012 Oct;53(5):432-41. doi: 10.3325/cmj.2012.53.432. PMID: 23100205; PMCID: PMC3490454.\n",
    "\n",
    "Janosi,Andras, Steinbrunn,William, Pfisterer,Matthias, and Detrano,Robert. (1988). Heart Disease. UCI Machine Learning Repository. https://doi.org/10.24432/C52P4X."
   ]
  },
  {
   "cell_type": "code",
   "execution_count": null,
   "id": "1b105f7c-eefe-411c-8824-950db30b0883",
   "metadata": {},
   "outputs": [],
   "source": []
  }
 ],
 "metadata": {
  "kernelspec": {
   "display_name": "Python 3 (ipykernel)",
   "language": "python",
   "name": "python3"
  },
  "language_info": {
   "codemirror_mode": {
    "name": "ipython",
    "version": 3
   },
   "file_extension": ".py",
   "mimetype": "text/x-python",
   "name": "python",
   "nbconvert_exporter": "python",
   "pygments_lexer": "ipython3",
   "version": "3.10.8"
  }
 },
 "nbformat": 4,
 "nbformat_minor": 5
}
