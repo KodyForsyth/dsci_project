{
 "cells": [
  {
   "cell_type": "markdown",
   "id": "53931957-3afa-48ef-9400-dfe18468904d",
   "metadata": {},
   "source": [
    "# REPORT: Predicting Risk of Heart Disease from Accessible Health Metrics\n",
    "\n",
    "## Introduction:\n",
    "\n",
    "According to the Public Health Agency of Canada, heart disease is the second leading cause of death in Canada, with approximately 1 in 12 Canadian adults over 20 living with a diagnosis. These metrics highlight the importance of knowing the risk factors and having access to medical advice. However, a shortage of physicians in Canada is causing a lack of available health care (Flood et al., 2023). Non-healthcare professionals do not have the means to properly self-evaluate symptoms, therefore our project seeks to help the general population to make informative decisions about heart disease symptoms that are self-monitored or easily accessible.\n",
    "\n",
    "\n",
    "Thus we ask, is it possible to classify individuals into levels of heart disease risk (low risk, moderate risk, or high risk) based on blood pressure, cholesterol, heart rate and chest pain?\n",
    "\n",
    "\n",
    "Our analysis will use the Heart Disease dataset from the Cleveland database for heart disease (Andras et al., 1988). This database consists of 303 patients without history of heart disease, who were admitted to the Cleveland Clinic between 1981 and 1984. \n",
    "\n"
   ]
  },
  {
   "cell_type": "code",
   "execution_count": null,
   "id": "fced25bca234fedc",
   "metadata": {
    "ExecuteTime": {
     "end_time": "2023-11-02T05:30:38.211392Z",
     "start_time": "2023-11-02T05:30:38.207980Z"
    },
    "collapsed": false,
    "jupyter": {
     "outputs_hidden": false
    }
   },
   "outputs": [],
   "source": [
    "# Please uncomment the following cell to install the altair in case your package is not up-to-date"
   ]
  },
  {
   "cell_type": "code",
   "execution_count": null,
   "id": "ae526daf547a0a67",
   "metadata": {
    "ExecuteTime": {
     "end_time": "2023-11-02T05:30:38.640844Z",
     "start_time": "2023-11-02T05:30:38.638906Z"
    },
    "collapsed": false,
    "jupyter": {
     "outputs_hidden": false
    },
    "tags": []
   },
   "outputs": [],
   "source": [
    "# pip install -U altair"
   ]
  },
  {
   "cell_type": "code",
   "execution_count": null,
   "id": "7faedbd6",
   "metadata": {
    "ExecuteTime": {
     "end_time": "2023-11-02T05:30:40.110177Z",
     "start_time": "2023-11-02T05:30:38.971103Z"
    },
    "tags": []
   },
   "outputs": [],
   "source": [
    "import altair as alt\n",
    "import pandas as pd\n",
    "import numpy as np\n",
    "from sklearn.model_selection import train_test_split\n",
    "from sklearn import set_config\n",
    "from sklearn.metrics import confusion_matrix\n",
    "from sklearn.model_selection import GridSearchCV, cross_validate\n",
    "from sklearn.neighbors import KNeighborsClassifier\n",
    "from sklearn.preprocessing import StandardScaler\n",
    "from sklearn.compose import make_column_transformer\n",
    "from sklearn.utils import resample\n",
    "from sklearn.pipeline import make_pipeline"
   ]
  },
  {
   "cell_type": "markdown",
   "id": "eb8be799-df4e-402a-a258-2cc110ea5609",
   "metadata": {},
   "source": [
    "## Loading the Heart Disease Dataset\n",
    "\n",
    "Here, the Heart Disease dataset from UC Irvine Machine Learning Repository is loaded into the notebook. We also rename the variables within the 'diagnosis' and 'chest pain' columns into more meaningful names.  \n",
    "> For the 'diagnosis' column indicating the risk level of a heart disease diagnosis : \n",
    "<br>\n",
    "> 0,1 is represented as \"low-risk diagnosis\"\n",
    "<br>\n",
    "> 2,3 is represented as \"moderate-risk diagnosis\"\n",
    "<br>\n",
    "> 4 is represented as \"high-risk diagnosis\""
   ]
  },
  {
   "cell_type": "code",
   "execution_count": null,
   "id": "193a4861",
   "metadata": {
    "ExecuteTime": {
     "end_time": "2023-11-02T05:52:31.955643Z",
     "start_time": "2023-11-02T05:52:31.780370Z"
    },
    "tags": []
   },
   "outputs": [],
   "source": [
    "#load the data\n",
    "heartdisease = pd.read_csv(\"https://archive.ics.uci.edu/static/public/45/data.csv\")\n",
    "\n",
    "#extract and rename the columns with data that is required\n",
    "heartdisease = heartdisease[[\"chol\",\"cp\",\"thalach\",\"trestbps\",\"num\"]]\n",
    "heartdisease.rename(columns = {\n",
    "                          \"chol\" : \"cholesterol\", \n",
    "                          \"cp\":\"type_chestpain\",\n",
    "                          \"thalach\" : \"max_heart_rate\",\n",
    "                          \"num\" : \"diagnosis\",\n",
    "                          \"trestbps\" : \"resting_bp\"\n",
    "}, inplace = True)\n",
    "\n",
    "# renaming variables in the 'diagnosis' column with readable and explicit labels\n",
    "heartdisease['diagnosis'] = heartdisease['diagnosis'].replace([0,1], \"low-risk heart disease\")\n",
    "heartdisease['diagnosis'] = heartdisease['diagnosis'].replace([2,3], \"moderate-risk heart disease\")\n",
    "heartdisease['diagnosis'] = heartdisease['diagnosis'].replace([4], \"high-risk heart disease\")\n",
    "\n",
    "# renaming variables in the 'chest pain' column with readable and explicit labels\n",
    "heartdisease['type_chestpain'] = heartdisease['type_chestpain'].replace(\n",
    "    [1,2,3,4],\n",
    "    [\"type1\",\"type2\",\"type3\",\"type4\"])\n",
    "\n",
    "heartdisease"
   ]
  },
  {
   "cell_type": "markdown",
   "id": "89866fe4-8736-4e83-9117-f915df57ad08",
   "metadata": {},
   "source": [
    "## Wrangling the Data\n",
    "\n",
    "For our preliminary analysis, we have shown that the unique labels in the 'diagnosis' column are unbalanced, so we have resolved this by oversampling the rare classes, which are the \"moderate-\" and \"high-risk disease\" classes."
   ]
  },
  {
   "cell_type": "code",
   "execution_count": null,
   "id": "f53c7d26-0dd8-4f60-9286-28898602ae23",
   "metadata": {
    "tags": []
   },
   "outputs": [],
   "source": [
    "# unbalanced diagnoses, must resample\n",
    "heartdisease['diagnosis'].value_counts(normalize = True)"
   ]
  },
  {
   "cell_type": "code",
   "execution_count": null,
   "id": "b9680d72-0a18-45d6-9c23-f710b2e061d3",
   "metadata": {
    "tags": []
   },
   "outputs": [],
   "source": [
    "np.random.seed(5432)\n",
    "\n",
    "# separate the classes out into their own data frames by filtering\n",
    "high_risk = heartdisease[heartdisease[\"diagnosis\"] == \"high-risk heart disease\"]\n",
    "moderate_risk = heartdisease[heartdisease[\"diagnosis\"] == \"moderate-risk heart disease\"]\n",
    "low_risk = heartdisease[heartdisease[\"diagnosis\"] == \"low-risk heart disease\"]\n",
    "\n",
    "# increase the number of rare observations to the same as the number of non-rare observations\n",
    "high_risk_upsample = resample(high_risk, n_samples = low_risk.shape[0])\n",
    "moderate_risk_upsample = resample(moderate_risk, n_samples = low_risk.shape[0])\n",
    "\n",
    "# combine observations show that the classes are now balanced\n",
    "heartdisease = pd.concat((high_risk_upsample, moderate_risk_upsample, low_risk))\n",
    "heartdisease['diagnosis'].value_counts(normalize = True)"
   ]
  },
  {
   "cell_type": "markdown",
   "id": "5fd202f6-2c82-4a47-ac52-a114836ce68d",
   "metadata": {},
   "source": [
    "## Split into Training and Testing Data sets\n",
    "\n",
    "We have split the data set so that 75% of our original data set ends up in the training set. We will also set the stratify argument to the categorical label variable, 'diagnosis', to ensure that the training and testing subsets contain the right proportions of each category of observation."
   ]
  },
  {
   "cell_type": "code",
   "execution_count": null,
   "id": "4ff98677",
   "metadata": {
    "ExecuteTime": {
     "end_time": "2023-11-02T05:32:35.285463Z",
     "start_time": "2023-11-02T05:32:35.266044Z"
    },
    "tags": []
   },
   "outputs": [],
   "source": [
    "# split into train and test\n",
    "heartdisease_train, heartdisease_test = train_test_split(\n",
    "    heartdisease, train_size=0.75, stratify = heartdisease['diagnosis']\n",
    ")"
   ]
  },
  {
   "cell_type": "markdown",
   "id": "810cbaba-8542-414d-8edd-5b54a3f20c17",
   "metadata": {},
   "source": [
    "## Summary of the Categorical and Continuous Variables\n",
    "\n",
    "Here we show an overall summary of the variables: \n",
    "<br>\n",
    "**For the categorical variables**: the number of observations (count), the unique labels, the most frequent value (top) and the frequency of the top value.\n",
    "<br>\n",
    "**For the continuous variables**: the number of observations (count), the mean and standard deviation of the observations, the min and the max values and the 25th, 50th, and 75th percentiles of each column of variables for the training set. "
   ]
  },
  {
   "cell_type": "code",
   "execution_count": null,
   "id": "9cf355c304d9009d",
   "metadata": {
    "ExecuteTime": {
     "end_time": "2023-11-02T05:56:04.301291Z",
     "start_time": "2023-11-02T05:56:04.292244Z"
    },
    "collapsed": false,
    "jupyter": {
     "outputs_hidden": false
    },
    "tags": []
   },
   "outputs": [],
   "source": [
    "# Summary of the categorical variables\n",
    "heart_disease_categorical = heart_disease_train.drop(columns = [\"cholesterol\",\"max_heart_rate\",\"resting_bp\"])\n",
    "heart_disease_categorical.describe()"
   ]
  },
  {
   "cell_type": "code",
   "execution_count": null,
   "id": "61bffd03feb24315",
   "metadata": {
    "ExecuteTime": {
     "end_time": "2023-11-02T05:57:53.512780Z",
     "start_time": "2023-11-02T05:57:53.503871Z"
    },
    "collapsed": false,
    "jupyter": {
     "outputs_hidden": false
    },
    "tags": []
   },
   "outputs": [],
   "source": [
    "# Summary of the continuous variables\n",
    "heart_disease_continuous = heart_disease_train.drop(columns = [\"type_chestpain\",\"diagnosis\"])\n",
    "heart_disease_continuous.describe()"
   ]
  },
  {
   "cell_type": "markdown",
   "id": "b23c42fe-e190-447e-9dc3-05b623384d4a",
   "metadata": {},
   "source": [
    "## Distribution of the Variables in Training Set\n",
    "\n",
    "Here we visualize the distribution of the measurements for each variable on the training set along with the diagnosis associated with the measurements with bar graphs. The diagnosis is represented with distinct colors. "
   ]
  },
  {
   "cell_type": "code",
   "execution_count": null,
   "id": "a6693ab46de7002c",
   "metadata": {
    "ExecuteTime": {
     "end_time": "2023-11-02T05:32:35.749573Z",
     "start_time": "2023-11-02T05:32:35.734507Z"
    },
    "collapsed": false,
    "jupyter": {
     "outputs_hidden": false
    },
    "tags": []
   },
   "outputs": [],
   "source": [
    "# distribution of blood pressure measurements\n",
    "bp_hist = alt.Chart(heart_disease_train).mark_bar().encode(\n",
    "    x=alt.X(\"resting_bp:Q\", bin = True).title(\"Blood Pressure\"),\n",
    "    y=alt.Y(\"count()\").stack(False),\n",
    "    color=\"diagnosis:N\"\n",
    ").properties(\n",
    "    title = \"Distribution of Blood Pressure\"\n",
    ")\n",
    "\n",
    "# distribution of cholesterol measurements\n",
    "chol_hist = alt.Chart(heart_disease_train).mark_bar().encode(\n",
    "    x=alt.X(\"cholesterol:Q\", bin = True).title(\"Cholesterol\"),\n",
    "    y=alt.Y(\"count()\").stack(False),\n",
    "    color = \"diagnosis:N\"\n",
    ").properties(\n",
    "    title = \"Distribution of Cholesterol\"\n",
    ")\n",
    "\n",
    "# distribution of chest pain type measurements\n",
    "cp_hist = alt.Chart(heart_disease_train).mark_bar().encode(\n",
    "    x=alt.X(\"type_chestpain\").title(\"Chest Pain Type\"),\n",
    "    y=alt.Y(\"count()\").stack(False),\n",
    "    color = \"diagnosis:N\"\n",
    ").properties(\n",
    "    width=300,\n",
    "    height=300,\n",
    "    title = \"Distribution of Chest Pain Type\"\n",
    ")\n",
    "\n",
    "# distribution of heart rate measurements\n",
    "hr_hist = alt.Chart(heart_disease_train).mark_bar().encode(\n",
    "    x=alt.X(\"max_heart_rate:Q\", bin = True).title(\"Heart Rate\"),\n",
    "    y=alt.Y(\"count()\").stack(False),\n",
    "    color = \"diagnosis:N\"\n",
    ").properties(\n",
    "    title = \"Distribution of Heart Rate\"\n",
    ")\n",
    "\n",
    "\n",
    "combined_charts = bp_hist | chol_hist | cp_hist | hr_hist\n",
    "combined_charts"
   ]
  },
  {
   "cell_type": "markdown",
   "id": "1eef8031-1760-49dc-a4fb-0d75c1d799dd",
   "metadata": {},
   "source": [
    "## Standardize the Data Set\n",
    "\n",
    "We created a pipeline that specifies the preprocessing steps and the K-neighbors classifier. Then we defined the parameter grid to show the range of K-values that will be tuned. GridSearchCV is utilized to estimate the classifier accuracy for the range. Following, we executed the grid search by passing the training data to the fit method, and visualized the results with a line plot. "
   ]
  },
  {
   "cell_type": "code",
   "execution_count": null,
   "id": "9c453690-21ef-485b-8fe7-8684c3983e11",
   "metadata": {
    "tags": []
   },
   "outputs": [],
   "source": [
    "# create a preprocessor\n",
    "heartdisease_preprocessor = make_column_transformer(\n",
    "    (StandardScaler(), [\"cholesterol\", \"max_heart_rate\", \"resting_bp\"]),\n",
    "    remainder = 'passthrough',\n",
    "    verbose_feature_names_out = False\n",
    ")"
   ]
  },
  {
   "cell_type": "code",
   "execution_count": null,
   "id": "6d7f051b-c0f1-4c16-a3dd-cd0ccde27948",
   "metadata": {
    "tags": []
   },
   "outputs": [],
   "source": [
    "# create a pipeline\n",
    "heartdisease_pipe = make_pipeline(heartdisease_preprocessor, KNeighborsClassifier())\n",
    "\n",
    "# create parameter grid\n",
    "param_grid = {\n",
    "    \"kneighborsclassifier__n_neighbors\": range(2, 20),\n",
    "}\n",
    "\n",
    "# estimate the classifier accuracy for the range of values\n",
    "gridsearch = GridSearchCV(\n",
    "    estimator = heartdisease_pipe,\n",
    "    param_grid = param_grid,\n",
    "    cv = 5,\n",
    "    n_jobs = -1,\n",
    "    return_train_score = True\n",
    ")\n",
    "\n",
    "cv_results = pd.DataFrame(gridsearch.fit(heartdisease_train[['cholesterol','max_heart_rate','resting_bp']], \n",
    "                                         heartdisease_train['diagnosis'])\n",
    "                          .cv_results_)\n",
    "\n",
    "# plot the accuracy of the K-values with line-plot\n",
    "crossvalplot = alt.Chart(cv_results).mark_line(point = True).encode(\n",
    "    x = alt.X(\"param_kneighborsclassifier__n_neighbors\").title(\"K Value\"),\n",
    "    y = alt.Y(\"mean_test_score\").title(\"Accuracy\").scale(zero = False)\n",
    ")\n",
    "\n",
    "crossvalplot"
   ]
  },
  {
   "cell_type": "markdown",
   "id": "6747a1f3-cc20-4c27-93eb-f54ed4c7c77d",
   "metadata": {},
   "source": [
    "We show that the best K-parameter is 2, because it provides optimal accuracy, it is not too large to become prohibitive of the model and changing the value to a nearby one would not change the accuracy too much. "
   ]
  },
  {
   "cell_type": "code",
   "execution_count": null,
   "id": "979917b4-7cfe-4aa6-8433-414036962d78",
   "metadata": {
    "tags": []
   },
   "outputs": [],
   "source": [
    "# create a new model object for the best parameter value\n",
    "knn_spec = KNeighborsClassifier(n_neighbors = 2)\n",
    "heartdisease_fit = make_pipeline(heartdisease_preprocessor, knn_spec).fit(heartdisease_train[['cholesterol','max_heart_rate','resting_bp']], heartdisease_train['diagnosis'])\n",
    "\n",
    "heartdisease_fit"
   ]
  },
  {
   "cell_type": "code",
   "execution_count": null,
   "id": "8bf5a07a-7121-45df-9934-e41b07241631",
   "metadata": {
    "tags": []
   },
   "outputs": [],
   "source": [
    "# add predictions to dataframe\n",
    "heartdisease_predictions = heartdisease_test.assign(predicted = heartdisease_fit.predict(heartdisease_test[['cholesterol', 'max_heart_rate', 'resting_bp']]))\n",
    "heartdisease_predictions\n"
   ]
  },
  {
   "cell_type": "markdown",
   "id": "8da7cede-815d-4dbd-bb6a-09d13f671c9a",
   "metadata": {},
   "source": [
    "## Accuracy"
   ]
  },
  {
   "cell_type": "code",
   "execution_count": null,
   "id": "de7c49d9-d7a3-4e00-a355-d0fdda569704",
   "metadata": {},
   "outputs": [],
   "source": [
    "# test model's accuracy \n",
    "heartdisease_acc = heartdisease_fit.score(\n",
    "    X = heartdisease_test[['cholesterol','max_heart_rate','resting_bp']],\n",
    "    y = heartdisease_test['diagnosis']\n",
    ")\n",
    "\n",
    "heartdisease_acc"
   ]
  },
  {
   "cell_type": "code",
   "execution_count": null,
   "id": "88cd156e-92e8-4ecf-b031-ae4f54459e6b",
   "metadata": {
    "tags": []
   },
   "outputs": [],
   "source": [
    "# test models accuracy\n",
    "correct_preds = heartdisease_predictions[\n",
    "    heartdisease_predictions['diagnosis'] == heartdisease_predictions['predicted']\n",
    "]\n",
    "\n",
    "correct_preds.shape[0] / heartdisease_predictions.shape[0]"
   ]
  },
  {
   "cell_type": "code",
   "execution_count": null,
   "id": "d6dae4af-787d-4d40-b935-bf7714c02ed7",
   "metadata": {
    "tags": []
   },
   "outputs": [],
   "source": [
    "pd.crosstab(\n",
    "    heartdisease_predictions['diagnosis'],\n",
    "    heartdisease_predictions['predicted']\n",
    ")"
   ]
  }
 ],
 "metadata": {
  "kernelspec": {
   "display_name": "Python 3 (ipykernel)",
   "language": "python",
   "name": "python3"
  },
  "language_info": {
   "codemirror_mode": {
    "name": "ipython",
    "version": 3
   },
   "file_extension": ".py",
   "mimetype": "text/x-python",
   "name": "python",
   "nbconvert_exporter": "python",
   "pygments_lexer": "ipython3",
   "version": "3.10.8"
  }
 },
 "nbformat": 4,
 "nbformat_minor": 5
}
