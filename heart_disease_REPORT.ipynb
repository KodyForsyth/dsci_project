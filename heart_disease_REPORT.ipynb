{
 "cells": [
  {
   "cell_type": "markdown",
   "id": "53931957-3afa-48ef-9400-dfe18468904d",
   "metadata": {},
   "source": [
    "# REPORT: Predicting Risk of Heart Disease from Accessible Health Metrics\n",
    "\n",
    "## Introduction:\n",
    "\n",
    "According to the Public Health Agency of Canada, heart disease is the second leading cause of death in Canada, with approximately 1 in 12 Canadian adults over 20 living with a diagnosis. These metrics highlight the importance of knowing the risk factors and having access to medical advice. However, a shortage of physicians in Canada is causing a lack of available health care (Flood et al., 2023). Non-healthcare professionals do not have the means to properly self-evaluate symptoms, therefore our project seeks to help the general population to make informative decisions about heart disease symptoms that are self-monitored or easily accessible.\n",
    "\n",
    "\n",
    "Thus we ask, is it possible to classify individuals into levels of heart disease risk (low risk, moderate risk, or high risk) based on blood pressure, cholesterol, heart rate and chest pain?\n",
    "\n",
    "\n",
    "Our analysis will use the Heart Disease dataset from the Cleveland database for heart disease (Andras et al., 1988). This database consists of 303 patients without history of heart disease, who were admitted to the Cleveland Clinic between 1981 and 1984. \n",
    "\n"
   ]
  },
  {
   "cell_type": "code",
   "execution_count": 1,
   "id": "fced25bca234fedc",
   "metadata": {
    "ExecuteTime": {
     "end_time": "2023-11-02T05:30:38.211392Z",
     "start_time": "2023-11-02T05:30:38.207980Z"
    },
    "collapsed": false,
    "jupyter": {
     "outputs_hidden": false
    }
   },
   "outputs": [],
   "source": [
    "# Please uncomment the following cell to install the altair in case your package is not up-to-date"
   ]
  },
  {
   "cell_type": "code",
   "execution_count": 2,
   "id": "ae526daf547a0a67",
   "metadata": {
    "ExecuteTime": {
     "end_time": "2023-11-02T05:30:38.640844Z",
     "start_time": "2023-11-02T05:30:38.638906Z"
    },
    "collapsed": false,
    "jupyter": {
     "outputs_hidden": false
    },
    "tags": []
   },
   "outputs": [],
   "source": [
    "# pip install -U altair"
   ]
  },
  {
   "cell_type": "code",
   "execution_count": 3,
   "id": "7faedbd6",
   "metadata": {
    "ExecuteTime": {
     "end_time": "2023-11-02T05:30:40.110177Z",
     "start_time": "2023-11-02T05:30:38.971103Z"
    },
    "tags": []
   },
   "outputs": [],
   "source": [
    "import altair as alt\n",
    "import pandas as pd\n",
    "import numpy as np\n",
    "from sklearn.model_selection import train_test_split\n",
    "from sklearn import set_config\n",
    "from sklearn.metrics import confusion_matrix\n",
    "from sklearn.model_selection import GridSearchCV, cross_validate\n",
    "from sklearn.neighbors import KNeighborsClassifier\n",
    "from sklearn.preprocessing import StandardScaler\n",
    "from sklearn.compose import make_column_transformer\n",
    "from sklearn.utils import resample"
   ]
  },
  {
   "cell_type": "code",
   "execution_count": 4,
   "id": "193a4861",
   "metadata": {
    "ExecuteTime": {
     "end_time": "2023-11-02T05:52:31.955643Z",
     "start_time": "2023-11-02T05:52:31.780370Z"
    },
    "tags": []
   },
   "outputs": [
    {
     "data": {
      "text/html": [
       "<div>\n",
       "<style scoped>\n",
       "    .dataframe tbody tr th:only-of-type {\n",
       "        vertical-align: middle;\n",
       "    }\n",
       "\n",
       "    .dataframe tbody tr th {\n",
       "        vertical-align: top;\n",
       "    }\n",
       "\n",
       "    .dataframe thead th {\n",
       "        text-align: right;\n",
       "    }\n",
       "</style>\n",
       "<table border=\"1\" class=\"dataframe\">\n",
       "  <thead>\n",
       "    <tr style=\"text-align: right;\">\n",
       "      <th></th>\n",
       "      <th>cholesterol</th>\n",
       "      <th>type_chestpain</th>\n",
       "      <th>max_heart_rate</th>\n",
       "      <th>resting_bp</th>\n",
       "      <th>diagnosis</th>\n",
       "    </tr>\n",
       "  </thead>\n",
       "  <tbody>\n",
       "    <tr>\n",
       "      <th>0</th>\n",
       "      <td>233</td>\n",
       "      <td>type1</td>\n",
       "      <td>150</td>\n",
       "      <td>145</td>\n",
       "      <td>low-risk heart disease</td>\n",
       "    </tr>\n",
       "    <tr>\n",
       "      <th>1</th>\n",
       "      <td>286</td>\n",
       "      <td>type4</td>\n",
       "      <td>108</td>\n",
       "      <td>160</td>\n",
       "      <td>moderate-risk heart disease</td>\n",
       "    </tr>\n",
       "    <tr>\n",
       "      <th>2</th>\n",
       "      <td>229</td>\n",
       "      <td>type4</td>\n",
       "      <td>129</td>\n",
       "      <td>120</td>\n",
       "      <td>low-risk heart disease</td>\n",
       "    </tr>\n",
       "    <tr>\n",
       "      <th>3</th>\n",
       "      <td>250</td>\n",
       "      <td>type3</td>\n",
       "      <td>187</td>\n",
       "      <td>130</td>\n",
       "      <td>low-risk heart disease</td>\n",
       "    </tr>\n",
       "    <tr>\n",
       "      <th>4</th>\n",
       "      <td>204</td>\n",
       "      <td>type2</td>\n",
       "      <td>172</td>\n",
       "      <td>130</td>\n",
       "      <td>low-risk heart disease</td>\n",
       "    </tr>\n",
       "    <tr>\n",
       "      <th>...</th>\n",
       "      <td>...</td>\n",
       "      <td>...</td>\n",
       "      <td>...</td>\n",
       "      <td>...</td>\n",
       "      <td>...</td>\n",
       "    </tr>\n",
       "    <tr>\n",
       "      <th>298</th>\n",
       "      <td>264</td>\n",
       "      <td>type1</td>\n",
       "      <td>132</td>\n",
       "      <td>110</td>\n",
       "      <td>low-risk heart disease</td>\n",
       "    </tr>\n",
       "    <tr>\n",
       "      <th>299</th>\n",
       "      <td>193</td>\n",
       "      <td>type4</td>\n",
       "      <td>141</td>\n",
       "      <td>144</td>\n",
       "      <td>moderate-risk heart disease</td>\n",
       "    </tr>\n",
       "    <tr>\n",
       "      <th>300</th>\n",
       "      <td>131</td>\n",
       "      <td>type4</td>\n",
       "      <td>115</td>\n",
       "      <td>130</td>\n",
       "      <td>moderate-risk heart disease</td>\n",
       "    </tr>\n",
       "    <tr>\n",
       "      <th>301</th>\n",
       "      <td>236</td>\n",
       "      <td>type2</td>\n",
       "      <td>174</td>\n",
       "      <td>130</td>\n",
       "      <td>low-risk heart disease</td>\n",
       "    </tr>\n",
       "    <tr>\n",
       "      <th>302</th>\n",
       "      <td>175</td>\n",
       "      <td>type3</td>\n",
       "      <td>173</td>\n",
       "      <td>138</td>\n",
       "      <td>low-risk heart disease</td>\n",
       "    </tr>\n",
       "  </tbody>\n",
       "</table>\n",
       "<p>303 rows × 5 columns</p>\n",
       "</div>"
      ],
      "text/plain": [
       "     cholesterol type_chestpain  max_heart_rate  resting_bp  \\\n",
       "0            233          type1             150         145   \n",
       "1            286          type4             108         160   \n",
       "2            229          type4             129         120   \n",
       "3            250          type3             187         130   \n",
       "4            204          type2             172         130   \n",
       "..           ...            ...             ...         ...   \n",
       "298          264          type1             132         110   \n",
       "299          193          type4             141         144   \n",
       "300          131          type4             115         130   \n",
       "301          236          type2             174         130   \n",
       "302          175          type3             173         138   \n",
       "\n",
       "                       diagnosis  \n",
       "0         low-risk heart disease  \n",
       "1    moderate-risk heart disease  \n",
       "2         low-risk heart disease  \n",
       "3         low-risk heart disease  \n",
       "4         low-risk heart disease  \n",
       "..                           ...  \n",
       "298       low-risk heart disease  \n",
       "299  moderate-risk heart disease  \n",
       "300  moderate-risk heart disease  \n",
       "301       low-risk heart disease  \n",
       "302       low-risk heart disease  \n",
       "\n",
       "[303 rows x 5 columns]"
      ]
     },
     "execution_count": 4,
     "metadata": {},
     "output_type": "execute_result"
    }
   ],
   "source": [
    "# import dataset\n",
    "heart_disease = pd.read_csv(\"https://archive.ics.uci.edu/static/public/45/data.csv\")\n",
    "\n",
    "# filter dataframe\n",
    "heart_disease.rename(columns = {\n",
    "                          \"fbs\" : \"fasting_blood_sugar\",\n",
    "                          \"chol\" : \"cholesterol\", \n",
    "                          \"cp\":\"type_chestpain\",\n",
    "                          \"restecg\" : \"resting_ecg\",\n",
    "                          \"thalach\" : \"max_heart_rate\",\n",
    "                          \"exang\" : \"exercise_induced_angina\",\n",
    "                          \"oldpeak\" : \"ST_depression\", \n",
    "                          \"slope\" : \"ST_segment_slope\", \n",
    "                          \"ca\" : \"num_major_vessels\", \n",
    "                          \"thal\" : \"thallium_stress_test\", #not sure\n",
    "                          \"num\" : \"diagnosis\",\n",
    "                          \"trestbps\" : \"resting_bp\"\n",
    "}, inplace = True)\n",
    "\n",
    "heart_disease = heart_disease[[\"cholesterol\",\"type_chestpain\",\"max_heart_rate\",\"resting_bp\",\"diagnosis\"]]\n",
    "\n",
    "\n",
    "# A low-risk diagnosis is 0, 1\n",
    "# A moderate-risk diagnosis is 2, 3\n",
    "# A high-risk diagnosis is 4\n",
    "heart_disease['diagnosis'] = heart_disease['diagnosis'].replace([0,1], \"low-risk heart disease\")\n",
    "heart_disease['diagnosis'] = heart_disease['diagnosis'].replace([2,3], \"moderate-risk heart disease\")\n",
    "heart_disease['diagnosis'] = heart_disease['diagnosis'].replace([4], \"high-risk heart disease\")\n",
    "\n",
    "# chest pain type\n",
    "heart_disease['type_chestpain'] = heart_disease['type_chestpain'].replace(\n",
    "    [1,2,3,4],\n",
    "    [\"type1\",\"type2\",\"type3\",\"type4\"])\n",
    "\n",
    "\n",
    "heart_disease"
   ]
  },
  {
   "cell_type": "code",
   "execution_count": 17,
   "id": "4ff98677",
   "metadata": {
    "ExecuteTime": {
     "end_time": "2023-11-02T05:32:35.285463Z",
     "start_time": "2023-11-02T05:32:35.266044Z"
    },
    "tags": []
   },
   "outputs": [
    {
     "data": {
      "text/plain": [
       "low-risk heart disease         219\n",
       "moderate-risk heart disease     71\n",
       "high-risk heart disease         13\n",
       "Name: diagnosis, dtype: int64"
      ]
     },
     "execution_count": 17,
     "metadata": {},
     "output_type": "execute_result"
    }
   ],
   "source": [
    "# split data into training and test sets\n",
    "heart_disease_train, heart_disease_test = train_test_split(heart_disease, train_size = 0.75, random_state = 0)"
   ]
  },
  {
   "cell_type": "code",
   "execution_count": 6,
   "id": "9cf355c304d9009d",
   "metadata": {
    "ExecuteTime": {
     "end_time": "2023-11-02T05:56:04.301291Z",
     "start_time": "2023-11-02T05:56:04.292244Z"
    },
    "collapsed": false,
    "jupyter": {
     "outputs_hidden": false
    },
    "tags": []
   },
   "outputs": [
    {
     "data": {
      "text/html": [
       "<div>\n",
       "<style scoped>\n",
       "    .dataframe tbody tr th:only-of-type {\n",
       "        vertical-align: middle;\n",
       "    }\n",
       "\n",
       "    .dataframe tbody tr th {\n",
       "        vertical-align: top;\n",
       "    }\n",
       "\n",
       "    .dataframe thead th {\n",
       "        text-align: right;\n",
       "    }\n",
       "</style>\n",
       "<table border=\"1\" class=\"dataframe\">\n",
       "  <thead>\n",
       "    <tr style=\"text-align: right;\">\n",
       "      <th></th>\n",
       "      <th>type_chestpain</th>\n",
       "      <th>diagnosis</th>\n",
       "    </tr>\n",
       "  </thead>\n",
       "  <tbody>\n",
       "    <tr>\n",
       "      <th>count</th>\n",
       "      <td>227</td>\n",
       "      <td>227</td>\n",
       "    </tr>\n",
       "    <tr>\n",
       "      <th>unique</th>\n",
       "      <td>4</td>\n",
       "      <td>3</td>\n",
       "    </tr>\n",
       "    <tr>\n",
       "      <th>top</th>\n",
       "      <td>type4</td>\n",
       "      <td>low-risk heart disease</td>\n",
       "    </tr>\n",
       "    <tr>\n",
       "      <th>freq</th>\n",
       "      <td>108</td>\n",
       "      <td>163</td>\n",
       "    </tr>\n",
       "  </tbody>\n",
       "</table>\n",
       "</div>"
      ],
      "text/plain": [
       "       type_chestpain               diagnosis\n",
       "count             227                     227\n",
       "unique              4                       3\n",
       "top             type4  low-risk heart disease\n",
       "freq              108                     163"
      ]
     },
     "execution_count": 6,
     "metadata": {},
     "output_type": "execute_result"
    }
   ],
   "source": [
    "# Summary of the categorical variables\n",
    "heart_disease_categorical = heart_disease_train.drop(columns = [\"cholesterol\",\"max_heart_rate\",\"resting_bp\"])\n",
    "heart_disease_categorical.describe()"
   ]
  },
  {
   "cell_type": "code",
   "execution_count": 7,
   "id": "61bffd03feb24315",
   "metadata": {
    "ExecuteTime": {
     "end_time": "2023-11-02T05:57:53.512780Z",
     "start_time": "2023-11-02T05:57:53.503871Z"
    },
    "collapsed": false,
    "jupyter": {
     "outputs_hidden": false
    },
    "tags": []
   },
   "outputs": [
    {
     "data": {
      "text/html": [
       "<div>\n",
       "<style scoped>\n",
       "    .dataframe tbody tr th:only-of-type {\n",
       "        vertical-align: middle;\n",
       "    }\n",
       "\n",
       "    .dataframe tbody tr th {\n",
       "        vertical-align: top;\n",
       "    }\n",
       "\n",
       "    .dataframe thead th {\n",
       "        text-align: right;\n",
       "    }\n",
       "</style>\n",
       "<table border=\"1\" class=\"dataframe\">\n",
       "  <thead>\n",
       "    <tr style=\"text-align: right;\">\n",
       "      <th></th>\n",
       "      <th>cholesterol</th>\n",
       "      <th>max_heart_rate</th>\n",
       "      <th>resting_bp</th>\n",
       "    </tr>\n",
       "  </thead>\n",
       "  <tbody>\n",
       "    <tr>\n",
       "      <th>count</th>\n",
       "      <td>227.000000</td>\n",
       "      <td>227.000000</td>\n",
       "      <td>227.000000</td>\n",
       "    </tr>\n",
       "    <tr>\n",
       "      <th>mean</th>\n",
       "      <td>245.810573</td>\n",
       "      <td>150.286344</td>\n",
       "      <td>132.277533</td>\n",
       "    </tr>\n",
       "    <tr>\n",
       "      <th>std</th>\n",
       "      <td>49.162043</td>\n",
       "      <td>21.961187</td>\n",
       "      <td>16.659197</td>\n",
       "    </tr>\n",
       "    <tr>\n",
       "      <th>min</th>\n",
       "      <td>126.000000</td>\n",
       "      <td>96.000000</td>\n",
       "      <td>94.000000</td>\n",
       "    </tr>\n",
       "    <tr>\n",
       "      <th>25%</th>\n",
       "      <td>212.000000</td>\n",
       "      <td>133.500000</td>\n",
       "      <td>120.000000</td>\n",
       "    </tr>\n",
       "    <tr>\n",
       "      <th>50%</th>\n",
       "      <td>240.000000</td>\n",
       "      <td>152.000000</td>\n",
       "      <td>130.000000</td>\n",
       "    </tr>\n",
       "    <tr>\n",
       "      <th>75%</th>\n",
       "      <td>273.500000</td>\n",
       "      <td>167.500000</td>\n",
       "      <td>140.000000</td>\n",
       "    </tr>\n",
       "    <tr>\n",
       "      <th>max</th>\n",
       "      <td>417.000000</td>\n",
       "      <td>202.000000</td>\n",
       "      <td>180.000000</td>\n",
       "    </tr>\n",
       "  </tbody>\n",
       "</table>\n",
       "</div>"
      ],
      "text/plain": [
       "       cholesterol  max_heart_rate  resting_bp\n",
       "count   227.000000      227.000000  227.000000\n",
       "mean    245.810573      150.286344  132.277533\n",
       "std      49.162043       21.961187   16.659197\n",
       "min     126.000000       96.000000   94.000000\n",
       "25%     212.000000      133.500000  120.000000\n",
       "50%     240.000000      152.000000  130.000000\n",
       "75%     273.500000      167.500000  140.000000\n",
       "max     417.000000      202.000000  180.000000"
      ]
     },
     "execution_count": 7,
     "metadata": {},
     "output_type": "execute_result"
    }
   ],
   "source": [
    "# Summary of the continuous variables\n",
    "heart_disease_continuous = heart_disease_train.drop(columns = [\"type_chestpain\",\"diagnosis\"])\n",
    "heart_disease_continuous.describe()"
   ]
  },
  {
   "cell_type": "code",
   "execution_count": 8,
   "id": "a6693ab46de7002c",
   "metadata": {
    "ExecuteTime": {
     "end_time": "2023-11-02T05:32:35.749573Z",
     "start_time": "2023-11-02T05:32:35.734507Z"
    },
    "collapsed": false,
    "jupyter": {
     "outputs_hidden": false
    },
    "tags": []
   },
   "outputs": [
    {
     "data": {
      "text/html": [
       "\n",
       "<style>\n",
       "  #altair-viz-adedefc7657e497cb2e82eb04c372aa4.vega-embed {\n",
       "    width: 100%;\n",
       "    display: flex;\n",
       "  }\n",
       "\n",
       "  #altair-viz-adedefc7657e497cb2e82eb04c372aa4.vega-embed details,\n",
       "  #altair-viz-adedefc7657e497cb2e82eb04c372aa4.vega-embed details summary {\n",
       "    position: relative;\n",
       "  }\n",
       "</style>\n",
       "<div id=\"altair-viz-adedefc7657e497cb2e82eb04c372aa4\"></div>\n",
       "<script type=\"text/javascript\">\n",
       "  var VEGA_DEBUG = (typeof VEGA_DEBUG == \"undefined\") ? {} : VEGA_DEBUG;\n",
       "  (function(spec, embedOpt){\n",
       "    let outputDiv = document.currentScript.previousElementSibling;\n",
       "    if (outputDiv.id !== \"altair-viz-adedefc7657e497cb2e82eb04c372aa4\") {\n",
       "      outputDiv = document.getElementById(\"altair-viz-adedefc7657e497cb2e82eb04c372aa4\");\n",
       "    }\n",
       "    const paths = {\n",
       "      \"vega\": \"https://cdn.jsdelivr.net/npm/vega@5?noext\",\n",
       "      \"vega-lib\": \"https://cdn.jsdelivr.net/npm/vega-lib?noext\",\n",
       "      \"vega-lite\": \"https://cdn.jsdelivr.net/npm/vega-lite@5.15.1?noext\",\n",
       "      \"vega-embed\": \"https://cdn.jsdelivr.net/npm/vega-embed@6?noext\",\n",
       "    };\n",
       "\n",
       "    function maybeLoadScript(lib, version) {\n",
       "      var key = `${lib.replace(\"-\", \"\")}_version`;\n",
       "      return (VEGA_DEBUG[key] == version) ?\n",
       "        Promise.resolve(paths[lib]) :\n",
       "        new Promise(function(resolve, reject) {\n",
       "          var s = document.createElement('script');\n",
       "          document.getElementsByTagName(\"head\")[0].appendChild(s);\n",
       "          s.async = true;\n",
       "          s.onload = () => {\n",
       "            VEGA_DEBUG[key] = version;\n",
       "            return resolve(paths[lib]);\n",
       "          };\n",
       "          s.onerror = () => reject(`Error loading script: ${paths[lib]}`);\n",
       "          s.src = paths[lib];\n",
       "        });\n",
       "    }\n",
       "\n",
       "    function showError(err) {\n",
       "      outputDiv.innerHTML = `<div class=\"error\" style=\"color:red;\">${err}</div>`;\n",
       "      throw err;\n",
       "    }\n",
       "\n",
       "    function displayChart(vegaEmbed) {\n",
       "      vegaEmbed(outputDiv, spec, embedOpt)\n",
       "        .catch(err => showError(`Javascript Error: ${err.message}<br>This usually means there's a typo in your chart specification. See the javascript console for the full traceback.`));\n",
       "    }\n",
       "\n",
       "    if(typeof define === \"function\" && define.amd) {\n",
       "      requirejs.config({paths});\n",
       "      require([\"vega-embed\"], displayChart, err => showError(`Error loading script: ${err.message}`));\n",
       "    } else {\n",
       "      maybeLoadScript(\"vega\", \"5\")\n",
       "        .then(() => maybeLoadScript(\"vega-lite\", \"5.15.1\"))\n",
       "        .then(() => maybeLoadScript(\"vega-embed\", \"6\"))\n",
       "        .catch(showError)\n",
       "        .then(() => displayChart(vegaEmbed));\n",
       "    }\n",
       "  })({\"config\": {\"view\": {\"continuousWidth\": 300, \"continuousHeight\": 300}}, \"data\": {\"name\": \"data-10401e2e90981e70ac823e98d8e66292\"}, \"mark\": {\"type\": \"bar\"}, \"encoding\": {\"color\": {\"field\": \"diagnosis\", \"type\": \"nominal\"}, \"x\": {\"bin\": true, \"field\": \"resting_bp\", \"title\": \"Blood Pressure\", \"type\": \"quantitative\"}, \"y\": {\"aggregate\": \"count\", \"stack\": false, \"type\": \"quantitative\"}}, \"title\": \"Distribution of Blood Pressure\", \"$schema\": \"https://vega.github.io/schema/vega-lite/v5.15.1.json\", \"datasets\": {\"data-10401e2e90981e70ac823e98d8e66292\": [{\"cholesterol\": 394, \"type_chestpain\": \"type4\", \"max_heart_rate\": 157, \"resting_bp\": 140, \"diagnosis\": \"low-risk heart disease\"}, {\"cholesterol\": 319, \"type_chestpain\": \"type2\", \"max_heart_rate\": 152, \"resting_bp\": 136, \"diagnosis\": \"moderate-risk heart disease\"}, {\"cholesterol\": 276, \"type_chestpain\": \"type4\", \"max_heart_rate\": 112, \"resting_bp\": 150, \"diagnosis\": \"low-risk heart disease\"}, {\"cholesterol\": 182, \"type_chestpain\": \"type1\", \"max_heart_rate\": 174, \"resting_bp\": 118, \"diagnosis\": \"low-risk heart disease\"}, {\"cholesterol\": 223, \"type_chestpain\": \"type3\", \"max_heart_rate\": 169, \"resting_bp\": 138, \"diagnosis\": \"low-risk heart disease\"}, {\"cholesterol\": 269, \"type_chestpain\": \"type2\", \"max_heart_rate\": 121, \"resting_bp\": 120, \"diagnosis\": \"low-risk heart disease\"}, {\"cholesterol\": 305, \"type_chestpain\": \"type4\", \"max_heart_rate\": 161, \"resting_bp\": 158, \"diagnosis\": \"low-risk heart disease\"}, {\"cholesterol\": 255, \"type_chestpain\": \"type3\", \"max_heart_rate\": 175, \"resting_bp\": 124, \"diagnosis\": \"low-risk heart disease\"}, {\"cholesterol\": 259, \"type_chestpain\": \"type4\", \"max_heart_rate\": 130, \"resting_bp\": 128, \"diagnosis\": \"moderate-risk heart disease\"}, {\"cholesterol\": 212, \"type_chestpain\": \"type4\", \"max_heart_rate\": 168, \"resting_bp\": 125, \"diagnosis\": \"moderate-risk heart disease\"}, {\"cholesterol\": 295, \"type_chestpain\": \"type3\", \"max_heart_rate\": 157, \"resting_bp\": 120, \"diagnosis\": \"low-risk heart disease\"}, {\"cholesterol\": 187, \"type_chestpain\": \"type4\", \"max_heart_rate\": 144, \"resting_bp\": 140, \"diagnosis\": \"moderate-risk heart disease\"}, {\"cholesterol\": 258, \"type_chestpain\": \"type4\", \"max_heart_rate\": 141, \"resting_bp\": 125, \"diagnosis\": \"low-risk heart disease\"}, {\"cholesterol\": 311, \"type_chestpain\": \"type4\", \"max_heart_rate\": 120, \"resting_bp\": 140, \"diagnosis\": \"moderate-risk heart disease\"}, {\"cholesterol\": 271, \"type_chestpain\": \"type2\", \"max_heart_rate\": 162, \"resting_bp\": 134, \"diagnosis\": \"low-risk heart disease\"}, {\"cholesterol\": 281, \"type_chestpain\": \"type2\", \"max_heart_rate\": 103, \"resting_bp\": 120, \"diagnosis\": \"moderate-risk heart disease\"}, {\"cholesterol\": 177, \"type_chestpain\": \"type4\", \"max_heart_rate\": 162, \"resting_bp\": 140, \"diagnosis\": \"moderate-risk heart disease\"}, {\"cholesterol\": 203, \"type_chestpain\": \"type4\", \"max_heart_rate\": 161, \"resting_bp\": 148, \"diagnosis\": \"moderate-risk heart disease\"}, {\"cholesterol\": 330, \"type_chestpain\": \"type4\", \"max_heart_rate\": 169, \"resting_bp\": 130, \"diagnosis\": \"low-risk heart disease\"}, {\"cholesterol\": 245, \"type_chestpain\": \"type3\", \"max_heart_rate\": 166, \"resting_bp\": 125, \"diagnosis\": \"low-risk heart disease\"}, {\"cholesterol\": 275, \"type_chestpain\": \"type4\", \"max_heart_rate\": 118, \"resting_bp\": 110, \"diagnosis\": \"low-risk heart disease\"}, {\"cholesterol\": 221, \"type_chestpain\": \"type2\", \"max_heart_rate\": 163, \"resting_bp\": 130, \"diagnosis\": \"low-risk heart disease\"}, {\"cholesterol\": 299, \"type_chestpain\": \"type4\", \"max_heart_rate\": 173, \"resting_bp\": 140, \"diagnosis\": \"low-risk heart disease\"}, {\"cholesterol\": 241, \"type_chestpain\": \"type4\", \"max_heart_rate\": 123, \"resting_bp\": 140, \"diagnosis\": \"low-risk heart disease\"}, {\"cholesterol\": 263, \"type_chestpain\": \"type4\", \"max_heart_rate\": 105, \"resting_bp\": 128, \"diagnosis\": \"low-risk heart disease\"}, {\"cholesterol\": 253, \"type_chestpain\": \"type4\", \"max_heart_rate\": 144, \"resting_bp\": 130, \"diagnosis\": \"low-risk heart disease\"}, {\"cholesterol\": 201, \"type_chestpain\": \"type3\", \"max_heart_rate\": 163, \"resting_bp\": 160, \"diagnosis\": \"low-risk heart disease\"}, {\"cholesterol\": 275, \"type_chestpain\": \"type3\", \"max_heart_rate\": 139, \"resting_bp\": 130, \"diagnosis\": \"low-risk heart disease\"}, {\"cholesterol\": 309, \"type_chestpain\": \"type4\", \"max_heart_rate\": 147, \"resting_bp\": 142, \"diagnosis\": \"moderate-risk heart disease\"}, {\"cholesterol\": 303, \"type_chestpain\": \"type4\", \"max_heart_rate\": 181, \"resting_bp\": 115, \"diagnosis\": \"low-risk heart disease\"}, {\"cholesterol\": 244, \"type_chestpain\": \"type1\", \"max_heart_rate\": 178, \"resting_bp\": 148, \"diagnosis\": \"low-risk heart disease\"}, {\"cholesterol\": 233, \"type_chestpain\": \"type3\", \"max_heart_rate\": 163, \"resting_bp\": 140, \"diagnosis\": \"low-risk heart disease\"}, {\"cholesterol\": 254, \"type_chestpain\": \"type4\", \"max_heart_rate\": 163, \"resting_bp\": 125, \"diagnosis\": \"moderate-risk heart disease\"}, {\"cholesterol\": 240, \"type_chestpain\": \"type3\", \"max_heart_rate\": 154, \"resting_bp\": 105, \"diagnosis\": \"low-risk heart disease\"}, {\"cholesterol\": 208, \"type_chestpain\": \"type2\", \"max_heart_rate\": 140, \"resting_bp\": 128, \"diagnosis\": \"low-risk heart disease\"}, {\"cholesterol\": 244, \"type_chestpain\": \"type4\", \"max_heart_rate\": 154, \"resting_bp\": 150, \"diagnosis\": \"low-risk heart disease\"}, {\"cholesterol\": 212, \"type_chestpain\": \"type3\", \"max_heart_rate\": 150, \"resting_bp\": 152, \"diagnosis\": \"low-risk heart disease\"}, {\"cholesterol\": 271, \"type_chestpain\": \"type4\", \"max_heart_rate\": 182, \"resting_bp\": 138, \"diagnosis\": \"low-risk heart disease\"}, {\"cholesterol\": 293, \"type_chestpain\": \"type4\", \"max_heart_rate\": 170, \"resting_bp\": 140, \"diagnosis\": \"moderate-risk heart disease\"}, {\"cholesterol\": 233, \"type_chestpain\": \"type4\", \"max_heart_rate\": 147, \"resting_bp\": 108, \"diagnosis\": \"low-risk heart disease\"}, {\"cholesterol\": 234, \"type_chestpain\": \"type4\", \"max_heart_rate\": 161, \"resting_bp\": 135, \"diagnosis\": \"low-risk heart disease\"}, {\"cholesterol\": 274, \"type_chestpain\": \"type3\", \"max_heart_rate\": 150, \"resting_bp\": 180, \"diagnosis\": \"moderate-risk heart disease\"}, {\"cholesterol\": 174, \"type_chestpain\": \"type4\", \"max_heart_rate\": 125, \"resting_bp\": 145, \"diagnosis\": \"high-risk heart disease\"}, {\"cholesterol\": 215, \"type_chestpain\": \"type3\", \"max_heart_rate\": 170, \"resting_bp\": 120, \"diagnosis\": \"low-risk heart disease\"}, {\"cholesterol\": 330, \"type_chestpain\": \"type4\", \"max_heart_rate\": 132, \"resting_bp\": 130, \"diagnosis\": \"moderate-risk heart disease\"}, {\"cholesterol\": 305, \"type_chestpain\": \"type4\", \"max_heart_rate\": 142, \"resting_bp\": 130, \"diagnosis\": \"moderate-risk heart disease\"}, {\"cholesterol\": 277, \"type_chestpain\": \"type3\", \"max_heart_rate\": 151, \"resting_bp\": 118, \"diagnosis\": \"low-risk heart disease\"}, {\"cholesterol\": 205, \"type_chestpain\": \"type4\", \"max_heart_rate\": 130, \"resting_bp\": 128, \"diagnosis\": \"moderate-risk heart disease\"}, {\"cholesterol\": 307, \"type_chestpain\": \"type4\", \"max_heart_rate\": 146, \"resting_bp\": 145, \"diagnosis\": \"low-risk heart disease\"}, {\"cholesterol\": 283, \"type_chestpain\": \"type1\", \"max_heart_rate\": 162, \"resting_bp\": 150, \"diagnosis\": \"low-risk heart disease\"}, {\"cholesterol\": 167, \"type_chestpain\": \"type4\", \"max_heart_rate\": 114, \"resting_bp\": 110, \"diagnosis\": \"moderate-risk heart disease\"}, {\"cholesterol\": 298, \"type_chestpain\": \"type1\", \"max_heart_rate\": 178, \"resting_bp\": 152, \"diagnosis\": \"low-risk heart disease\"}, {\"cholesterol\": 229, \"type_chestpain\": \"type2\", \"max_heart_rate\": 168, \"resting_bp\": 110, \"diagnosis\": \"low-risk heart disease\"}, {\"cholesterol\": 360, \"type_chestpain\": \"type3\", \"max_heart_rate\": 151, \"resting_bp\": 160, \"diagnosis\": \"low-risk heart disease\"}, {\"cholesterol\": 219, \"type_chestpain\": \"type4\", \"max_heart_rate\": 140, \"resting_bp\": 118, \"diagnosis\": \"moderate-risk heart disease\"}, {\"cholesterol\": 246, \"type_chestpain\": \"type3\", \"max_heart_rate\": 173, \"resting_bp\": 130, \"diagnosis\": \"low-risk heart disease\"}, {\"cholesterol\": 192, \"type_chestpain\": \"type2\", \"max_heart_rate\": 174, \"resting_bp\": 122, \"diagnosis\": \"low-risk heart disease\"}, {\"cholesterol\": 204, \"type_chestpain\": \"type2\", \"max_heart_rate\": 172, \"resting_bp\": 130, \"diagnosis\": \"low-risk heart disease\"}, {\"cholesterol\": 239, \"type_chestpain\": \"type4\", \"max_heart_rate\": 142, \"resting_bp\": 110, \"diagnosis\": \"moderate-risk heart disease\"}, {\"cholesterol\": 212, \"type_chestpain\": \"type4\", \"max_heart_rate\": 132, \"resting_bp\": 112, \"diagnosis\": \"moderate-risk heart disease\"}, {\"cholesterol\": 177, \"type_chestpain\": \"type3\", \"max_heart_rate\": 160, \"resting_bp\": 142, \"diagnosis\": \"low-risk heart disease\"}, {\"cholesterol\": 232, \"type_chestpain\": \"type3\", \"max_heart_rate\": 165, \"resting_bp\": 150, \"diagnosis\": \"low-risk heart disease\"}, {\"cholesterol\": 157, \"type_chestpain\": \"type2\", \"max_heart_rate\": 182, \"resting_bp\": 120, \"diagnosis\": \"low-risk heart disease\"}, {\"cholesterol\": 204, \"type_chestpain\": \"type4\", \"max_heart_rate\": 156, \"resting_bp\": 128, \"diagnosis\": \"moderate-risk heart disease\"}, {\"cholesterol\": 226, \"type_chestpain\": \"type4\", \"max_heart_rate\": 111, \"resting_bp\": 142, \"diagnosis\": \"low-risk heart disease\"}, {\"cholesterol\": 253, \"type_chestpain\": \"type3\", \"max_heart_rate\": 179, \"resting_bp\": 130, \"diagnosis\": \"low-risk heart disease\"}, {\"cholesterol\": 225, \"type_chestpain\": \"type4\", \"max_heart_rate\": 114, \"resting_bp\": 150, \"diagnosis\": \"high-risk heart disease\"}, {\"cholesterol\": 254, \"type_chestpain\": \"type3\", \"max_heart_rate\": 146, \"resting_bp\": 140, \"diagnosis\": \"moderate-risk heart disease\"}, {\"cholesterol\": 263, \"type_chestpain\": \"type2\", \"max_heart_rate\": 173, \"resting_bp\": 120, \"diagnosis\": \"low-risk heart disease\"}, {\"cholesterol\": 229, \"type_chestpain\": \"type3\", \"max_heart_rate\": 150, \"resting_bp\": 128, \"diagnosis\": \"low-risk heart disease\"}, {\"cholesterol\": 254, \"type_chestpain\": \"type4\", \"max_heart_rate\": 159, \"resting_bp\": 110, \"diagnosis\": \"low-risk heart disease\"}, {\"cholesterol\": 250, \"type_chestpain\": \"type3\", \"max_heart_rate\": 187, \"resting_bp\": 130, \"diagnosis\": \"low-risk heart disease\"}, {\"cholesterol\": 304, \"type_chestpain\": \"type4\", \"max_heart_rate\": 162, \"resting_bp\": 125, \"diagnosis\": \"high-risk heart disease\"}, {\"cholesterol\": 234, \"type_chestpain\": \"type2\", \"max_heart_rate\": 175, \"resting_bp\": 130, \"diagnosis\": \"low-risk heart disease\"}, {\"cholesterol\": 206, \"type_chestpain\": \"type4\", \"max_heart_rate\": 132, \"resting_bp\": 130, \"diagnosis\": \"high-risk heart disease\"}, {\"cholesterol\": 239, \"type_chestpain\": \"type1\", \"max_heart_rate\": 151, \"resting_bp\": 140, \"diagnosis\": \"low-risk heart disease\"}, {\"cholesterol\": 308, \"type_chestpain\": \"type3\", \"max_heart_rate\": 142, \"resting_bp\": 140, \"diagnosis\": \"low-risk heart disease\"}, {\"cholesterol\": 197, \"type_chestpain\": \"type4\", \"max_heart_rate\": 131, \"resting_bp\": 130, \"diagnosis\": \"low-risk heart disease\"}, {\"cholesterol\": 196, \"type_chestpain\": \"type3\", \"max_heart_rate\": 163, \"resting_bp\": 129, \"diagnosis\": \"low-risk heart disease\"}, {\"cholesterol\": 266, \"type_chestpain\": \"type2\", \"max_heart_rate\": 171, \"resting_bp\": 130, \"diagnosis\": \"low-risk heart disease\"}, {\"cholesterol\": 197, \"type_chestpain\": \"type3\", \"max_heart_rate\": 116, \"resting_bp\": 140, \"diagnosis\": \"low-risk heart disease\"}, {\"cholesterol\": 286, \"type_chestpain\": \"type4\", \"max_heart_rate\": 116, \"resting_bp\": 122, \"diagnosis\": \"moderate-risk heart disease\"}, {\"cholesterol\": 223, \"type_chestpain\": \"type4\", \"max_heart_rate\": 181, \"resting_bp\": 152, \"diagnosis\": \"low-risk heart disease\"}, {\"cholesterol\": 208, \"type_chestpain\": \"type4\", \"max_heart_rate\": 148, \"resting_bp\": 104, \"diagnosis\": \"low-risk heart disease\"}, {\"cholesterol\": 177, \"type_chestpain\": \"type4\", \"max_heart_rate\": 140, \"resting_bp\": 120, \"diagnosis\": \"low-risk heart disease\"}, {\"cholesterol\": 229, \"type_chestpain\": \"type4\", \"max_heart_rate\": 129, \"resting_bp\": 120, \"diagnosis\": \"low-risk heart disease\"}, {\"cholesterol\": 295, \"type_chestpain\": \"type2\", \"max_heart_rate\": 162, \"resting_bp\": 120, \"diagnosis\": \"low-risk heart disease\"}, {\"cholesterol\": 188, \"type_chestpain\": \"type3\", \"max_heart_rate\": 139, \"resting_bp\": 120, \"diagnosis\": \"moderate-risk heart disease\"}, {\"cholesterol\": 240, \"type_chestpain\": \"type1\", \"max_heart_rate\": 171, \"resting_bp\": 150, \"diagnosis\": \"low-risk heart disease\"}, {\"cholesterol\": 257, \"type_chestpain\": \"type3\", \"max_heart_rate\": 156, \"resting_bp\": 138, \"diagnosis\": \"low-risk heart disease\"}, {\"cholesterol\": 192, \"type_chestpain\": \"type4\", \"max_heart_rate\": 148, \"resting_bp\": 140, \"diagnosis\": \"low-risk heart disease\"}, {\"cholesterol\": 269, \"type_chestpain\": \"type4\", \"max_heart_rate\": 169, \"resting_bp\": 108, \"diagnosis\": \"low-risk heart disease\"}, {\"cholesterol\": 273, \"type_chestpain\": \"type3\", \"max_heart_rate\": 152, \"resting_bp\": 125, \"diagnosis\": \"low-risk heart disease\"}, {\"cholesterol\": 199, \"type_chestpain\": \"type1\", \"max_heart_rate\": 178, \"resting_bp\": 140, \"diagnosis\": \"low-risk heart disease\"}, {\"cholesterol\": 199, \"type_chestpain\": \"type3\", \"max_heart_rate\": 162, \"resting_bp\": 172, \"diagnosis\": \"low-risk heart disease\"}, {\"cholesterol\": 322, \"type_chestpain\": \"type4\", \"max_heart_rate\": 109, \"resting_bp\": 130, \"diagnosis\": \"low-risk heart disease\"}, {\"cholesterol\": 198, \"type_chestpain\": \"type2\", \"max_heart_rate\": 168, \"resting_bp\": 105, \"diagnosis\": \"low-risk heart disease\"}, {\"cholesterol\": 193, \"type_chestpain\": \"type1\", \"max_heart_rate\": 162, \"resting_bp\": 120, \"diagnosis\": \"low-risk heart disease\"}, {\"cholesterol\": 249, \"type_chestpain\": \"type4\", \"max_heart_rate\": 144, \"resting_bp\": 120, \"diagnosis\": \"low-risk heart disease\"}, {\"cholesterol\": 217, \"type_chestpain\": \"type4\", \"max_heart_rate\": 111, \"resting_bp\": 140, \"diagnosis\": \"moderate-risk heart disease\"}, {\"cholesterol\": 268, \"type_chestpain\": \"type3\", \"max_heart_rate\": 172, \"resting_bp\": 112, \"diagnosis\": \"low-risk heart disease\"}, {\"cholesterol\": 216, \"type_chestpain\": \"type4\", \"max_heart_rate\": 131, \"resting_bp\": 128, \"diagnosis\": \"low-risk heart disease\"}, {\"cholesterol\": 298, \"type_chestpain\": \"type4\", \"max_heart_rate\": 122, \"resting_bp\": 140, \"diagnosis\": \"moderate-risk heart disease\"}, {\"cholesterol\": 196, \"type_chestpain\": \"type3\", \"max_heart_rate\": 169, \"resting_bp\": 136, \"diagnosis\": \"low-risk heart disease\"}, {\"cholesterol\": 258, \"type_chestpain\": \"type3\", \"max_heart_rate\": 147, \"resting_bp\": 120, \"diagnosis\": \"low-risk heart disease\"}, {\"cholesterol\": 228, \"type_chestpain\": \"type4\", \"max_heart_rate\": 165, \"resting_bp\": 178, \"diagnosis\": \"moderate-risk heart disease\"}, {\"cholesterol\": 246, \"type_chestpain\": \"type2\", \"max_heart_rate\": 120, \"resting_bp\": 160, \"diagnosis\": \"moderate-risk heart disease\"}, {\"cholesterol\": 212, \"type_chestpain\": \"type3\", \"max_heart_rate\": 157, \"resting_bp\": 150, \"diagnosis\": \"low-risk heart disease\"}, {\"cholesterol\": 263, \"type_chestpain\": \"type3\", \"max_heart_rate\": 97, \"resting_bp\": 130, \"diagnosis\": \"moderate-risk heart disease\"}, {\"cholesterol\": 198, \"type_chestpain\": \"type4\", \"max_heart_rate\": 130, \"resting_bp\": 120, \"diagnosis\": \"low-risk heart disease\"}, {\"cholesterol\": 273, \"type_chestpain\": \"type1\", \"max_heart_rate\": 125, \"resting_bp\": 160, \"diagnosis\": \"low-risk heart disease\"}, {\"cholesterol\": 199, \"type_chestpain\": \"type3\", \"max_heart_rate\": 179, \"resting_bp\": 94, \"diagnosis\": \"low-risk heart disease\"}, {\"cholesterol\": 318, \"type_chestpain\": \"type3\", \"max_heart_rate\": 160, \"resting_bp\": 102, \"diagnosis\": \"low-risk heart disease\"}, {\"cholesterol\": 186, \"type_chestpain\": \"type1\", \"max_heart_rate\": 190, \"resting_bp\": 118, \"diagnosis\": \"low-risk heart disease\"}, {\"cholesterol\": 264, \"type_chestpain\": \"type1\", \"max_heart_rate\": 132, \"resting_bp\": 110, \"diagnosis\": \"low-risk heart disease\"}, {\"cholesterol\": 201, \"type_chestpain\": \"type2\", \"max_heart_rate\": 158, \"resting_bp\": 134, \"diagnosis\": \"low-risk heart disease\"}, {\"cholesterol\": 267, \"type_chestpain\": \"type3\", \"max_heart_rate\": 167, \"resting_bp\": 108, \"diagnosis\": \"low-risk heart disease\"}, {\"cholesterol\": 141, \"type_chestpain\": \"type3\", \"max_heart_rate\": 175, \"resting_bp\": 108, \"diagnosis\": \"low-risk heart disease\"}, {\"cholesterol\": 262, \"type_chestpain\": \"type2\", \"max_heart_rate\": 155, \"resting_bp\": 130, \"diagnosis\": \"low-risk heart disease\"}, {\"cholesterol\": 214, \"type_chestpain\": \"type3\", \"max_heart_rate\": 158, \"resting_bp\": 110, \"diagnosis\": \"low-risk heart disease\"}, {\"cholesterol\": 177, \"type_chestpain\": \"type4\", \"max_heart_rate\": 120, \"resting_bp\": 120, \"diagnosis\": \"moderate-risk heart disease\"}, {\"cholesterol\": 315, \"type_chestpain\": \"type3\", \"max_heart_rate\": 162, \"resting_bp\": 130, \"diagnosis\": \"low-risk heart disease\"}, {\"cholesterol\": 341, \"type_chestpain\": \"type4\", \"max_heart_rate\": 136, \"resting_bp\": 132, \"diagnosis\": \"moderate-risk heart disease\"}, {\"cholesterol\": 233, \"type_chestpain\": \"type1\", \"max_heart_rate\": 150, \"resting_bp\": 145, \"diagnosis\": \"low-risk heart disease\"}, {\"cholesterol\": 252, \"type_chestpain\": \"type3\", \"max_heart_rate\": 172, \"resting_bp\": 135, \"diagnosis\": \"low-risk heart disease\"}, {\"cholesterol\": 197, \"type_chestpain\": \"type4\", \"max_heart_rate\": 136, \"resting_bp\": 124, \"diagnosis\": \"low-risk heart disease\"}, {\"cholesterol\": 255, \"type_chestpain\": \"type4\", \"max_heart_rate\": 161, \"resting_bp\": 128, \"diagnosis\": \"low-risk heart disease\"}, {\"cholesterol\": 193, \"type_chestpain\": \"type4\", \"max_heart_rate\": 141, \"resting_bp\": 144, \"diagnosis\": \"moderate-risk heart disease\"}, {\"cholesterol\": 226, \"type_chestpain\": \"type3\", \"max_heart_rate\": 169, \"resting_bp\": 120, \"diagnosis\": \"low-risk heart disease\"}, {\"cholesterol\": 223, \"type_chestpain\": \"type4\", \"max_heart_rate\": 142, \"resting_bp\": 106, \"diagnosis\": \"low-risk heart disease\"}, {\"cholesterol\": 231, \"type_chestpain\": \"type3\", \"max_heart_rate\": 147, \"resting_bp\": 150, \"diagnosis\": \"low-risk heart disease\"}, {\"cholesterol\": 197, \"type_chestpain\": \"type3\", \"max_heart_rate\": 152, \"resting_bp\": 130, \"diagnosis\": \"low-risk heart disease\"}, {\"cholesterol\": 417, \"type_chestpain\": \"type3\", \"max_heart_rate\": 157, \"resting_bp\": 140, \"diagnosis\": \"low-risk heart disease\"}, {\"cholesterol\": 235, \"type_chestpain\": \"type3\", \"max_heart_rate\": 180, \"resting_bp\": 140, \"diagnosis\": \"low-risk heart disease\"}, {\"cholesterol\": 131, \"type_chestpain\": \"type4\", \"max_heart_rate\": 115, \"resting_bp\": 130, \"diagnosis\": \"moderate-risk heart disease\"}, {\"cholesterol\": 288, \"type_chestpain\": \"type1\", \"max_heart_rate\": 159, \"resting_bp\": 170, \"diagnosis\": \"low-risk heart disease\"}, {\"cholesterol\": 200, \"type_chestpain\": \"type4\", \"max_heart_rate\": 126, \"resting_bp\": 144, \"diagnosis\": \"moderate-risk heart disease\"}, {\"cholesterol\": 224, \"type_chestpain\": \"type3\", \"max_heart_rate\": 173, \"resting_bp\": 132, \"diagnosis\": \"moderate-risk heart disease\"}, {\"cholesterol\": 201, \"type_chestpain\": \"type4\", \"max_heart_rate\": 126, \"resting_bp\": 110, \"diagnosis\": \"low-risk heart disease\"}, {\"cholesterol\": 308, \"type_chestpain\": \"type2\", \"max_heart_rate\": 170, \"resting_bp\": 128, \"diagnosis\": \"low-risk heart disease\"}, {\"cholesterol\": 309, \"type_chestpain\": \"type3\", \"max_heart_rate\": 131, \"resting_bp\": 125, \"diagnosis\": \"low-risk heart disease\"}, {\"cholesterol\": 245, \"type_chestpain\": \"type2\", \"max_heart_rate\": 180, \"resting_bp\": 130, \"diagnosis\": \"low-risk heart disease\"}, {\"cholesterol\": 274, \"type_chestpain\": \"type4\", \"max_heart_rate\": 166, \"resting_bp\": 124, \"diagnosis\": \"moderate-risk heart disease\"}, {\"cholesterol\": 260, \"type_chestpain\": \"type4\", \"max_heart_rate\": 185, \"resting_bp\": 115, \"diagnosis\": \"low-risk heart disease\"}, {\"cholesterol\": 211, \"type_chestpain\": \"type4\", \"max_heart_rate\": 161, \"resting_bp\": 110, \"diagnosis\": \"low-risk heart disease\"}, {\"cholesterol\": 227, \"type_chestpain\": \"type3\", \"max_heart_rate\": 154, \"resting_bp\": 94, \"diagnosis\": \"low-risk heart disease\"}, {\"cholesterol\": 180, \"type_chestpain\": \"type3\", \"max_heart_rate\": 150, \"resting_bp\": 130, \"diagnosis\": \"low-risk heart disease\"}, {\"cholesterol\": 236, \"type_chestpain\": \"type2\", \"max_heart_rate\": 174, \"resting_bp\": 130, \"diagnosis\": \"low-risk heart disease\"}, {\"cholesterol\": 234, \"type_chestpain\": \"type1\", \"max_heart_rate\": 131, \"resting_bp\": 160, \"diagnosis\": \"low-risk heart disease\"}, {\"cholesterol\": 268, \"type_chestpain\": \"type4\", \"max_heart_rate\": 160, \"resting_bp\": 140, \"diagnosis\": \"moderate-risk heart disease\"}, {\"cholesterol\": 326, \"type_chestpain\": \"type4\", \"max_heart_rate\": 140, \"resting_bp\": 170, \"diagnosis\": \"moderate-risk heart disease\"}, {\"cholesterol\": 313, \"type_chestpain\": \"type3\", \"max_heart_rate\": 133, \"resting_bp\": 140, \"diagnosis\": \"low-risk heart disease\"}, {\"cholesterol\": 325, \"type_chestpain\": \"type2\", \"max_heart_rate\": 172, \"resting_bp\": 120, \"diagnosis\": \"low-risk heart disease\"}, {\"cholesterol\": 269, \"type_chestpain\": \"type3\", \"max_heart_rate\": 112, \"resting_bp\": 160, \"diagnosis\": \"moderate-risk heart disease\"}, {\"cholesterol\": 407, \"type_chestpain\": \"type4\", \"max_heart_rate\": 154, \"resting_bp\": 150, \"diagnosis\": \"high-risk heart disease\"}, {\"cholesterol\": 221, \"type_chestpain\": \"type2\", \"max_heart_rate\": 164, \"resting_bp\": 140, \"diagnosis\": \"low-risk heart disease\"}, {\"cholesterol\": 245, \"type_chestpain\": \"type2\", \"max_heart_rate\": 143, \"resting_bp\": 156, \"diagnosis\": \"low-risk heart disease\"}, {\"cholesterol\": 278, \"type_chestpain\": \"type3\", \"max_heart_rate\": 152, \"resting_bp\": 146, \"diagnosis\": \"low-risk heart disease\"}, {\"cholesterol\": 205, \"type_chestpain\": \"type2\", \"max_heart_rate\": 184, \"resting_bp\": 128, \"diagnosis\": \"low-risk heart disease\"}, {\"cholesterol\": 261, \"type_chestpain\": \"type2\", \"max_heart_rate\": 141, \"resting_bp\": 124, \"diagnosis\": \"low-risk heart disease\"}, {\"cholesterol\": 164, \"type_chestpain\": \"type4\", \"max_heart_rate\": 145, \"resting_bp\": 160, \"diagnosis\": \"moderate-risk heart disease\"}, {\"cholesterol\": 321, \"type_chestpain\": \"type3\", \"max_heart_rate\": 182, \"resting_bp\": 140, \"diagnosis\": \"low-risk heart disease\"}, {\"cholesterol\": 318, \"type_chestpain\": \"type4\", \"max_heart_rate\": 140, \"resting_bp\": 114, \"diagnosis\": \"high-risk heart disease\"}, {\"cholesterol\": 294, \"type_chestpain\": \"type2\", \"max_heart_rate\": 153, \"resting_bp\": 140, \"diagnosis\": \"low-risk heart disease\"}, {\"cholesterol\": 254, \"type_chestpain\": \"type4\", \"max_heart_rate\": 127, \"resting_bp\": 135, \"diagnosis\": \"moderate-risk heart disease\"}, {\"cholesterol\": 303, \"type_chestpain\": \"type4\", \"max_heart_rate\": 159, \"resting_bp\": 128, \"diagnosis\": \"low-risk heart disease\"}, {\"cholesterol\": 226, \"type_chestpain\": \"type4\", \"max_heart_rate\": 178, \"resting_bp\": 140, \"diagnosis\": \"low-risk heart disease\"}, {\"cholesterol\": 172, \"type_chestpain\": \"type4\", \"max_heart_rate\": 158, \"resting_bp\": 110, \"diagnosis\": \"low-risk heart disease\"}, {\"cholesterol\": 160, \"type_chestpain\": \"type2\", \"max_heart_rate\": 138, \"resting_bp\": 112, \"diagnosis\": \"low-risk heart disease\"}, {\"cholesterol\": 327, \"type_chestpain\": \"type4\", \"max_heart_rate\": 117, \"resting_bp\": 180, \"diagnosis\": \"moderate-risk heart disease\"}, {\"cholesterol\": 282, \"type_chestpain\": \"type4\", \"max_heart_rate\": 142, \"resting_bp\": 145, \"diagnosis\": \"moderate-risk heart disease\"}, {\"cholesterol\": 286, \"type_chestpain\": \"type4\", \"max_heart_rate\": 108, \"resting_bp\": 160, \"diagnosis\": \"moderate-risk heart disease\"}, {\"cholesterol\": 256, \"type_chestpain\": \"type4\", \"max_heart_rate\": 150, \"resting_bp\": 130, \"diagnosis\": \"moderate-risk heart disease\"}, {\"cholesterol\": 218, \"type_chestpain\": \"type3\", \"max_heart_rate\": 134, \"resting_bp\": 126, \"diagnosis\": \"moderate-risk heart disease\"}, {\"cholesterol\": 240, \"type_chestpain\": \"type3\", \"max_heart_rate\": 194, \"resting_bp\": 120, \"diagnosis\": \"low-risk heart disease\"}, {\"cholesterol\": 302, \"type_chestpain\": \"type2\", \"max_heart_rate\": 162, \"resting_bp\": 160, \"diagnosis\": \"low-risk heart disease\"}, {\"cholesterol\": 309, \"type_chestpain\": \"type2\", \"max_heart_rate\": 156, \"resting_bp\": 108, \"diagnosis\": \"low-risk heart disease\"}, {\"cholesterol\": 204, \"type_chestpain\": \"type2\", \"max_heart_rate\": 202, \"resting_bp\": 130, \"diagnosis\": \"low-risk heart disease\"}, {\"cholesterol\": 270, \"type_chestpain\": \"type4\", \"max_heart_rate\": 111, \"resting_bp\": 150, \"diagnosis\": \"moderate-risk heart disease\"}, {\"cholesterol\": 239, \"type_chestpain\": \"type4\", \"max_heart_rate\": 160, \"resting_bp\": 140, \"diagnosis\": \"low-risk heart disease\"}, {\"cholesterol\": 228, \"type_chestpain\": \"type4\", \"max_heart_rate\": 138, \"resting_bp\": 160, \"diagnosis\": \"low-risk heart disease\"}, {\"cholesterol\": 353, \"type_chestpain\": \"type4\", \"max_heart_rate\": 132, \"resting_bp\": 132, \"diagnosis\": \"moderate-risk heart disease\"}, {\"cholesterol\": 219, \"type_chestpain\": \"type2\", \"max_heart_rate\": 188, \"resting_bp\": 130, \"diagnosis\": \"low-risk heart disease\"}, {\"cholesterol\": 242, \"type_chestpain\": \"type3\", \"max_heart_rate\": 149, \"resting_bp\": 118, \"diagnosis\": \"low-risk heart disease\"}, {\"cholesterol\": 220, \"type_chestpain\": \"type2\", \"max_heart_rate\": 170, \"resting_bp\": 120, \"diagnosis\": \"low-risk heart disease\"}, {\"cholesterol\": 247, \"type_chestpain\": \"type4\", \"max_heart_rate\": 171, \"resting_bp\": 150, \"diagnosis\": \"low-risk heart disease\"}, {\"cholesterol\": 270, \"type_chestpain\": \"type1\", \"max_heart_rate\": 145, \"resting_bp\": 178, \"diagnosis\": \"low-risk heart disease\"}, {\"cholesterol\": 248, \"type_chestpain\": \"type4\", \"max_heart_rate\": 122, \"resting_bp\": 100, \"diagnosis\": \"low-risk heart disease\"}, {\"cholesterol\": 265, \"type_chestpain\": \"type4\", \"max_heart_rate\": 122, \"resting_bp\": 102, \"diagnosis\": \"low-risk heart disease\"}, {\"cholesterol\": 178, \"type_chestpain\": \"type3\", \"max_heart_rate\": 96, \"resting_bp\": 120, \"diagnosis\": \"low-risk heart disease\"}, {\"cholesterol\": 126, \"type_chestpain\": \"type3\", \"max_heart_rate\": 173, \"resting_bp\": 150, \"diagnosis\": \"low-risk heart disease\"}, {\"cholesterol\": 230, \"type_chestpain\": \"type4\", \"max_heart_rate\": 160, \"resting_bp\": 117, \"diagnosis\": \"moderate-risk heart disease\"}, {\"cholesterol\": 335, \"type_chestpain\": \"type3\", \"max_heart_rate\": 158, \"resting_bp\": 140, \"diagnosis\": \"low-risk heart disease\"}, {\"cholesterol\": 239, \"type_chestpain\": \"type4\", \"max_heart_rate\": 126, \"resting_bp\": 110, \"diagnosis\": \"moderate-risk heart disease\"}, {\"cholesterol\": 195, \"type_chestpain\": \"type2\", \"max_heart_rate\": 179, \"resting_bp\": 140, \"diagnosis\": \"low-risk heart disease\"}, {\"cholesterol\": 335, \"type_chestpain\": \"type4\", \"max_heart_rate\": 143, \"resting_bp\": 110, \"diagnosis\": \"moderate-risk heart disease\"}, {\"cholesterol\": 149, \"type_chestpain\": \"type4\", \"max_heart_rate\": 125, \"resting_bp\": 112, \"diagnosis\": \"low-risk heart disease\"}, {\"cholesterol\": 250, \"type_chestpain\": \"type3\", \"max_heart_rate\": 179, \"resting_bp\": 112, \"diagnosis\": \"low-risk heart disease\"}, {\"cholesterol\": 232, \"type_chestpain\": \"type2\", \"max_heart_rate\": 164, \"resting_bp\": 154, \"diagnosis\": \"low-risk heart disease\"}, {\"cholesterol\": 184, \"type_chestpain\": \"type4\", \"max_heart_rate\": 105, \"resting_bp\": 132, \"diagnosis\": \"low-risk heart disease\"}, {\"cholesterol\": 222, \"type_chestpain\": \"type4\", \"max_heart_rate\": 186, \"resting_bp\": 122, \"diagnosis\": \"low-risk heart disease\"}, {\"cholesterol\": 236, \"type_chestpain\": \"type4\", \"max_heart_rate\": 152, \"resting_bp\": 138, \"diagnosis\": \"low-risk heart disease\"}, {\"cholesterol\": 234, \"type_chestpain\": \"type1\", \"max_heart_rate\": 145, \"resting_bp\": 134, \"diagnosis\": \"moderate-risk heart disease\"}, {\"cholesterol\": 203, \"type_chestpain\": \"type2\", \"max_heart_rate\": 132, \"resting_bp\": 135, \"diagnosis\": \"low-risk heart disease\"}, {\"cholesterol\": 315, \"type_chestpain\": \"type4\", \"max_heart_rate\": 125, \"resting_bp\": 136, \"diagnosis\": \"moderate-risk heart disease\"}, {\"cholesterol\": 267, \"type_chestpain\": \"type4\", \"max_heart_rate\": 99, \"resting_bp\": 120, \"diagnosis\": \"low-risk heart disease\"}, {\"cholesterol\": 219, \"type_chestpain\": \"type3\", \"max_heart_rate\": 158, \"resting_bp\": 120, \"diagnosis\": \"low-risk heart disease\"}, {\"cholesterol\": 207, \"type_chestpain\": \"type4\", \"max_heart_rate\": 168, \"resting_bp\": 132, \"diagnosis\": \"low-risk heart disease\"}, {\"cholesterol\": 240, \"type_chestpain\": \"type2\", \"max_heart_rate\": 169, \"resting_bp\": 120, \"diagnosis\": \"low-risk heart disease\"}, {\"cholesterol\": 212, \"type_chestpain\": \"type4\", \"max_heart_rate\": 132, \"resting_bp\": 145, \"diagnosis\": \"high-risk heart disease\"}, {\"cholesterol\": 342, \"type_chestpain\": \"type2\", \"max_heart_rate\": 166, \"resting_bp\": 132, \"diagnosis\": \"low-risk heart disease\"}, {\"cholesterol\": 243, \"type_chestpain\": \"type3\", \"max_heart_rate\": 137, \"resting_bp\": 150, \"diagnosis\": \"low-risk heart disease\"}, {\"cholesterol\": 294, \"type_chestpain\": \"type4\", \"max_heart_rate\": 106, \"resting_bp\": 138, \"diagnosis\": \"moderate-risk heart disease\"}, {\"cholesterol\": 234, \"type_chestpain\": \"type4\", \"max_heart_rate\": 160, \"resting_bp\": 138, \"diagnosis\": \"low-risk heart disease\"}, {\"cholesterol\": 269, \"type_chestpain\": \"type3\", \"max_heart_rate\": 148, \"resting_bp\": 155, \"diagnosis\": \"low-risk heart disease\"}, {\"cholesterol\": 216, \"type_chestpain\": \"type3\", \"max_heart_rate\": 115, \"resting_bp\": 128, \"diagnosis\": \"low-risk heart disease\"}, {\"cholesterol\": 169, \"type_chestpain\": \"type4\", \"max_heart_rate\": 144, \"resting_bp\": 120, \"diagnosis\": \"moderate-risk heart disease\"}, {\"cholesterol\": 269, \"type_chestpain\": \"type4\", \"max_heart_rate\": 163, \"resting_bp\": 130, \"diagnosis\": \"low-risk heart disease\"}, {\"cholesterol\": 220, \"type_chestpain\": \"type3\", \"max_heart_rate\": 152, \"resting_bp\": 138, \"diagnosis\": \"low-risk heart disease\"}, {\"cholesterol\": 231, \"type_chestpain\": \"type1\", \"max_heart_rate\": 182, \"resting_bp\": 120, \"diagnosis\": \"high-risk heart disease\"}, {\"cholesterol\": 203, \"type_chestpain\": \"type4\", \"max_heart_rate\": 155, \"resting_bp\": 140, \"diagnosis\": \"low-risk heart disease\"}, {\"cholesterol\": 299, \"type_chestpain\": \"type4\", \"max_heart_rate\": 125, \"resting_bp\": 100, \"diagnosis\": \"moderate-risk heart disease\"}, {\"cholesterol\": 218, \"type_chestpain\": \"type4\", \"max_heart_rate\": 105, \"resting_bp\": 146, \"diagnosis\": \"low-risk heart disease\"}, {\"cholesterol\": 247, \"type_chestpain\": \"type4\", \"max_heart_rate\": 143, \"resting_bp\": 132, \"diagnosis\": \"low-risk heart disease\"}, {\"cholesterol\": 183, \"type_chestpain\": \"type4\", \"max_heart_rate\": 182, \"resting_bp\": 138, \"diagnosis\": \"low-risk heart disease\"}, {\"cholesterol\": 243, \"type_chestpain\": \"type4\", \"max_heart_rate\": 128, \"resting_bp\": 150, \"diagnosis\": \"high-risk heart disease\"}, {\"cholesterol\": 249, \"type_chestpain\": \"type4\", \"max_heart_rate\": 143, \"resting_bp\": 174, \"diagnosis\": \"low-risk heart disease\"}]}}, {\"mode\": \"vega-lite\"});\n",
       "</script>"
      ],
      "text/plain": [
       "alt.Chart(...)"
      ]
     },
     "execution_count": 8,
     "metadata": {},
     "output_type": "execute_result"
    }
   ],
   "source": [
    "# blood pressure\n",
    "bp_hist = alt.Chart(heart_disease_train).mark_bar().encode(\n",
    "    x=alt.X(\"resting_bp:Q\", bin = True).title(\"Blood Pressure\"),\n",
    "    y=alt.Y(\"count()\").stack(False),\n",
    "    color=\"diagnosis:N\"\n",
    ").properties(\n",
    "    title = \"Distribution of Blood Pressure\"\n",
    ")\n",
    "\n",
    "bp_hist"
   ]
  },
  {
   "cell_type": "code",
   "execution_count": 9,
   "id": "e476f9609f9f7349",
   "metadata": {
    "ExecuteTime": {
     "end_time": "2023-11-02T05:32:36.278497Z",
     "start_time": "2023-11-02T05:32:36.264586Z"
    },
    "collapsed": false,
    "jupyter": {
     "outputs_hidden": false
    },
    "tags": []
   },
   "outputs": [
    {
     "data": {
      "text/html": [
       "\n",
       "<style>\n",
       "  #altair-viz-51fa1b67876c49dd8e380cedec9b25aa.vega-embed {\n",
       "    width: 100%;\n",
       "    display: flex;\n",
       "  }\n",
       "\n",
       "  #altair-viz-51fa1b67876c49dd8e380cedec9b25aa.vega-embed details,\n",
       "  #altair-viz-51fa1b67876c49dd8e380cedec9b25aa.vega-embed details summary {\n",
       "    position: relative;\n",
       "  }\n",
       "</style>\n",
       "<div id=\"altair-viz-51fa1b67876c49dd8e380cedec9b25aa\"></div>\n",
       "<script type=\"text/javascript\">\n",
       "  var VEGA_DEBUG = (typeof VEGA_DEBUG == \"undefined\") ? {} : VEGA_DEBUG;\n",
       "  (function(spec, embedOpt){\n",
       "    let outputDiv = document.currentScript.previousElementSibling;\n",
       "    if (outputDiv.id !== \"altair-viz-51fa1b67876c49dd8e380cedec9b25aa\") {\n",
       "      outputDiv = document.getElementById(\"altair-viz-51fa1b67876c49dd8e380cedec9b25aa\");\n",
       "    }\n",
       "    const paths = {\n",
       "      \"vega\": \"https://cdn.jsdelivr.net/npm/vega@5?noext\",\n",
       "      \"vega-lib\": \"https://cdn.jsdelivr.net/npm/vega-lib?noext\",\n",
       "      \"vega-lite\": \"https://cdn.jsdelivr.net/npm/vega-lite@5.15.1?noext\",\n",
       "      \"vega-embed\": \"https://cdn.jsdelivr.net/npm/vega-embed@6?noext\",\n",
       "    };\n",
       "\n",
       "    function maybeLoadScript(lib, version) {\n",
       "      var key = `${lib.replace(\"-\", \"\")}_version`;\n",
       "      return (VEGA_DEBUG[key] == version) ?\n",
       "        Promise.resolve(paths[lib]) :\n",
       "        new Promise(function(resolve, reject) {\n",
       "          var s = document.createElement('script');\n",
       "          document.getElementsByTagName(\"head\")[0].appendChild(s);\n",
       "          s.async = true;\n",
       "          s.onload = () => {\n",
       "            VEGA_DEBUG[key] = version;\n",
       "            return resolve(paths[lib]);\n",
       "          };\n",
       "          s.onerror = () => reject(`Error loading script: ${paths[lib]}`);\n",
       "          s.src = paths[lib];\n",
       "        });\n",
       "    }\n",
       "\n",
       "    function showError(err) {\n",
       "      outputDiv.innerHTML = `<div class=\"error\" style=\"color:red;\">${err}</div>`;\n",
       "      throw err;\n",
       "    }\n",
       "\n",
       "    function displayChart(vegaEmbed) {\n",
       "      vegaEmbed(outputDiv, spec, embedOpt)\n",
       "        .catch(err => showError(`Javascript Error: ${err.message}<br>This usually means there's a typo in your chart specification. See the javascript console for the full traceback.`));\n",
       "    }\n",
       "\n",
       "    if(typeof define === \"function\" && define.amd) {\n",
       "      requirejs.config({paths});\n",
       "      require([\"vega-embed\"], displayChart, err => showError(`Error loading script: ${err.message}`));\n",
       "    } else {\n",
       "      maybeLoadScript(\"vega\", \"5\")\n",
       "        .then(() => maybeLoadScript(\"vega-lite\", \"5.15.1\"))\n",
       "        .then(() => maybeLoadScript(\"vega-embed\", \"6\"))\n",
       "        .catch(showError)\n",
       "        .then(() => displayChart(vegaEmbed));\n",
       "    }\n",
       "  })({\"config\": {\"view\": {\"continuousWidth\": 300, \"continuousHeight\": 300}}, \"data\": {\"name\": \"data-10401e2e90981e70ac823e98d8e66292\"}, \"mark\": {\"type\": \"bar\"}, \"encoding\": {\"color\": {\"field\": \"diagnosis\", \"type\": \"nominal\"}, \"x\": {\"bin\": true, \"field\": \"cholesterol\", \"title\": \"Cholesterol\", \"type\": \"quantitative\"}, \"y\": {\"aggregate\": \"count\", \"stack\": false, \"type\": \"quantitative\"}}, \"title\": \"Distribution of Cholesterol\", \"$schema\": \"https://vega.github.io/schema/vega-lite/v5.15.1.json\", \"datasets\": {\"data-10401e2e90981e70ac823e98d8e66292\": [{\"cholesterol\": 394, \"type_chestpain\": \"type4\", \"max_heart_rate\": 157, \"resting_bp\": 140, \"diagnosis\": \"low-risk heart disease\"}, {\"cholesterol\": 319, \"type_chestpain\": \"type2\", \"max_heart_rate\": 152, \"resting_bp\": 136, \"diagnosis\": \"moderate-risk heart disease\"}, {\"cholesterol\": 276, \"type_chestpain\": \"type4\", \"max_heart_rate\": 112, \"resting_bp\": 150, \"diagnosis\": \"low-risk heart disease\"}, {\"cholesterol\": 182, \"type_chestpain\": \"type1\", \"max_heart_rate\": 174, \"resting_bp\": 118, \"diagnosis\": \"low-risk heart disease\"}, {\"cholesterol\": 223, \"type_chestpain\": \"type3\", \"max_heart_rate\": 169, \"resting_bp\": 138, \"diagnosis\": \"low-risk heart disease\"}, {\"cholesterol\": 269, \"type_chestpain\": \"type2\", \"max_heart_rate\": 121, \"resting_bp\": 120, \"diagnosis\": \"low-risk heart disease\"}, {\"cholesterol\": 305, \"type_chestpain\": \"type4\", \"max_heart_rate\": 161, \"resting_bp\": 158, \"diagnosis\": \"low-risk heart disease\"}, {\"cholesterol\": 255, \"type_chestpain\": \"type3\", \"max_heart_rate\": 175, \"resting_bp\": 124, \"diagnosis\": \"low-risk heart disease\"}, {\"cholesterol\": 259, \"type_chestpain\": \"type4\", \"max_heart_rate\": 130, \"resting_bp\": 128, \"diagnosis\": \"moderate-risk heart disease\"}, {\"cholesterol\": 212, \"type_chestpain\": \"type4\", \"max_heart_rate\": 168, \"resting_bp\": 125, \"diagnosis\": \"moderate-risk heart disease\"}, {\"cholesterol\": 295, \"type_chestpain\": \"type3\", \"max_heart_rate\": 157, \"resting_bp\": 120, \"diagnosis\": \"low-risk heart disease\"}, {\"cholesterol\": 187, \"type_chestpain\": \"type4\", \"max_heart_rate\": 144, \"resting_bp\": 140, \"diagnosis\": \"moderate-risk heart disease\"}, {\"cholesterol\": 258, \"type_chestpain\": \"type4\", \"max_heart_rate\": 141, \"resting_bp\": 125, \"diagnosis\": \"low-risk heart disease\"}, {\"cholesterol\": 311, \"type_chestpain\": \"type4\", \"max_heart_rate\": 120, \"resting_bp\": 140, \"diagnosis\": \"moderate-risk heart disease\"}, {\"cholesterol\": 271, \"type_chestpain\": \"type2\", \"max_heart_rate\": 162, \"resting_bp\": 134, \"diagnosis\": \"low-risk heart disease\"}, {\"cholesterol\": 281, \"type_chestpain\": \"type2\", \"max_heart_rate\": 103, \"resting_bp\": 120, \"diagnosis\": \"moderate-risk heart disease\"}, {\"cholesterol\": 177, \"type_chestpain\": \"type4\", \"max_heart_rate\": 162, \"resting_bp\": 140, \"diagnosis\": \"moderate-risk heart disease\"}, {\"cholesterol\": 203, \"type_chestpain\": \"type4\", \"max_heart_rate\": 161, \"resting_bp\": 148, \"diagnosis\": \"moderate-risk heart disease\"}, {\"cholesterol\": 330, \"type_chestpain\": \"type4\", \"max_heart_rate\": 169, \"resting_bp\": 130, \"diagnosis\": \"low-risk heart disease\"}, {\"cholesterol\": 245, \"type_chestpain\": \"type3\", \"max_heart_rate\": 166, \"resting_bp\": 125, \"diagnosis\": \"low-risk heart disease\"}, {\"cholesterol\": 275, \"type_chestpain\": \"type4\", \"max_heart_rate\": 118, \"resting_bp\": 110, \"diagnosis\": \"low-risk heart disease\"}, {\"cholesterol\": 221, \"type_chestpain\": \"type2\", \"max_heart_rate\": 163, \"resting_bp\": 130, \"diagnosis\": \"low-risk heart disease\"}, {\"cholesterol\": 299, \"type_chestpain\": \"type4\", \"max_heart_rate\": 173, \"resting_bp\": 140, \"diagnosis\": \"low-risk heart disease\"}, {\"cholesterol\": 241, \"type_chestpain\": \"type4\", \"max_heart_rate\": 123, \"resting_bp\": 140, \"diagnosis\": \"low-risk heart disease\"}, {\"cholesterol\": 263, \"type_chestpain\": \"type4\", \"max_heart_rate\": 105, \"resting_bp\": 128, \"diagnosis\": \"low-risk heart disease\"}, {\"cholesterol\": 253, \"type_chestpain\": \"type4\", \"max_heart_rate\": 144, \"resting_bp\": 130, \"diagnosis\": \"low-risk heart disease\"}, {\"cholesterol\": 201, \"type_chestpain\": \"type3\", \"max_heart_rate\": 163, \"resting_bp\": 160, \"diagnosis\": \"low-risk heart disease\"}, {\"cholesterol\": 275, \"type_chestpain\": \"type3\", \"max_heart_rate\": 139, \"resting_bp\": 130, \"diagnosis\": \"low-risk heart disease\"}, {\"cholesterol\": 309, \"type_chestpain\": \"type4\", \"max_heart_rate\": 147, \"resting_bp\": 142, \"diagnosis\": \"moderate-risk heart disease\"}, {\"cholesterol\": 303, \"type_chestpain\": \"type4\", \"max_heart_rate\": 181, \"resting_bp\": 115, \"diagnosis\": \"low-risk heart disease\"}, {\"cholesterol\": 244, \"type_chestpain\": \"type1\", \"max_heart_rate\": 178, \"resting_bp\": 148, \"diagnosis\": \"low-risk heart disease\"}, {\"cholesterol\": 233, \"type_chestpain\": \"type3\", \"max_heart_rate\": 163, \"resting_bp\": 140, \"diagnosis\": \"low-risk heart disease\"}, {\"cholesterol\": 254, \"type_chestpain\": \"type4\", \"max_heart_rate\": 163, \"resting_bp\": 125, \"diagnosis\": \"moderate-risk heart disease\"}, {\"cholesterol\": 240, \"type_chestpain\": \"type3\", \"max_heart_rate\": 154, \"resting_bp\": 105, \"diagnosis\": \"low-risk heart disease\"}, {\"cholesterol\": 208, \"type_chestpain\": \"type2\", \"max_heart_rate\": 140, \"resting_bp\": 128, \"diagnosis\": \"low-risk heart disease\"}, {\"cholesterol\": 244, \"type_chestpain\": \"type4\", \"max_heart_rate\": 154, \"resting_bp\": 150, \"diagnosis\": \"low-risk heart disease\"}, {\"cholesterol\": 212, \"type_chestpain\": \"type3\", \"max_heart_rate\": 150, \"resting_bp\": 152, \"diagnosis\": \"low-risk heart disease\"}, {\"cholesterol\": 271, \"type_chestpain\": \"type4\", \"max_heart_rate\": 182, \"resting_bp\": 138, \"diagnosis\": \"low-risk heart disease\"}, {\"cholesterol\": 293, \"type_chestpain\": \"type4\", \"max_heart_rate\": 170, \"resting_bp\": 140, \"diagnosis\": \"moderate-risk heart disease\"}, {\"cholesterol\": 233, \"type_chestpain\": \"type4\", \"max_heart_rate\": 147, \"resting_bp\": 108, \"diagnosis\": \"low-risk heart disease\"}, {\"cholesterol\": 234, \"type_chestpain\": \"type4\", \"max_heart_rate\": 161, \"resting_bp\": 135, \"diagnosis\": \"low-risk heart disease\"}, {\"cholesterol\": 274, \"type_chestpain\": \"type3\", \"max_heart_rate\": 150, \"resting_bp\": 180, \"diagnosis\": \"moderate-risk heart disease\"}, {\"cholesterol\": 174, \"type_chestpain\": \"type4\", \"max_heart_rate\": 125, \"resting_bp\": 145, \"diagnosis\": \"high-risk heart disease\"}, {\"cholesterol\": 215, \"type_chestpain\": \"type3\", \"max_heart_rate\": 170, \"resting_bp\": 120, \"diagnosis\": \"low-risk heart disease\"}, {\"cholesterol\": 330, \"type_chestpain\": \"type4\", \"max_heart_rate\": 132, \"resting_bp\": 130, \"diagnosis\": \"moderate-risk heart disease\"}, {\"cholesterol\": 305, \"type_chestpain\": \"type4\", \"max_heart_rate\": 142, \"resting_bp\": 130, \"diagnosis\": \"moderate-risk heart disease\"}, {\"cholesterol\": 277, \"type_chestpain\": \"type3\", \"max_heart_rate\": 151, \"resting_bp\": 118, \"diagnosis\": \"low-risk heart disease\"}, {\"cholesterol\": 205, \"type_chestpain\": \"type4\", \"max_heart_rate\": 130, \"resting_bp\": 128, \"diagnosis\": \"moderate-risk heart disease\"}, {\"cholesterol\": 307, \"type_chestpain\": \"type4\", \"max_heart_rate\": 146, \"resting_bp\": 145, \"diagnosis\": \"low-risk heart disease\"}, {\"cholesterol\": 283, \"type_chestpain\": \"type1\", \"max_heart_rate\": 162, \"resting_bp\": 150, \"diagnosis\": \"low-risk heart disease\"}, {\"cholesterol\": 167, \"type_chestpain\": \"type4\", \"max_heart_rate\": 114, \"resting_bp\": 110, \"diagnosis\": \"moderate-risk heart disease\"}, {\"cholesterol\": 298, \"type_chestpain\": \"type1\", \"max_heart_rate\": 178, \"resting_bp\": 152, \"diagnosis\": \"low-risk heart disease\"}, {\"cholesterol\": 229, \"type_chestpain\": \"type2\", \"max_heart_rate\": 168, \"resting_bp\": 110, \"diagnosis\": \"low-risk heart disease\"}, {\"cholesterol\": 360, \"type_chestpain\": \"type3\", \"max_heart_rate\": 151, \"resting_bp\": 160, \"diagnosis\": \"low-risk heart disease\"}, {\"cholesterol\": 219, \"type_chestpain\": \"type4\", \"max_heart_rate\": 140, \"resting_bp\": 118, \"diagnosis\": \"moderate-risk heart disease\"}, {\"cholesterol\": 246, \"type_chestpain\": \"type3\", \"max_heart_rate\": 173, \"resting_bp\": 130, \"diagnosis\": \"low-risk heart disease\"}, {\"cholesterol\": 192, \"type_chestpain\": \"type2\", \"max_heart_rate\": 174, \"resting_bp\": 122, \"diagnosis\": \"low-risk heart disease\"}, {\"cholesterol\": 204, \"type_chestpain\": \"type2\", \"max_heart_rate\": 172, \"resting_bp\": 130, \"diagnosis\": \"low-risk heart disease\"}, {\"cholesterol\": 239, \"type_chestpain\": \"type4\", \"max_heart_rate\": 142, \"resting_bp\": 110, \"diagnosis\": \"moderate-risk heart disease\"}, {\"cholesterol\": 212, \"type_chestpain\": \"type4\", \"max_heart_rate\": 132, \"resting_bp\": 112, \"diagnosis\": \"moderate-risk heart disease\"}, {\"cholesterol\": 177, \"type_chestpain\": \"type3\", \"max_heart_rate\": 160, \"resting_bp\": 142, \"diagnosis\": \"low-risk heart disease\"}, {\"cholesterol\": 232, \"type_chestpain\": \"type3\", \"max_heart_rate\": 165, \"resting_bp\": 150, \"diagnosis\": \"low-risk heart disease\"}, {\"cholesterol\": 157, \"type_chestpain\": \"type2\", \"max_heart_rate\": 182, \"resting_bp\": 120, \"diagnosis\": \"low-risk heart disease\"}, {\"cholesterol\": 204, \"type_chestpain\": \"type4\", \"max_heart_rate\": 156, \"resting_bp\": 128, \"diagnosis\": \"moderate-risk heart disease\"}, {\"cholesterol\": 226, \"type_chestpain\": \"type4\", \"max_heart_rate\": 111, \"resting_bp\": 142, \"diagnosis\": \"low-risk heart disease\"}, {\"cholesterol\": 253, \"type_chestpain\": \"type3\", \"max_heart_rate\": 179, \"resting_bp\": 130, \"diagnosis\": \"low-risk heart disease\"}, {\"cholesterol\": 225, \"type_chestpain\": \"type4\", \"max_heart_rate\": 114, \"resting_bp\": 150, \"diagnosis\": \"high-risk heart disease\"}, {\"cholesterol\": 254, \"type_chestpain\": \"type3\", \"max_heart_rate\": 146, \"resting_bp\": 140, \"diagnosis\": \"moderate-risk heart disease\"}, {\"cholesterol\": 263, \"type_chestpain\": \"type2\", \"max_heart_rate\": 173, \"resting_bp\": 120, \"diagnosis\": \"low-risk heart disease\"}, {\"cholesterol\": 229, \"type_chestpain\": \"type3\", \"max_heart_rate\": 150, \"resting_bp\": 128, \"diagnosis\": \"low-risk heart disease\"}, {\"cholesterol\": 254, \"type_chestpain\": \"type4\", \"max_heart_rate\": 159, \"resting_bp\": 110, \"diagnosis\": \"low-risk heart disease\"}, {\"cholesterol\": 250, \"type_chestpain\": \"type3\", \"max_heart_rate\": 187, \"resting_bp\": 130, \"diagnosis\": \"low-risk heart disease\"}, {\"cholesterol\": 304, \"type_chestpain\": \"type4\", \"max_heart_rate\": 162, \"resting_bp\": 125, \"diagnosis\": \"high-risk heart disease\"}, {\"cholesterol\": 234, \"type_chestpain\": \"type2\", \"max_heart_rate\": 175, \"resting_bp\": 130, \"diagnosis\": \"low-risk heart disease\"}, {\"cholesterol\": 206, \"type_chestpain\": \"type4\", \"max_heart_rate\": 132, \"resting_bp\": 130, \"diagnosis\": \"high-risk heart disease\"}, {\"cholesterol\": 239, \"type_chestpain\": \"type1\", \"max_heart_rate\": 151, \"resting_bp\": 140, \"diagnosis\": \"low-risk heart disease\"}, {\"cholesterol\": 308, \"type_chestpain\": \"type3\", \"max_heart_rate\": 142, \"resting_bp\": 140, \"diagnosis\": \"low-risk heart disease\"}, {\"cholesterol\": 197, \"type_chestpain\": \"type4\", \"max_heart_rate\": 131, \"resting_bp\": 130, \"diagnosis\": \"low-risk heart disease\"}, {\"cholesterol\": 196, \"type_chestpain\": \"type3\", \"max_heart_rate\": 163, \"resting_bp\": 129, \"diagnosis\": \"low-risk heart disease\"}, {\"cholesterol\": 266, \"type_chestpain\": \"type2\", \"max_heart_rate\": 171, \"resting_bp\": 130, \"diagnosis\": \"low-risk heart disease\"}, {\"cholesterol\": 197, \"type_chestpain\": \"type3\", \"max_heart_rate\": 116, \"resting_bp\": 140, \"diagnosis\": \"low-risk heart disease\"}, {\"cholesterol\": 286, \"type_chestpain\": \"type4\", \"max_heart_rate\": 116, \"resting_bp\": 122, \"diagnosis\": \"moderate-risk heart disease\"}, {\"cholesterol\": 223, \"type_chestpain\": \"type4\", \"max_heart_rate\": 181, \"resting_bp\": 152, \"diagnosis\": \"low-risk heart disease\"}, {\"cholesterol\": 208, \"type_chestpain\": \"type4\", \"max_heart_rate\": 148, \"resting_bp\": 104, \"diagnosis\": \"low-risk heart disease\"}, {\"cholesterol\": 177, \"type_chestpain\": \"type4\", \"max_heart_rate\": 140, \"resting_bp\": 120, \"diagnosis\": \"low-risk heart disease\"}, {\"cholesterol\": 229, \"type_chestpain\": \"type4\", \"max_heart_rate\": 129, \"resting_bp\": 120, \"diagnosis\": \"low-risk heart disease\"}, {\"cholesterol\": 295, \"type_chestpain\": \"type2\", \"max_heart_rate\": 162, \"resting_bp\": 120, \"diagnosis\": \"low-risk heart disease\"}, {\"cholesterol\": 188, \"type_chestpain\": \"type3\", \"max_heart_rate\": 139, \"resting_bp\": 120, \"diagnosis\": \"moderate-risk heart disease\"}, {\"cholesterol\": 240, \"type_chestpain\": \"type1\", \"max_heart_rate\": 171, \"resting_bp\": 150, \"diagnosis\": \"low-risk heart disease\"}, {\"cholesterol\": 257, \"type_chestpain\": \"type3\", \"max_heart_rate\": 156, \"resting_bp\": 138, \"diagnosis\": \"low-risk heart disease\"}, {\"cholesterol\": 192, \"type_chestpain\": \"type4\", \"max_heart_rate\": 148, \"resting_bp\": 140, \"diagnosis\": \"low-risk heart disease\"}, {\"cholesterol\": 269, \"type_chestpain\": \"type4\", \"max_heart_rate\": 169, \"resting_bp\": 108, \"diagnosis\": \"low-risk heart disease\"}, {\"cholesterol\": 273, \"type_chestpain\": \"type3\", \"max_heart_rate\": 152, \"resting_bp\": 125, \"diagnosis\": \"low-risk heart disease\"}, {\"cholesterol\": 199, \"type_chestpain\": \"type1\", \"max_heart_rate\": 178, \"resting_bp\": 140, \"diagnosis\": \"low-risk heart disease\"}, {\"cholesterol\": 199, \"type_chestpain\": \"type3\", \"max_heart_rate\": 162, \"resting_bp\": 172, \"diagnosis\": \"low-risk heart disease\"}, {\"cholesterol\": 322, \"type_chestpain\": \"type4\", \"max_heart_rate\": 109, \"resting_bp\": 130, \"diagnosis\": \"low-risk heart disease\"}, {\"cholesterol\": 198, \"type_chestpain\": \"type2\", \"max_heart_rate\": 168, \"resting_bp\": 105, \"diagnosis\": \"low-risk heart disease\"}, {\"cholesterol\": 193, \"type_chestpain\": \"type1\", \"max_heart_rate\": 162, \"resting_bp\": 120, \"diagnosis\": \"low-risk heart disease\"}, {\"cholesterol\": 249, \"type_chestpain\": \"type4\", \"max_heart_rate\": 144, \"resting_bp\": 120, \"diagnosis\": \"low-risk heart disease\"}, {\"cholesterol\": 217, \"type_chestpain\": \"type4\", \"max_heart_rate\": 111, \"resting_bp\": 140, \"diagnosis\": \"moderate-risk heart disease\"}, {\"cholesterol\": 268, \"type_chestpain\": \"type3\", \"max_heart_rate\": 172, \"resting_bp\": 112, \"diagnosis\": \"low-risk heart disease\"}, {\"cholesterol\": 216, \"type_chestpain\": \"type4\", \"max_heart_rate\": 131, \"resting_bp\": 128, \"diagnosis\": \"low-risk heart disease\"}, {\"cholesterol\": 298, \"type_chestpain\": \"type4\", \"max_heart_rate\": 122, \"resting_bp\": 140, \"diagnosis\": \"moderate-risk heart disease\"}, {\"cholesterol\": 196, \"type_chestpain\": \"type3\", \"max_heart_rate\": 169, \"resting_bp\": 136, \"diagnosis\": \"low-risk heart disease\"}, {\"cholesterol\": 258, \"type_chestpain\": \"type3\", \"max_heart_rate\": 147, \"resting_bp\": 120, \"diagnosis\": \"low-risk heart disease\"}, {\"cholesterol\": 228, \"type_chestpain\": \"type4\", \"max_heart_rate\": 165, \"resting_bp\": 178, \"diagnosis\": \"moderate-risk heart disease\"}, {\"cholesterol\": 246, \"type_chestpain\": \"type2\", \"max_heart_rate\": 120, \"resting_bp\": 160, \"diagnosis\": \"moderate-risk heart disease\"}, {\"cholesterol\": 212, \"type_chestpain\": \"type3\", \"max_heart_rate\": 157, \"resting_bp\": 150, \"diagnosis\": \"low-risk heart disease\"}, {\"cholesterol\": 263, \"type_chestpain\": \"type3\", \"max_heart_rate\": 97, \"resting_bp\": 130, \"diagnosis\": \"moderate-risk heart disease\"}, {\"cholesterol\": 198, \"type_chestpain\": \"type4\", \"max_heart_rate\": 130, \"resting_bp\": 120, \"diagnosis\": \"low-risk heart disease\"}, {\"cholesterol\": 273, \"type_chestpain\": \"type1\", \"max_heart_rate\": 125, \"resting_bp\": 160, \"diagnosis\": \"low-risk heart disease\"}, {\"cholesterol\": 199, \"type_chestpain\": \"type3\", \"max_heart_rate\": 179, \"resting_bp\": 94, \"diagnosis\": \"low-risk heart disease\"}, {\"cholesterol\": 318, \"type_chestpain\": \"type3\", \"max_heart_rate\": 160, \"resting_bp\": 102, \"diagnosis\": \"low-risk heart disease\"}, {\"cholesterol\": 186, \"type_chestpain\": \"type1\", \"max_heart_rate\": 190, \"resting_bp\": 118, \"diagnosis\": \"low-risk heart disease\"}, {\"cholesterol\": 264, \"type_chestpain\": \"type1\", \"max_heart_rate\": 132, \"resting_bp\": 110, \"diagnosis\": \"low-risk heart disease\"}, {\"cholesterol\": 201, \"type_chestpain\": \"type2\", \"max_heart_rate\": 158, \"resting_bp\": 134, \"diagnosis\": \"low-risk heart disease\"}, {\"cholesterol\": 267, \"type_chestpain\": \"type3\", \"max_heart_rate\": 167, \"resting_bp\": 108, \"diagnosis\": \"low-risk heart disease\"}, {\"cholesterol\": 141, \"type_chestpain\": \"type3\", \"max_heart_rate\": 175, \"resting_bp\": 108, \"diagnosis\": \"low-risk heart disease\"}, {\"cholesterol\": 262, \"type_chestpain\": \"type2\", \"max_heart_rate\": 155, \"resting_bp\": 130, \"diagnosis\": \"low-risk heart disease\"}, {\"cholesterol\": 214, \"type_chestpain\": \"type3\", \"max_heart_rate\": 158, \"resting_bp\": 110, \"diagnosis\": \"low-risk heart disease\"}, {\"cholesterol\": 177, \"type_chestpain\": \"type4\", \"max_heart_rate\": 120, \"resting_bp\": 120, \"diagnosis\": \"moderate-risk heart disease\"}, {\"cholesterol\": 315, \"type_chestpain\": \"type3\", \"max_heart_rate\": 162, \"resting_bp\": 130, \"diagnosis\": \"low-risk heart disease\"}, {\"cholesterol\": 341, \"type_chestpain\": \"type4\", \"max_heart_rate\": 136, \"resting_bp\": 132, \"diagnosis\": \"moderate-risk heart disease\"}, {\"cholesterol\": 233, \"type_chestpain\": \"type1\", \"max_heart_rate\": 150, \"resting_bp\": 145, \"diagnosis\": \"low-risk heart disease\"}, {\"cholesterol\": 252, \"type_chestpain\": \"type3\", \"max_heart_rate\": 172, \"resting_bp\": 135, \"diagnosis\": \"low-risk heart disease\"}, {\"cholesterol\": 197, \"type_chestpain\": \"type4\", \"max_heart_rate\": 136, \"resting_bp\": 124, \"diagnosis\": \"low-risk heart disease\"}, {\"cholesterol\": 255, \"type_chestpain\": \"type4\", \"max_heart_rate\": 161, \"resting_bp\": 128, \"diagnosis\": \"low-risk heart disease\"}, {\"cholesterol\": 193, \"type_chestpain\": \"type4\", \"max_heart_rate\": 141, \"resting_bp\": 144, \"diagnosis\": \"moderate-risk heart disease\"}, {\"cholesterol\": 226, \"type_chestpain\": \"type3\", \"max_heart_rate\": 169, \"resting_bp\": 120, \"diagnosis\": \"low-risk heart disease\"}, {\"cholesterol\": 223, \"type_chestpain\": \"type4\", \"max_heart_rate\": 142, \"resting_bp\": 106, \"diagnosis\": \"low-risk heart disease\"}, {\"cholesterol\": 231, \"type_chestpain\": \"type3\", \"max_heart_rate\": 147, \"resting_bp\": 150, \"diagnosis\": \"low-risk heart disease\"}, {\"cholesterol\": 197, \"type_chestpain\": \"type3\", \"max_heart_rate\": 152, \"resting_bp\": 130, \"diagnosis\": \"low-risk heart disease\"}, {\"cholesterol\": 417, \"type_chestpain\": \"type3\", \"max_heart_rate\": 157, \"resting_bp\": 140, \"diagnosis\": \"low-risk heart disease\"}, {\"cholesterol\": 235, \"type_chestpain\": \"type3\", \"max_heart_rate\": 180, \"resting_bp\": 140, \"diagnosis\": \"low-risk heart disease\"}, {\"cholesterol\": 131, \"type_chestpain\": \"type4\", \"max_heart_rate\": 115, \"resting_bp\": 130, \"diagnosis\": \"moderate-risk heart disease\"}, {\"cholesterol\": 288, \"type_chestpain\": \"type1\", \"max_heart_rate\": 159, \"resting_bp\": 170, \"diagnosis\": \"low-risk heart disease\"}, {\"cholesterol\": 200, \"type_chestpain\": \"type4\", \"max_heart_rate\": 126, \"resting_bp\": 144, \"diagnosis\": \"moderate-risk heart disease\"}, {\"cholesterol\": 224, \"type_chestpain\": \"type3\", \"max_heart_rate\": 173, \"resting_bp\": 132, \"diagnosis\": \"moderate-risk heart disease\"}, {\"cholesterol\": 201, \"type_chestpain\": \"type4\", \"max_heart_rate\": 126, \"resting_bp\": 110, \"diagnosis\": \"low-risk heart disease\"}, {\"cholesterol\": 308, \"type_chestpain\": \"type2\", \"max_heart_rate\": 170, \"resting_bp\": 128, \"diagnosis\": \"low-risk heart disease\"}, {\"cholesterol\": 309, \"type_chestpain\": \"type3\", \"max_heart_rate\": 131, \"resting_bp\": 125, \"diagnosis\": \"low-risk heart disease\"}, {\"cholesterol\": 245, \"type_chestpain\": \"type2\", \"max_heart_rate\": 180, \"resting_bp\": 130, \"diagnosis\": \"low-risk heart disease\"}, {\"cholesterol\": 274, \"type_chestpain\": \"type4\", \"max_heart_rate\": 166, \"resting_bp\": 124, \"diagnosis\": \"moderate-risk heart disease\"}, {\"cholesterol\": 260, \"type_chestpain\": \"type4\", \"max_heart_rate\": 185, \"resting_bp\": 115, \"diagnosis\": \"low-risk heart disease\"}, {\"cholesterol\": 211, \"type_chestpain\": \"type4\", \"max_heart_rate\": 161, \"resting_bp\": 110, \"diagnosis\": \"low-risk heart disease\"}, {\"cholesterol\": 227, \"type_chestpain\": \"type3\", \"max_heart_rate\": 154, \"resting_bp\": 94, \"diagnosis\": \"low-risk heart disease\"}, {\"cholesterol\": 180, \"type_chestpain\": \"type3\", \"max_heart_rate\": 150, \"resting_bp\": 130, \"diagnosis\": \"low-risk heart disease\"}, {\"cholesterol\": 236, \"type_chestpain\": \"type2\", \"max_heart_rate\": 174, \"resting_bp\": 130, \"diagnosis\": \"low-risk heart disease\"}, {\"cholesterol\": 234, \"type_chestpain\": \"type1\", \"max_heart_rate\": 131, \"resting_bp\": 160, \"diagnosis\": \"low-risk heart disease\"}, {\"cholesterol\": 268, \"type_chestpain\": \"type4\", \"max_heart_rate\": 160, \"resting_bp\": 140, \"diagnosis\": \"moderate-risk heart disease\"}, {\"cholesterol\": 326, \"type_chestpain\": \"type4\", \"max_heart_rate\": 140, \"resting_bp\": 170, \"diagnosis\": \"moderate-risk heart disease\"}, {\"cholesterol\": 313, \"type_chestpain\": \"type3\", \"max_heart_rate\": 133, \"resting_bp\": 140, \"diagnosis\": \"low-risk heart disease\"}, {\"cholesterol\": 325, \"type_chestpain\": \"type2\", \"max_heart_rate\": 172, \"resting_bp\": 120, \"diagnosis\": \"low-risk heart disease\"}, {\"cholesterol\": 269, \"type_chestpain\": \"type3\", \"max_heart_rate\": 112, \"resting_bp\": 160, \"diagnosis\": \"moderate-risk heart disease\"}, {\"cholesterol\": 407, \"type_chestpain\": \"type4\", \"max_heart_rate\": 154, \"resting_bp\": 150, \"diagnosis\": \"high-risk heart disease\"}, {\"cholesterol\": 221, \"type_chestpain\": \"type2\", \"max_heart_rate\": 164, \"resting_bp\": 140, \"diagnosis\": \"low-risk heart disease\"}, {\"cholesterol\": 245, \"type_chestpain\": \"type2\", \"max_heart_rate\": 143, \"resting_bp\": 156, \"diagnosis\": \"low-risk heart disease\"}, {\"cholesterol\": 278, \"type_chestpain\": \"type3\", \"max_heart_rate\": 152, \"resting_bp\": 146, \"diagnosis\": \"low-risk heart disease\"}, {\"cholesterol\": 205, \"type_chestpain\": \"type2\", \"max_heart_rate\": 184, \"resting_bp\": 128, \"diagnosis\": \"low-risk heart disease\"}, {\"cholesterol\": 261, \"type_chestpain\": \"type2\", \"max_heart_rate\": 141, \"resting_bp\": 124, \"diagnosis\": \"low-risk heart disease\"}, {\"cholesterol\": 164, \"type_chestpain\": \"type4\", \"max_heart_rate\": 145, \"resting_bp\": 160, \"diagnosis\": \"moderate-risk heart disease\"}, {\"cholesterol\": 321, \"type_chestpain\": \"type3\", \"max_heart_rate\": 182, \"resting_bp\": 140, \"diagnosis\": \"low-risk heart disease\"}, {\"cholesterol\": 318, \"type_chestpain\": \"type4\", \"max_heart_rate\": 140, \"resting_bp\": 114, \"diagnosis\": \"high-risk heart disease\"}, {\"cholesterol\": 294, \"type_chestpain\": \"type2\", \"max_heart_rate\": 153, \"resting_bp\": 140, \"diagnosis\": \"low-risk heart disease\"}, {\"cholesterol\": 254, \"type_chestpain\": \"type4\", \"max_heart_rate\": 127, \"resting_bp\": 135, \"diagnosis\": \"moderate-risk heart disease\"}, {\"cholesterol\": 303, \"type_chestpain\": \"type4\", \"max_heart_rate\": 159, \"resting_bp\": 128, \"diagnosis\": \"low-risk heart disease\"}, {\"cholesterol\": 226, \"type_chestpain\": \"type4\", \"max_heart_rate\": 178, \"resting_bp\": 140, \"diagnosis\": \"low-risk heart disease\"}, {\"cholesterol\": 172, \"type_chestpain\": \"type4\", \"max_heart_rate\": 158, \"resting_bp\": 110, \"diagnosis\": \"low-risk heart disease\"}, {\"cholesterol\": 160, \"type_chestpain\": \"type2\", \"max_heart_rate\": 138, \"resting_bp\": 112, \"diagnosis\": \"low-risk heart disease\"}, {\"cholesterol\": 327, \"type_chestpain\": \"type4\", \"max_heart_rate\": 117, \"resting_bp\": 180, \"diagnosis\": \"moderate-risk heart disease\"}, {\"cholesterol\": 282, \"type_chestpain\": \"type4\", \"max_heart_rate\": 142, \"resting_bp\": 145, \"diagnosis\": \"moderate-risk heart disease\"}, {\"cholesterol\": 286, \"type_chestpain\": \"type4\", \"max_heart_rate\": 108, \"resting_bp\": 160, \"diagnosis\": \"moderate-risk heart disease\"}, {\"cholesterol\": 256, \"type_chestpain\": \"type4\", \"max_heart_rate\": 150, \"resting_bp\": 130, \"diagnosis\": \"moderate-risk heart disease\"}, {\"cholesterol\": 218, \"type_chestpain\": \"type3\", \"max_heart_rate\": 134, \"resting_bp\": 126, \"diagnosis\": \"moderate-risk heart disease\"}, {\"cholesterol\": 240, \"type_chestpain\": \"type3\", \"max_heart_rate\": 194, \"resting_bp\": 120, \"diagnosis\": \"low-risk heart disease\"}, {\"cholesterol\": 302, \"type_chestpain\": \"type2\", \"max_heart_rate\": 162, \"resting_bp\": 160, \"diagnosis\": \"low-risk heart disease\"}, {\"cholesterol\": 309, \"type_chestpain\": \"type2\", \"max_heart_rate\": 156, \"resting_bp\": 108, \"diagnosis\": \"low-risk heart disease\"}, {\"cholesterol\": 204, \"type_chestpain\": \"type2\", \"max_heart_rate\": 202, \"resting_bp\": 130, \"diagnosis\": \"low-risk heart disease\"}, {\"cholesterol\": 270, \"type_chestpain\": \"type4\", \"max_heart_rate\": 111, \"resting_bp\": 150, \"diagnosis\": \"moderate-risk heart disease\"}, {\"cholesterol\": 239, \"type_chestpain\": \"type4\", \"max_heart_rate\": 160, \"resting_bp\": 140, \"diagnosis\": \"low-risk heart disease\"}, {\"cholesterol\": 228, \"type_chestpain\": \"type4\", \"max_heart_rate\": 138, \"resting_bp\": 160, \"diagnosis\": \"low-risk heart disease\"}, {\"cholesterol\": 353, \"type_chestpain\": \"type4\", \"max_heart_rate\": 132, \"resting_bp\": 132, \"diagnosis\": \"moderate-risk heart disease\"}, {\"cholesterol\": 219, \"type_chestpain\": \"type2\", \"max_heart_rate\": 188, \"resting_bp\": 130, \"diagnosis\": \"low-risk heart disease\"}, {\"cholesterol\": 242, \"type_chestpain\": \"type3\", \"max_heart_rate\": 149, \"resting_bp\": 118, \"diagnosis\": \"low-risk heart disease\"}, {\"cholesterol\": 220, \"type_chestpain\": \"type2\", \"max_heart_rate\": 170, \"resting_bp\": 120, \"diagnosis\": \"low-risk heart disease\"}, {\"cholesterol\": 247, \"type_chestpain\": \"type4\", \"max_heart_rate\": 171, \"resting_bp\": 150, \"diagnosis\": \"low-risk heart disease\"}, {\"cholesterol\": 270, \"type_chestpain\": \"type1\", \"max_heart_rate\": 145, \"resting_bp\": 178, \"diagnosis\": \"low-risk heart disease\"}, {\"cholesterol\": 248, \"type_chestpain\": \"type4\", \"max_heart_rate\": 122, \"resting_bp\": 100, \"diagnosis\": \"low-risk heart disease\"}, {\"cholesterol\": 265, \"type_chestpain\": \"type4\", \"max_heart_rate\": 122, \"resting_bp\": 102, \"diagnosis\": \"low-risk heart disease\"}, {\"cholesterol\": 178, \"type_chestpain\": \"type3\", \"max_heart_rate\": 96, \"resting_bp\": 120, \"diagnosis\": \"low-risk heart disease\"}, {\"cholesterol\": 126, \"type_chestpain\": \"type3\", \"max_heart_rate\": 173, \"resting_bp\": 150, \"diagnosis\": \"low-risk heart disease\"}, {\"cholesterol\": 230, \"type_chestpain\": \"type4\", \"max_heart_rate\": 160, \"resting_bp\": 117, \"diagnosis\": \"moderate-risk heart disease\"}, {\"cholesterol\": 335, \"type_chestpain\": \"type3\", \"max_heart_rate\": 158, \"resting_bp\": 140, \"diagnosis\": \"low-risk heart disease\"}, {\"cholesterol\": 239, \"type_chestpain\": \"type4\", \"max_heart_rate\": 126, \"resting_bp\": 110, \"diagnosis\": \"moderate-risk heart disease\"}, {\"cholesterol\": 195, \"type_chestpain\": \"type2\", \"max_heart_rate\": 179, \"resting_bp\": 140, \"diagnosis\": \"low-risk heart disease\"}, {\"cholesterol\": 335, \"type_chestpain\": \"type4\", \"max_heart_rate\": 143, \"resting_bp\": 110, \"diagnosis\": \"moderate-risk heart disease\"}, {\"cholesterol\": 149, \"type_chestpain\": \"type4\", \"max_heart_rate\": 125, \"resting_bp\": 112, \"diagnosis\": \"low-risk heart disease\"}, {\"cholesterol\": 250, \"type_chestpain\": \"type3\", \"max_heart_rate\": 179, \"resting_bp\": 112, \"diagnosis\": \"low-risk heart disease\"}, {\"cholesterol\": 232, \"type_chestpain\": \"type2\", \"max_heart_rate\": 164, \"resting_bp\": 154, \"diagnosis\": \"low-risk heart disease\"}, {\"cholesterol\": 184, \"type_chestpain\": \"type4\", \"max_heart_rate\": 105, \"resting_bp\": 132, \"diagnosis\": \"low-risk heart disease\"}, {\"cholesterol\": 222, \"type_chestpain\": \"type4\", \"max_heart_rate\": 186, \"resting_bp\": 122, \"diagnosis\": \"low-risk heart disease\"}, {\"cholesterol\": 236, \"type_chestpain\": \"type4\", \"max_heart_rate\": 152, \"resting_bp\": 138, \"diagnosis\": \"low-risk heart disease\"}, {\"cholesterol\": 234, \"type_chestpain\": \"type1\", \"max_heart_rate\": 145, \"resting_bp\": 134, \"diagnosis\": \"moderate-risk heart disease\"}, {\"cholesterol\": 203, \"type_chestpain\": \"type2\", \"max_heart_rate\": 132, \"resting_bp\": 135, \"diagnosis\": \"low-risk heart disease\"}, {\"cholesterol\": 315, \"type_chestpain\": \"type4\", \"max_heart_rate\": 125, \"resting_bp\": 136, \"diagnosis\": \"moderate-risk heart disease\"}, {\"cholesterol\": 267, \"type_chestpain\": \"type4\", \"max_heart_rate\": 99, \"resting_bp\": 120, \"diagnosis\": \"low-risk heart disease\"}, {\"cholesterol\": 219, \"type_chestpain\": \"type3\", \"max_heart_rate\": 158, \"resting_bp\": 120, \"diagnosis\": \"low-risk heart disease\"}, {\"cholesterol\": 207, \"type_chestpain\": \"type4\", \"max_heart_rate\": 168, \"resting_bp\": 132, \"diagnosis\": \"low-risk heart disease\"}, {\"cholesterol\": 240, \"type_chestpain\": \"type2\", \"max_heart_rate\": 169, \"resting_bp\": 120, \"diagnosis\": \"low-risk heart disease\"}, {\"cholesterol\": 212, \"type_chestpain\": \"type4\", \"max_heart_rate\": 132, \"resting_bp\": 145, \"diagnosis\": \"high-risk heart disease\"}, {\"cholesterol\": 342, \"type_chestpain\": \"type2\", \"max_heart_rate\": 166, \"resting_bp\": 132, \"diagnosis\": \"low-risk heart disease\"}, {\"cholesterol\": 243, \"type_chestpain\": \"type3\", \"max_heart_rate\": 137, \"resting_bp\": 150, \"diagnosis\": \"low-risk heart disease\"}, {\"cholesterol\": 294, \"type_chestpain\": \"type4\", \"max_heart_rate\": 106, \"resting_bp\": 138, \"diagnosis\": \"moderate-risk heart disease\"}, {\"cholesterol\": 234, \"type_chestpain\": \"type4\", \"max_heart_rate\": 160, \"resting_bp\": 138, \"diagnosis\": \"low-risk heart disease\"}, {\"cholesterol\": 269, \"type_chestpain\": \"type3\", \"max_heart_rate\": 148, \"resting_bp\": 155, \"diagnosis\": \"low-risk heart disease\"}, {\"cholesterol\": 216, \"type_chestpain\": \"type3\", \"max_heart_rate\": 115, \"resting_bp\": 128, \"diagnosis\": \"low-risk heart disease\"}, {\"cholesterol\": 169, \"type_chestpain\": \"type4\", \"max_heart_rate\": 144, \"resting_bp\": 120, \"diagnosis\": \"moderate-risk heart disease\"}, {\"cholesterol\": 269, \"type_chestpain\": \"type4\", \"max_heart_rate\": 163, \"resting_bp\": 130, \"diagnosis\": \"low-risk heart disease\"}, {\"cholesterol\": 220, \"type_chestpain\": \"type3\", \"max_heart_rate\": 152, \"resting_bp\": 138, \"diagnosis\": \"low-risk heart disease\"}, {\"cholesterol\": 231, \"type_chestpain\": \"type1\", \"max_heart_rate\": 182, \"resting_bp\": 120, \"diagnosis\": \"high-risk heart disease\"}, {\"cholesterol\": 203, \"type_chestpain\": \"type4\", \"max_heart_rate\": 155, \"resting_bp\": 140, \"diagnosis\": \"low-risk heart disease\"}, {\"cholesterol\": 299, \"type_chestpain\": \"type4\", \"max_heart_rate\": 125, \"resting_bp\": 100, \"diagnosis\": \"moderate-risk heart disease\"}, {\"cholesterol\": 218, \"type_chestpain\": \"type4\", \"max_heart_rate\": 105, \"resting_bp\": 146, \"diagnosis\": \"low-risk heart disease\"}, {\"cholesterol\": 247, \"type_chestpain\": \"type4\", \"max_heart_rate\": 143, \"resting_bp\": 132, \"diagnosis\": \"low-risk heart disease\"}, {\"cholesterol\": 183, \"type_chestpain\": \"type4\", \"max_heart_rate\": 182, \"resting_bp\": 138, \"diagnosis\": \"low-risk heart disease\"}, {\"cholesterol\": 243, \"type_chestpain\": \"type4\", \"max_heart_rate\": 128, \"resting_bp\": 150, \"diagnosis\": \"high-risk heart disease\"}, {\"cholesterol\": 249, \"type_chestpain\": \"type4\", \"max_heart_rate\": 143, \"resting_bp\": 174, \"diagnosis\": \"low-risk heart disease\"}]}}, {\"mode\": \"vega-lite\"});\n",
       "</script>"
      ],
      "text/plain": [
       "alt.Chart(...)"
      ]
     },
     "execution_count": 9,
     "metadata": {},
     "output_type": "execute_result"
    }
   ],
   "source": [
    "# cholesterol\n",
    "chol_hist = alt.Chart(heart_disease_train).mark_bar().encode(\n",
    "    x=alt.X(\"cholesterol:Q\", bin = True).title(\"Cholesterol\"),\n",
    "    y=alt.Y(\"count()\").stack(False),\n",
    "    color = \"diagnosis:N\"\n",
    ").properties(\n",
    "    title = \"Distribution of Cholesterol\"\n",
    ")\n",
    "\n",
    "chol_hist"
   ]
  },
  {
   "cell_type": "code",
   "execution_count": 10,
   "id": "843530db42871a39",
   "metadata": {
    "ExecuteTime": {
     "end_time": "2023-11-02T05:35:16.753691Z",
     "start_time": "2023-11-02T05:35:16.732166Z"
    },
    "collapsed": false,
    "jupyter": {
     "outputs_hidden": false
    },
    "tags": []
   },
   "outputs": [
    {
     "data": {
      "text/html": [
       "\n",
       "<style>\n",
       "  #altair-viz-4a65f4b31d614280a7b21ec108292168.vega-embed {\n",
       "    width: 100%;\n",
       "    display: flex;\n",
       "  }\n",
       "\n",
       "  #altair-viz-4a65f4b31d614280a7b21ec108292168.vega-embed details,\n",
       "  #altair-viz-4a65f4b31d614280a7b21ec108292168.vega-embed details summary {\n",
       "    position: relative;\n",
       "  }\n",
       "</style>\n",
       "<div id=\"altair-viz-4a65f4b31d614280a7b21ec108292168\"></div>\n",
       "<script type=\"text/javascript\">\n",
       "  var VEGA_DEBUG = (typeof VEGA_DEBUG == \"undefined\") ? {} : VEGA_DEBUG;\n",
       "  (function(spec, embedOpt){\n",
       "    let outputDiv = document.currentScript.previousElementSibling;\n",
       "    if (outputDiv.id !== \"altair-viz-4a65f4b31d614280a7b21ec108292168\") {\n",
       "      outputDiv = document.getElementById(\"altair-viz-4a65f4b31d614280a7b21ec108292168\");\n",
       "    }\n",
       "    const paths = {\n",
       "      \"vega\": \"https://cdn.jsdelivr.net/npm/vega@5?noext\",\n",
       "      \"vega-lib\": \"https://cdn.jsdelivr.net/npm/vega-lib?noext\",\n",
       "      \"vega-lite\": \"https://cdn.jsdelivr.net/npm/vega-lite@5.15.1?noext\",\n",
       "      \"vega-embed\": \"https://cdn.jsdelivr.net/npm/vega-embed@6?noext\",\n",
       "    };\n",
       "\n",
       "    function maybeLoadScript(lib, version) {\n",
       "      var key = `${lib.replace(\"-\", \"\")}_version`;\n",
       "      return (VEGA_DEBUG[key] == version) ?\n",
       "        Promise.resolve(paths[lib]) :\n",
       "        new Promise(function(resolve, reject) {\n",
       "          var s = document.createElement('script');\n",
       "          document.getElementsByTagName(\"head\")[0].appendChild(s);\n",
       "          s.async = true;\n",
       "          s.onload = () => {\n",
       "            VEGA_DEBUG[key] = version;\n",
       "            return resolve(paths[lib]);\n",
       "          };\n",
       "          s.onerror = () => reject(`Error loading script: ${paths[lib]}`);\n",
       "          s.src = paths[lib];\n",
       "        });\n",
       "    }\n",
       "\n",
       "    function showError(err) {\n",
       "      outputDiv.innerHTML = `<div class=\"error\" style=\"color:red;\">${err}</div>`;\n",
       "      throw err;\n",
       "    }\n",
       "\n",
       "    function displayChart(vegaEmbed) {\n",
       "      vegaEmbed(outputDiv, spec, embedOpt)\n",
       "        .catch(err => showError(`Javascript Error: ${err.message}<br>This usually means there's a typo in your chart specification. See the javascript console for the full traceback.`));\n",
       "    }\n",
       "\n",
       "    if(typeof define === \"function\" && define.amd) {\n",
       "      requirejs.config({paths});\n",
       "      require([\"vega-embed\"], displayChart, err => showError(`Error loading script: ${err.message}`));\n",
       "    } else {\n",
       "      maybeLoadScript(\"vega\", \"5\")\n",
       "        .then(() => maybeLoadScript(\"vega-lite\", \"5.15.1\"))\n",
       "        .then(() => maybeLoadScript(\"vega-embed\", \"6\"))\n",
       "        .catch(showError)\n",
       "        .then(() => displayChart(vegaEmbed));\n",
       "    }\n",
       "  })({\"config\": {\"view\": {\"continuousWidth\": 300, \"continuousHeight\": 300}}, \"data\": {\"name\": \"data-10401e2e90981e70ac823e98d8e66292\"}, \"mark\": {\"type\": \"bar\"}, \"encoding\": {\"color\": {\"field\": \"diagnosis\", \"type\": \"nominal\"}, \"x\": {\"field\": \"type_chestpain\", \"title\": \"Chest Pain Type\", \"type\": \"nominal\"}, \"y\": {\"aggregate\": \"count\", \"stack\": false, \"type\": \"quantitative\"}}, \"height\": 300, \"title\": \"Distribution of Chest Pain Type\", \"width\": 300, \"$schema\": \"https://vega.github.io/schema/vega-lite/v5.15.1.json\", \"datasets\": {\"data-10401e2e90981e70ac823e98d8e66292\": [{\"cholesterol\": 394, \"type_chestpain\": \"type4\", \"max_heart_rate\": 157, \"resting_bp\": 140, \"diagnosis\": \"low-risk heart disease\"}, {\"cholesterol\": 319, \"type_chestpain\": \"type2\", \"max_heart_rate\": 152, \"resting_bp\": 136, \"diagnosis\": \"moderate-risk heart disease\"}, {\"cholesterol\": 276, \"type_chestpain\": \"type4\", \"max_heart_rate\": 112, \"resting_bp\": 150, \"diagnosis\": \"low-risk heart disease\"}, {\"cholesterol\": 182, \"type_chestpain\": \"type1\", \"max_heart_rate\": 174, \"resting_bp\": 118, \"diagnosis\": \"low-risk heart disease\"}, {\"cholesterol\": 223, \"type_chestpain\": \"type3\", \"max_heart_rate\": 169, \"resting_bp\": 138, \"diagnosis\": \"low-risk heart disease\"}, {\"cholesterol\": 269, \"type_chestpain\": \"type2\", \"max_heart_rate\": 121, \"resting_bp\": 120, \"diagnosis\": \"low-risk heart disease\"}, {\"cholesterol\": 305, \"type_chestpain\": \"type4\", \"max_heart_rate\": 161, \"resting_bp\": 158, \"diagnosis\": \"low-risk heart disease\"}, {\"cholesterol\": 255, \"type_chestpain\": \"type3\", \"max_heart_rate\": 175, \"resting_bp\": 124, \"diagnosis\": \"low-risk heart disease\"}, {\"cholesterol\": 259, \"type_chestpain\": \"type4\", \"max_heart_rate\": 130, \"resting_bp\": 128, \"diagnosis\": \"moderate-risk heart disease\"}, {\"cholesterol\": 212, \"type_chestpain\": \"type4\", \"max_heart_rate\": 168, \"resting_bp\": 125, \"diagnosis\": \"moderate-risk heart disease\"}, {\"cholesterol\": 295, \"type_chestpain\": \"type3\", \"max_heart_rate\": 157, \"resting_bp\": 120, \"diagnosis\": \"low-risk heart disease\"}, {\"cholesterol\": 187, \"type_chestpain\": \"type4\", \"max_heart_rate\": 144, \"resting_bp\": 140, \"diagnosis\": \"moderate-risk heart disease\"}, {\"cholesterol\": 258, \"type_chestpain\": \"type4\", \"max_heart_rate\": 141, \"resting_bp\": 125, \"diagnosis\": \"low-risk heart disease\"}, {\"cholesterol\": 311, \"type_chestpain\": \"type4\", \"max_heart_rate\": 120, \"resting_bp\": 140, \"diagnosis\": \"moderate-risk heart disease\"}, {\"cholesterol\": 271, \"type_chestpain\": \"type2\", \"max_heart_rate\": 162, \"resting_bp\": 134, \"diagnosis\": \"low-risk heart disease\"}, {\"cholesterol\": 281, \"type_chestpain\": \"type2\", \"max_heart_rate\": 103, \"resting_bp\": 120, \"diagnosis\": \"moderate-risk heart disease\"}, {\"cholesterol\": 177, \"type_chestpain\": \"type4\", \"max_heart_rate\": 162, \"resting_bp\": 140, \"diagnosis\": \"moderate-risk heart disease\"}, {\"cholesterol\": 203, \"type_chestpain\": \"type4\", \"max_heart_rate\": 161, \"resting_bp\": 148, \"diagnosis\": \"moderate-risk heart disease\"}, {\"cholesterol\": 330, \"type_chestpain\": \"type4\", \"max_heart_rate\": 169, \"resting_bp\": 130, \"diagnosis\": \"low-risk heart disease\"}, {\"cholesterol\": 245, \"type_chestpain\": \"type3\", \"max_heart_rate\": 166, \"resting_bp\": 125, \"diagnosis\": \"low-risk heart disease\"}, {\"cholesterol\": 275, \"type_chestpain\": \"type4\", \"max_heart_rate\": 118, \"resting_bp\": 110, \"diagnosis\": \"low-risk heart disease\"}, {\"cholesterol\": 221, \"type_chestpain\": \"type2\", \"max_heart_rate\": 163, \"resting_bp\": 130, \"diagnosis\": \"low-risk heart disease\"}, {\"cholesterol\": 299, \"type_chestpain\": \"type4\", \"max_heart_rate\": 173, \"resting_bp\": 140, \"diagnosis\": \"low-risk heart disease\"}, {\"cholesterol\": 241, \"type_chestpain\": \"type4\", \"max_heart_rate\": 123, \"resting_bp\": 140, \"diagnosis\": \"low-risk heart disease\"}, {\"cholesterol\": 263, \"type_chestpain\": \"type4\", \"max_heart_rate\": 105, \"resting_bp\": 128, \"diagnosis\": \"low-risk heart disease\"}, {\"cholesterol\": 253, \"type_chestpain\": \"type4\", \"max_heart_rate\": 144, \"resting_bp\": 130, \"diagnosis\": \"low-risk heart disease\"}, {\"cholesterol\": 201, \"type_chestpain\": \"type3\", \"max_heart_rate\": 163, \"resting_bp\": 160, \"diagnosis\": \"low-risk heart disease\"}, {\"cholesterol\": 275, \"type_chestpain\": \"type3\", \"max_heart_rate\": 139, \"resting_bp\": 130, \"diagnosis\": \"low-risk heart disease\"}, {\"cholesterol\": 309, \"type_chestpain\": \"type4\", \"max_heart_rate\": 147, \"resting_bp\": 142, \"diagnosis\": \"moderate-risk heart disease\"}, {\"cholesterol\": 303, \"type_chestpain\": \"type4\", \"max_heart_rate\": 181, \"resting_bp\": 115, \"diagnosis\": \"low-risk heart disease\"}, {\"cholesterol\": 244, \"type_chestpain\": \"type1\", \"max_heart_rate\": 178, \"resting_bp\": 148, \"diagnosis\": \"low-risk heart disease\"}, {\"cholesterol\": 233, \"type_chestpain\": \"type3\", \"max_heart_rate\": 163, \"resting_bp\": 140, \"diagnosis\": \"low-risk heart disease\"}, {\"cholesterol\": 254, \"type_chestpain\": \"type4\", \"max_heart_rate\": 163, \"resting_bp\": 125, \"diagnosis\": \"moderate-risk heart disease\"}, {\"cholesterol\": 240, \"type_chestpain\": \"type3\", \"max_heart_rate\": 154, \"resting_bp\": 105, \"diagnosis\": \"low-risk heart disease\"}, {\"cholesterol\": 208, \"type_chestpain\": \"type2\", \"max_heart_rate\": 140, \"resting_bp\": 128, \"diagnosis\": \"low-risk heart disease\"}, {\"cholesterol\": 244, \"type_chestpain\": \"type4\", \"max_heart_rate\": 154, \"resting_bp\": 150, \"diagnosis\": \"low-risk heart disease\"}, {\"cholesterol\": 212, \"type_chestpain\": \"type3\", \"max_heart_rate\": 150, \"resting_bp\": 152, \"diagnosis\": \"low-risk heart disease\"}, {\"cholesterol\": 271, \"type_chestpain\": \"type4\", \"max_heart_rate\": 182, \"resting_bp\": 138, \"diagnosis\": \"low-risk heart disease\"}, {\"cholesterol\": 293, \"type_chestpain\": \"type4\", \"max_heart_rate\": 170, \"resting_bp\": 140, \"diagnosis\": \"moderate-risk heart disease\"}, {\"cholesterol\": 233, \"type_chestpain\": \"type4\", \"max_heart_rate\": 147, \"resting_bp\": 108, \"diagnosis\": \"low-risk heart disease\"}, {\"cholesterol\": 234, \"type_chestpain\": \"type4\", \"max_heart_rate\": 161, \"resting_bp\": 135, \"diagnosis\": \"low-risk heart disease\"}, {\"cholesterol\": 274, \"type_chestpain\": \"type3\", \"max_heart_rate\": 150, \"resting_bp\": 180, \"diagnosis\": \"moderate-risk heart disease\"}, {\"cholesterol\": 174, \"type_chestpain\": \"type4\", \"max_heart_rate\": 125, \"resting_bp\": 145, \"diagnosis\": \"high-risk heart disease\"}, {\"cholesterol\": 215, \"type_chestpain\": \"type3\", \"max_heart_rate\": 170, \"resting_bp\": 120, \"diagnosis\": \"low-risk heart disease\"}, {\"cholesterol\": 330, \"type_chestpain\": \"type4\", \"max_heart_rate\": 132, \"resting_bp\": 130, \"diagnosis\": \"moderate-risk heart disease\"}, {\"cholesterol\": 305, \"type_chestpain\": \"type4\", \"max_heart_rate\": 142, \"resting_bp\": 130, \"diagnosis\": \"moderate-risk heart disease\"}, {\"cholesterol\": 277, \"type_chestpain\": \"type3\", \"max_heart_rate\": 151, \"resting_bp\": 118, \"diagnosis\": \"low-risk heart disease\"}, {\"cholesterol\": 205, \"type_chestpain\": \"type4\", \"max_heart_rate\": 130, \"resting_bp\": 128, \"diagnosis\": \"moderate-risk heart disease\"}, {\"cholesterol\": 307, \"type_chestpain\": \"type4\", \"max_heart_rate\": 146, \"resting_bp\": 145, \"diagnosis\": \"low-risk heart disease\"}, {\"cholesterol\": 283, \"type_chestpain\": \"type1\", \"max_heart_rate\": 162, \"resting_bp\": 150, \"diagnosis\": \"low-risk heart disease\"}, {\"cholesterol\": 167, \"type_chestpain\": \"type4\", \"max_heart_rate\": 114, \"resting_bp\": 110, \"diagnosis\": \"moderate-risk heart disease\"}, {\"cholesterol\": 298, \"type_chestpain\": \"type1\", \"max_heart_rate\": 178, \"resting_bp\": 152, \"diagnosis\": \"low-risk heart disease\"}, {\"cholesterol\": 229, \"type_chestpain\": \"type2\", \"max_heart_rate\": 168, \"resting_bp\": 110, \"diagnosis\": \"low-risk heart disease\"}, {\"cholesterol\": 360, \"type_chestpain\": \"type3\", \"max_heart_rate\": 151, \"resting_bp\": 160, \"diagnosis\": \"low-risk heart disease\"}, {\"cholesterol\": 219, \"type_chestpain\": \"type4\", \"max_heart_rate\": 140, \"resting_bp\": 118, \"diagnosis\": \"moderate-risk heart disease\"}, {\"cholesterol\": 246, \"type_chestpain\": \"type3\", \"max_heart_rate\": 173, \"resting_bp\": 130, \"diagnosis\": \"low-risk heart disease\"}, {\"cholesterol\": 192, \"type_chestpain\": \"type2\", \"max_heart_rate\": 174, \"resting_bp\": 122, \"diagnosis\": \"low-risk heart disease\"}, {\"cholesterol\": 204, \"type_chestpain\": \"type2\", \"max_heart_rate\": 172, \"resting_bp\": 130, \"diagnosis\": \"low-risk heart disease\"}, {\"cholesterol\": 239, \"type_chestpain\": \"type4\", \"max_heart_rate\": 142, \"resting_bp\": 110, \"diagnosis\": \"moderate-risk heart disease\"}, {\"cholesterol\": 212, \"type_chestpain\": \"type4\", \"max_heart_rate\": 132, \"resting_bp\": 112, \"diagnosis\": \"moderate-risk heart disease\"}, {\"cholesterol\": 177, \"type_chestpain\": \"type3\", \"max_heart_rate\": 160, \"resting_bp\": 142, \"diagnosis\": \"low-risk heart disease\"}, {\"cholesterol\": 232, \"type_chestpain\": \"type3\", \"max_heart_rate\": 165, \"resting_bp\": 150, \"diagnosis\": \"low-risk heart disease\"}, {\"cholesterol\": 157, \"type_chestpain\": \"type2\", \"max_heart_rate\": 182, \"resting_bp\": 120, \"diagnosis\": \"low-risk heart disease\"}, {\"cholesterol\": 204, \"type_chestpain\": \"type4\", \"max_heart_rate\": 156, \"resting_bp\": 128, \"diagnosis\": \"moderate-risk heart disease\"}, {\"cholesterol\": 226, \"type_chestpain\": \"type4\", \"max_heart_rate\": 111, \"resting_bp\": 142, \"diagnosis\": \"low-risk heart disease\"}, {\"cholesterol\": 253, \"type_chestpain\": \"type3\", \"max_heart_rate\": 179, \"resting_bp\": 130, \"diagnosis\": \"low-risk heart disease\"}, {\"cholesterol\": 225, \"type_chestpain\": \"type4\", \"max_heart_rate\": 114, \"resting_bp\": 150, \"diagnosis\": \"high-risk heart disease\"}, {\"cholesterol\": 254, \"type_chestpain\": \"type3\", \"max_heart_rate\": 146, \"resting_bp\": 140, \"diagnosis\": \"moderate-risk heart disease\"}, {\"cholesterol\": 263, \"type_chestpain\": \"type2\", \"max_heart_rate\": 173, \"resting_bp\": 120, \"diagnosis\": \"low-risk heart disease\"}, {\"cholesterol\": 229, \"type_chestpain\": \"type3\", \"max_heart_rate\": 150, \"resting_bp\": 128, \"diagnosis\": \"low-risk heart disease\"}, {\"cholesterol\": 254, \"type_chestpain\": \"type4\", \"max_heart_rate\": 159, \"resting_bp\": 110, \"diagnosis\": \"low-risk heart disease\"}, {\"cholesterol\": 250, \"type_chestpain\": \"type3\", \"max_heart_rate\": 187, \"resting_bp\": 130, \"diagnosis\": \"low-risk heart disease\"}, {\"cholesterol\": 304, \"type_chestpain\": \"type4\", \"max_heart_rate\": 162, \"resting_bp\": 125, \"diagnosis\": \"high-risk heart disease\"}, {\"cholesterol\": 234, \"type_chestpain\": \"type2\", \"max_heart_rate\": 175, \"resting_bp\": 130, \"diagnosis\": \"low-risk heart disease\"}, {\"cholesterol\": 206, \"type_chestpain\": \"type4\", \"max_heart_rate\": 132, \"resting_bp\": 130, \"diagnosis\": \"high-risk heart disease\"}, {\"cholesterol\": 239, \"type_chestpain\": \"type1\", \"max_heart_rate\": 151, \"resting_bp\": 140, \"diagnosis\": \"low-risk heart disease\"}, {\"cholesterol\": 308, \"type_chestpain\": \"type3\", \"max_heart_rate\": 142, \"resting_bp\": 140, \"diagnosis\": \"low-risk heart disease\"}, {\"cholesterol\": 197, \"type_chestpain\": \"type4\", \"max_heart_rate\": 131, \"resting_bp\": 130, \"diagnosis\": \"low-risk heart disease\"}, {\"cholesterol\": 196, \"type_chestpain\": \"type3\", \"max_heart_rate\": 163, \"resting_bp\": 129, \"diagnosis\": \"low-risk heart disease\"}, {\"cholesterol\": 266, \"type_chestpain\": \"type2\", \"max_heart_rate\": 171, \"resting_bp\": 130, \"diagnosis\": \"low-risk heart disease\"}, {\"cholesterol\": 197, \"type_chestpain\": \"type3\", \"max_heart_rate\": 116, \"resting_bp\": 140, \"diagnosis\": \"low-risk heart disease\"}, {\"cholesterol\": 286, \"type_chestpain\": \"type4\", \"max_heart_rate\": 116, \"resting_bp\": 122, \"diagnosis\": \"moderate-risk heart disease\"}, {\"cholesterol\": 223, \"type_chestpain\": \"type4\", \"max_heart_rate\": 181, \"resting_bp\": 152, \"diagnosis\": \"low-risk heart disease\"}, {\"cholesterol\": 208, \"type_chestpain\": \"type4\", \"max_heart_rate\": 148, \"resting_bp\": 104, \"diagnosis\": \"low-risk heart disease\"}, {\"cholesterol\": 177, \"type_chestpain\": \"type4\", \"max_heart_rate\": 140, \"resting_bp\": 120, \"diagnosis\": \"low-risk heart disease\"}, {\"cholesterol\": 229, \"type_chestpain\": \"type4\", \"max_heart_rate\": 129, \"resting_bp\": 120, \"diagnosis\": \"low-risk heart disease\"}, {\"cholesterol\": 295, \"type_chestpain\": \"type2\", \"max_heart_rate\": 162, \"resting_bp\": 120, \"diagnosis\": \"low-risk heart disease\"}, {\"cholesterol\": 188, \"type_chestpain\": \"type3\", \"max_heart_rate\": 139, \"resting_bp\": 120, \"diagnosis\": \"moderate-risk heart disease\"}, {\"cholesterol\": 240, \"type_chestpain\": \"type1\", \"max_heart_rate\": 171, \"resting_bp\": 150, \"diagnosis\": \"low-risk heart disease\"}, {\"cholesterol\": 257, \"type_chestpain\": \"type3\", \"max_heart_rate\": 156, \"resting_bp\": 138, \"diagnosis\": \"low-risk heart disease\"}, {\"cholesterol\": 192, \"type_chestpain\": \"type4\", \"max_heart_rate\": 148, \"resting_bp\": 140, \"diagnosis\": \"low-risk heart disease\"}, {\"cholesterol\": 269, \"type_chestpain\": \"type4\", \"max_heart_rate\": 169, \"resting_bp\": 108, \"diagnosis\": \"low-risk heart disease\"}, {\"cholesterol\": 273, \"type_chestpain\": \"type3\", \"max_heart_rate\": 152, \"resting_bp\": 125, \"diagnosis\": \"low-risk heart disease\"}, {\"cholesterol\": 199, \"type_chestpain\": \"type1\", \"max_heart_rate\": 178, \"resting_bp\": 140, \"diagnosis\": \"low-risk heart disease\"}, {\"cholesterol\": 199, \"type_chestpain\": \"type3\", \"max_heart_rate\": 162, \"resting_bp\": 172, \"diagnosis\": \"low-risk heart disease\"}, {\"cholesterol\": 322, \"type_chestpain\": \"type4\", \"max_heart_rate\": 109, \"resting_bp\": 130, \"diagnosis\": \"low-risk heart disease\"}, {\"cholesterol\": 198, \"type_chestpain\": \"type2\", \"max_heart_rate\": 168, \"resting_bp\": 105, \"diagnosis\": \"low-risk heart disease\"}, {\"cholesterol\": 193, \"type_chestpain\": \"type1\", \"max_heart_rate\": 162, \"resting_bp\": 120, \"diagnosis\": \"low-risk heart disease\"}, {\"cholesterol\": 249, \"type_chestpain\": \"type4\", \"max_heart_rate\": 144, \"resting_bp\": 120, \"diagnosis\": \"low-risk heart disease\"}, {\"cholesterol\": 217, \"type_chestpain\": \"type4\", \"max_heart_rate\": 111, \"resting_bp\": 140, \"diagnosis\": \"moderate-risk heart disease\"}, {\"cholesterol\": 268, \"type_chestpain\": \"type3\", \"max_heart_rate\": 172, \"resting_bp\": 112, \"diagnosis\": \"low-risk heart disease\"}, {\"cholesterol\": 216, \"type_chestpain\": \"type4\", \"max_heart_rate\": 131, \"resting_bp\": 128, \"diagnosis\": \"low-risk heart disease\"}, {\"cholesterol\": 298, \"type_chestpain\": \"type4\", \"max_heart_rate\": 122, \"resting_bp\": 140, \"diagnosis\": \"moderate-risk heart disease\"}, {\"cholesterol\": 196, \"type_chestpain\": \"type3\", \"max_heart_rate\": 169, \"resting_bp\": 136, \"diagnosis\": \"low-risk heart disease\"}, {\"cholesterol\": 258, \"type_chestpain\": \"type3\", \"max_heart_rate\": 147, \"resting_bp\": 120, \"diagnosis\": \"low-risk heart disease\"}, {\"cholesterol\": 228, \"type_chestpain\": \"type4\", \"max_heart_rate\": 165, \"resting_bp\": 178, \"diagnosis\": \"moderate-risk heart disease\"}, {\"cholesterol\": 246, \"type_chestpain\": \"type2\", \"max_heart_rate\": 120, \"resting_bp\": 160, \"diagnosis\": \"moderate-risk heart disease\"}, {\"cholesterol\": 212, \"type_chestpain\": \"type3\", \"max_heart_rate\": 157, \"resting_bp\": 150, \"diagnosis\": \"low-risk heart disease\"}, {\"cholesterol\": 263, \"type_chestpain\": \"type3\", \"max_heart_rate\": 97, \"resting_bp\": 130, \"diagnosis\": \"moderate-risk heart disease\"}, {\"cholesterol\": 198, \"type_chestpain\": \"type4\", \"max_heart_rate\": 130, \"resting_bp\": 120, \"diagnosis\": \"low-risk heart disease\"}, {\"cholesterol\": 273, \"type_chestpain\": \"type1\", \"max_heart_rate\": 125, \"resting_bp\": 160, \"diagnosis\": \"low-risk heart disease\"}, {\"cholesterol\": 199, \"type_chestpain\": \"type3\", \"max_heart_rate\": 179, \"resting_bp\": 94, \"diagnosis\": \"low-risk heart disease\"}, {\"cholesterol\": 318, \"type_chestpain\": \"type3\", \"max_heart_rate\": 160, \"resting_bp\": 102, \"diagnosis\": \"low-risk heart disease\"}, {\"cholesterol\": 186, \"type_chestpain\": \"type1\", \"max_heart_rate\": 190, \"resting_bp\": 118, \"diagnosis\": \"low-risk heart disease\"}, {\"cholesterol\": 264, \"type_chestpain\": \"type1\", \"max_heart_rate\": 132, \"resting_bp\": 110, \"diagnosis\": \"low-risk heart disease\"}, {\"cholesterol\": 201, \"type_chestpain\": \"type2\", \"max_heart_rate\": 158, \"resting_bp\": 134, \"diagnosis\": \"low-risk heart disease\"}, {\"cholesterol\": 267, \"type_chestpain\": \"type3\", \"max_heart_rate\": 167, \"resting_bp\": 108, \"diagnosis\": \"low-risk heart disease\"}, {\"cholesterol\": 141, \"type_chestpain\": \"type3\", \"max_heart_rate\": 175, \"resting_bp\": 108, \"diagnosis\": \"low-risk heart disease\"}, {\"cholesterol\": 262, \"type_chestpain\": \"type2\", \"max_heart_rate\": 155, \"resting_bp\": 130, \"diagnosis\": \"low-risk heart disease\"}, {\"cholesterol\": 214, \"type_chestpain\": \"type3\", \"max_heart_rate\": 158, \"resting_bp\": 110, \"diagnosis\": \"low-risk heart disease\"}, {\"cholesterol\": 177, \"type_chestpain\": \"type4\", \"max_heart_rate\": 120, \"resting_bp\": 120, \"diagnosis\": \"moderate-risk heart disease\"}, {\"cholesterol\": 315, \"type_chestpain\": \"type3\", \"max_heart_rate\": 162, \"resting_bp\": 130, \"diagnosis\": \"low-risk heart disease\"}, {\"cholesterol\": 341, \"type_chestpain\": \"type4\", \"max_heart_rate\": 136, \"resting_bp\": 132, \"diagnosis\": \"moderate-risk heart disease\"}, {\"cholesterol\": 233, \"type_chestpain\": \"type1\", \"max_heart_rate\": 150, \"resting_bp\": 145, \"diagnosis\": \"low-risk heart disease\"}, {\"cholesterol\": 252, \"type_chestpain\": \"type3\", \"max_heart_rate\": 172, \"resting_bp\": 135, \"diagnosis\": \"low-risk heart disease\"}, {\"cholesterol\": 197, \"type_chestpain\": \"type4\", \"max_heart_rate\": 136, \"resting_bp\": 124, \"diagnosis\": \"low-risk heart disease\"}, {\"cholesterol\": 255, \"type_chestpain\": \"type4\", \"max_heart_rate\": 161, \"resting_bp\": 128, \"diagnosis\": \"low-risk heart disease\"}, {\"cholesterol\": 193, \"type_chestpain\": \"type4\", \"max_heart_rate\": 141, \"resting_bp\": 144, \"diagnosis\": \"moderate-risk heart disease\"}, {\"cholesterol\": 226, \"type_chestpain\": \"type3\", \"max_heart_rate\": 169, \"resting_bp\": 120, \"diagnosis\": \"low-risk heart disease\"}, {\"cholesterol\": 223, \"type_chestpain\": \"type4\", \"max_heart_rate\": 142, \"resting_bp\": 106, \"diagnosis\": \"low-risk heart disease\"}, {\"cholesterol\": 231, \"type_chestpain\": \"type3\", \"max_heart_rate\": 147, \"resting_bp\": 150, \"diagnosis\": \"low-risk heart disease\"}, {\"cholesterol\": 197, \"type_chestpain\": \"type3\", \"max_heart_rate\": 152, \"resting_bp\": 130, \"diagnosis\": \"low-risk heart disease\"}, {\"cholesterol\": 417, \"type_chestpain\": \"type3\", \"max_heart_rate\": 157, \"resting_bp\": 140, \"diagnosis\": \"low-risk heart disease\"}, {\"cholesterol\": 235, \"type_chestpain\": \"type3\", \"max_heart_rate\": 180, \"resting_bp\": 140, \"diagnosis\": \"low-risk heart disease\"}, {\"cholesterol\": 131, \"type_chestpain\": \"type4\", \"max_heart_rate\": 115, \"resting_bp\": 130, \"diagnosis\": \"moderate-risk heart disease\"}, {\"cholesterol\": 288, \"type_chestpain\": \"type1\", \"max_heart_rate\": 159, \"resting_bp\": 170, \"diagnosis\": \"low-risk heart disease\"}, {\"cholesterol\": 200, \"type_chestpain\": \"type4\", \"max_heart_rate\": 126, \"resting_bp\": 144, \"diagnosis\": \"moderate-risk heart disease\"}, {\"cholesterol\": 224, \"type_chestpain\": \"type3\", \"max_heart_rate\": 173, \"resting_bp\": 132, \"diagnosis\": \"moderate-risk heart disease\"}, {\"cholesterol\": 201, \"type_chestpain\": \"type4\", \"max_heart_rate\": 126, \"resting_bp\": 110, \"diagnosis\": \"low-risk heart disease\"}, {\"cholesterol\": 308, \"type_chestpain\": \"type2\", \"max_heart_rate\": 170, \"resting_bp\": 128, \"diagnosis\": \"low-risk heart disease\"}, {\"cholesterol\": 309, \"type_chestpain\": \"type3\", \"max_heart_rate\": 131, \"resting_bp\": 125, \"diagnosis\": \"low-risk heart disease\"}, {\"cholesterol\": 245, \"type_chestpain\": \"type2\", \"max_heart_rate\": 180, \"resting_bp\": 130, \"diagnosis\": \"low-risk heart disease\"}, {\"cholesterol\": 274, \"type_chestpain\": \"type4\", \"max_heart_rate\": 166, \"resting_bp\": 124, \"diagnosis\": \"moderate-risk heart disease\"}, {\"cholesterol\": 260, \"type_chestpain\": \"type4\", \"max_heart_rate\": 185, \"resting_bp\": 115, \"diagnosis\": \"low-risk heart disease\"}, {\"cholesterol\": 211, \"type_chestpain\": \"type4\", \"max_heart_rate\": 161, \"resting_bp\": 110, \"diagnosis\": \"low-risk heart disease\"}, {\"cholesterol\": 227, \"type_chestpain\": \"type3\", \"max_heart_rate\": 154, \"resting_bp\": 94, \"diagnosis\": \"low-risk heart disease\"}, {\"cholesterol\": 180, \"type_chestpain\": \"type3\", \"max_heart_rate\": 150, \"resting_bp\": 130, \"diagnosis\": \"low-risk heart disease\"}, {\"cholesterol\": 236, \"type_chestpain\": \"type2\", \"max_heart_rate\": 174, \"resting_bp\": 130, \"diagnosis\": \"low-risk heart disease\"}, {\"cholesterol\": 234, \"type_chestpain\": \"type1\", \"max_heart_rate\": 131, \"resting_bp\": 160, \"diagnosis\": \"low-risk heart disease\"}, {\"cholesterol\": 268, \"type_chestpain\": \"type4\", \"max_heart_rate\": 160, \"resting_bp\": 140, \"diagnosis\": \"moderate-risk heart disease\"}, {\"cholesterol\": 326, \"type_chestpain\": \"type4\", \"max_heart_rate\": 140, \"resting_bp\": 170, \"diagnosis\": \"moderate-risk heart disease\"}, {\"cholesterol\": 313, \"type_chestpain\": \"type3\", \"max_heart_rate\": 133, \"resting_bp\": 140, \"diagnosis\": \"low-risk heart disease\"}, {\"cholesterol\": 325, \"type_chestpain\": \"type2\", \"max_heart_rate\": 172, \"resting_bp\": 120, \"diagnosis\": \"low-risk heart disease\"}, {\"cholesterol\": 269, \"type_chestpain\": \"type3\", \"max_heart_rate\": 112, \"resting_bp\": 160, \"diagnosis\": \"moderate-risk heart disease\"}, {\"cholesterol\": 407, \"type_chestpain\": \"type4\", \"max_heart_rate\": 154, \"resting_bp\": 150, \"diagnosis\": \"high-risk heart disease\"}, {\"cholesterol\": 221, \"type_chestpain\": \"type2\", \"max_heart_rate\": 164, \"resting_bp\": 140, \"diagnosis\": \"low-risk heart disease\"}, {\"cholesterol\": 245, \"type_chestpain\": \"type2\", \"max_heart_rate\": 143, \"resting_bp\": 156, \"diagnosis\": \"low-risk heart disease\"}, {\"cholesterol\": 278, \"type_chestpain\": \"type3\", \"max_heart_rate\": 152, \"resting_bp\": 146, \"diagnosis\": \"low-risk heart disease\"}, {\"cholesterol\": 205, \"type_chestpain\": \"type2\", \"max_heart_rate\": 184, \"resting_bp\": 128, \"diagnosis\": \"low-risk heart disease\"}, {\"cholesterol\": 261, \"type_chestpain\": \"type2\", \"max_heart_rate\": 141, \"resting_bp\": 124, \"diagnosis\": \"low-risk heart disease\"}, {\"cholesterol\": 164, \"type_chestpain\": \"type4\", \"max_heart_rate\": 145, \"resting_bp\": 160, \"diagnosis\": \"moderate-risk heart disease\"}, {\"cholesterol\": 321, \"type_chestpain\": \"type3\", \"max_heart_rate\": 182, \"resting_bp\": 140, \"diagnosis\": \"low-risk heart disease\"}, {\"cholesterol\": 318, \"type_chestpain\": \"type4\", \"max_heart_rate\": 140, \"resting_bp\": 114, \"diagnosis\": \"high-risk heart disease\"}, {\"cholesterol\": 294, \"type_chestpain\": \"type2\", \"max_heart_rate\": 153, \"resting_bp\": 140, \"diagnosis\": \"low-risk heart disease\"}, {\"cholesterol\": 254, \"type_chestpain\": \"type4\", \"max_heart_rate\": 127, \"resting_bp\": 135, \"diagnosis\": \"moderate-risk heart disease\"}, {\"cholesterol\": 303, \"type_chestpain\": \"type4\", \"max_heart_rate\": 159, \"resting_bp\": 128, \"diagnosis\": \"low-risk heart disease\"}, {\"cholesterol\": 226, \"type_chestpain\": \"type4\", \"max_heart_rate\": 178, \"resting_bp\": 140, \"diagnosis\": \"low-risk heart disease\"}, {\"cholesterol\": 172, \"type_chestpain\": \"type4\", \"max_heart_rate\": 158, \"resting_bp\": 110, \"diagnosis\": \"low-risk heart disease\"}, {\"cholesterol\": 160, \"type_chestpain\": \"type2\", \"max_heart_rate\": 138, \"resting_bp\": 112, \"diagnosis\": \"low-risk heart disease\"}, {\"cholesterol\": 327, \"type_chestpain\": \"type4\", \"max_heart_rate\": 117, \"resting_bp\": 180, \"diagnosis\": \"moderate-risk heart disease\"}, {\"cholesterol\": 282, \"type_chestpain\": \"type4\", \"max_heart_rate\": 142, \"resting_bp\": 145, \"diagnosis\": \"moderate-risk heart disease\"}, {\"cholesterol\": 286, \"type_chestpain\": \"type4\", \"max_heart_rate\": 108, \"resting_bp\": 160, \"diagnosis\": \"moderate-risk heart disease\"}, {\"cholesterol\": 256, \"type_chestpain\": \"type4\", \"max_heart_rate\": 150, \"resting_bp\": 130, \"diagnosis\": \"moderate-risk heart disease\"}, {\"cholesterol\": 218, \"type_chestpain\": \"type3\", \"max_heart_rate\": 134, \"resting_bp\": 126, \"diagnosis\": \"moderate-risk heart disease\"}, {\"cholesterol\": 240, \"type_chestpain\": \"type3\", \"max_heart_rate\": 194, \"resting_bp\": 120, \"diagnosis\": \"low-risk heart disease\"}, {\"cholesterol\": 302, \"type_chestpain\": \"type2\", \"max_heart_rate\": 162, \"resting_bp\": 160, \"diagnosis\": \"low-risk heart disease\"}, {\"cholesterol\": 309, \"type_chestpain\": \"type2\", \"max_heart_rate\": 156, \"resting_bp\": 108, \"diagnosis\": \"low-risk heart disease\"}, {\"cholesterol\": 204, \"type_chestpain\": \"type2\", \"max_heart_rate\": 202, \"resting_bp\": 130, \"diagnosis\": \"low-risk heart disease\"}, {\"cholesterol\": 270, \"type_chestpain\": \"type4\", \"max_heart_rate\": 111, \"resting_bp\": 150, \"diagnosis\": \"moderate-risk heart disease\"}, {\"cholesterol\": 239, \"type_chestpain\": \"type4\", \"max_heart_rate\": 160, \"resting_bp\": 140, \"diagnosis\": \"low-risk heart disease\"}, {\"cholesterol\": 228, \"type_chestpain\": \"type4\", \"max_heart_rate\": 138, \"resting_bp\": 160, \"diagnosis\": \"low-risk heart disease\"}, {\"cholesterol\": 353, \"type_chestpain\": \"type4\", \"max_heart_rate\": 132, \"resting_bp\": 132, \"diagnosis\": \"moderate-risk heart disease\"}, {\"cholesterol\": 219, \"type_chestpain\": \"type2\", \"max_heart_rate\": 188, \"resting_bp\": 130, \"diagnosis\": \"low-risk heart disease\"}, {\"cholesterol\": 242, \"type_chestpain\": \"type3\", \"max_heart_rate\": 149, \"resting_bp\": 118, \"diagnosis\": \"low-risk heart disease\"}, {\"cholesterol\": 220, \"type_chestpain\": \"type2\", \"max_heart_rate\": 170, \"resting_bp\": 120, \"diagnosis\": \"low-risk heart disease\"}, {\"cholesterol\": 247, \"type_chestpain\": \"type4\", \"max_heart_rate\": 171, \"resting_bp\": 150, \"diagnosis\": \"low-risk heart disease\"}, {\"cholesterol\": 270, \"type_chestpain\": \"type1\", \"max_heart_rate\": 145, \"resting_bp\": 178, \"diagnosis\": \"low-risk heart disease\"}, {\"cholesterol\": 248, \"type_chestpain\": \"type4\", \"max_heart_rate\": 122, \"resting_bp\": 100, \"diagnosis\": \"low-risk heart disease\"}, {\"cholesterol\": 265, \"type_chestpain\": \"type4\", \"max_heart_rate\": 122, \"resting_bp\": 102, \"diagnosis\": \"low-risk heart disease\"}, {\"cholesterol\": 178, \"type_chestpain\": \"type3\", \"max_heart_rate\": 96, \"resting_bp\": 120, \"diagnosis\": \"low-risk heart disease\"}, {\"cholesterol\": 126, \"type_chestpain\": \"type3\", \"max_heart_rate\": 173, \"resting_bp\": 150, \"diagnosis\": \"low-risk heart disease\"}, {\"cholesterol\": 230, \"type_chestpain\": \"type4\", \"max_heart_rate\": 160, \"resting_bp\": 117, \"diagnosis\": \"moderate-risk heart disease\"}, {\"cholesterol\": 335, \"type_chestpain\": \"type3\", \"max_heart_rate\": 158, \"resting_bp\": 140, \"diagnosis\": \"low-risk heart disease\"}, {\"cholesterol\": 239, \"type_chestpain\": \"type4\", \"max_heart_rate\": 126, \"resting_bp\": 110, \"diagnosis\": \"moderate-risk heart disease\"}, {\"cholesterol\": 195, \"type_chestpain\": \"type2\", \"max_heart_rate\": 179, \"resting_bp\": 140, \"diagnosis\": \"low-risk heart disease\"}, {\"cholesterol\": 335, \"type_chestpain\": \"type4\", \"max_heart_rate\": 143, \"resting_bp\": 110, \"diagnosis\": \"moderate-risk heart disease\"}, {\"cholesterol\": 149, \"type_chestpain\": \"type4\", \"max_heart_rate\": 125, \"resting_bp\": 112, \"diagnosis\": \"low-risk heart disease\"}, {\"cholesterol\": 250, \"type_chestpain\": \"type3\", \"max_heart_rate\": 179, \"resting_bp\": 112, \"diagnosis\": \"low-risk heart disease\"}, {\"cholesterol\": 232, \"type_chestpain\": \"type2\", \"max_heart_rate\": 164, \"resting_bp\": 154, \"diagnosis\": \"low-risk heart disease\"}, {\"cholesterol\": 184, \"type_chestpain\": \"type4\", \"max_heart_rate\": 105, \"resting_bp\": 132, \"diagnosis\": \"low-risk heart disease\"}, {\"cholesterol\": 222, \"type_chestpain\": \"type4\", \"max_heart_rate\": 186, \"resting_bp\": 122, \"diagnosis\": \"low-risk heart disease\"}, {\"cholesterol\": 236, \"type_chestpain\": \"type4\", \"max_heart_rate\": 152, \"resting_bp\": 138, \"diagnosis\": \"low-risk heart disease\"}, {\"cholesterol\": 234, \"type_chestpain\": \"type1\", \"max_heart_rate\": 145, \"resting_bp\": 134, \"diagnosis\": \"moderate-risk heart disease\"}, {\"cholesterol\": 203, \"type_chestpain\": \"type2\", \"max_heart_rate\": 132, \"resting_bp\": 135, \"diagnosis\": \"low-risk heart disease\"}, {\"cholesterol\": 315, \"type_chestpain\": \"type4\", \"max_heart_rate\": 125, \"resting_bp\": 136, \"diagnosis\": \"moderate-risk heart disease\"}, {\"cholesterol\": 267, \"type_chestpain\": \"type4\", \"max_heart_rate\": 99, \"resting_bp\": 120, \"diagnosis\": \"low-risk heart disease\"}, {\"cholesterol\": 219, \"type_chestpain\": \"type3\", \"max_heart_rate\": 158, \"resting_bp\": 120, \"diagnosis\": \"low-risk heart disease\"}, {\"cholesterol\": 207, \"type_chestpain\": \"type4\", \"max_heart_rate\": 168, \"resting_bp\": 132, \"diagnosis\": \"low-risk heart disease\"}, {\"cholesterol\": 240, \"type_chestpain\": \"type2\", \"max_heart_rate\": 169, \"resting_bp\": 120, \"diagnosis\": \"low-risk heart disease\"}, {\"cholesterol\": 212, \"type_chestpain\": \"type4\", \"max_heart_rate\": 132, \"resting_bp\": 145, \"diagnosis\": \"high-risk heart disease\"}, {\"cholesterol\": 342, \"type_chestpain\": \"type2\", \"max_heart_rate\": 166, \"resting_bp\": 132, \"diagnosis\": \"low-risk heart disease\"}, {\"cholesterol\": 243, \"type_chestpain\": \"type3\", \"max_heart_rate\": 137, \"resting_bp\": 150, \"diagnosis\": \"low-risk heart disease\"}, {\"cholesterol\": 294, \"type_chestpain\": \"type4\", \"max_heart_rate\": 106, \"resting_bp\": 138, \"diagnosis\": \"moderate-risk heart disease\"}, {\"cholesterol\": 234, \"type_chestpain\": \"type4\", \"max_heart_rate\": 160, \"resting_bp\": 138, \"diagnosis\": \"low-risk heart disease\"}, {\"cholesterol\": 269, \"type_chestpain\": \"type3\", \"max_heart_rate\": 148, \"resting_bp\": 155, \"diagnosis\": \"low-risk heart disease\"}, {\"cholesterol\": 216, \"type_chestpain\": \"type3\", \"max_heart_rate\": 115, \"resting_bp\": 128, \"diagnosis\": \"low-risk heart disease\"}, {\"cholesterol\": 169, \"type_chestpain\": \"type4\", \"max_heart_rate\": 144, \"resting_bp\": 120, \"diagnosis\": \"moderate-risk heart disease\"}, {\"cholesterol\": 269, \"type_chestpain\": \"type4\", \"max_heart_rate\": 163, \"resting_bp\": 130, \"diagnosis\": \"low-risk heart disease\"}, {\"cholesterol\": 220, \"type_chestpain\": \"type3\", \"max_heart_rate\": 152, \"resting_bp\": 138, \"diagnosis\": \"low-risk heart disease\"}, {\"cholesterol\": 231, \"type_chestpain\": \"type1\", \"max_heart_rate\": 182, \"resting_bp\": 120, \"diagnosis\": \"high-risk heart disease\"}, {\"cholesterol\": 203, \"type_chestpain\": \"type4\", \"max_heart_rate\": 155, \"resting_bp\": 140, \"diagnosis\": \"low-risk heart disease\"}, {\"cholesterol\": 299, \"type_chestpain\": \"type4\", \"max_heart_rate\": 125, \"resting_bp\": 100, \"diagnosis\": \"moderate-risk heart disease\"}, {\"cholesterol\": 218, \"type_chestpain\": \"type4\", \"max_heart_rate\": 105, \"resting_bp\": 146, \"diagnosis\": \"low-risk heart disease\"}, {\"cholesterol\": 247, \"type_chestpain\": \"type4\", \"max_heart_rate\": 143, \"resting_bp\": 132, \"diagnosis\": \"low-risk heart disease\"}, {\"cholesterol\": 183, \"type_chestpain\": \"type4\", \"max_heart_rate\": 182, \"resting_bp\": 138, \"diagnosis\": \"low-risk heart disease\"}, {\"cholesterol\": 243, \"type_chestpain\": \"type4\", \"max_heart_rate\": 128, \"resting_bp\": 150, \"diagnosis\": \"high-risk heart disease\"}, {\"cholesterol\": 249, \"type_chestpain\": \"type4\", \"max_heart_rate\": 143, \"resting_bp\": 174, \"diagnosis\": \"low-risk heart disease\"}]}}, {\"mode\": \"vega-lite\"});\n",
       "</script>"
      ],
      "text/plain": [
       "alt.Chart(...)"
      ]
     },
     "execution_count": 10,
     "metadata": {},
     "output_type": "execute_result"
    }
   ],
   "source": [
    "# chest pain type\n",
    "cp_hist = alt.Chart(heart_disease_train).mark_bar().encode(\n",
    "    x=alt.X(\"type_chestpain\").title(\"Chest Pain Type\"),\n",
    "    y=alt.Y(\"count()\").stack(False),\n",
    "    color = \"diagnosis:N\"\n",
    ").properties(\n",
    "    width=300,\n",
    "    height=300,\n",
    "    title = \"Distribution of Chest Pain Type\"\n",
    ")\n",
    "\n",
    "cp_hist"
   ]
  },
  {
   "cell_type": "code",
   "execution_count": 11,
   "id": "74bcb4894808223a",
   "metadata": {
    "ExecuteTime": {
     "end_time": "2023-11-02T05:32:39.636057Z",
     "start_time": "2023-11-02T05:32:39.621020Z"
    },
    "collapsed": false,
    "jupyter": {
     "outputs_hidden": false
    },
    "tags": []
   },
   "outputs": [
    {
     "data": {
      "text/html": [
       "\n",
       "<style>\n",
       "  #altair-viz-08053ec51cfd48e1a67d87a68d396ba4.vega-embed {\n",
       "    width: 100%;\n",
       "    display: flex;\n",
       "  }\n",
       "\n",
       "  #altair-viz-08053ec51cfd48e1a67d87a68d396ba4.vega-embed details,\n",
       "  #altair-viz-08053ec51cfd48e1a67d87a68d396ba4.vega-embed details summary {\n",
       "    position: relative;\n",
       "  }\n",
       "</style>\n",
       "<div id=\"altair-viz-08053ec51cfd48e1a67d87a68d396ba4\"></div>\n",
       "<script type=\"text/javascript\">\n",
       "  var VEGA_DEBUG = (typeof VEGA_DEBUG == \"undefined\") ? {} : VEGA_DEBUG;\n",
       "  (function(spec, embedOpt){\n",
       "    let outputDiv = document.currentScript.previousElementSibling;\n",
       "    if (outputDiv.id !== \"altair-viz-08053ec51cfd48e1a67d87a68d396ba4\") {\n",
       "      outputDiv = document.getElementById(\"altair-viz-08053ec51cfd48e1a67d87a68d396ba4\");\n",
       "    }\n",
       "    const paths = {\n",
       "      \"vega\": \"https://cdn.jsdelivr.net/npm/vega@5?noext\",\n",
       "      \"vega-lib\": \"https://cdn.jsdelivr.net/npm/vega-lib?noext\",\n",
       "      \"vega-lite\": \"https://cdn.jsdelivr.net/npm/vega-lite@5.15.1?noext\",\n",
       "      \"vega-embed\": \"https://cdn.jsdelivr.net/npm/vega-embed@6?noext\",\n",
       "    };\n",
       "\n",
       "    function maybeLoadScript(lib, version) {\n",
       "      var key = `${lib.replace(\"-\", \"\")}_version`;\n",
       "      return (VEGA_DEBUG[key] == version) ?\n",
       "        Promise.resolve(paths[lib]) :\n",
       "        new Promise(function(resolve, reject) {\n",
       "          var s = document.createElement('script');\n",
       "          document.getElementsByTagName(\"head\")[0].appendChild(s);\n",
       "          s.async = true;\n",
       "          s.onload = () => {\n",
       "            VEGA_DEBUG[key] = version;\n",
       "            return resolve(paths[lib]);\n",
       "          };\n",
       "          s.onerror = () => reject(`Error loading script: ${paths[lib]}`);\n",
       "          s.src = paths[lib];\n",
       "        });\n",
       "    }\n",
       "\n",
       "    function showError(err) {\n",
       "      outputDiv.innerHTML = `<div class=\"error\" style=\"color:red;\">${err}</div>`;\n",
       "      throw err;\n",
       "    }\n",
       "\n",
       "    function displayChart(vegaEmbed) {\n",
       "      vegaEmbed(outputDiv, spec, embedOpt)\n",
       "        .catch(err => showError(`Javascript Error: ${err.message}<br>This usually means there's a typo in your chart specification. See the javascript console for the full traceback.`));\n",
       "    }\n",
       "\n",
       "    if(typeof define === \"function\" && define.amd) {\n",
       "      requirejs.config({paths});\n",
       "      require([\"vega-embed\"], displayChart, err => showError(`Error loading script: ${err.message}`));\n",
       "    } else {\n",
       "      maybeLoadScript(\"vega\", \"5\")\n",
       "        .then(() => maybeLoadScript(\"vega-lite\", \"5.15.1\"))\n",
       "        .then(() => maybeLoadScript(\"vega-embed\", \"6\"))\n",
       "        .catch(showError)\n",
       "        .then(() => displayChart(vegaEmbed));\n",
       "    }\n",
       "  })({\"config\": {\"view\": {\"continuousWidth\": 300, \"continuousHeight\": 300}}, \"data\": {\"name\": \"data-10401e2e90981e70ac823e98d8e66292\"}, \"mark\": {\"type\": \"bar\"}, \"encoding\": {\"color\": {\"field\": \"diagnosis\", \"type\": \"nominal\"}, \"x\": {\"bin\": true, \"field\": \"max_heart_rate\", \"title\": \"Heart Rate\", \"type\": \"quantitative\"}, \"y\": {\"aggregate\": \"count\", \"stack\": false, \"type\": \"quantitative\"}}, \"title\": \"Distribution of Heart Rate\", \"$schema\": \"https://vega.github.io/schema/vega-lite/v5.15.1.json\", \"datasets\": {\"data-10401e2e90981e70ac823e98d8e66292\": [{\"cholesterol\": 394, \"type_chestpain\": \"type4\", \"max_heart_rate\": 157, \"resting_bp\": 140, \"diagnosis\": \"low-risk heart disease\"}, {\"cholesterol\": 319, \"type_chestpain\": \"type2\", \"max_heart_rate\": 152, \"resting_bp\": 136, \"diagnosis\": \"moderate-risk heart disease\"}, {\"cholesterol\": 276, \"type_chestpain\": \"type4\", \"max_heart_rate\": 112, \"resting_bp\": 150, \"diagnosis\": \"low-risk heart disease\"}, {\"cholesterol\": 182, \"type_chestpain\": \"type1\", \"max_heart_rate\": 174, \"resting_bp\": 118, \"diagnosis\": \"low-risk heart disease\"}, {\"cholesterol\": 223, \"type_chestpain\": \"type3\", \"max_heart_rate\": 169, \"resting_bp\": 138, \"diagnosis\": \"low-risk heart disease\"}, {\"cholesterol\": 269, \"type_chestpain\": \"type2\", \"max_heart_rate\": 121, \"resting_bp\": 120, \"diagnosis\": \"low-risk heart disease\"}, {\"cholesterol\": 305, \"type_chestpain\": \"type4\", \"max_heart_rate\": 161, \"resting_bp\": 158, \"diagnosis\": \"low-risk heart disease\"}, {\"cholesterol\": 255, \"type_chestpain\": \"type3\", \"max_heart_rate\": 175, \"resting_bp\": 124, \"diagnosis\": \"low-risk heart disease\"}, {\"cholesterol\": 259, \"type_chestpain\": \"type4\", \"max_heart_rate\": 130, \"resting_bp\": 128, \"diagnosis\": \"moderate-risk heart disease\"}, {\"cholesterol\": 212, \"type_chestpain\": \"type4\", \"max_heart_rate\": 168, \"resting_bp\": 125, \"diagnosis\": \"moderate-risk heart disease\"}, {\"cholesterol\": 295, \"type_chestpain\": \"type3\", \"max_heart_rate\": 157, \"resting_bp\": 120, \"diagnosis\": \"low-risk heart disease\"}, {\"cholesterol\": 187, \"type_chestpain\": \"type4\", \"max_heart_rate\": 144, \"resting_bp\": 140, \"diagnosis\": \"moderate-risk heart disease\"}, {\"cholesterol\": 258, \"type_chestpain\": \"type4\", \"max_heart_rate\": 141, \"resting_bp\": 125, \"diagnosis\": \"low-risk heart disease\"}, {\"cholesterol\": 311, \"type_chestpain\": \"type4\", \"max_heart_rate\": 120, \"resting_bp\": 140, \"diagnosis\": \"moderate-risk heart disease\"}, {\"cholesterol\": 271, \"type_chestpain\": \"type2\", \"max_heart_rate\": 162, \"resting_bp\": 134, \"diagnosis\": \"low-risk heart disease\"}, {\"cholesterol\": 281, \"type_chestpain\": \"type2\", \"max_heart_rate\": 103, \"resting_bp\": 120, \"diagnosis\": \"moderate-risk heart disease\"}, {\"cholesterol\": 177, \"type_chestpain\": \"type4\", \"max_heart_rate\": 162, \"resting_bp\": 140, \"diagnosis\": \"moderate-risk heart disease\"}, {\"cholesterol\": 203, \"type_chestpain\": \"type4\", \"max_heart_rate\": 161, \"resting_bp\": 148, \"diagnosis\": \"moderate-risk heart disease\"}, {\"cholesterol\": 330, \"type_chestpain\": \"type4\", \"max_heart_rate\": 169, \"resting_bp\": 130, \"diagnosis\": \"low-risk heart disease\"}, {\"cholesterol\": 245, \"type_chestpain\": \"type3\", \"max_heart_rate\": 166, \"resting_bp\": 125, \"diagnosis\": \"low-risk heart disease\"}, {\"cholesterol\": 275, \"type_chestpain\": \"type4\", \"max_heart_rate\": 118, \"resting_bp\": 110, \"diagnosis\": \"low-risk heart disease\"}, {\"cholesterol\": 221, \"type_chestpain\": \"type2\", \"max_heart_rate\": 163, \"resting_bp\": 130, \"diagnosis\": \"low-risk heart disease\"}, {\"cholesterol\": 299, \"type_chestpain\": \"type4\", \"max_heart_rate\": 173, \"resting_bp\": 140, \"diagnosis\": \"low-risk heart disease\"}, {\"cholesterol\": 241, \"type_chestpain\": \"type4\", \"max_heart_rate\": 123, \"resting_bp\": 140, \"diagnosis\": \"low-risk heart disease\"}, {\"cholesterol\": 263, \"type_chestpain\": \"type4\", \"max_heart_rate\": 105, \"resting_bp\": 128, \"diagnosis\": \"low-risk heart disease\"}, {\"cholesterol\": 253, \"type_chestpain\": \"type4\", \"max_heart_rate\": 144, \"resting_bp\": 130, \"diagnosis\": \"low-risk heart disease\"}, {\"cholesterol\": 201, \"type_chestpain\": \"type3\", \"max_heart_rate\": 163, \"resting_bp\": 160, \"diagnosis\": \"low-risk heart disease\"}, {\"cholesterol\": 275, \"type_chestpain\": \"type3\", \"max_heart_rate\": 139, \"resting_bp\": 130, \"diagnosis\": \"low-risk heart disease\"}, {\"cholesterol\": 309, \"type_chestpain\": \"type4\", \"max_heart_rate\": 147, \"resting_bp\": 142, \"diagnosis\": \"moderate-risk heart disease\"}, {\"cholesterol\": 303, \"type_chestpain\": \"type4\", \"max_heart_rate\": 181, \"resting_bp\": 115, \"diagnosis\": \"low-risk heart disease\"}, {\"cholesterol\": 244, \"type_chestpain\": \"type1\", \"max_heart_rate\": 178, \"resting_bp\": 148, \"diagnosis\": \"low-risk heart disease\"}, {\"cholesterol\": 233, \"type_chestpain\": \"type3\", \"max_heart_rate\": 163, \"resting_bp\": 140, \"diagnosis\": \"low-risk heart disease\"}, {\"cholesterol\": 254, \"type_chestpain\": \"type4\", \"max_heart_rate\": 163, \"resting_bp\": 125, \"diagnosis\": \"moderate-risk heart disease\"}, {\"cholesterol\": 240, \"type_chestpain\": \"type3\", \"max_heart_rate\": 154, \"resting_bp\": 105, \"diagnosis\": \"low-risk heart disease\"}, {\"cholesterol\": 208, \"type_chestpain\": \"type2\", \"max_heart_rate\": 140, \"resting_bp\": 128, \"diagnosis\": \"low-risk heart disease\"}, {\"cholesterol\": 244, \"type_chestpain\": \"type4\", \"max_heart_rate\": 154, \"resting_bp\": 150, \"diagnosis\": \"low-risk heart disease\"}, {\"cholesterol\": 212, \"type_chestpain\": \"type3\", \"max_heart_rate\": 150, \"resting_bp\": 152, \"diagnosis\": \"low-risk heart disease\"}, {\"cholesterol\": 271, \"type_chestpain\": \"type4\", \"max_heart_rate\": 182, \"resting_bp\": 138, \"diagnosis\": \"low-risk heart disease\"}, {\"cholesterol\": 293, \"type_chestpain\": \"type4\", \"max_heart_rate\": 170, \"resting_bp\": 140, \"diagnosis\": \"moderate-risk heart disease\"}, {\"cholesterol\": 233, \"type_chestpain\": \"type4\", \"max_heart_rate\": 147, \"resting_bp\": 108, \"diagnosis\": \"low-risk heart disease\"}, {\"cholesterol\": 234, \"type_chestpain\": \"type4\", \"max_heart_rate\": 161, \"resting_bp\": 135, \"diagnosis\": \"low-risk heart disease\"}, {\"cholesterol\": 274, \"type_chestpain\": \"type3\", \"max_heart_rate\": 150, \"resting_bp\": 180, \"diagnosis\": \"moderate-risk heart disease\"}, {\"cholesterol\": 174, \"type_chestpain\": \"type4\", \"max_heart_rate\": 125, \"resting_bp\": 145, \"diagnosis\": \"high-risk heart disease\"}, {\"cholesterol\": 215, \"type_chestpain\": \"type3\", \"max_heart_rate\": 170, \"resting_bp\": 120, \"diagnosis\": \"low-risk heart disease\"}, {\"cholesterol\": 330, \"type_chestpain\": \"type4\", \"max_heart_rate\": 132, \"resting_bp\": 130, \"diagnosis\": \"moderate-risk heart disease\"}, {\"cholesterol\": 305, \"type_chestpain\": \"type4\", \"max_heart_rate\": 142, \"resting_bp\": 130, \"diagnosis\": \"moderate-risk heart disease\"}, {\"cholesterol\": 277, \"type_chestpain\": \"type3\", \"max_heart_rate\": 151, \"resting_bp\": 118, \"diagnosis\": \"low-risk heart disease\"}, {\"cholesterol\": 205, \"type_chestpain\": \"type4\", \"max_heart_rate\": 130, \"resting_bp\": 128, \"diagnosis\": \"moderate-risk heart disease\"}, {\"cholesterol\": 307, \"type_chestpain\": \"type4\", \"max_heart_rate\": 146, \"resting_bp\": 145, \"diagnosis\": \"low-risk heart disease\"}, {\"cholesterol\": 283, \"type_chestpain\": \"type1\", \"max_heart_rate\": 162, \"resting_bp\": 150, \"diagnosis\": \"low-risk heart disease\"}, {\"cholesterol\": 167, \"type_chestpain\": \"type4\", \"max_heart_rate\": 114, \"resting_bp\": 110, \"diagnosis\": \"moderate-risk heart disease\"}, {\"cholesterol\": 298, \"type_chestpain\": \"type1\", \"max_heart_rate\": 178, \"resting_bp\": 152, \"diagnosis\": \"low-risk heart disease\"}, {\"cholesterol\": 229, \"type_chestpain\": \"type2\", \"max_heart_rate\": 168, \"resting_bp\": 110, \"diagnosis\": \"low-risk heart disease\"}, {\"cholesterol\": 360, \"type_chestpain\": \"type3\", \"max_heart_rate\": 151, \"resting_bp\": 160, \"diagnosis\": \"low-risk heart disease\"}, {\"cholesterol\": 219, \"type_chestpain\": \"type4\", \"max_heart_rate\": 140, \"resting_bp\": 118, \"diagnosis\": \"moderate-risk heart disease\"}, {\"cholesterol\": 246, \"type_chestpain\": \"type3\", \"max_heart_rate\": 173, \"resting_bp\": 130, \"diagnosis\": \"low-risk heart disease\"}, {\"cholesterol\": 192, \"type_chestpain\": \"type2\", \"max_heart_rate\": 174, \"resting_bp\": 122, \"diagnosis\": \"low-risk heart disease\"}, {\"cholesterol\": 204, \"type_chestpain\": \"type2\", \"max_heart_rate\": 172, \"resting_bp\": 130, \"diagnosis\": \"low-risk heart disease\"}, {\"cholesterol\": 239, \"type_chestpain\": \"type4\", \"max_heart_rate\": 142, \"resting_bp\": 110, \"diagnosis\": \"moderate-risk heart disease\"}, {\"cholesterol\": 212, \"type_chestpain\": \"type4\", \"max_heart_rate\": 132, \"resting_bp\": 112, \"diagnosis\": \"moderate-risk heart disease\"}, {\"cholesterol\": 177, \"type_chestpain\": \"type3\", \"max_heart_rate\": 160, \"resting_bp\": 142, \"diagnosis\": \"low-risk heart disease\"}, {\"cholesterol\": 232, \"type_chestpain\": \"type3\", \"max_heart_rate\": 165, \"resting_bp\": 150, \"diagnosis\": \"low-risk heart disease\"}, {\"cholesterol\": 157, \"type_chestpain\": \"type2\", \"max_heart_rate\": 182, \"resting_bp\": 120, \"diagnosis\": \"low-risk heart disease\"}, {\"cholesterol\": 204, \"type_chestpain\": \"type4\", \"max_heart_rate\": 156, \"resting_bp\": 128, \"diagnosis\": \"moderate-risk heart disease\"}, {\"cholesterol\": 226, \"type_chestpain\": \"type4\", \"max_heart_rate\": 111, \"resting_bp\": 142, \"diagnosis\": \"low-risk heart disease\"}, {\"cholesterol\": 253, \"type_chestpain\": \"type3\", \"max_heart_rate\": 179, \"resting_bp\": 130, \"diagnosis\": \"low-risk heart disease\"}, {\"cholesterol\": 225, \"type_chestpain\": \"type4\", \"max_heart_rate\": 114, \"resting_bp\": 150, \"diagnosis\": \"high-risk heart disease\"}, {\"cholesterol\": 254, \"type_chestpain\": \"type3\", \"max_heart_rate\": 146, \"resting_bp\": 140, \"diagnosis\": \"moderate-risk heart disease\"}, {\"cholesterol\": 263, \"type_chestpain\": \"type2\", \"max_heart_rate\": 173, \"resting_bp\": 120, \"diagnosis\": \"low-risk heart disease\"}, {\"cholesterol\": 229, \"type_chestpain\": \"type3\", \"max_heart_rate\": 150, \"resting_bp\": 128, \"diagnosis\": \"low-risk heart disease\"}, {\"cholesterol\": 254, \"type_chestpain\": \"type4\", \"max_heart_rate\": 159, \"resting_bp\": 110, \"diagnosis\": \"low-risk heart disease\"}, {\"cholesterol\": 250, \"type_chestpain\": \"type3\", \"max_heart_rate\": 187, \"resting_bp\": 130, \"diagnosis\": \"low-risk heart disease\"}, {\"cholesterol\": 304, \"type_chestpain\": \"type4\", \"max_heart_rate\": 162, \"resting_bp\": 125, \"diagnosis\": \"high-risk heart disease\"}, {\"cholesterol\": 234, \"type_chestpain\": \"type2\", \"max_heart_rate\": 175, \"resting_bp\": 130, \"diagnosis\": \"low-risk heart disease\"}, {\"cholesterol\": 206, \"type_chestpain\": \"type4\", \"max_heart_rate\": 132, \"resting_bp\": 130, \"diagnosis\": \"high-risk heart disease\"}, {\"cholesterol\": 239, \"type_chestpain\": \"type1\", \"max_heart_rate\": 151, \"resting_bp\": 140, \"diagnosis\": \"low-risk heart disease\"}, {\"cholesterol\": 308, \"type_chestpain\": \"type3\", \"max_heart_rate\": 142, \"resting_bp\": 140, \"diagnosis\": \"low-risk heart disease\"}, {\"cholesterol\": 197, \"type_chestpain\": \"type4\", \"max_heart_rate\": 131, \"resting_bp\": 130, \"diagnosis\": \"low-risk heart disease\"}, {\"cholesterol\": 196, \"type_chestpain\": \"type3\", \"max_heart_rate\": 163, \"resting_bp\": 129, \"diagnosis\": \"low-risk heart disease\"}, {\"cholesterol\": 266, \"type_chestpain\": \"type2\", \"max_heart_rate\": 171, \"resting_bp\": 130, \"diagnosis\": \"low-risk heart disease\"}, {\"cholesterol\": 197, \"type_chestpain\": \"type3\", \"max_heart_rate\": 116, \"resting_bp\": 140, \"diagnosis\": \"low-risk heart disease\"}, {\"cholesterol\": 286, \"type_chestpain\": \"type4\", \"max_heart_rate\": 116, \"resting_bp\": 122, \"diagnosis\": \"moderate-risk heart disease\"}, {\"cholesterol\": 223, \"type_chestpain\": \"type4\", \"max_heart_rate\": 181, \"resting_bp\": 152, \"diagnosis\": \"low-risk heart disease\"}, {\"cholesterol\": 208, \"type_chestpain\": \"type4\", \"max_heart_rate\": 148, \"resting_bp\": 104, \"diagnosis\": \"low-risk heart disease\"}, {\"cholesterol\": 177, \"type_chestpain\": \"type4\", \"max_heart_rate\": 140, \"resting_bp\": 120, \"diagnosis\": \"low-risk heart disease\"}, {\"cholesterol\": 229, \"type_chestpain\": \"type4\", \"max_heart_rate\": 129, \"resting_bp\": 120, \"diagnosis\": \"low-risk heart disease\"}, {\"cholesterol\": 295, \"type_chestpain\": \"type2\", \"max_heart_rate\": 162, \"resting_bp\": 120, \"diagnosis\": \"low-risk heart disease\"}, {\"cholesterol\": 188, \"type_chestpain\": \"type3\", \"max_heart_rate\": 139, \"resting_bp\": 120, \"diagnosis\": \"moderate-risk heart disease\"}, {\"cholesterol\": 240, \"type_chestpain\": \"type1\", \"max_heart_rate\": 171, \"resting_bp\": 150, \"diagnosis\": \"low-risk heart disease\"}, {\"cholesterol\": 257, \"type_chestpain\": \"type3\", \"max_heart_rate\": 156, \"resting_bp\": 138, \"diagnosis\": \"low-risk heart disease\"}, {\"cholesterol\": 192, \"type_chestpain\": \"type4\", \"max_heart_rate\": 148, \"resting_bp\": 140, \"diagnosis\": \"low-risk heart disease\"}, {\"cholesterol\": 269, \"type_chestpain\": \"type4\", \"max_heart_rate\": 169, \"resting_bp\": 108, \"diagnosis\": \"low-risk heart disease\"}, {\"cholesterol\": 273, \"type_chestpain\": \"type3\", \"max_heart_rate\": 152, \"resting_bp\": 125, \"diagnosis\": \"low-risk heart disease\"}, {\"cholesterol\": 199, \"type_chestpain\": \"type1\", \"max_heart_rate\": 178, \"resting_bp\": 140, \"diagnosis\": \"low-risk heart disease\"}, {\"cholesterol\": 199, \"type_chestpain\": \"type3\", \"max_heart_rate\": 162, \"resting_bp\": 172, \"diagnosis\": \"low-risk heart disease\"}, {\"cholesterol\": 322, \"type_chestpain\": \"type4\", \"max_heart_rate\": 109, \"resting_bp\": 130, \"diagnosis\": \"low-risk heart disease\"}, {\"cholesterol\": 198, \"type_chestpain\": \"type2\", \"max_heart_rate\": 168, \"resting_bp\": 105, \"diagnosis\": \"low-risk heart disease\"}, {\"cholesterol\": 193, \"type_chestpain\": \"type1\", \"max_heart_rate\": 162, \"resting_bp\": 120, \"diagnosis\": \"low-risk heart disease\"}, {\"cholesterol\": 249, \"type_chestpain\": \"type4\", \"max_heart_rate\": 144, \"resting_bp\": 120, \"diagnosis\": \"low-risk heart disease\"}, {\"cholesterol\": 217, \"type_chestpain\": \"type4\", \"max_heart_rate\": 111, \"resting_bp\": 140, \"diagnosis\": \"moderate-risk heart disease\"}, {\"cholesterol\": 268, \"type_chestpain\": \"type3\", \"max_heart_rate\": 172, \"resting_bp\": 112, \"diagnosis\": \"low-risk heart disease\"}, {\"cholesterol\": 216, \"type_chestpain\": \"type4\", \"max_heart_rate\": 131, \"resting_bp\": 128, \"diagnosis\": \"low-risk heart disease\"}, {\"cholesterol\": 298, \"type_chestpain\": \"type4\", \"max_heart_rate\": 122, \"resting_bp\": 140, \"diagnosis\": \"moderate-risk heart disease\"}, {\"cholesterol\": 196, \"type_chestpain\": \"type3\", \"max_heart_rate\": 169, \"resting_bp\": 136, \"diagnosis\": \"low-risk heart disease\"}, {\"cholesterol\": 258, \"type_chestpain\": \"type3\", \"max_heart_rate\": 147, \"resting_bp\": 120, \"diagnosis\": \"low-risk heart disease\"}, {\"cholesterol\": 228, \"type_chestpain\": \"type4\", \"max_heart_rate\": 165, \"resting_bp\": 178, \"diagnosis\": \"moderate-risk heart disease\"}, {\"cholesterol\": 246, \"type_chestpain\": \"type2\", \"max_heart_rate\": 120, \"resting_bp\": 160, \"diagnosis\": \"moderate-risk heart disease\"}, {\"cholesterol\": 212, \"type_chestpain\": \"type3\", \"max_heart_rate\": 157, \"resting_bp\": 150, \"diagnosis\": \"low-risk heart disease\"}, {\"cholesterol\": 263, \"type_chestpain\": \"type3\", \"max_heart_rate\": 97, \"resting_bp\": 130, \"diagnosis\": \"moderate-risk heart disease\"}, {\"cholesterol\": 198, \"type_chestpain\": \"type4\", \"max_heart_rate\": 130, \"resting_bp\": 120, \"diagnosis\": \"low-risk heart disease\"}, {\"cholesterol\": 273, \"type_chestpain\": \"type1\", \"max_heart_rate\": 125, \"resting_bp\": 160, \"diagnosis\": \"low-risk heart disease\"}, {\"cholesterol\": 199, \"type_chestpain\": \"type3\", \"max_heart_rate\": 179, \"resting_bp\": 94, \"diagnosis\": \"low-risk heart disease\"}, {\"cholesterol\": 318, \"type_chestpain\": \"type3\", \"max_heart_rate\": 160, \"resting_bp\": 102, \"diagnosis\": \"low-risk heart disease\"}, {\"cholesterol\": 186, \"type_chestpain\": \"type1\", \"max_heart_rate\": 190, \"resting_bp\": 118, \"diagnosis\": \"low-risk heart disease\"}, {\"cholesterol\": 264, \"type_chestpain\": \"type1\", \"max_heart_rate\": 132, \"resting_bp\": 110, \"diagnosis\": \"low-risk heart disease\"}, {\"cholesterol\": 201, \"type_chestpain\": \"type2\", \"max_heart_rate\": 158, \"resting_bp\": 134, \"diagnosis\": \"low-risk heart disease\"}, {\"cholesterol\": 267, \"type_chestpain\": \"type3\", \"max_heart_rate\": 167, \"resting_bp\": 108, \"diagnosis\": \"low-risk heart disease\"}, {\"cholesterol\": 141, \"type_chestpain\": \"type3\", \"max_heart_rate\": 175, \"resting_bp\": 108, \"diagnosis\": \"low-risk heart disease\"}, {\"cholesterol\": 262, \"type_chestpain\": \"type2\", \"max_heart_rate\": 155, \"resting_bp\": 130, \"diagnosis\": \"low-risk heart disease\"}, {\"cholesterol\": 214, \"type_chestpain\": \"type3\", \"max_heart_rate\": 158, \"resting_bp\": 110, \"diagnosis\": \"low-risk heart disease\"}, {\"cholesterol\": 177, \"type_chestpain\": \"type4\", \"max_heart_rate\": 120, \"resting_bp\": 120, \"diagnosis\": \"moderate-risk heart disease\"}, {\"cholesterol\": 315, \"type_chestpain\": \"type3\", \"max_heart_rate\": 162, \"resting_bp\": 130, \"diagnosis\": \"low-risk heart disease\"}, {\"cholesterol\": 341, \"type_chestpain\": \"type4\", \"max_heart_rate\": 136, \"resting_bp\": 132, \"diagnosis\": \"moderate-risk heart disease\"}, {\"cholesterol\": 233, \"type_chestpain\": \"type1\", \"max_heart_rate\": 150, \"resting_bp\": 145, \"diagnosis\": \"low-risk heart disease\"}, {\"cholesterol\": 252, \"type_chestpain\": \"type3\", \"max_heart_rate\": 172, \"resting_bp\": 135, \"diagnosis\": \"low-risk heart disease\"}, {\"cholesterol\": 197, \"type_chestpain\": \"type4\", \"max_heart_rate\": 136, \"resting_bp\": 124, \"diagnosis\": \"low-risk heart disease\"}, {\"cholesterol\": 255, \"type_chestpain\": \"type4\", \"max_heart_rate\": 161, \"resting_bp\": 128, \"diagnosis\": \"low-risk heart disease\"}, {\"cholesterol\": 193, \"type_chestpain\": \"type4\", \"max_heart_rate\": 141, \"resting_bp\": 144, \"diagnosis\": \"moderate-risk heart disease\"}, {\"cholesterol\": 226, \"type_chestpain\": \"type3\", \"max_heart_rate\": 169, \"resting_bp\": 120, \"diagnosis\": \"low-risk heart disease\"}, {\"cholesterol\": 223, \"type_chestpain\": \"type4\", \"max_heart_rate\": 142, \"resting_bp\": 106, \"diagnosis\": \"low-risk heart disease\"}, {\"cholesterol\": 231, \"type_chestpain\": \"type3\", \"max_heart_rate\": 147, \"resting_bp\": 150, \"diagnosis\": \"low-risk heart disease\"}, {\"cholesterol\": 197, \"type_chestpain\": \"type3\", \"max_heart_rate\": 152, \"resting_bp\": 130, \"diagnosis\": \"low-risk heart disease\"}, {\"cholesterol\": 417, \"type_chestpain\": \"type3\", \"max_heart_rate\": 157, \"resting_bp\": 140, \"diagnosis\": \"low-risk heart disease\"}, {\"cholesterol\": 235, \"type_chestpain\": \"type3\", \"max_heart_rate\": 180, \"resting_bp\": 140, \"diagnosis\": \"low-risk heart disease\"}, {\"cholesterol\": 131, \"type_chestpain\": \"type4\", \"max_heart_rate\": 115, \"resting_bp\": 130, \"diagnosis\": \"moderate-risk heart disease\"}, {\"cholesterol\": 288, \"type_chestpain\": \"type1\", \"max_heart_rate\": 159, \"resting_bp\": 170, \"diagnosis\": \"low-risk heart disease\"}, {\"cholesterol\": 200, \"type_chestpain\": \"type4\", \"max_heart_rate\": 126, \"resting_bp\": 144, \"diagnosis\": \"moderate-risk heart disease\"}, {\"cholesterol\": 224, \"type_chestpain\": \"type3\", \"max_heart_rate\": 173, \"resting_bp\": 132, \"diagnosis\": \"moderate-risk heart disease\"}, {\"cholesterol\": 201, \"type_chestpain\": \"type4\", \"max_heart_rate\": 126, \"resting_bp\": 110, \"diagnosis\": \"low-risk heart disease\"}, {\"cholesterol\": 308, \"type_chestpain\": \"type2\", \"max_heart_rate\": 170, \"resting_bp\": 128, \"diagnosis\": \"low-risk heart disease\"}, {\"cholesterol\": 309, \"type_chestpain\": \"type3\", \"max_heart_rate\": 131, \"resting_bp\": 125, \"diagnosis\": \"low-risk heart disease\"}, {\"cholesterol\": 245, \"type_chestpain\": \"type2\", \"max_heart_rate\": 180, \"resting_bp\": 130, \"diagnosis\": \"low-risk heart disease\"}, {\"cholesterol\": 274, \"type_chestpain\": \"type4\", \"max_heart_rate\": 166, \"resting_bp\": 124, \"diagnosis\": \"moderate-risk heart disease\"}, {\"cholesterol\": 260, \"type_chestpain\": \"type4\", \"max_heart_rate\": 185, \"resting_bp\": 115, \"diagnosis\": \"low-risk heart disease\"}, {\"cholesterol\": 211, \"type_chestpain\": \"type4\", \"max_heart_rate\": 161, \"resting_bp\": 110, \"diagnosis\": \"low-risk heart disease\"}, {\"cholesterol\": 227, \"type_chestpain\": \"type3\", \"max_heart_rate\": 154, \"resting_bp\": 94, \"diagnosis\": \"low-risk heart disease\"}, {\"cholesterol\": 180, \"type_chestpain\": \"type3\", \"max_heart_rate\": 150, \"resting_bp\": 130, \"diagnosis\": \"low-risk heart disease\"}, {\"cholesterol\": 236, \"type_chestpain\": \"type2\", \"max_heart_rate\": 174, \"resting_bp\": 130, \"diagnosis\": \"low-risk heart disease\"}, {\"cholesterol\": 234, \"type_chestpain\": \"type1\", \"max_heart_rate\": 131, \"resting_bp\": 160, \"diagnosis\": \"low-risk heart disease\"}, {\"cholesterol\": 268, \"type_chestpain\": \"type4\", \"max_heart_rate\": 160, \"resting_bp\": 140, \"diagnosis\": \"moderate-risk heart disease\"}, {\"cholesterol\": 326, \"type_chestpain\": \"type4\", \"max_heart_rate\": 140, \"resting_bp\": 170, \"diagnosis\": \"moderate-risk heart disease\"}, {\"cholesterol\": 313, \"type_chestpain\": \"type3\", \"max_heart_rate\": 133, \"resting_bp\": 140, \"diagnosis\": \"low-risk heart disease\"}, {\"cholesterol\": 325, \"type_chestpain\": \"type2\", \"max_heart_rate\": 172, \"resting_bp\": 120, \"diagnosis\": \"low-risk heart disease\"}, {\"cholesterol\": 269, \"type_chestpain\": \"type3\", \"max_heart_rate\": 112, \"resting_bp\": 160, \"diagnosis\": \"moderate-risk heart disease\"}, {\"cholesterol\": 407, \"type_chestpain\": \"type4\", \"max_heart_rate\": 154, \"resting_bp\": 150, \"diagnosis\": \"high-risk heart disease\"}, {\"cholesterol\": 221, \"type_chestpain\": \"type2\", \"max_heart_rate\": 164, \"resting_bp\": 140, \"diagnosis\": \"low-risk heart disease\"}, {\"cholesterol\": 245, \"type_chestpain\": \"type2\", \"max_heart_rate\": 143, \"resting_bp\": 156, \"diagnosis\": \"low-risk heart disease\"}, {\"cholesterol\": 278, \"type_chestpain\": \"type3\", \"max_heart_rate\": 152, \"resting_bp\": 146, \"diagnosis\": \"low-risk heart disease\"}, {\"cholesterol\": 205, \"type_chestpain\": \"type2\", \"max_heart_rate\": 184, \"resting_bp\": 128, \"diagnosis\": \"low-risk heart disease\"}, {\"cholesterol\": 261, \"type_chestpain\": \"type2\", \"max_heart_rate\": 141, \"resting_bp\": 124, \"diagnosis\": \"low-risk heart disease\"}, {\"cholesterol\": 164, \"type_chestpain\": \"type4\", \"max_heart_rate\": 145, \"resting_bp\": 160, \"diagnosis\": \"moderate-risk heart disease\"}, {\"cholesterol\": 321, \"type_chestpain\": \"type3\", \"max_heart_rate\": 182, \"resting_bp\": 140, \"diagnosis\": \"low-risk heart disease\"}, {\"cholesterol\": 318, \"type_chestpain\": \"type4\", \"max_heart_rate\": 140, \"resting_bp\": 114, \"diagnosis\": \"high-risk heart disease\"}, {\"cholesterol\": 294, \"type_chestpain\": \"type2\", \"max_heart_rate\": 153, \"resting_bp\": 140, \"diagnosis\": \"low-risk heart disease\"}, {\"cholesterol\": 254, \"type_chestpain\": \"type4\", \"max_heart_rate\": 127, \"resting_bp\": 135, \"diagnosis\": \"moderate-risk heart disease\"}, {\"cholesterol\": 303, \"type_chestpain\": \"type4\", \"max_heart_rate\": 159, \"resting_bp\": 128, \"diagnosis\": \"low-risk heart disease\"}, {\"cholesterol\": 226, \"type_chestpain\": \"type4\", \"max_heart_rate\": 178, \"resting_bp\": 140, \"diagnosis\": \"low-risk heart disease\"}, {\"cholesterol\": 172, \"type_chestpain\": \"type4\", \"max_heart_rate\": 158, \"resting_bp\": 110, \"diagnosis\": \"low-risk heart disease\"}, {\"cholesterol\": 160, \"type_chestpain\": \"type2\", \"max_heart_rate\": 138, \"resting_bp\": 112, \"diagnosis\": \"low-risk heart disease\"}, {\"cholesterol\": 327, \"type_chestpain\": \"type4\", \"max_heart_rate\": 117, \"resting_bp\": 180, \"diagnosis\": \"moderate-risk heart disease\"}, {\"cholesterol\": 282, \"type_chestpain\": \"type4\", \"max_heart_rate\": 142, \"resting_bp\": 145, \"diagnosis\": \"moderate-risk heart disease\"}, {\"cholesterol\": 286, \"type_chestpain\": \"type4\", \"max_heart_rate\": 108, \"resting_bp\": 160, \"diagnosis\": \"moderate-risk heart disease\"}, {\"cholesterol\": 256, \"type_chestpain\": \"type4\", \"max_heart_rate\": 150, \"resting_bp\": 130, \"diagnosis\": \"moderate-risk heart disease\"}, {\"cholesterol\": 218, \"type_chestpain\": \"type3\", \"max_heart_rate\": 134, \"resting_bp\": 126, \"diagnosis\": \"moderate-risk heart disease\"}, {\"cholesterol\": 240, \"type_chestpain\": \"type3\", \"max_heart_rate\": 194, \"resting_bp\": 120, \"diagnosis\": \"low-risk heart disease\"}, {\"cholesterol\": 302, \"type_chestpain\": \"type2\", \"max_heart_rate\": 162, \"resting_bp\": 160, \"diagnosis\": \"low-risk heart disease\"}, {\"cholesterol\": 309, \"type_chestpain\": \"type2\", \"max_heart_rate\": 156, \"resting_bp\": 108, \"diagnosis\": \"low-risk heart disease\"}, {\"cholesterol\": 204, \"type_chestpain\": \"type2\", \"max_heart_rate\": 202, \"resting_bp\": 130, \"diagnosis\": \"low-risk heart disease\"}, {\"cholesterol\": 270, \"type_chestpain\": \"type4\", \"max_heart_rate\": 111, \"resting_bp\": 150, \"diagnosis\": \"moderate-risk heart disease\"}, {\"cholesterol\": 239, \"type_chestpain\": \"type4\", \"max_heart_rate\": 160, \"resting_bp\": 140, \"diagnosis\": \"low-risk heart disease\"}, {\"cholesterol\": 228, \"type_chestpain\": \"type4\", \"max_heart_rate\": 138, \"resting_bp\": 160, \"diagnosis\": \"low-risk heart disease\"}, {\"cholesterol\": 353, \"type_chestpain\": \"type4\", \"max_heart_rate\": 132, \"resting_bp\": 132, \"diagnosis\": \"moderate-risk heart disease\"}, {\"cholesterol\": 219, \"type_chestpain\": \"type2\", \"max_heart_rate\": 188, \"resting_bp\": 130, \"diagnosis\": \"low-risk heart disease\"}, {\"cholesterol\": 242, \"type_chestpain\": \"type3\", \"max_heart_rate\": 149, \"resting_bp\": 118, \"diagnosis\": \"low-risk heart disease\"}, {\"cholesterol\": 220, \"type_chestpain\": \"type2\", \"max_heart_rate\": 170, \"resting_bp\": 120, \"diagnosis\": \"low-risk heart disease\"}, {\"cholesterol\": 247, \"type_chestpain\": \"type4\", \"max_heart_rate\": 171, \"resting_bp\": 150, \"diagnosis\": \"low-risk heart disease\"}, {\"cholesterol\": 270, \"type_chestpain\": \"type1\", \"max_heart_rate\": 145, \"resting_bp\": 178, \"diagnosis\": \"low-risk heart disease\"}, {\"cholesterol\": 248, \"type_chestpain\": \"type4\", \"max_heart_rate\": 122, \"resting_bp\": 100, \"diagnosis\": \"low-risk heart disease\"}, {\"cholesterol\": 265, \"type_chestpain\": \"type4\", \"max_heart_rate\": 122, \"resting_bp\": 102, \"diagnosis\": \"low-risk heart disease\"}, {\"cholesterol\": 178, \"type_chestpain\": \"type3\", \"max_heart_rate\": 96, \"resting_bp\": 120, \"diagnosis\": \"low-risk heart disease\"}, {\"cholesterol\": 126, \"type_chestpain\": \"type3\", \"max_heart_rate\": 173, \"resting_bp\": 150, \"diagnosis\": \"low-risk heart disease\"}, {\"cholesterol\": 230, \"type_chestpain\": \"type4\", \"max_heart_rate\": 160, \"resting_bp\": 117, \"diagnosis\": \"moderate-risk heart disease\"}, {\"cholesterol\": 335, \"type_chestpain\": \"type3\", \"max_heart_rate\": 158, \"resting_bp\": 140, \"diagnosis\": \"low-risk heart disease\"}, {\"cholesterol\": 239, \"type_chestpain\": \"type4\", \"max_heart_rate\": 126, \"resting_bp\": 110, \"diagnosis\": \"moderate-risk heart disease\"}, {\"cholesterol\": 195, \"type_chestpain\": \"type2\", \"max_heart_rate\": 179, \"resting_bp\": 140, \"diagnosis\": \"low-risk heart disease\"}, {\"cholesterol\": 335, \"type_chestpain\": \"type4\", \"max_heart_rate\": 143, \"resting_bp\": 110, \"diagnosis\": \"moderate-risk heart disease\"}, {\"cholesterol\": 149, \"type_chestpain\": \"type4\", \"max_heart_rate\": 125, \"resting_bp\": 112, \"diagnosis\": \"low-risk heart disease\"}, {\"cholesterol\": 250, \"type_chestpain\": \"type3\", \"max_heart_rate\": 179, \"resting_bp\": 112, \"diagnosis\": \"low-risk heart disease\"}, {\"cholesterol\": 232, \"type_chestpain\": \"type2\", \"max_heart_rate\": 164, \"resting_bp\": 154, \"diagnosis\": \"low-risk heart disease\"}, {\"cholesterol\": 184, \"type_chestpain\": \"type4\", \"max_heart_rate\": 105, \"resting_bp\": 132, \"diagnosis\": \"low-risk heart disease\"}, {\"cholesterol\": 222, \"type_chestpain\": \"type4\", \"max_heart_rate\": 186, \"resting_bp\": 122, \"diagnosis\": \"low-risk heart disease\"}, {\"cholesterol\": 236, \"type_chestpain\": \"type4\", \"max_heart_rate\": 152, \"resting_bp\": 138, \"diagnosis\": \"low-risk heart disease\"}, {\"cholesterol\": 234, \"type_chestpain\": \"type1\", \"max_heart_rate\": 145, \"resting_bp\": 134, \"diagnosis\": \"moderate-risk heart disease\"}, {\"cholesterol\": 203, \"type_chestpain\": \"type2\", \"max_heart_rate\": 132, \"resting_bp\": 135, \"diagnosis\": \"low-risk heart disease\"}, {\"cholesterol\": 315, \"type_chestpain\": \"type4\", \"max_heart_rate\": 125, \"resting_bp\": 136, \"diagnosis\": \"moderate-risk heart disease\"}, {\"cholesterol\": 267, \"type_chestpain\": \"type4\", \"max_heart_rate\": 99, \"resting_bp\": 120, \"diagnosis\": \"low-risk heart disease\"}, {\"cholesterol\": 219, \"type_chestpain\": \"type3\", \"max_heart_rate\": 158, \"resting_bp\": 120, \"diagnosis\": \"low-risk heart disease\"}, {\"cholesterol\": 207, \"type_chestpain\": \"type4\", \"max_heart_rate\": 168, \"resting_bp\": 132, \"diagnosis\": \"low-risk heart disease\"}, {\"cholesterol\": 240, \"type_chestpain\": \"type2\", \"max_heart_rate\": 169, \"resting_bp\": 120, \"diagnosis\": \"low-risk heart disease\"}, {\"cholesterol\": 212, \"type_chestpain\": \"type4\", \"max_heart_rate\": 132, \"resting_bp\": 145, \"diagnosis\": \"high-risk heart disease\"}, {\"cholesterol\": 342, \"type_chestpain\": \"type2\", \"max_heart_rate\": 166, \"resting_bp\": 132, \"diagnosis\": \"low-risk heart disease\"}, {\"cholesterol\": 243, \"type_chestpain\": \"type3\", \"max_heart_rate\": 137, \"resting_bp\": 150, \"diagnosis\": \"low-risk heart disease\"}, {\"cholesterol\": 294, \"type_chestpain\": \"type4\", \"max_heart_rate\": 106, \"resting_bp\": 138, \"diagnosis\": \"moderate-risk heart disease\"}, {\"cholesterol\": 234, \"type_chestpain\": \"type4\", \"max_heart_rate\": 160, \"resting_bp\": 138, \"diagnosis\": \"low-risk heart disease\"}, {\"cholesterol\": 269, \"type_chestpain\": \"type3\", \"max_heart_rate\": 148, \"resting_bp\": 155, \"diagnosis\": \"low-risk heart disease\"}, {\"cholesterol\": 216, \"type_chestpain\": \"type3\", \"max_heart_rate\": 115, \"resting_bp\": 128, \"diagnosis\": \"low-risk heart disease\"}, {\"cholesterol\": 169, \"type_chestpain\": \"type4\", \"max_heart_rate\": 144, \"resting_bp\": 120, \"diagnosis\": \"moderate-risk heart disease\"}, {\"cholesterol\": 269, \"type_chestpain\": \"type4\", \"max_heart_rate\": 163, \"resting_bp\": 130, \"diagnosis\": \"low-risk heart disease\"}, {\"cholesterol\": 220, \"type_chestpain\": \"type3\", \"max_heart_rate\": 152, \"resting_bp\": 138, \"diagnosis\": \"low-risk heart disease\"}, {\"cholesterol\": 231, \"type_chestpain\": \"type1\", \"max_heart_rate\": 182, \"resting_bp\": 120, \"diagnosis\": \"high-risk heart disease\"}, {\"cholesterol\": 203, \"type_chestpain\": \"type4\", \"max_heart_rate\": 155, \"resting_bp\": 140, \"diagnosis\": \"low-risk heart disease\"}, {\"cholesterol\": 299, \"type_chestpain\": \"type4\", \"max_heart_rate\": 125, \"resting_bp\": 100, \"diagnosis\": \"moderate-risk heart disease\"}, {\"cholesterol\": 218, \"type_chestpain\": \"type4\", \"max_heart_rate\": 105, \"resting_bp\": 146, \"diagnosis\": \"low-risk heart disease\"}, {\"cholesterol\": 247, \"type_chestpain\": \"type4\", \"max_heart_rate\": 143, \"resting_bp\": 132, \"diagnosis\": \"low-risk heart disease\"}, {\"cholesterol\": 183, \"type_chestpain\": \"type4\", \"max_heart_rate\": 182, \"resting_bp\": 138, \"diagnosis\": \"low-risk heart disease\"}, {\"cholesterol\": 243, \"type_chestpain\": \"type4\", \"max_heart_rate\": 128, \"resting_bp\": 150, \"diagnosis\": \"high-risk heart disease\"}, {\"cholesterol\": 249, \"type_chestpain\": \"type4\", \"max_heart_rate\": 143, \"resting_bp\": 174, \"diagnosis\": \"low-risk heart disease\"}]}}, {\"mode\": \"vega-lite\"});\n",
       "</script>"
      ],
      "text/plain": [
       "alt.Chart(...)"
      ]
     },
     "execution_count": 11,
     "metadata": {},
     "output_type": "execute_result"
    }
   ],
   "source": [
    "# heart rate\n",
    "hr_hist = alt.Chart(heart_disease_train).mark_bar().encode(\n",
    "    x=alt.X(\"max_heart_rate:Q\", bin = True).title(\"Heart Rate\"),\n",
    "    y=alt.Y(\"count()\").stack(False),\n",
    "    color = \"diagnosis:N\"\n",
    ").properties(\n",
    "    title = \"Distribution of Heart Rate\"\n",
    ")\n",
    "\n",
    "hr_hist"
   ]
  },
  {
   "cell_type": "code",
   "execution_count": 12,
   "id": "2865e0a6-75a0-43a7-a9a9-7b70edea6c7b",
   "metadata": {},
   "outputs": [],
   "source": [
    "# balancing heart disease\n",
    "rare_diagnosis_1 = heart_disease[heart_disease[\"diagnosis\"] == \"high-risk heart disease\"]\n",
    "rare_diagnosis_2 = heart_disease[heart_disease[\"diagnosis\"] == \"moderate-risk heart disease\"]\n",
    "low_risk_diagnosis = heart_disease[heart_disease[\"diagnosis\"] == \"low-risk heart disease\"]\n",
    "\n",
    "rare_diagnosis_upsample_1 = resample(rare_diagnosis_1, n_samples = low_risk_diagnosis.shape[0])\n",
    "rare_diagnosis_upsample_2 = resample(rare_diagnosis_2, n_samples = low_risk_diagnosis.shape[0])\n",
    "\n",
    "heart_disease = pd.concat((rare_diagnosis_upsample_1, rare_diagnosis_upsample_2, low_risk_diagnosis))\n",
    "\n",
    "heart_disease[\"diagnosis\"].value_counts()"
   ]
  },
  {
   "cell_type": "code",
   "execution_count": 13,
   "id": "9c453690-21ef-485b-8fe7-8684c3983e11",
   "metadata": {
    "tags": []
   },
   "outputs": [
    {
     "data": {
      "text/html": [
       "<style>#sk-container-id-1 {color: black;background-color: white;}#sk-container-id-1 pre{padding: 0;}#sk-container-id-1 div.sk-toggleable {background-color: white;}#sk-container-id-1 label.sk-toggleable__label {cursor: pointer;display: block;width: 100%;margin-bottom: 0;padding: 0.3em;box-sizing: border-box;text-align: center;}#sk-container-id-1 label.sk-toggleable__label-arrow:before {content: \"▸\";float: left;margin-right: 0.25em;color: #696969;}#sk-container-id-1 label.sk-toggleable__label-arrow:hover:before {color: black;}#sk-container-id-1 div.sk-estimator:hover label.sk-toggleable__label-arrow:before {color: black;}#sk-container-id-1 div.sk-toggleable__content {max-height: 0;max-width: 0;overflow: hidden;text-align: left;background-color: #f0f8ff;}#sk-container-id-1 div.sk-toggleable__content pre {margin: 0.2em;color: black;border-radius: 0.25em;background-color: #f0f8ff;}#sk-container-id-1 input.sk-toggleable__control:checked~div.sk-toggleable__content {max-height: 200px;max-width: 100%;overflow: auto;}#sk-container-id-1 input.sk-toggleable__control:checked~label.sk-toggleable__label-arrow:before {content: \"▾\";}#sk-container-id-1 div.sk-estimator input.sk-toggleable__control:checked~label.sk-toggleable__label {background-color: #d4ebff;}#sk-container-id-1 div.sk-label input.sk-toggleable__control:checked~label.sk-toggleable__label {background-color: #d4ebff;}#sk-container-id-1 input.sk-hidden--visually {border: 0;clip: rect(1px 1px 1px 1px);clip: rect(1px, 1px, 1px, 1px);height: 1px;margin: -1px;overflow: hidden;padding: 0;position: absolute;width: 1px;}#sk-container-id-1 div.sk-estimator {font-family: monospace;background-color: #f0f8ff;border: 1px dotted black;border-radius: 0.25em;box-sizing: border-box;margin-bottom: 0.5em;}#sk-container-id-1 div.sk-estimator:hover {background-color: #d4ebff;}#sk-container-id-1 div.sk-parallel-item::after {content: \"\";width: 100%;border-bottom: 1px solid gray;flex-grow: 1;}#sk-container-id-1 div.sk-label:hover label.sk-toggleable__label {background-color: #d4ebff;}#sk-container-id-1 div.sk-serial::before {content: \"\";position: absolute;border-left: 1px solid gray;box-sizing: border-box;top: 0;bottom: 0;left: 50%;z-index: 0;}#sk-container-id-1 div.sk-serial {display: flex;flex-direction: column;align-items: center;background-color: white;padding-right: 0.2em;padding-left: 0.2em;position: relative;}#sk-container-id-1 div.sk-item {position: relative;z-index: 1;}#sk-container-id-1 div.sk-parallel {display: flex;align-items: stretch;justify-content: center;background-color: white;position: relative;}#sk-container-id-1 div.sk-item::before, #sk-container-id-1 div.sk-parallel-item::before {content: \"\";position: absolute;border-left: 1px solid gray;box-sizing: border-box;top: 0;bottom: 0;left: 50%;z-index: -1;}#sk-container-id-1 div.sk-parallel-item {display: flex;flex-direction: column;z-index: 1;position: relative;background-color: white;}#sk-container-id-1 div.sk-parallel-item:first-child::after {align-self: flex-end;width: 50%;}#sk-container-id-1 div.sk-parallel-item:last-child::after {align-self: flex-start;width: 50%;}#sk-container-id-1 div.sk-parallel-item:only-child::after {width: 0;}#sk-container-id-1 div.sk-dashed-wrapped {border: 1px dashed gray;margin: 0 0.4em 0.5em 0.4em;box-sizing: border-box;padding-bottom: 0.4em;background-color: white;}#sk-container-id-1 div.sk-label label {font-family: monospace;font-weight: bold;display: inline-block;line-height: 1.2em;}#sk-container-id-1 div.sk-label-container {text-align: center;}#sk-container-id-1 div.sk-container {/* jupyter's `normalize.less` sets `[hidden] { display: none; }` but bootstrap.min.css set `[hidden] { display: none !important; }` so we also need the `!important` here to be able to override the default hidden behavior on the sphinx rendered scikit-learn.org. See: https://github.com/scikit-learn/scikit-learn/issues/21755 */display: inline-block !important;position: relative;}#sk-container-id-1 div.sk-text-repr-fallback {display: none;}</style><div id=\"sk-container-id-1\" class=\"sk-top-container\"><div class=\"sk-text-repr-fallback\"><pre>ColumnTransformer(transformers=[(&#x27;standardscaler&#x27;, StandardScaler(),\n",
       "                                 [&#x27;cholesterol&#x27;, &#x27;max_heart_rate&#x27;,\n",
       "                                  &#x27;resting_bp&#x27;])],\n",
       "                  verbose_feature_names_out=False)</pre><b>In a Jupyter environment, please rerun this cell to show the HTML representation or trust the notebook. <br />On GitHub, the HTML representation is unable to render, please try loading this page with nbviewer.org.</b></div><div class=\"sk-container\" hidden><div class=\"sk-item sk-dashed-wrapped\"><div class=\"sk-label-container\"><div class=\"sk-label sk-toggleable\"><input class=\"sk-toggleable__control sk-hidden--visually\" id=\"sk-estimator-id-1\" type=\"checkbox\" ><label for=\"sk-estimator-id-1\" class=\"sk-toggleable__label sk-toggleable__label-arrow\">ColumnTransformer</label><div class=\"sk-toggleable__content\"><pre>ColumnTransformer(transformers=[(&#x27;standardscaler&#x27;, StandardScaler(),\n",
       "                                 [&#x27;cholesterol&#x27;, &#x27;max_heart_rate&#x27;,\n",
       "                                  &#x27;resting_bp&#x27;])],\n",
       "                  verbose_feature_names_out=False)</pre></div></div></div><div class=\"sk-parallel\"><div class=\"sk-parallel-item\"><div class=\"sk-item\"><div class=\"sk-label-container\"><div class=\"sk-label sk-toggleable\"><input class=\"sk-toggleable__control sk-hidden--visually\" id=\"sk-estimator-id-2\" type=\"checkbox\" ><label for=\"sk-estimator-id-2\" class=\"sk-toggleable__label sk-toggleable__label-arrow\">standardscaler</label><div class=\"sk-toggleable__content\"><pre>[&#x27;cholesterol&#x27;, &#x27;max_heart_rate&#x27;, &#x27;resting_bp&#x27;]</pre></div></div></div><div class=\"sk-serial\"><div class=\"sk-item\"><div class=\"sk-estimator sk-toggleable\"><input class=\"sk-toggleable__control sk-hidden--visually\" id=\"sk-estimator-id-3\" type=\"checkbox\" ><label for=\"sk-estimator-id-3\" class=\"sk-toggleable__label sk-toggleable__label-arrow\">StandardScaler</label><div class=\"sk-toggleable__content\"><pre>StandardScaler()</pre></div></div></div></div></div></div></div></div></div></div>"
      ],
      "text/plain": [
       "ColumnTransformer(transformers=[('standardscaler', StandardScaler(),\n",
       "                                 ['cholesterol', 'max_heart_rate',\n",
       "                                  'resting_bp'])],\n",
       "                  verbose_feature_names_out=False)"
      ]
     },
     "execution_count": 13,
     "metadata": {},
     "output_type": "execute_result"
    }
   ],
   "source": [
    "preprocessor=make_column_transformer(\n",
    "    (StandardScaler(),\n",
    "     ['cholesterol','max_heart_rate','resting_bp']\n",
    "    ),remainder='drop',\n",
    "    verbose_feature_names_out=False\n",
    ")\n",
    "preprocessor"
   ]
  },
  {
   "cell_type": "code",
   "execution_count": 14,
   "id": "6d7f051b-c0f1-4c16-a3dd-cd0ccde27948",
   "metadata": {
    "tags": []
   },
   "outputs": [],
   "source": [
    "heart_disease_standard=pd.DataFrame(\n",
    "    preprocessor\n",
    "    .fit(heart_disease_continuous)\n",
    "    .transform(heart_disease_continuous)\n",
    ")\n",
    "heart_disease_standard.columns=['cholesterol','max_heart_rate','resting_bp']"
   ]
  },
  {
   "cell_type": "code",
   "execution_count": 15,
   "id": "979917b4-7cfe-4aa6-8433-414036962d78",
   "metadata": {
    "tags": []
   },
   "outputs": [
    {
     "data": {
      "text/html": [
       "\n",
       "<style>\n",
       "  #altair-viz-6301425c41504d00976e0d3391b50147.vega-embed {\n",
       "    width: 100%;\n",
       "    display: flex;\n",
       "  }\n",
       "\n",
       "  #altair-viz-6301425c41504d00976e0d3391b50147.vega-embed details,\n",
       "  #altair-viz-6301425c41504d00976e0d3391b50147.vega-embed details summary {\n",
       "    position: relative;\n",
       "  }\n",
       "</style>\n",
       "<div id=\"altair-viz-6301425c41504d00976e0d3391b50147\"></div>\n",
       "<script type=\"text/javascript\">\n",
       "  var VEGA_DEBUG = (typeof VEGA_DEBUG == \"undefined\") ? {} : VEGA_DEBUG;\n",
       "  (function(spec, embedOpt){\n",
       "    let outputDiv = document.currentScript.previousElementSibling;\n",
       "    if (outputDiv.id !== \"altair-viz-6301425c41504d00976e0d3391b50147\") {\n",
       "      outputDiv = document.getElementById(\"altair-viz-6301425c41504d00976e0d3391b50147\");\n",
       "    }\n",
       "    const paths = {\n",
       "      \"vega\": \"https://cdn.jsdelivr.net/npm/vega@5?noext\",\n",
       "      \"vega-lib\": \"https://cdn.jsdelivr.net/npm/vega-lib?noext\",\n",
       "      \"vega-lite\": \"https://cdn.jsdelivr.net/npm/vega-lite@5.15.1?noext\",\n",
       "      \"vega-embed\": \"https://cdn.jsdelivr.net/npm/vega-embed@6?noext\",\n",
       "    };\n",
       "\n",
       "    function maybeLoadScript(lib, version) {\n",
       "      var key = `${lib.replace(\"-\", \"\")}_version`;\n",
       "      return (VEGA_DEBUG[key] == version) ?\n",
       "        Promise.resolve(paths[lib]) :\n",
       "        new Promise(function(resolve, reject) {\n",
       "          var s = document.createElement('script');\n",
       "          document.getElementsByTagName(\"head\")[0].appendChild(s);\n",
       "          s.async = true;\n",
       "          s.onload = () => {\n",
       "            VEGA_DEBUG[key] = version;\n",
       "            return resolve(paths[lib]);\n",
       "          };\n",
       "          s.onerror = () => reject(`Error loading script: ${paths[lib]}`);\n",
       "          s.src = paths[lib];\n",
       "        });\n",
       "    }\n",
       "\n",
       "    function showError(err) {\n",
       "      outputDiv.innerHTML = `<div class=\"error\" style=\"color:red;\">${err}</div>`;\n",
       "      throw err;\n",
       "    }\n",
       "\n",
       "    function displayChart(vegaEmbed) {\n",
       "      vegaEmbed(outputDiv, spec, embedOpt)\n",
       "        .catch(err => showError(`Javascript Error: ${err.message}<br>This usually means there's a typo in your chart specification. See the javascript console for the full traceback.`));\n",
       "    }\n",
       "\n",
       "    if(typeof define === \"function\" && define.amd) {\n",
       "      requirejs.config({paths});\n",
       "      require([\"vega-embed\"], displayChart, err => showError(`Error loading script: ${err.message}`));\n",
       "    } else {\n",
       "      maybeLoadScript(\"vega\", \"5\")\n",
       "        .then(() => maybeLoadScript(\"vega-lite\", \"5.15.1\"))\n",
       "        .then(() => maybeLoadScript(\"vega-embed\", \"6\"))\n",
       "        .catch(showError)\n",
       "        .then(() => displayChart(vegaEmbed));\n",
       "    }\n",
       "  })({\"config\": {\"view\": {\"continuousWidth\": 300, \"continuousHeight\": 300}}, \"data\": {\"name\": \"data-29ab0a5b26e3b9c981fb4b0e7cf2d981\"}, \"mark\": {\"type\": \"line\", \"point\": true}, \"encoding\": {\"x\": {\"field\": \"param_n_neighbors\", \"scale\": {\"zero\": true}, \"title\": \"Values for K\", \"type\": \"quantitative\"}, \"y\": {\"field\": \"mean_test_score\", \"scale\": {\"zero\": false}, \"title\": \"Acuracy of model\", \"type\": \"quantitative\"}}, \"$schema\": \"https://vega.github.io/schema/vega-lite/v5.15.1.json\", \"datasets\": {\"data-29ab0a5b26e3b9c981fb4b0e7cf2d981\": [{\"mean_fit_time\": 0.0030713558197021486, \"std_fit_time\": 0.0002146702350721153, \"mean_score_time\": 0.024946832656860353, \"std_score_time\": 0.039908637727840215, \"param_n_neighbors\": 5, \"params\": {\"n_neighbors\": 5}, \"split0_test_score\": 0.6956521739130435, \"split1_test_score\": 0.6956521739130435, \"split2_test_score\": 0.6666666666666666, \"split3_test_score\": 0.6666666666666666, \"split4_test_score\": 0.7111111111111111, \"mean_test_score\": 0.6871497584541062, \"std_test_score\": 0.017651303956203672, \"rank_test_score\": 26, \"split0_train_score\": 0.7790055248618785, \"split1_train_score\": 0.7569060773480663, \"split2_train_score\": 0.7747252747252747, \"split3_train_score\": 0.7857142857142857, \"split4_train_score\": 0.7582417582417582, \"mean_train_score\": 0.7709185841782527, \"std_train_score\": 0.011452986946424404}, {\"mean_fit_time\": 0.0029273033142089844, \"std_fit_time\": 8.337876431549855e-05, \"mean_score_time\": 0.004937553405761718, \"std_score_time\": 4.727536829917067e-05, \"param_n_neighbors\": 6, \"params\": {\"n_neighbors\": 6}, \"split0_test_score\": 0.6956521739130435, \"split1_test_score\": 0.7391304347826086, \"split2_test_score\": 0.6888888888888889, \"split3_test_score\": 0.6888888888888889, \"split4_test_score\": 0.7333333333333333, \"mean_test_score\": 0.7091787439613526, \"std_test_score\": 0.022301894564256613, \"rank_test_score\": 25, \"split0_train_score\": 0.7679558011049724, \"split1_train_score\": 0.7458563535911602, \"split2_train_score\": 0.7527472527472527, \"split3_train_score\": 0.7582417582417582, \"split4_train_score\": 0.7527472527472527, \"mean_train_score\": 0.7555096836864792, \"std_train_score\": 0.007359604629159176}, {\"mean_fit_time\": 0.002868175506591797, \"std_fit_time\": 2.181132598284374e-05, \"mean_score_time\": 0.005095815658569336, \"std_score_time\": 0.00012309083674814456, \"param_n_neighbors\": 7, \"params\": {\"n_neighbors\": 7}, \"split0_test_score\": 0.6956521739130435, \"split1_test_score\": 0.717391304347826, \"split2_test_score\": 0.7333333333333333, \"split3_test_score\": 0.6666666666666666, \"split4_test_score\": 0.7333333333333333, \"mean_test_score\": 0.7092753623188406, \"std_test_score\": 0.025395009987025513, \"rank_test_score\": 22, \"split0_train_score\": 0.7569060773480663, \"split1_train_score\": 0.7513812154696132, \"split2_train_score\": 0.7637362637362637, \"split3_train_score\": 0.7692307692307693, \"split4_train_score\": 0.7252747252747253, \"mean_train_score\": 0.7533058102118876, \"std_train_score\": 0.01526306909900809}, {\"mean_fit_time\": 0.003090095520019531, \"std_fit_time\": 0.00016746439531688622, \"mean_score_time\": 0.005053043365478516, \"std_score_time\": 0.00010347871724105103, \"param_n_neighbors\": 8, \"params\": {\"n_neighbors\": 8}, \"split0_test_score\": 0.6956521739130435, \"split1_test_score\": 0.7391304347826086, \"split2_test_score\": 0.7555555555555555, \"split3_test_score\": 0.7111111111111111, \"split4_test_score\": 0.7111111111111111, \"mean_test_score\": 0.722512077294686, \"std_test_score\": 0.021676991168896848, \"rank_test_score\": 8, \"split0_train_score\": 0.7403314917127072, \"split1_train_score\": 0.7624309392265194, \"split2_train_score\": 0.7637362637362637, \"split3_train_score\": 0.7637362637362637, \"split4_train_score\": 0.7307692307692307, \"mean_train_score\": 0.752200837836197, \"std_train_score\": 0.013935438527152106}, {\"mean_fit_time\": 0.0030730724334716796, \"std_fit_time\": 0.00013583429388286107, \"mean_score_time\": 0.005086469650268555, \"std_score_time\": 9.69587596858731e-05, \"param_n_neighbors\": 9, \"params\": {\"n_neighbors\": 9}, \"split0_test_score\": 0.717391304347826, \"split1_test_score\": 0.7391304347826086, \"split2_test_score\": 0.7333333333333333, \"split3_test_score\": 0.6888888888888889, \"split4_test_score\": 0.7333333333333333, \"mean_test_score\": 0.722415458937198, \"std_test_score\": 0.01825959149989024, \"rank_test_score\": 10, \"split0_train_score\": 0.7569060773480663, \"split1_train_score\": 0.7403314917127072, \"split2_train_score\": 0.7307692307692307, \"split3_train_score\": 0.7362637362637363, \"split4_train_score\": 0.7142857142857143, \"mean_train_score\": 0.735711250075891, \"std_train_score\": 0.013815568866979159}, {\"mean_fit_time\": 0.0032006263732910155, \"std_fit_time\": 0.00018360265396106924, \"mean_score_time\": 0.005301570892333985, \"std_score_time\": 0.00010220040922614432, \"param_n_neighbors\": 10, \"params\": {\"n_neighbors\": 10}, \"split0_test_score\": 0.717391304347826, \"split1_test_score\": 0.717391304347826, \"split2_test_score\": 0.7333333333333333, \"split3_test_score\": 0.6888888888888889, \"split4_test_score\": 0.7111111111111111, \"mean_test_score\": 0.7136231884057971, \"std_test_score\": 0.014387378590252142, \"rank_test_score\": 19, \"split0_train_score\": 0.7513812154696132, \"split1_train_score\": 0.7569060773480663, \"split2_train_score\": 0.7362637362637363, \"split3_train_score\": 0.7417582417582418, \"split4_train_score\": 0.7142857142857143, \"mean_train_score\": 0.7401189970250744, \"std_train_score\": 0.01478886260662355}, {\"mean_fit_time\": 0.0033195972442626952, \"std_fit_time\": 0.000507449256904869, \"mean_score_time\": 0.0068515300750732425, \"std_score_time\": 0.0030285790408221634, \"param_n_neighbors\": 11, \"params\": {\"n_neighbors\": 11}, \"split0_test_score\": 0.717391304347826, \"split1_test_score\": 0.7391304347826086, \"split2_test_score\": 0.7333333333333333, \"split3_test_score\": 0.7111111111111111, \"split4_test_score\": 0.7555555555555555, \"mean_test_score\": 0.731304347826087, \"std_test_score\": 0.01584187541569821, \"rank_test_score\": 6, \"split0_train_score\": 0.7458563535911602, \"split1_train_score\": 0.7569060773480663, \"split2_train_score\": 0.7362637362637363, \"split3_train_score\": 0.7472527472527473, \"split4_train_score\": 0.7417582417582418, \"mean_train_score\": 0.7456074312427903, \"std_train_score\": 0.006819814168582069}, {\"mean_fit_time\": 0.002950572967529297, \"std_fit_time\": 3.845584516693539e-05, \"mean_score_time\": 0.005383968353271484, \"std_score_time\": 0.0006435132720925138, \"param_n_neighbors\": 12, \"params\": {\"n_neighbors\": 12}, \"split0_test_score\": 0.717391304347826, \"split1_test_score\": 0.7391304347826086, \"split2_test_score\": 0.7333333333333333, \"split3_test_score\": 0.7333333333333333, \"split4_test_score\": 0.7777777777777778, \"mean_test_score\": 0.7401932367149758, \"std_test_score\": 0.020138380984259407, \"rank_test_score\": 1, \"split0_train_score\": 0.7569060773480663, \"split1_train_score\": 0.7569060773480663, \"split2_train_score\": 0.7472527472527473, \"split3_train_score\": 0.7637362637362637, \"split4_train_score\": 0.7362637362637363, \"mean_train_score\": 0.7522129803897759, \"std_train_score\": 0.009547970236327263}, {\"mean_fit_time\": 0.0028602123260498048, \"std_fit_time\": 3.906446038482777e-05, \"mean_score_time\": 0.005469417572021485, \"std_score_time\": 0.0007209818924428507, \"param_n_neighbors\": 13, \"params\": {\"n_neighbors\": 13}, \"split0_test_score\": 0.717391304347826, \"split1_test_score\": 0.7391304347826086, \"split2_test_score\": 0.7555555555555555, \"split3_test_score\": 0.7111111111111111, \"split4_test_score\": 0.7555555555555555, \"mean_test_score\": 0.7357487922705314, \"std_test_score\": 0.018655100886797546, \"rank_test_score\": 3, \"split0_train_score\": 0.7569060773480663, \"split1_train_score\": 0.7624309392265194, \"split2_train_score\": 0.7417582417582418, \"split3_train_score\": 0.7582417582417582, \"split4_train_score\": 0.7417582417582418, \"mean_train_score\": 0.7522190516665654, \"std_train_score\": 0.008733623985989153}, {\"mean_fit_time\": 0.0033895015716552735, \"std_fit_time\": 0.0008411103170647202, \"mean_score_time\": 0.005242156982421875, \"std_score_time\": 0.0003673670693583996, \"param_n_neighbors\": 14, \"params\": {\"n_neighbors\": 14}, \"split0_test_score\": 0.717391304347826, \"split1_test_score\": 0.7391304347826086, \"split2_test_score\": 0.7555555555555555, \"split3_test_score\": 0.7111111111111111, \"split4_test_score\": 0.7555555555555555, \"mean_test_score\": 0.7357487922705314, \"std_test_score\": 0.018655100886797546, \"rank_test_score\": 3, \"split0_train_score\": 0.7569060773480663, \"split1_train_score\": 0.7624309392265194, \"split2_train_score\": 0.7472527472527473, \"split3_train_score\": 0.7582417582417582, \"split4_train_score\": 0.7252747252747253, \"mean_train_score\": 0.7500212494687633, \"std_train_score\": 0.01333441474909541}, {\"mean_fit_time\": 0.002897357940673828, \"std_fit_time\": 3.751790396090111e-05, \"mean_score_time\": 0.005694866180419922, \"std_score_time\": 0.0009413744852314878, \"param_n_neighbors\": 15, \"params\": {\"n_neighbors\": 15}, \"split0_test_score\": 0.717391304347826, \"split1_test_score\": 0.7391304347826086, \"split2_test_score\": 0.7777777777777778, \"split3_test_score\": 0.7333333333333333, \"split4_test_score\": 0.7333333333333333, \"mean_test_score\": 0.7401932367149758, \"std_test_score\": 0.020138380984259407, \"rank_test_score\": 1, \"split0_train_score\": 0.7513812154696132, \"split1_train_score\": 0.7734806629834254, \"split2_train_score\": 0.7417582417582418, \"split3_train_score\": 0.7637362637362637, \"split4_train_score\": 0.7472527472527473, \"mean_train_score\": 0.7555218262400583, \"std_train_score\": 0.011532175711398031}, {\"mean_fit_time\": 0.0028997421264648437, \"std_fit_time\": 8.976269209568427e-05, \"mean_score_time\": 0.006326913833618164, \"std_score_time\": 0.0023141637319372224, \"param_n_neighbors\": 16, \"params\": {\"n_neighbors\": 16}, \"split0_test_score\": 0.717391304347826, \"split1_test_score\": 0.7391304347826086, \"split2_test_score\": 0.7555555555555555, \"split3_test_score\": 0.7333333333333333, \"split4_test_score\": 0.7333333333333333, \"mean_test_score\": 0.7357487922705314, \"std_test_score\": 0.01226710743814793, \"rank_test_score\": 3, \"split0_train_score\": 0.7513812154696132, \"split1_train_score\": 0.7513812154696132, \"split2_train_score\": 0.7417582417582418, \"split3_train_score\": 0.7527472527472527, \"split4_train_score\": 0.7252747252747253, \"mean_train_score\": 0.7445085301438892, \"std_train_score\": 0.010390837244970396}, {\"mean_fit_time\": 0.0033173561096191406, \"std_fit_time\": 0.0008457484463642603, \"mean_score_time\": 0.005136251449584961, \"std_score_time\": 0.00016698473725427162, \"param_n_neighbors\": 17, \"params\": {\"n_neighbors\": 17}, \"split0_test_score\": 0.717391304347826, \"split1_test_score\": 0.717391304347826, \"split2_test_score\": 0.7333333333333333, \"split3_test_score\": 0.7333333333333333, \"split4_test_score\": 0.7111111111111111, \"mean_test_score\": 0.722512077294686, \"std_test_score\": 0.009128261889029297, \"rank_test_score\": 8, \"split0_train_score\": 0.7513812154696132, \"split1_train_score\": 0.7679558011049724, \"split2_train_score\": 0.7472527472527473, \"split3_train_score\": 0.7637362637362637, \"split4_train_score\": 0.7417582417582418, \"mean_train_score\": 0.7544168538643676, \"std_train_score\": 0.009908930085574315}, {\"mean_fit_time\": 0.0029287338256835938, \"std_fit_time\": 2.2765166778167008e-05, \"mean_score_time\": 0.0050754547119140625, \"std_score_time\": 9.517686400465714e-05, \"param_n_neighbors\": 18, \"params\": {\"n_neighbors\": 18}, \"split0_test_score\": 0.717391304347826, \"split1_test_score\": 0.717391304347826, \"split2_test_score\": 0.7333333333333333, \"split3_test_score\": 0.6888888888888889, \"split4_test_score\": 0.7333333333333333, \"mean_test_score\": 0.7180676328502414, \"std_test_score\": 0.016238209027645063, \"rank_test_score\": 13, \"split0_train_score\": 0.7458563535911602, \"split1_train_score\": 0.7348066298342542, \"split2_train_score\": 0.7527472527472527, \"split3_train_score\": 0.7472527472527473, \"split4_train_score\": 0.7197802197802198, \"mean_train_score\": 0.7400886406411269, \"std_train_score\": 0.011706092368486147}, {\"mean_fit_time\": 0.002951383590698242, \"std_fit_time\": 2.561463405670654e-05, \"mean_score_time\": 0.005209541320800782, \"std_score_time\": 0.0002243338475290301, \"param_n_neighbors\": 19, \"params\": {\"n_neighbors\": 19}, \"split0_test_score\": 0.6739130434782609, \"split1_test_score\": 0.7391304347826086, \"split2_test_score\": 0.7333333333333333, \"split3_test_score\": 0.6888888888888889, \"split4_test_score\": 0.7111111111111111, \"mean_test_score\": 0.7092753623188406, \"std_test_score\": 0.025058264854024837, \"rank_test_score\": 22, \"split0_train_score\": 0.7403314917127072, \"split1_train_score\": 0.7513812154696132, \"split2_train_score\": 0.7417582417582418, \"split3_train_score\": 0.7472527472527473, \"split4_train_score\": 0.7197802197802198, \"mean_train_score\": 0.7401007831947058, \"std_train_score\": 0.010900682868412923}, {\"mean_fit_time\": 0.002907276153564453, \"std_fit_time\": 5.008765239795123e-05, \"mean_score_time\": 0.00553598403930664, \"std_score_time\": 0.0008776451001709405, \"param_n_neighbors\": 20, \"params\": {\"n_neighbors\": 20}, \"split0_test_score\": 0.6956521739130435, \"split1_test_score\": 0.717391304347826, \"split2_test_score\": 0.7333333333333333, \"split3_test_score\": 0.6888888888888889, \"split4_test_score\": 0.7333333333333333, \"mean_test_score\": 0.7137198067632851, \"std_test_score\": 0.018578883620053183, \"rank_test_score\": 17, \"split0_train_score\": 0.7513812154696132, \"split1_train_score\": 0.7403314917127072, \"split2_train_score\": 0.7252747252747253, \"split3_train_score\": 0.7527472527472527, \"split4_train_score\": 0.7252747252747253, \"mean_train_score\": 0.7390018820958048, \"std_train_score\": 0.012006836716137639}, {\"mean_fit_time\": 0.002964162826538086, \"std_fit_time\": 0.00013825199179168167, \"mean_score_time\": 0.005064630508422851, \"std_score_time\": 0.00013845109561114752, \"param_n_neighbors\": 21, \"params\": {\"n_neighbors\": 21}, \"split0_test_score\": 0.6956521739130435, \"split1_test_score\": 0.7391304347826086, \"split2_test_score\": 0.7333333333333333, \"split3_test_score\": 0.6888888888888889, \"split4_test_score\": 0.7333333333333333, \"mean_test_score\": 0.7180676328502414, \"std_test_score\": 0.021277108573527794, \"rank_test_score\": 13, \"split0_train_score\": 0.7458563535911602, \"split1_train_score\": 0.7458563535911602, \"split2_train_score\": 0.7417582417582418, \"split3_train_score\": 0.7527472527472527, \"split4_train_score\": 0.7252747252747253, \"mean_train_score\": 0.742298585392508, \"std_train_score\": 0.009215138231776193}, {\"mean_fit_time\": 0.0029184818267822266, \"std_fit_time\": 5.078528404260106e-05, \"mean_score_time\": 0.0052144527435302734, \"std_score_time\": 0.00010323970467886655, \"param_n_neighbors\": 22, \"params\": {\"n_neighbors\": 22}, \"split0_test_score\": 0.6956521739130435, \"split1_test_score\": 0.717391304347826, \"split2_test_score\": 0.7333333333333333, \"split3_test_score\": 0.6888888888888889, \"split4_test_score\": 0.7333333333333333, \"mean_test_score\": 0.7137198067632851, \"std_test_score\": 0.018578883620053183, \"rank_test_score\": 17, \"split0_train_score\": 0.7569060773480663, \"split1_train_score\": 0.7403314917127072, \"split2_train_score\": 0.7307692307692307, \"split3_train_score\": 0.7417582417582418, \"split4_train_score\": 0.7252747252747253, \"mean_train_score\": 0.7390079533725943, \"std_train_score\": 0.010827158315150047}, {\"mean_fit_time\": 0.0029251575469970703, \"std_fit_time\": 4.450119662444953e-05, \"mean_score_time\": 0.005152511596679688, \"std_score_time\": 7.48603054777952e-05, \"param_n_neighbors\": 23, \"params\": {\"n_neighbors\": 23}, \"split0_test_score\": 0.6956521739130435, \"split1_test_score\": 0.717391304347826, \"split2_test_score\": 0.7333333333333333, \"split3_test_score\": 0.6888888888888889, \"split4_test_score\": 0.7555555555555555, \"mean_test_score\": 0.7181642512077294, \"std_test_score\": 0.024464867067836737, \"rank_test_score\": 11, \"split0_train_score\": 0.7513812154696132, \"split1_train_score\": 0.7348066298342542, \"split2_train_score\": 0.7362637362637363, \"split3_train_score\": 0.7417582417582418, \"split4_train_score\": 0.7307692307692307, \"mean_train_score\": 0.7389958108190153, \"std_train_score\": 0.007123473325102711}, {\"mean_fit_time\": 0.0029712677001953124, \"std_fit_time\": 5.089364993395196e-05, \"mean_score_time\": 0.005251502990722657, \"std_score_time\": 0.00015002986900078752, \"param_n_neighbors\": 24, \"params\": {\"n_neighbors\": 24}, \"split0_test_score\": 0.717391304347826, \"split1_test_score\": 0.717391304347826, \"split2_test_score\": 0.7333333333333333, \"split3_test_score\": 0.6888888888888889, \"split4_test_score\": 0.7333333333333333, \"mean_test_score\": 0.7180676328502414, \"std_test_score\": 0.016238209027645063, \"rank_test_score\": 13, \"split0_train_score\": 0.7348066298342542, \"split1_train_score\": 0.7348066298342542, \"split2_train_score\": 0.7417582417582418, \"split3_train_score\": 0.7417582417582418, \"split4_train_score\": 0.7362637362637363, \"mean_train_score\": 0.7378786958897456, \"std_train_score\": 0.003212009544935297}, {\"mean_fit_time\": 0.002939462661743164, \"std_fit_time\": 6.959862629134727e-05, \"mean_score_time\": 0.005540227890014649, \"std_score_time\": 0.0009449920087344861, \"param_n_neighbors\": 25, \"params\": {\"n_neighbors\": 25}, \"split0_test_score\": 0.7608695652173914, \"split1_test_score\": 0.717391304347826, \"split2_test_score\": 0.7333333333333333, \"split3_test_score\": 0.6888888888888889, \"split4_test_score\": 0.7333333333333333, \"mean_test_score\": 0.7267632850241545, \"std_test_score\": 0.023545162231753524, \"rank_test_score\": 7, \"split0_train_score\": 0.7292817679558011, \"split1_train_score\": 0.7403314917127072, \"split2_train_score\": 0.7472527472527473, \"split3_train_score\": 0.7362637362637363, \"split4_train_score\": 0.7307692307692307, \"mean_train_score\": 0.7367797947908445, \"std_train_score\": 0.006556079422557257}, {\"mean_fit_time\": 0.002946281433105469, \"std_fit_time\": 5.87817803515137e-05, \"mean_score_time\": 0.005221128463745117, \"std_score_time\": 0.00010826146375747006, \"param_n_neighbors\": 26, \"params\": {\"n_neighbors\": 26}, \"split0_test_score\": 0.717391304347826, \"split1_test_score\": 0.717391304347826, \"split2_test_score\": 0.7333333333333333, \"split3_test_score\": 0.6888888888888889, \"split4_test_score\": 0.7333333333333333, \"mean_test_score\": 0.7180676328502414, \"std_test_score\": 0.016238209027645063, \"rank_test_score\": 13, \"split0_train_score\": 0.7292817679558011, \"split1_train_score\": 0.7403314917127072, \"split2_train_score\": 0.7417582417582418, \"split3_train_score\": 0.7307692307692307, \"split4_train_score\": 0.7252747252747253, \"mean_train_score\": 0.7334830914941413, \"std_train_score\": 0.006446272301837232}, {\"mean_fit_time\": 0.0029140472412109374, \"std_fit_time\": 4.840463219974774e-05, \"mean_score_time\": 0.005079221725463867, \"std_score_time\": 0.0001092852512691153, \"param_n_neighbors\": 27, \"params\": {\"n_neighbors\": 27}, \"split0_test_score\": 0.6956521739130435, \"split1_test_score\": 0.717391304347826, \"split2_test_score\": 0.7333333333333333, \"split3_test_score\": 0.6888888888888889, \"split4_test_score\": 0.7111111111111111, \"mean_test_score\": 0.7092753623188406, \"std_test_score\": 0.01580647980563869, \"rank_test_score\": 22, \"split0_train_score\": 0.7237569060773481, \"split1_train_score\": 0.7348066298342542, \"split2_train_score\": 0.7472527472527473, \"split3_train_score\": 0.7252747252747253, \"split4_train_score\": 0.7307692307692307, \"mean_train_score\": 0.7323720478416611, \"std_train_score\": 0.00842049977433382}, {\"mean_fit_time\": 0.002876615524291992, \"std_fit_time\": 2.0319977845900612e-05, \"mean_score_time\": 0.005137777328491211, \"std_score_time\": 8.370205032804003e-05, \"param_n_neighbors\": 28, \"params\": {\"n_neighbors\": 28}, \"split0_test_score\": 0.717391304347826, \"split1_test_score\": 0.717391304347826, \"split2_test_score\": 0.7333333333333333, \"split3_test_score\": 0.6888888888888889, \"split4_test_score\": 0.7111111111111111, \"mean_test_score\": 0.7136231884057971, \"std_test_score\": 0.014387378590252142, \"rank_test_score\": 19, \"split0_train_score\": 0.7237569060773481, \"split1_train_score\": 0.7348066298342542, \"split2_train_score\": 0.7417582417582418, \"split3_train_score\": 0.7307692307692307, \"split4_train_score\": 0.7252747252747253, \"mean_train_score\": 0.73127314674276, \"std_train_score\": 0.006559749772643857}, {\"mean_fit_time\": 0.0029826641082763674, \"std_fit_time\": 4.792448294279442e-05, \"mean_score_time\": 0.005149364471435547, \"std_score_time\": 6.153195079587198e-05, \"param_n_neighbors\": 29, \"params\": {\"n_neighbors\": 29}, \"split0_test_score\": 0.717391304347826, \"split1_test_score\": 0.717391304347826, \"split2_test_score\": 0.7333333333333333, \"split3_test_score\": 0.7111111111111111, \"split4_test_score\": 0.7111111111111111, \"mean_test_score\": 0.7180676328502416, \"std_test_score\": 0.0081331770070473, \"rank_test_score\": 12, \"split0_train_score\": 0.7237569060773481, \"split1_train_score\": 0.7237569060773481, \"split2_train_score\": 0.7417582417582418, \"split3_train_score\": 0.7197802197802198, \"split4_train_score\": 0.7252747252747253, \"mean_train_score\": 0.7268653997935767, \"std_train_score\": 0.007666188484491501}, {\"mean_fit_time\": 0.0031430721282958984, \"std_fit_time\": 0.000502811319108527, \"mean_score_time\": 0.005042076110839844, \"std_score_time\": 7.233306925782058e-05, \"param_n_neighbors\": 30, \"params\": {\"n_neighbors\": 30}, \"split0_test_score\": 0.717391304347826, \"split1_test_score\": 0.717391304347826, \"split2_test_score\": 0.7333333333333333, \"split3_test_score\": 0.6888888888888889, \"split4_test_score\": 0.7111111111111111, \"mean_test_score\": 0.7136231884057971, \"std_test_score\": 0.014387378590252142, \"rank_test_score\": 19, \"split0_train_score\": 0.7182320441988951, \"split1_train_score\": 0.7237569060773481, \"split2_train_score\": 0.7362637362637363, \"split3_train_score\": 0.7197802197802198, \"split4_train_score\": 0.7197802197802198, \"mean_train_score\": 0.7235626252200839, \"std_train_score\": 0.006608846232757643}]}}, {\"mode\": \"vega-lite\"});\n",
       "</script>"
      ],
      "text/plain": [
       "alt.Chart(...)"
      ]
     },
     "execution_count": 15,
     "metadata": {},
     "output_type": "execute_result"
    }
   ],
   "source": [
    "np.random.seed(1234)\n",
    "knn = KNeighborsClassifier()\n",
    "parameter_grid = {\n",
    "    \"n_neighbors\": range(5, 31)}\n",
    "grid_search = GridSearchCV(\n",
    "    estimator=knn, \n",
    "    param_grid=parameter_grid, \n",
    "    cv=5, \n",
    "    return_train_score=True, \n",
    "    n_jobs=-1)\n",
    "X_heart_train=heart_disease_train[['cholesterol','max_heart_rate','resting_bp']]\n",
    "y_heart_train=heart_disease_train['diagnosis']\n",
    "grid_search.fit(X_heart_train, y_heart_train)\n",
    "\n",
    "grid_results=pd.DataFrame(grid_search.cv_results_)\n",
    "\n",
    "cross_val_plot = alt.Chart(grid_results).mark_line(point=True).encode(\n",
    "    x=alt.X(\"param_n_neighbors\").title(\"Values for K\").scale(zero=True),\n",
    "    y=alt.Y(\"mean_test_score\").title(\"Acuracy of model\").scale(zero=False)\n",
    ")\n",
    "\n",
    "cross_val_plot"
   ]
  },
  {
   "cell_type": "code",
   "execution_count": 16,
   "id": "8bf5a07a-7121-45df-9934-e41b07241631",
   "metadata": {
    "tags": []
   },
   "outputs": [
    {
     "ename": "NameError",
     "evalue": "name 'hear' is not defined",
     "output_type": "error",
     "traceback": [
      "\u001b[0;31m---------------------------------------------------------------------------\u001b[0m",
      "\u001b[0;31mNameError\u001b[0m                                 Traceback (most recent call last)",
      "Cell \u001b[0;32mIn[16], line 4\u001b[0m\n\u001b[1;32m      2\u001b[0m heart_fit\u001b[38;5;241m=\u001b[39mknn\u001b[38;5;241m.\u001b[39mfit(X_heart_train,y_heart_train)\n\u001b[1;32m      3\u001b[0m heart_predictions\u001b[38;5;241m=\u001b[39mpd\u001b[38;5;241m.\u001b[39mDataFrame(heart_fit\u001b[38;5;241m.\u001b[39mpredict(heart_disease_test[[\u001b[38;5;124m'\u001b[39m\u001b[38;5;124mcholesterol\u001b[39m\u001b[38;5;124m'\u001b[39m,\u001b[38;5;124m'\u001b[39m\u001b[38;5;124mmax_heart_rate\u001b[39m\u001b[38;5;124m'\u001b[39m,\u001b[38;5;124m'\u001b[39m\u001b[38;5;124mresting_bp\u001b[39m\u001b[38;5;124m'\u001b[39m]]))\n\u001b[0;32m----> 4\u001b[0m \u001b[43mhear\u001b[49m\n",
      "\u001b[0;31mNameError\u001b[0m: name 'hear' is not defined"
     ]
    }
   ],
   "source": [
    "knn=KNeighborsClassifier(n_neighbors=12)\n",
    "heart_fit=knn.fit(X_heart_train,y_heart_train)\n",
    "heart_predictions=pd.DataFrame(heart_fit.predict(heart_disease_test[['cholesterol','max_heart_rate','resting_bp']]))\n",
    "hear"
   ]
  },
  {
   "cell_type": "code",
   "execution_count": null,
   "id": "370ce588-504a-40b0-9ed2-afe87a463f79",
   "metadata": {},
   "outputs": [],
   "source": []
  }
 ],
 "metadata": {
  "kernelspec": {
   "display_name": "Python 3 (ipykernel)",
   "language": "python",
   "name": "python3"
  },
  "language_info": {
   "codemirror_mode": {
    "name": "ipython",
    "version": 3
   },
   "file_extension": ".py",
   "mimetype": "text/x-python",
   "name": "python",
   "nbconvert_exporter": "python",
   "pygments_lexer": "ipython3",
   "version": "3.10.8"
  }
 },
 "nbformat": 4,
 "nbformat_minor": 5
}
