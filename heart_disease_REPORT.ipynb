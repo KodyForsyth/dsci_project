{
 "cells": [
  {
   "cell_type": "markdown",
   "id": "53931957-3afa-48ef-9400-dfe18468904d",
   "metadata": {},
   "source": [
    "# REPORT: Predicting Risk of Heart Disease from Accessible Health Metrics\n",
    "_Created by : Tyler Ofreneo, Arthur Zhang, Kody Forsyth, Natalia Blanco_\n",
    "\n",
    "## Introduction:\n",
    "\n",
    "According to the Public Health Agency of Canada, heart disease is the second leading cause of death in Canada, with approximately 1 in 12 Canadian adults over 20 living with a diagnosis. These metrics highlight the importance of knowing the risk factors and having access to medical advice. However, a shortage of physicians in Canada is causing a lack of available health care (Flood et al., 2023). Non-healthcare professionals do not have the means to properly self-evaluate symptoms, therefore our project seeks to help the general population to make informative decisions about heart disease symptoms that are self-monitored or easily accessible.\n",
    "\n",
    "\n",
    "Thus we ask, <b>is it possible to classify individuals into levels of heart disease risk (low risk, moderate risk, or high risk) based on blood pressure, cholesterol, heart rate and chest pain?<b>\n",
    "\n",
    "\n",
    "Our analysis will use the Heart Disease dataset from the Cleveland database for heart disease (Andras et al., 1988). This database consists of 303 patients without history of heart disease, who were admitted to the Cleveland Clinic between 1981 and 1984. \n",
    "\n"
   ]
  },
  {
   "cell_type": "code",
   "execution_count": null,
   "id": "fced25bca234fedc",
   "metadata": {
    "ExecuteTime": {
     "end_time": "2023-12-04T05:00:28.837166Z",
     "start_time": "2023-12-04T05:00:28.806096Z"
    },
    "collapsed": false,
    "jupyter": {
     "outputs_hidden": false
    }
   },
   "outputs": [],
   "source": [
    "# Please uncomment the following cell to install the altair in case your package is not up-to-date"
   ]
  },
  {
   "cell_type": "code",
   "execution_count": null,
   "id": "ae526daf547a0a67",
   "metadata": {
    "ExecuteTime": {
     "end_time": "2023-12-04T05:00:28.838086Z",
     "start_time": "2023-12-04T05:00:28.808049Z"
    },
    "collapsed": false,
    "jupyter": {
     "outputs_hidden": false
    },
    "tags": []
   },
   "outputs": [],
   "source": [
    "pip install -U altair"
   ]
  },
  {
   "cell_type": "code",
   "execution_count": null,
   "id": "7faedbd6",
   "metadata": {
    "ExecuteTime": {
     "end_time": "2023-12-04T05:00:28.838306Z",
     "start_time": "2023-12-04T05:00:28.809864Z"
    },
    "tags": []
   },
   "outputs": [],
   "source": [
    "import altair as alt\n",
    "import pandas as pd\n",
    "import numpy as np\n",
    "from sklearn.model_selection import train_test_split\n",
    "from sklearn import set_config\n",
    "from sklearn.metrics import confusion_matrix\n",
    "from sklearn.model_selection import GridSearchCV, cross_validate\n",
    "from sklearn.neighbors import KNeighborsClassifier\n",
    "from sklearn.preprocessing import StandardScaler \n",
    "from sklearn.compose import make_column_transformer\n",
    "from sklearn.utils import resample\n",
    "from sklearn.pipeline import make_pipeline"
   ]
  },
  {
   "cell_type": "markdown",
   "id": "8221fceb-38cd-4483-988b-37040f83d56b",
   "metadata": {
    "tags": []
   },
   "source": [
    "## Loading and Wrangling the Heart Disease Data Set\n",
    "\n",
    "The Heart Disease dataset retrieved from the UC Irvine Machine Learning Repository is loaded into this notebook in the following cell. The data frame obtained (shown below) was tidy (Table 1). A subset of the columns containing the symptoms chosen in the thesis was extracted. To enhance clarity, column names and variables within the 'diagnosis' and 'chest pain' sections have been given more meaningful names. An outline of the the classes for heart disease diagnosis, each representing the levels of risk, is given below.\n",
    "\n",
    "> <ins> The 'diagnosis' column: </ins> \n",
    "<br>\n",
    "> 0,1 is represented as \"low-risk diagnosis\"\n",
    "<br>\n",
    "> 2,3 is represented as \"moderate-risk diagnosis\"\n",
    "<br>\n",
    "> 4 is represented as \"high-risk diagnosis\""
   ]
  },
  {
   "cell_type": "code",
   "execution_count": null,
   "id": "193a4861",
   "metadata": {
    "ExecuteTime": {
     "end_time": "2023-12-04T05:00:29.015240Z",
     "start_time": "2023-12-04T05:00:28.813483Z"
    },
    "tags": []
   },
   "outputs": [],
   "source": [
    "# import and load the data\n",
    "heart_disease = pd.read_csv(\"https://archive.ics.uci.edu/static/public/45/data.csv\")\n",
    "\n",
    "#extract and rename the columns with required data\n",
    "heart_disease = heart_disease[[\"chol\",\"cp\",\"thalach\",\"trestbps\",\"num\"]]\n",
    "heart_disease.rename(columns = {\n",
    "                          \"chol\" : \"cholesterol\", \n",
    "                          \"cp\":\"type_chestpain\",\n",
    "                          \"thalach\" : \"max_heart_rate\",\n",
    "                          \"num\" : \"diagnosis\",\n",
    "                          \"trestbps\" : \"resting_bp\"\n",
    "}, inplace = True)\n",
    "\n",
    "# renaming variables in the 'diagnosis' column with readable and explicit labels\n",
    "heart_disease['diagnosis'] = heart_disease['diagnosis'].replace([0,1], \"low-risk heart disease\")\n",
    "heart_disease['diagnosis'] = heart_disease['diagnosis'].replace([2,3], \"moderate-risk heart disease\")\n",
    "heart_disease['diagnosis'] = heart_disease['diagnosis'].replace([4], \"high-risk heart disease\")\n",
    "\n",
    "# renaming variables in the 'chest pain' column with readable and explicit labels\n",
    "heart_disease['type_chestpain'] = heart_disease['type_chestpain'].replace(\n",
    "    [1,2,3,4],\n",
    "    [\"type1\",\"type2\",\"type3\",\"type4\"])\n",
    "\n",
    "print(\"Table 1:\")\n",
    "heart_disease.head()"
   ]
  },
  {
   "cell_type": "markdown",
   "id": "d2c1e8d8-3eed-416a-ac91-4638d9df038a",
   "metadata": {},
   "source": [
    "## Balancing\n",
    "\n",
    "As shown in the next cells, the unique values in the 'diagnosis' column show a class imbalance because the observations of 'low-risk heart disease' appear more common than the other classes. In order to eliminate the risk of bias in the classifier, this issue was resolved by oversampling the rare classes which were \"moderate-\" and \"high-risk disease\". This was done by filtering the classes and randomly resampling to increase the number of rare observations."
   ]
  },
  {
   "cell_type": "code",
   "execution_count": null,
   "id": "64825990-681e-4ee4-acc2-520946497d96",
   "metadata": {
    "tags": []
   },
   "outputs": [],
   "source": [
    "# unbalanced diagnoses, must resample\n",
    "heart_disease['diagnosis'].value_counts()"
   ]
  },
  {
   "cell_type": "code",
   "execution_count": null,
   "id": "658de739d7b997f4",
   "metadata": {
    "ExecuteTime": {
     "end_time": "2023-12-04T05:00:29.030118Z",
     "start_time": "2023-12-04T05:00:29.020415Z"
    },
    "collapsed": false,
    "jupyter": {
     "outputs_hidden": false
    },
    "tags": []
   },
   "outputs": [],
   "source": [
    "# separate the classes out into their own data frames by filtering\n",
    "rare_diagnosis_1 = heart_disease[heart_disease[\"diagnosis\"] == \"high-risk heart disease\"]\n",
    "rare_diagnosis_2 = heart_disease[heart_disease[\"diagnosis\"] == \"moderate-risk heart disease\"]\n",
    "low_risk_diagnosis = heart_disease[heart_disease[\"diagnosis\"] == \"low-risk heart disease\"]\n",
    "\n",
    "# increase the number of rare observations to the same amount as non-rare observations\n",
    "rare_diagnosis_upsample_1 = resample(rare_diagnosis_1, n_samples = low_risk_diagnosis.shape[0])\n",
    "rare_diagnosis_upsample_2 = resample(rare_diagnosis_2, n_samples = low_risk_diagnosis.shape[0])\n",
    "\n",
    "# combined observations show that the classes are now balanced\n",
    "heart_disease = pd.concat((rare_diagnosis_upsample_1, rare_diagnosis_upsample_2, low_risk_diagnosis)).reset_index(drop = True)\n",
    "heart_disease['diagnosis'].value_counts()"
   ]
  },
  {
   "cell_type": "markdown",
   "id": "1538df81-8113-4c3f-961a-9396f653570f",
   "metadata": {},
   "source": [
    "## Create Training and Testing Sets\n",
    "\n",
    "The data set is split so that 75% is incorporated into a training set and 25% for a testing set. The data is stratified by the categorical label variable ('diagnosis'). We will use the training set to build the classifier and predict the diagnosis of observations in the test set for evaluating performance. "
   ]
  },
  {
   "cell_type": "code",
   "execution_count": null,
   "id": "4ff98677",
   "metadata": {
    "ExecuteTime": {
     "end_time": "2023-12-04T05:00:29.030415Z",
     "start_time": "2023-12-04T05:00:29.026619Z"
    },
    "tags": []
   },
   "outputs": [],
   "source": [
    "# split data into training and testing sets\n",
    "heart_disease_train, heart_disease_test = train_test_split(heart_disease, \n",
    "                                                           train_size = 0.75, \n",
    "                                                           stratify = heart_disease[\"diagnosis\"],\n",
    "                                                           random_state = 0)"
   ]
  },
  {
   "cell_type": "markdown",
   "id": "beb18127-9b99-4f27-b243-6512a7c09b1b",
   "metadata": {
    "tags": []
   },
   "source": [
    "## Summary Statistics\n",
    "\n",
    "The following cells are used to compute the summary statistics of the variables.\n",
    "<br>\n",
    "<br>\n",
    "**Categorical variables (Table 2)**: \n",
    "> Number of observations (\"count\")<br>\n",
    "> Number of unique labels (\"unique\")<br>\n",
    "> Most frequent value (\"top\") <br>\n",
    "> Regularity of the top value (\"freq\")<br>\n",
    "\n",
    "**Continuous variables (Table 3)**: \n",
    "> Number of observations (\"count\")<br>\n",
    "> Mean, standard deviation, minimum and maximum of the observations (\"mean\", \"std\", \"min\", \"max\")<br>\n",
    "> 25th, 50th, and 75th percentiles<br>"
   ]
  },
  {
   "cell_type": "code",
   "execution_count": null,
   "id": "9cf355c304d9009d",
   "metadata": {
    "ExecuteTime": {
     "end_time": "2023-12-04T05:00:29.036038Z",
     "start_time": "2023-12-04T05:00:29.033623Z"
    },
    "collapsed": false,
    "jupyter": {
     "outputs_hidden": false
    },
    "tags": []
   },
   "outputs": [],
   "source": [
    "# Summary of the categorical variables\n",
    "heart_disease_categorical = heart_disease_train.drop(columns = [\"cholesterol\",\"max_heart_rate\",\"resting_bp\"])\n",
    "print(\"Table 2:\")\n",
    "heart_disease_categorical.describe()"
   ]
  },
  {
   "cell_type": "code",
   "execution_count": null,
   "id": "61bffd03feb24315",
   "metadata": {
    "ExecuteTime": {
     "end_time": "2023-12-04T05:00:29.090428Z",
     "start_time": "2023-12-04T05:00:29.036847Z"
    },
    "collapsed": false,
    "jupyter": {
     "outputs_hidden": false
    },
    "tags": []
   },
   "outputs": [],
   "source": [
    "# Summary of the continuous variables\n",
    "heart_disease_continuous = heart_disease_train.drop(columns = [\"type_chestpain\",\"diagnosis\"])\n",
    "print(\"Table 3:\")\n",
    "heart_disease_continuous.describe()"
   ]
  },
  {
   "cell_type": "markdown",
   "id": "6fdeb78e-cf65-4c01-a85f-cce76e0b7c92",
   "metadata": {},
   "source": [
    "## Distribution of the Variables\n",
    "\n",
    "The next cells visualize the distribution of the measurements/values for each symptom variable in histograms (Figure 1-4). The associated heart disease risk diagnosis is represented with distinct colours. The varying measurements indicate standardization is required. "
   ]
  },
  {
   "cell_type": "code",
   "execution_count": null,
   "id": "a6693ab46de7002c",
   "metadata": {
    "ExecuteTime": {
     "end_time": "2023-12-04T05:00:29.122193Z",
     "start_time": "2023-12-04T05:00:29.048597Z"
    },
    "collapsed": false,
    "jupyter": {
     "outputs_hidden": false
    },
    "tags": []
   },
   "outputs": [],
   "source": [
    "# distribution of blood pressure measurements\n",
    "bp_hist = alt.Chart(heart_disease_train).mark_bar().encode(\n",
    "    x=alt.X(\"resting_bp:Q\", bin = True).title(\"Blood Pressure\"),\n",
    "    y=alt.Y(\"count()\").stack(False),\n",
    "    color=\"diagnosis:N\"\n",
    ").properties(\n",
    "    title = \"Figure 1: Distribution of Blood Pressure\"\n",
    ")\n",
    "\n",
    "# distribution of cholesterol measurements\n",
    "chol_hist = alt.Chart(heart_disease_train).mark_bar().encode(\n",
    "    x=alt.X(\"cholesterol:Q\", bin = True).title(\"Cholesterol\"),\n",
    "    y=alt.Y(\"count()\").stack(False),\n",
    "    color = \"diagnosis:N\"\n",
    ").properties(\n",
    "    title = \"Figure 2: Distribution of Cholesterol\"\n",
    ")\n",
    "\n",
    "# distribution of chest pain type measurements\n",
    "cp_hist = alt.Chart(heart_disease_train).mark_bar().encode(\n",
    "    x=alt.X(\"type_chestpain\").title(\"Chest Pain Type\"),\n",
    "    y=alt.Y(\"count()\").stack(False),\n",
    "    color = \"diagnosis:N\"\n",
    ").properties(\n",
    "    width=300,\n",
    "    height=300,\n",
    "    title = \"Figure 3: Distribution of Chest Pain Type\"\n",
    ")\n",
    "\n",
    "# distribution of heart rate measurements\n",
    "hr_hist = alt.Chart(heart_disease_train).mark_bar().encode(\n",
    "    x=alt.X(\"max_heart_rate:Q\", bin = True).title(\"Heart Rate\"),\n",
    "    y=alt.Y(\"count()\").stack(False),\n",
    "    color = \"diagnosis:N\"\n",
    ").properties(\n",
    "    title = \"Figure 4: Distribution of Heart Rate\"\n",
    ")\n",
    "\n",
    "\n",
    "combined_charts = bp_hist & cp_hist | chol_hist & hr_hist\n",
    "combined_charts"
   ]
  },
  {
   "cell_type": "markdown",
   "id": "f86fbebf-7354-430d-a5c2-91e17c4149d3",
   "metadata": {},
   "source": [
    "## Note: \"Chest Pain\" Variable\n",
    "\n",
    "From here, our team decided that in order to use the chest pain symptoms variable effectively (column: \"type_chestpain\", Figure 3), a larger and more comprehensive analysis is needed, potentially involving the creation of separate classifiers for each label of chest pain. The nature of this analysis exceeds the scope of this project thus it was not pursued. However, the work above has included chest pain for future analysis that builds upon this classification. "
   ]
  },
  {
   "cell_type": "markdown",
   "id": "d4a485d3-568e-4276-bc89-047e9ded62d2",
   "metadata": {},
   "source": [
    "## Finding the K Parameter \n",
    "\n",
    "A pipeline is created that combines the preprocessing and an undefined K-neighbors classifier. The parameter values are collected within a range and utilized to estimate k-classifier accuracy. The classifiers are tuned according to the symptoms and diagnosis labels and the output of the cross-validation accuracy estimate for each K parameter is visualized with a line plot (Figure 5)."
   ]
  },
  {
   "cell_type": "code",
   "execution_count": null,
   "id": "9c453690-21ef-485b-8fe7-8684c3983e11",
   "metadata": {
    "ExecuteTime": {
     "end_time": "2023-12-04T05:00:29.170658Z",
     "start_time": "2023-12-04T05:00:29.122383Z"
    },
    "tags": []
   },
   "outputs": [],
   "source": [
    "# create a preprocessor\n",
    "preprocessor=make_column_transformer(\n",
    "    (StandardScaler(),['cholesterol','max_heart_rate','resting_bp']),\n",
    "    remainder='passthrough',\n",
    "    verbose_feature_names_out=False\n",
    ")\n",
    "\n",
    "# create a pipeline\n",
    "heart_disease_pipe = make_pipeline(preprocessor, KNeighborsClassifier())\n",
    "heart_disease_pipe"
   ]
  },
  {
   "cell_type": "code",
   "execution_count": null,
   "id": "21415fd430c29a3b",
   "metadata": {
    "collapsed": false,
    "jupyter": {
     "outputs_hidden": false
    }
   },
   "outputs": [],
   "source": [
    "np.random.seed(1234)\n",
    "\n",
    "# create a parameter grid\n",
    "parameter_grid = {\n",
    "    \"kneighborsclassifier__n_neighbors\" : range(1, 31)\n",
    "}\n",
    "\n",
    "# estimate the classifier accuracy for the range of values\n",
    "grid_search = GridSearchCV(\n",
    "    estimator = heart_disease_pipe,\n",
    "    param_grid = parameter_grid,\n",
    "    cv = 5,\n",
    ")\n",
    "\n",
    "X_heart_train=heart_disease_train[['cholesterol','max_heart_rate','resting_bp']]\n",
    "y_heart_train=heart_disease_train['diagnosis']\n",
    "\n",
    "# tuning process\n",
    "model_grid=grid_search.fit(X_heart_train,y_heart_train)\n",
    "grid_results=pd.DataFrame(grid_search.cv_results_)"
   ]
  },
  {
   "cell_type": "code",
   "execution_count": null,
   "id": "979917b4-7cfe-4aa6-8433-414036962d78",
   "metadata": {
    "ExecuteTime": {
     "end_time": "2023-12-04T05:00:29.788497Z",
     "start_time": "2023-12-04T05:00:29.771914Z"
    },
    "collapsed": false,
    "jupyter": {
     "outputs_hidden": false
    },
    "tags": []
   },
   "outputs": [],
   "source": [
    "# plot the accuracy of the K-values with a line-plot\n",
    "cross_val_plot = alt.Chart(grid_results).mark_line(point=True).encode(\n",
    "    x=alt.X(\"param_kneighborsclassifier__n_neighbors\").title(\"Values for K\").scale(zero=True),\n",
    "    y=alt.Y(\"mean_test_score\").title(\"Accuracy of model\").scale(zero=False)\n",
    ").properties(\n",
    "    title = \"Figure 5: Estimated Accuracy of K Neighbors\"\n",
    ")\n",
    "\n",
    "cross_val_plot"
   ]
  },
  {
   "cell_type": "markdown",
   "id": "a83ace36-c3db-4855-abf3-a2042080785c",
   "metadata": {},
   "source": [
    "## Finding the K Parameter: Result\n",
    "\n",
    "The best K Neighbor value is 1. This value provides optimal accuracy (Figure 5), it is also not too large to become prohibitive of the model and changing the value to a nearby number would not change the accuracy to a great extent. The following code creates a new classifier with this parameter and the predictions from using this model on the test data are added to the test set. Some of the predicted ('predicted') and actual ('diagnosis') diagnoses are shown (Table 4). "
   ]
  },
  {
   "cell_type": "code",
   "execution_count": null,
   "id": "8bf5a07a-7121-45df-9934-e41b07241631",
   "metadata": {
    "ExecuteTime": {
     "end_time": "2023-12-04T05:00:29.797590Z",
     "start_time": "2023-12-04T05:00:29.787848Z"
    },
    "tags": []
   },
   "outputs": [],
   "source": [
    "# create a new model object for the best parameter value\n",
    "knn = KNeighborsClassifier(n_neighbors = 1)\n",
    "heart_fit = knn.fit(X_heart_train,y_heart_train)\n",
    "\n",
    "# add predictions to dataframe\n",
    "heart_predictions = heart_disease_test.assign(predicted = heart_fit.predict(heart_disease_test[['cholesterol', 'max_heart_rate', 'resting_bp']]))\n",
    "print('Table 4:')\n",
    "heart_predictions.head()"
   ]
  },
  {
   "cell_type": "markdown",
   "id": "2b8900e3-01e3-4720-a67c-9bdf22ce4340",
   "metadata": {},
   "source": [
    "## Evaluation Results\n",
    "\n",
    "The next cells show that the model has high accuracy, at 93%.\n",
    "\n",
    "A confusion matrix displays all observations (54) for high-risk heart disease, 39 observations for low-risk heart disease and 56 observations of moderate-risk heart disease were correctly predicted. The classifier made minimal misdiagnosis in predictions of low- and moderate-risk.\n",
    "\n",
    "Based on the confusion matrix, here are the calculations for precision and recall:\n",
    "<br>\n",
    "<br>\n",
    "_high-risk heart disease_\n",
    "\n",
    ">precision = 54/54 100 = 100.0 = 100% <br>\n",
    ">recall = 54/56 100 = 96.42 = 96%\n",
    "\n",
    "_low-risk heart disease_\n",
    "\n",
    ">precision = 39/51 100 = 76.47 = 76% <br>\n",
    ">recall = 39/43 100 = 90.70 = 91%\n",
    "\n",
    "_moderate-risk heart disease_\n",
    "\n",
    ">precision = 56/60 100 = 93.33 = 93% <br>\n",
    ">recall = 56/66 100 = 84.85 = 85%"
   ]
  },
  {
   "cell_type": "code",
   "execution_count": null,
   "id": "de7c49d9-d7a3-4e00-a355-d0fdda569704",
   "metadata": {
    "ExecuteTime": {
     "end_time": "2023-12-04T05:00:29.801924Z",
     "start_time": "2023-12-04T05:00:29.798197Z"
    }
   },
   "outputs": [],
   "source": [
    "# test model's accuracy \n",
    "heart_disease_correct = heart_predictions[\n",
    "    heart_predictions['diagnosis'] == heart_predictions['predicted']\n",
    "] \n",
    "heart_disease_acc = heart_disease_correct.shape[0] / heart_predictions.shape[0]\n",
    "heart_disease_acc"
   ]
  },
  {
   "cell_type": "code",
   "execution_count": null,
   "id": "3d46460fe6cdd189",
   "metadata": {
    "ExecuteTime": {
     "end_time": "2023-12-04T05:00:44.762011Z",
     "start_time": "2023-12-04T05:00:44.743666Z"
    },
    "collapsed": false,
    "jupyter": {
     "outputs_hidden": false
    }
   },
   "outputs": [],
   "source": [
    "# confusion matrix\n",
    "confusion_matrix = pd.crosstab(\n",
    "    heart_predictions['diagnosis'],\n",
    "    heart_predictions['predicted'],\n",
    "    rownames=['Actual'],\n",
    "    colnames=['Predicted']\n",
    ")\n",
    "\n",
    "print('Table 5:')\n",
    "confusion_matrix"
   ]
  },
  {
   "cell_type": "markdown",
   "id": "24ff40c4-9c2c-4153-8034-f592a5d31deb",
   "metadata": {},
   "source": [
    "## Visualization of Analysis\n",
    "\n",
    "Here, the visualization depicts the results of this classification analysis: the predictions made by the classifier for each label of heart disease risk diagnosis are described in bar plots to easily compare the results. The first plot (Figure 6) shows the distributions of predictions correct and incorrect predicted instances and visualizes recall. The second plot (Figure 7) captures the amount of diagnosis and the associated amount of correct prediction, visualizing precision."
   ]
  },
  {
   "cell_type": "code",
   "execution_count": null,
   "id": "b2e7a4570cec3ffc",
   "metadata": {
    "ExecuteTime": {
     "end_time": "2023-12-04T05:00:29.832856Z",
     "start_time": "2023-12-04T05:00:29.808476Z"
    },
    "collapsed": false,
    "jupyter": {
     "outputs_hidden": false
    },
    "tags": []
   },
   "outputs": [],
   "source": [
    "predictions_hist = alt.Chart(heart_predictions).mark_bar().encode(\n",
    "    x = alt.X('predicted').title('Predicted Diagnosis'),\n",
    "    y = alt.Y('count()').title('Count of Predicted Diagnosis'),\n",
    "    column = alt.Column('diagnosis').title('Figure 6: Diagnosis'),\n",
    "    color = alt.Color('predicted').title('Predicted Diagnosis'),\n",
    ").properties(\n",
    "    height = 350,\n",
    "    width = 350,\n",
    ").configure_axisX(labelAngle = -40, titleFontSize = 12).configure_axis(titleFontSize = 12, labelFontSize = 12, labelAlign = 'center', labelPadding = 40)\n",
    "\n",
    "predictions_hist"
   ]
  },
  {
   "cell_type": "code",
   "execution_count": null,
   "id": "5edc7a9b3280953",
   "metadata": {
    "collapsed": false,
    "jupyter": {
     "outputs_hidden": false
    }
   },
   "outputs": [],
   "source": [
    "# Isolate the predicted and actual diagnosis\n",
    "heart_predictions = heart_predictions[['diagnosis', 'predicted']]\n",
    "\n",
    "# create a dataframe for the bar chart\n",
    "heart_disease_result = pd.DataFrame({\n",
    "    'type': ['diagnosis',\n",
    "             'predicted',\n",
    "             'diagnosis',\n",
    "             'predicted',\n",
    "             'diagnosis',\n",
    "             'predicted'],\n",
    "    'risk': ['low-risk heart disease',\n",
    "             'low-risk heart disease',\n",
    "             'moderate-risk heart disease',\n",
    "             'moderate-risk heart disease',\n",
    "             'high-risk heart disease',\n",
    "             'high-risk heart disease'],\n",
    "    'count' : [heart_predictions[(heart_predictions['diagnosis'] == 'low-risk heart disease')].shape[0],\n",
    "               heart_predictions[(heart_predictions['predicted'] == 'low-risk heart disease')].shape[0],\n",
    "               heart_predictions[(heart_predictions['diagnosis'] == 'moderate-risk heart disease')].shape[0],\n",
    "               heart_predictions[(heart_predictions['predicted'] == 'moderate-risk heart disease')].shape[0],\n",
    "               heart_predictions[(heart_predictions['diagnosis'] == 'high-risk heart disease')].shape[0],\n",
    "               heart_predictions[(heart_predictions['predicted'] == 'high-risk heart disease')].shape[0]]\n",
    "})\n",
    "\n",
    "# draw the bar chart\n",
    "heart_disease_result_bar = alt.Chart(heart_disease_result).mark_bar().encode(\n",
    "    x = alt.X('type', title = 'Diagnosis Type'),\n",
    "    y = alt.Y('count', title = 'Count of Diagnosis'),\n",
    "    color = alt.Color('risk', title = 'Diagnosis Type'),\n",
    "    column = alt.Column('risk', title = 'Figure 7: Risk Type')\n",
    ").properties(\n",
    "    height = 350,\n",
    "    width = 350,\n",
    ").configure_axisX(labelAngle = 0, titleFontSize = 12).configure_axis(titleFontSize = 12, labelFontSize = 12, labelAlign = 'center', labelPadding = 40)\n",
    "\n",
    "heart_disease_result_bar\n"
   ]
  },
  {
   "cell_type": "markdown",
   "id": "ae9ebd9c-a1a2-4d1d-a754-56dcc8dd2488",
   "metadata": {},
   "source": [
    "## Discussion\n",
    "\n",
    "This classification analysis suggested that there is a link between the specific health metrics of blood pressure, cholesterol and heart rate to the diagnosis of heart disease. An evaluation of the model created in this analysis showed a high accuracy which provides confidence in the predictions of the classifier. High levels of precision and recall for each class of heart disease diagnosis indicate robust performance in correctly identifying diagnosis. Notably, the highest calculated precision and recall were provided for the high-risk heart disease class, which is highly beneficial for the utility of this model due to the severity of this particular diagnosis. \n",
    "\n",
    "Based on several previous research studies, our team expected a strong relationship between heart disease diagnosis and blood pressure, cholesterol and heart rate symptoms (Fuchs et al., 2020; Hjalmarson et al., 2007; Arnold et al., 2008). Our expectations aligned well with the effectiveness demonstrated by the K Neighbors Classification model in predicting diagnoses based on these symptoms.\n",
    "\n",
    "The results of this project may help inform the general population of their susceptibility to heart disease based on self-monitored health metrics or symptoms. By designing a model for recognizing heart disease risk using common symptoms, we have provided context for the severity of symptoms that require urgent health care consultations. Furthermore, this project will allow future studies to question whether genetic, environmental or demographics can refine these predictions."
   ]
  },
  {
   "cell_type": "markdown",
   "id": "dba5d2dd-cc73-4042-b5f1-d84b6275a1b7",
   "metadata": {
    "jupyter": {
     "outputs_hidden": false
    }
   },
   "source": [
    "## References\n",
    "\n",
    "Wiliamson, Laura. “Undiagnosed Heart Disease May Be Common in People with Heart Attacks Not Caused by Clots.” Www.Heart.Org, American Heart Association News, 24 Jan. 2023, www.heart.org/en/news/2022/03/28/undiagnosed-heart-disease-may-be-common-in-people-with-heart-attacks-not-caused-by-clots\n",
    "\n",
    "Fuchs FD, Whelton PK. High Blood Pressure and Cardiovascular Disease. Hypertension. 2020 Feb;75(2):285-292. doi: 10.1161/HYPERTENSIONAHA.119.14240. Epub 2019 Dec 23. PMID: 31865786; PMCID: PMC10243231.\n",
    "\n",
    "Åke Hjalmarson, Heart rate: an independent risk factor in cardiovascular disease, European Heart Journal Supplements, Volume 9, Issue suppl_F, September 2007, Pages F3–F7, https://doi.org/10.1093/eurheartj/sum030\n",
    "\n",
    "Arnold JM, Fitchett DH, Howlett JG, Lonn EM, Tardif JC. Resting heart rate: a modifiable prognostic indicator of cardiovascular risk and outcomes? Can J Cardiol. 2008 May;24 Suppl A(Suppl A):3A-8A. doi: 10.1016/s0828-282x(08)71019-5. PMID: 18437251; PMCID: PMC2787005.\n",
    "\n",
    "Haasenritter J, Stanze D, Widera G, Wilimzig C, Abu Hani M, Sonnichsen AC, Bosner S, Rochon J, Donner-Banzhoff N. Does the patient with chest pain have a coronary heart disease? Diagnostic value of single symptoms and signs--a meta-analysis. Croat Med J. 2012 Oct;53(5):432-41. doi: 10.3325/cmj.2012.53.432. PMID: 23100205; PMCID: PMC3490454.\n",
    "\n",
    "Janosi,Andras, Steinbrunn,William, Pfisterer,Matthias, and Detrano,Robert. (1988). Heart Disease. UCI Machine Learning Repository. https://doi.org/10.24432/C52P4X."
   ]
  }
 ],
 "metadata": {
  "kernelspec": {
   "display_name": "Python 3 (ipykernel)",
   "language": "python",
   "name": "python3"
  },
  "language_info": {
   "codemirror_mode": {
    "name": "ipython",
    "version": 3
   },
   "file_extension": ".py",
   "mimetype": "text/x-python",
   "name": "python",
   "nbconvert_exporter": "python",
   "pygments_lexer": "ipython3",
   "version": "3.10.8"
  }
 },
 "nbformat": 4,
 "nbformat_minor": 5
}
